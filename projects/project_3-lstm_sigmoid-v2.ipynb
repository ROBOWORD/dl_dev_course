{
 "cells": [
  {
   "cell_type": "code",
   "execution_count": 1,
   "metadata": {},
   "outputs": [
    {
     "name": "stderr",
     "output_type": "stream",
     "text": [
      "Using TensorFlow backend.\n"
     ]
    }
   ],
   "source": [
    "import numpy as np\n",
    "import pandas as pd\n",
    "import matplotlib.pyplot as plt\n",
    "import sys\n",
    "\n",
    "import keras\n",
    "from keras.models import Sequential, Model, load_model\n",
    "from keras.layers import Dense, LSTM, Dropout, Input, Activation\n",
    "from keras.optimizers import RMSprop, Adam\n",
    "\n",
    "from keras.callbacks import ModelCheckpoint\n",
    "from keras.utils import np_utils\n",
    "\n",
    "import tensorflow as tf\n",
    "%matplotlib notebook"
   ]
  },
  {
   "cell_type": "code",
   "execution_count": 2,
   "metadata": {
    "scrolled": true
   },
   "outputs": [
    {
     "name": "stdout",
     "output_type": "stream",
     "text": [
      "1.13.3\n",
      "0.20.3\n",
      "1.4.0-rc0\n",
      "2.0.8\n"
     ]
    }
   ],
   "source": [
    "print(np.__version__)\n",
    "print(pd.__version__)\n",
    "print(tf.__version__)\n",
    "print(keras.__version__)"
   ]
  },
  {
   "cell_type": "code",
   "execution_count": 3,
   "metadata": {
    "collapsed": true
   },
   "outputs": [],
   "source": [
    "# Helper functions\n",
    "def updown(a,b):\n",
    "    # test if next time step is higher or lower\n",
    "    if a < b:\n",
    "        return 1\n",
    "    else:\n",
    "        return 0\n",
    "    \n",
    "def normalise_windows(window_data):\n",
    "    # normalize each window of prices with the 1st price as base\n",
    "    normalised_data = []\n",
    "    for window in window_data:\n",
    "        normalised_window = [((float(p) / float(window[0])) - 1) for p in window]\n",
    "        normalised_data.append(normalised_window)\n",
    "    return normalised_data"
   ]
  },
  {
   "cell_type": "code",
   "execution_count": 4,
   "metadata": {},
   "outputs": [
    {
     "data": {
      "text/plain": [
       "13009"
      ]
     },
     "execution_count": 4,
     "metadata": {},
     "output_type": "execute_result"
    }
   ],
   "source": [
    "# load csv as np array\n",
    "raw = np.loadtxt(open('n225a.csv'), delimiter=',')\n",
    "len(raw)"
   ]
  },
  {
   "cell_type": "code",
   "execution_count": 5,
   "metadata": {},
   "outputs": [
    {
     "data": {
      "text/plain": [
       "(numpy.ndarray, 1257.719971, 22011.609375)"
      ]
     },
     "execution_count": 5,
     "metadata": {},
     "output_type": "execute_result"
    }
   ],
   "source": [
    "type(raw), raw[0], raw[-1]"
   ]
  },
  {
   "cell_type": "code",
   "execution_count": 6,
   "metadata": {
    "collapsed": true
   },
   "outputs": [],
   "source": [
    "# create list of sequences/window of length seqlen\n",
    "seqlen=20\n",
    "window = []\n",
    "for i in range(len(raw)-seqlen):\n",
    "    window.append(raw[i:i+seqlen])"
   ]
  },
  {
   "cell_type": "code",
   "execution_count": 7,
   "metadata": {
    "collapsed": true
   },
   "outputs": [],
   "source": [
    "# convert window to np.array\n",
    "window_array = np.array(window)"
   ]
  },
  {
   "cell_type": "code",
   "execution_count": 8,
   "metadata": {},
   "outputs": [
    {
     "data": {
      "text/plain": [
       "(numpy.ndarray,\n",
       " 12989,\n",
       " array([ 1257.719971,  1263.98999 ,  1274.27002 ,  1286.430054,\n",
       "         1288.540039,  1281.670044,  1289.5     ,  1271.680054,\n",
       "         1270.339966,  1268.880005,  1270.459961,  1261.829956,\n",
       "         1249.719971,  1248.050049,  1258.209961,  1247.199951,\n",
       "         1242.27002 ,  1242.829956,  1238.75    ,  1248.030029]),\n",
       " 20)"
      ]
     },
     "execution_count": 8,
     "metadata": {},
     "output_type": "execute_result"
    }
   ],
   "source": [
    "# quick check on window_array type, len, and 1st element\n",
    "type(window_array), len(window_array),window_array[0], len(window_array[0])"
   ]
  },
  {
   "cell_type": "code",
   "execution_count": 9,
   "metadata": {},
   "outputs": [
    {
     "name": "stdout",
     "output_type": "stream",
     "text": [
      "True\n",
      "True\n",
      "True\n"
     ]
    }
   ],
   "source": [
    "# test to see that the windows line up with the raw data\n",
    "print(window_array[-1][-1] == raw[-2])\n",
    "print(window_array[-2][-1] == raw[-3])\n",
    "print(window_array[-3][-1] == raw[-4])"
   ]
  },
  {
   "cell_type": "code",
   "execution_count": 10,
   "metadata": {},
   "outputs": [
    {
     "data": {
      "text/plain": [
       "(array([ 1257.719971,  1263.98999 ,  1274.27002 ,  1286.430054,\n",
       "         1288.540039,  1281.670044,  1289.5     ,  1271.680054,\n",
       "         1270.339966,  1268.880005,  1270.459961,  1261.829956,\n",
       "         1249.719971,  1248.050049,  1258.209961,  1247.199951,\n",
       "         1242.27002 ,  1242.829956,  1238.75    ,  1248.030029]),\n",
       " array([ 1263.98999 ,  1274.27002 ,  1286.430054,  1288.540039,\n",
       "         1281.670044,  1289.5     ,  1271.680054,  1270.339966,\n",
       "         1268.880005,  1270.459961,  1261.829956,  1249.719971,\n",
       "         1248.050049,  1258.209961,  1247.199951,  1242.27002 ,\n",
       "         1242.829956,  1238.75    ,  1248.030029,  1261.599976]),\n",
       " array([ 1274.27002 ,  1286.430054,  1288.540039,  1281.670044,\n",
       "         1289.5     ,  1271.680054,  1270.339966,  1268.880005,\n",
       "         1270.459961,  1261.829956,  1249.719971,  1248.050049,\n",
       "         1258.209961,  1247.199951,  1242.27002 ,  1242.829956,\n",
       "         1238.75    ,  1248.030029,  1261.599976,  1263.589966]))"
      ]
     },
     "execution_count": 10,
     "metadata": {},
     "output_type": "execute_result"
    }
   ],
   "source": [
    "window_array[0], window_array[1], window_array[2]"
   ]
  },
  {
   "cell_type": "code",
   "execution_count": 11,
   "metadata": {},
   "outputs": [
    {
     "data": {
      "text/plain": [
       "13009"
      ]
     },
     "execution_count": 11,
     "metadata": {},
     "output_type": "execute_result"
    }
   ],
   "source": [
    "# create y values, up or down of next time step after last time step of a window\n",
    "y_check = []\n",
    "for w in range(len(raw)):\n",
    "    w_a = raw[w-1]\n",
    "    w_b = raw[w]\n",
    "    check_updown = updown(w_a,\n",
    "                          w_b)\n",
    "    y_check.append((check_updown, w_a, w_b))\n",
    "len(y_check)"
   ]
  },
  {
   "cell_type": "code",
   "execution_count": 12,
   "metadata": {},
   "outputs": [
    {
     "data": {
      "text/plain": [
       "(12989,\n",
       " [(1, 21739.779297000001, 22008.449218999998),\n",
       "  (1, 22008.449218999998, 22011.669922000001),\n",
       "  (0, 22011.669922000001, 22011.609375)])"
      ]
     },
     "execution_count": 12,
     "metadata": {},
     "output_type": "execute_result"
    }
   ],
   "source": [
    "y1 = y_check[20:]\n",
    "len(y1),y1[-3:]"
   ]
  },
  {
   "cell_type": "code",
   "execution_count": 13,
   "metadata": {},
   "outputs": [
    {
     "data": {
      "text/plain": [
       "(22011.669922000001, 22011.669922000001, 22011.609375)"
      ]
     },
     "execution_count": 13,
     "metadata": {},
     "output_type": "execute_result"
    }
   ],
   "source": [
    "window_array[-1][-1], raw[-2], raw[-1]"
   ]
  },
  {
   "cell_type": "code",
   "execution_count": 14,
   "metadata": {},
   "outputs": [
    {
     "data": {
      "text/plain": [
       "12989"
      ]
     },
     "execution_count": 14,
     "metadata": {},
     "output_type": "execute_result"
    }
   ],
   "source": [
    "# create y values, up or down of next time step after last time step of a window\n",
    "y = []\n",
    "for w in range(len(raw)):\n",
    "    w_a = raw[w-1]\n",
    "    w_b = raw[w]\n",
    "    check_updown = updown(w_a,\n",
    "                          w_b)\n",
    "    y.append(check_updown)\n",
    "y=y[seqlen:]\n",
    "len(y)"
   ]
  },
  {
   "cell_type": "code",
   "execution_count": 15,
   "metadata": {},
   "outputs": [
    {
     "name": "stdout",
     "output_type": "stream",
     "text": [
      "[ 20356.279297  20400.779297  20614.070313  20626.660156  20628.560547\n",
      "  20690.710938  20823.509766  20881.269531  20954.720703  21155.179688\n",
      "  21255.560547  21336.119141  21363.050781  21448.519531  21457.640625\n",
      "  21696.650391  21805.169922  21707.619141  21739.779297  22008.449219]\n",
      "1\n",
      "[ 20400.779297  20614.070313  20626.660156  20628.560547  20690.710938\n",
      "  20823.509766  20881.269531  20954.720703  21155.179688  21255.560547\n",
      "  21336.119141  21363.050781  21448.519531  21457.640625  21696.650391\n",
      "  21805.169922  21707.619141  21739.779297  22008.449219  22011.669922]\n"
     ]
    },
    {
     "data": {
      "text/plain": [
       "array([  1281.670044,   1289.5     ,   1271.680054, ...,  22008.449219,\n",
       "        22011.669922,  22011.609375])"
      ]
     },
     "execution_count": 15,
     "metadata": {},
     "output_type": "execute_result"
    }
   ],
   "source": [
    "# check y against window_array\n",
    "z = 12987\n",
    "print(window_array[z])\n",
    "print(y[z])\n",
    "print(window_array[z+1])\n",
    "raw[5:]"
   ]
  },
  {
   "cell_type": "code",
   "execution_count": 16,
   "metadata": {},
   "outputs": [
    {
     "data": {
      "text/plain": [
       "(array([ 20400.779297,  20614.070313,  20626.660156,  20628.560547,\n",
       "         20690.710938,  20823.509766,  20881.269531,  20954.720703,\n",
       "         21155.179688,  21255.560547,  21336.119141,  21363.050781,\n",
       "         21448.519531,  21457.640625,  21696.650391,  21805.169922,\n",
       "         21707.619141,  21739.779297,  22008.449219,  22011.669922]),\n",
       " array([ 22011.669922,  22011.609375]),\n",
       " [0, 1, 1, 1, 0])"
      ]
     },
     "execution_count": 16,
     "metadata": {},
     "output_type": "execute_result"
    }
   ],
   "source": [
    "window_array[-1], raw[-2:],y[-5:]"
   ]
  },
  {
   "cell_type": "code",
   "execution_count": 17,
   "metadata": {},
   "outputs": [
    {
     "data": {
      "text/plain": [
       "True"
      ]
     },
     "execution_count": 17,
     "metadata": {},
     "output_type": "execute_result"
    }
   ],
   "source": [
    "len(window_array)==len(y)"
   ]
  },
  {
   "cell_type": "code",
   "execution_count": 18,
   "metadata": {
    "collapsed": true
   },
   "outputs": [],
   "source": [
    "window_norm = normalise_windows(window_array)"
   ]
  },
  {
   "cell_type": "code",
   "execution_count": 19,
   "metadata": {},
   "outputs": [
    {
     "data": {
      "text/plain": [
       "(12989,\n",
       " [0.0,\n",
       "  0.004985226556444733,\n",
       "  0.013158770935982833,\n",
       "  0.022827086841256783,\n",
       "  0.024504713855736382,\n",
       "  0.019042452654192576,\n",
       "  0.025267968810841035,\n",
       "  0.011099516046406022,\n",
       "  0.010034026087671899,\n",
       "  0.00887322635986032,\n",
       "  0.010129432857673981,\n",
       "  0.0032678061053068586,\n",
       "  -0.006360716363308816,\n",
       "  -0.007688453887164992,\n",
       "  0.00038958592635718325,\n",
       "  -0.008364357919541932,\n",
       "  -0.01228409451725243,\n",
       "  -0.011838895257551663,\n",
       "  -0.015082825618899176,\n",
       "  -0.007704371579864144])"
      ]
     },
     "execution_count": 19,
     "metadata": {},
     "output_type": "execute_result"
    }
   ],
   "source": [
    "len(window_norm), window_norm[0]"
   ]
  },
  {
   "cell_type": "code",
   "execution_count": 20,
   "metadata": {},
   "outputs": [
    {
     "data": {
      "text/plain": [
       "(list, list, numpy.ndarray)"
      ]
     },
     "execution_count": 20,
     "metadata": {},
     "output_type": "execute_result"
    }
   ],
   "source": [
    "type(window_norm), type(y), type(window_array)"
   ]
  },
  {
   "cell_type": "code",
   "execution_count": 21,
   "metadata": {
    "collapsed": true
   },
   "outputs": [],
   "source": [
    "# convert yr and winnorm to np.array\n",
    "y_array = np.array(y)\n",
    "window_normarray = np.array(window_norm)"
   ]
  },
  {
   "cell_type": "code",
   "execution_count": 22,
   "metadata": {},
   "outputs": [
    {
     "data": {
      "text/plain": [
       "(numpy.ndarray, numpy.ndarray, numpy.ndarray)"
      ]
     },
     "execution_count": 22,
     "metadata": {},
     "output_type": "execute_result"
    }
   ],
   "source": [
    "type(window_normarray), type(y_array), type(window_array)"
   ]
  },
  {
   "cell_type": "code",
   "execution_count": 23,
   "metadata": {},
   "outputs": [
    {
     "data": {
      "text/plain": [
       "((12989, 20), (12989,))"
      ]
     },
     "execution_count": 23,
     "metadata": {},
     "output_type": "execute_result"
    }
   ],
   "source": [
    "window_normarray.shape, y_array.shape"
   ]
  },
  {
   "cell_type": "code",
   "execution_count": 24,
   "metadata": {
    "collapsed": true
   },
   "outputs": [],
   "source": [
    "# concat y to winnorm(x)\n",
    "y_array = np.reshape(y_array,(y_array.shape[0],1))\n",
    "datxy = np.concatenate((window_normarray, y_array), axis=1)\n"
   ]
  },
  {
   "cell_type": "code",
   "execution_count": 25,
   "metadata": {},
   "outputs": [
    {
     "data": {
      "text/plain": [
       "(array([  0.00000000e+00,   4.98522656e-03,   1.31587709e-02,\n",
       "          2.28270868e-02,   2.45047139e-02,   1.90424527e-02,\n",
       "          2.52679688e-02,   1.10995160e-02,   1.00340261e-02,\n",
       "          8.87322636e-03,   1.01294329e-02,   3.26780611e-03,\n",
       "         -6.36071636e-03,  -7.68845389e-03,   3.89585926e-04,\n",
       "         -8.36435792e-03,  -1.22840945e-02,  -1.18388953e-02,\n",
       "         -1.50828256e-02,  -7.70437158e-03,   1.00000000e+00]), (12989, 21))"
      ]
     },
     "execution_count": 25,
     "metadata": {},
     "output_type": "execute_result"
    }
   ],
   "source": [
    "datxy[0], datxy.shape "
   ]
  },
  {
   "cell_type": "code",
   "execution_count": 26,
   "metadata": {
    "collapsed": true
   },
   "outputs": [],
   "source": [
    "row = round(0.9 * datxy.shape[0])"
   ]
  },
  {
   "cell_type": "code",
   "execution_count": 27,
   "metadata": {
    "collapsed": true
   },
   "outputs": [],
   "source": [
    "train = datxy[:int(row), :]"
   ]
  },
  {
   "cell_type": "code",
   "execution_count": 28,
   "metadata": {
    "collapsed": true
   },
   "outputs": [],
   "source": [
    "np.random.shuffle(train)"
   ]
  },
  {
   "cell_type": "code",
   "execution_count": 29,
   "metadata": {
    "collapsed": true
   },
   "outputs": [],
   "source": [
    "x_train = train[:, :-1]\n",
    "y_train = train[:, -1]"
   ]
  },
  {
   "cell_type": "code",
   "execution_count": 30,
   "metadata": {},
   "outputs": [
    {
     "data": {
      "text/plain": [
       "array([ 0.,  1.,  0.,  1.,  0.,  1.,  0.,  0.,  1.,  0.])"
      ]
     },
     "execution_count": 30,
     "metadata": {},
     "output_type": "execute_result"
    }
   ],
   "source": [
    "y_train[:10]"
   ]
  },
  {
   "cell_type": "code",
   "execution_count": 31,
   "metadata": {},
   "outputs": [
    {
     "data": {
      "text/plain": [
       "(array([ 0.        , -0.0138032 , -0.01561255, -0.00799615, -0.0019248 ,\n",
       "         0.00593941,  0.00266885,  0.00186208,  0.01807046,  0.01990617,\n",
       "         0.01113961,  0.01144592,  0.00080739,  0.00063858, -0.00461477,\n",
       "        -0.00166113,  0.00833882,  0.01057003,  0.01623475,  0.02341351]), 20)"
      ]
     },
     "execution_count": 31,
     "metadata": {},
     "output_type": "execute_result"
    }
   ],
   "source": [
    "x_train[0],len(x_train[0])"
   ]
  },
  {
   "cell_type": "code",
   "execution_count": 32,
   "metadata": {
    "collapsed": true
   },
   "outputs": [],
   "source": [
    "x_test = datxy[int(row):, :-1]\n",
    "y_test = datxy[int(row):, -1]"
   ]
  },
  {
   "cell_type": "code",
   "execution_count": 33,
   "metadata": {
    "collapsed": true
   },
   "outputs": [],
   "source": [
    "x_train = np.reshape(x_train, (x_train.shape[0], x_train.shape[1], 1))\n",
    "x_test = np.reshape(x_test, (x_test.shape[0], x_test.shape[1], 1)) "
   ]
  },
  {
   "cell_type": "code",
   "execution_count": 34,
   "metadata": {},
   "outputs": [
    {
     "data": {
      "text/plain": [
       "((11690, 20, 1), (11690,), (1299, 20, 1), (1299,))"
      ]
     },
     "execution_count": 34,
     "metadata": {},
     "output_type": "execute_result"
    }
   ],
   "source": [
    "x_train.shape, y_train.shape, x_test.shape, y_test.shape"
   ]
  },
  {
   "cell_type": "raw",
   "metadata": {
    "collapsed": true
   },
   "source": [
    "row = round(0.9 * rawdat.shape[0])\n",
    "train = result[:int(row), :]\n",
    "np.random.shuffle(train)\n",
    "x_train = train[:, :-1]\n",
    "y_train = train[:, -1]\n",
    "x_test = result[int(row):, :-1]\n",
    "y_test = result[int(row):, -1]\n",
    "\n",
    "x_train = np.reshape(x_train, (x_train.shape[0], x_train.shape[1], 1))\n",
    "x_test = np.reshape(x_test, (x_test.shape[0], x_test.shape[1], 1)) "
   ]
  },
  {
   "cell_type": "code",
   "execution_count": 35,
   "metadata": {},
   "outputs": [
    {
     "name": "stdout",
     "output_type": "stream",
     "text": [
      "Input shape is:  20 1\n"
     ]
    }
   ],
   "source": [
    "print('Input shape is: ', x_train.shape[1], x_train.shape[2])"
   ]
  },
  {
   "cell_type": "code",
   "execution_count": 36,
   "metadata": {
    "collapsed": true
   },
   "outputs": [],
   "source": [
    "# define the input shape\n",
    "inp = Input(shape=(x_train.shape[1], x_train.shape[2]))\n",
    "\n",
    "x = LSTM(32, return_sequences = True)(inp) \n",
    "x = Dropout(0.2)(x)\n",
    "x = LSTM(64, return_sequences = False)(x)\n",
    "x = Dropout(0.2)(x)\n",
    "output = Dense(1, activation ='sigmoid')(x)\n",
    "\n",
    "model = Model(inputs = inp, outputs=output )"
   ]
  },
  {
   "cell_type": "code",
   "execution_count": 37,
   "metadata": {
    "collapsed": true
   },
   "outputs": [],
   "source": [
    "#optimizer = RMSprop(lr=0.01)\n",
    "model.compile(loss='binary_crossentropy', optimizer='adam', metrics=['accuracy'])"
   ]
  },
  {
   "cell_type": "code",
   "execution_count": 38,
   "metadata": {},
   "outputs": [
    {
     "name": "stdout",
     "output_type": "stream",
     "text": [
      "_________________________________________________________________\n",
      "Layer (type)                 Output Shape              Param #   \n",
      "=================================================================\n",
      "input_1 (InputLayer)         (None, 20, 1)             0         \n",
      "_________________________________________________________________\n",
      "lstm_1 (LSTM)                (None, 20, 32)            4352      \n",
      "_________________________________________________________________\n",
      "dropout_1 (Dropout)          (None, 20, 32)            0         \n",
      "_________________________________________________________________\n",
      "lstm_2 (LSTM)                (None, 64)                24832     \n",
      "_________________________________________________________________\n",
      "dropout_2 (Dropout)          (None, 64)                0         \n",
      "_________________________________________________________________\n",
      "dense_1 (Dense)              (None, 1)                 65        \n",
      "=================================================================\n",
      "Total params: 29,249\n",
      "Trainable params: 29,249\n",
      "Non-trainable params: 0\n",
      "_________________________________________________________________\n"
     ]
    }
   ],
   "source": [
    "model.summary()"
   ]
  },
  {
   "cell_type": "code",
   "execution_count": 39,
   "metadata": {},
   "outputs": [
    {
     "name": "stdout",
     "output_type": "stream",
     "text": [
      "Train on 11690 samples, validate on 1299 samples\n",
      "Epoch 1/200\n",
      "11690/11690 [==============================] - 8s - loss: 0.6926 - acc: 0.5153 - val_loss: 0.6902 - val_acc: 0.5396\n",
      "Epoch 2/200\n",
      "11690/11690 [==============================] - 7s - loss: 0.6923 - acc: 0.5169 - val_loss: 0.6900 - val_acc: 0.5435\n",
      "Epoch 3/200\n",
      "11690/11690 [==============================] - 7s - loss: 0.6926 - acc: 0.5188 - val_loss: 0.6913 - val_acc: 0.5366\n",
      "Epoch 4/200\n",
      "11690/11690 [==============================] - 7s - loss: 0.6923 - acc: 0.5161 - val_loss: 0.6915 - val_acc: 0.5142\n",
      "Epoch 5/200\n",
      "11690/11690 [==============================] - 7s - loss: 0.6924 - acc: 0.5172 - val_loss: 0.6915 - val_acc: 0.5181\n",
      "Epoch 6/200\n",
      "11690/11690 [==============================] - 7s - loss: 0.6924 - acc: 0.5187 - val_loss: 0.6910 - val_acc: 0.5373\n",
      "Epoch 7/200\n",
      "11690/11690 [==============================] - 7s - loss: 0.6922 - acc: 0.5210 - val_loss: 0.6909 - val_acc: 0.5381\n",
      "Epoch 8/200\n",
      "11690/11690 [==============================] - 7s - loss: 0.6921 - acc: 0.5198 - val_loss: 0.6905 - val_acc: 0.5404\n",
      "Epoch 9/200\n",
      "11690/11690 [==============================] - 7s - loss: 0.6922 - acc: 0.5173 - val_loss: 0.6911 - val_acc: 0.5327\n",
      "Epoch 10/200\n",
      "11690/11690 [==============================] - 7s - loss: 0.6922 - acc: 0.5200 - val_loss: 0.6905 - val_acc: 0.5404\n",
      "Epoch 11/200\n",
      "11690/11690 [==============================] - 7s - loss: 0.6922 - acc: 0.5192 - val_loss: 0.6911 - val_acc: 0.5396\n",
      "Epoch 12/200\n",
      "11690/11690 [==============================] - 7s - loss: 0.6923 - acc: 0.5227 - val_loss: 0.6907 - val_acc: 0.5404\n",
      "Epoch 13/200\n",
      "11690/11690 [==============================] - 7s - loss: 0.6923 - acc: 0.5166 - val_loss: 0.6910 - val_acc: 0.5296\n",
      "Epoch 14/200\n",
      "11690/11690 [==============================] - 7s - loss: 0.6921 - acc: 0.5228 - val_loss: 0.6911 - val_acc: 0.5304\n",
      "Epoch 15/200\n",
      "11690/11690 [==============================] - 7s - loss: 0.6921 - acc: 0.5197 - val_loss: 0.6924 - val_acc: 0.5104\n",
      "Epoch 16/200\n",
      "11690/11690 [==============================] - 7s - loss: 0.6921 - acc: 0.5172 - val_loss: 0.6913 - val_acc: 0.5258\n",
      "Epoch 17/200\n",
      "11690/11690 [==============================] - 7s - loss: 0.6920 - acc: 0.5201 - val_loss: 0.6907 - val_acc: 0.5381\n",
      "Epoch 18/200\n",
      "11690/11690 [==============================] - 7s - loss: 0.6920 - acc: 0.5180 - val_loss: 0.6916 - val_acc: 0.5312\n",
      "Epoch 19/200\n",
      "11690/11690 [==============================] - 7s - loss: 0.6920 - acc: 0.5210 - val_loss: 0.6923 - val_acc: 0.5142\n",
      "Epoch 20/200\n",
      "11690/11690 [==============================] - 7s - loss: 0.6919 - acc: 0.5228 - val_loss: 0.6925 - val_acc: 0.5065\n",
      "Epoch 21/200\n",
      "11690/11690 [==============================] - 7s - loss: 0.6920 - acc: 0.5211 - val_loss: 0.6921 - val_acc: 0.5166\n",
      "Epoch 22/200\n",
      "11690/11690 [==============================] - 7s - loss: 0.6919 - acc: 0.5228 - val_loss: 0.6917 - val_acc: 0.5281\n",
      "Epoch 23/200\n",
      "11690/11690 [==============================] - 7s - loss: 0.6919 - acc: 0.5204 - val_loss: 0.6924 - val_acc: 0.5242\n",
      "Epoch 24/200\n",
      "11690/11690 [==============================] - 7s - loss: 0.6920 - acc: 0.5221 - val_loss: 0.6917 - val_acc: 0.5304\n",
      "Epoch 25/200\n",
      "11690/11690 [==============================] - 7s - loss: 0.6918 - acc: 0.5211 - val_loss: 0.6919 - val_acc: 0.5242\n",
      "Epoch 26/200\n",
      "11690/11690 [==============================] - 7s - loss: 0.6921 - acc: 0.5220 - val_loss: 0.6916 - val_acc: 0.5250\n",
      "Epoch 27/200\n",
      "11690/11690 [==============================] - 7s - loss: 0.6920 - acc: 0.5220 - val_loss: 0.6919 - val_acc: 0.5189\n",
      "Epoch 28/200\n",
      "11690/11690 [==============================] - 7s - loss: 0.6919 - acc: 0.5224 - val_loss: 0.6923 - val_acc: 0.5166\n",
      "Epoch 29/200\n",
      "11690/11690 [==============================] - 7s - loss: 0.6920 - acc: 0.5176 - val_loss: 0.6914 - val_acc: 0.5289\n",
      "Epoch 30/200\n",
      "11690/11690 [==============================] - 9s - loss: 0.6917 - acc: 0.5213 - val_loss: 0.6924 - val_acc: 0.5127\n",
      "Epoch 31/200\n",
      "11690/11690 [==============================] - 7s - loss: 0.6919 - acc: 0.5240 - val_loss: 0.6920 - val_acc: 0.5173\n",
      "Epoch 32/200\n",
      "11690/11690 [==============================] - 7s - loss: 0.6918 - acc: 0.5234 - val_loss: 0.6915 - val_acc: 0.5281\n",
      "Epoch 33/200\n",
      "11690/11690 [==============================] - 7s - loss: 0.6918 - acc: 0.5223 - val_loss: 0.6915 - val_acc: 0.5273\n",
      "Epoch 34/200\n",
      "11690/11690 [==============================] - 7s - loss: 0.6919 - acc: 0.5209 - val_loss: 0.6913 - val_acc: 0.5242\n",
      "Epoch 35/200\n",
      "11690/11690 [==============================] - 7s - loss: 0.6919 - acc: 0.5197 - val_loss: 0.6920 - val_acc: 0.5204\n",
      "Epoch 36/200\n",
      "11690/11690 [==============================] - 9s - loss: 0.6920 - acc: 0.5201 - val_loss: 0.6914 - val_acc: 0.5235\n",
      "Epoch 37/200\n",
      "11690/11690 [==============================] - 7s - loss: 0.6917 - acc: 0.5209 - val_loss: 0.6911 - val_acc: 0.5343\n",
      "Epoch 38/200\n",
      "11690/11690 [==============================] - 7s - loss: 0.6918 - acc: 0.5237 - val_loss: 0.6914 - val_acc: 0.5304\n",
      "Epoch 39/200\n",
      "11690/11690 [==============================] - 9s - loss: 0.6920 - acc: 0.5207 - val_loss: 0.6920 - val_acc: 0.5119\n",
      "Epoch 40/200\n",
      "11690/11690 [==============================] - 7s - loss: 0.6916 - acc: 0.5263 - val_loss: 0.6911 - val_acc: 0.5304\n",
      "Epoch 41/200\n",
      "11690/11690 [==============================] - 7s - loss: 0.6920 - acc: 0.5236 - val_loss: 0.6910 - val_acc: 0.5366\n",
      "Epoch 42/200\n",
      "11690/11690 [==============================] - 7s - loss: 0.6916 - acc: 0.5212 - val_loss: 0.6925 - val_acc: 0.5127\n",
      "Epoch 43/200\n",
      "11690/11690 [==============================] - 7s - loss: 0.6918 - acc: 0.5203 - val_loss: 0.6918 - val_acc: 0.5327\n",
      "Epoch 44/200\n",
      "11690/11690 [==============================] - 9s - loss: 0.6918 - acc: 0.5239 - val_loss: 0.6928 - val_acc: 0.5135\n",
      "Epoch 45/200\n",
      "11690/11690 [==============================] - 7s - loss: 0.6918 - acc: 0.5228 - val_loss: 0.6922 - val_acc: 0.5166\n",
      "Epoch 46/200\n",
      "11690/11690 [==============================] - 7s - loss: 0.6917 - acc: 0.5231 - val_loss: 0.6935 - val_acc: 0.5019\n",
      "Epoch 47/200\n",
      "11690/11690 [==============================] - 7s - loss: 0.6917 - acc: 0.5249 - val_loss: 0.6936 - val_acc: 0.5050\n",
      "Epoch 48/200\n",
      "11690/11690 [==============================] - 9s - loss: 0.6918 - acc: 0.5212 - val_loss: 0.6919 - val_acc: 0.5281\n",
      "Epoch 49/200\n",
      "11690/11690 [==============================] - 7s - loss: 0.6915 - acc: 0.5239 - val_loss: 0.6930 - val_acc: 0.5096\n",
      "Epoch 50/200\n",
      "11690/11690 [==============================] - 7s - loss: 0.6918 - acc: 0.5215 - val_loss: 0.6925 - val_acc: 0.5119\n",
      "Epoch 51/200\n",
      "11690/11690 [==============================] - 7s - loss: 0.6917 - acc: 0.5235 - val_loss: 0.6917 - val_acc: 0.5327\n",
      "Epoch 52/200\n",
      "11690/11690 [==============================] - 7s - loss: 0.6916 - acc: 0.5225 - val_loss: 0.6920 - val_acc: 0.5319\n",
      "Epoch 53/200\n",
      "11690/11690 [==============================] - 7s - loss: 0.6918 - acc: 0.5225 - val_loss: 0.6929 - val_acc: 0.5065\n",
      "Epoch 54/200\n",
      "11690/11690 [==============================] - 9s - loss: 0.6919 - acc: 0.5191 - val_loss: 0.6906 - val_acc: 0.5358\n",
      "Epoch 55/200\n",
      "11690/11690 [==============================] - 8s - loss: 0.6917 - acc: 0.5242 - val_loss: 0.6920 - val_acc: 0.5242\n",
      "Epoch 56/200\n",
      "11690/11690 [==============================] - 9s - loss: 0.6918 - acc: 0.5223 - val_loss: 0.6916 - val_acc: 0.5296\n",
      "Epoch 57/200\n",
      "11690/11690 [==============================] - 7s - loss: 0.6916 - acc: 0.5246 - val_loss: 0.6912 - val_acc: 0.5366\n",
      "Epoch 58/200\n",
      "11690/11690 [==============================] - 8s - loss: 0.6916 - acc: 0.5240 - val_loss: 0.6923 - val_acc: 0.5289\n",
      "Epoch 59/200\n",
      "11690/11690 [==============================] - 8s - loss: 0.6916 - acc: 0.5216 - val_loss: 0.6913 - val_acc: 0.5343\n",
      "Epoch 60/200\n",
      "11690/11690 [==============================] - 7s - loss: 0.6918 - acc: 0.5221 - val_loss: 0.6916 - val_acc: 0.5312\n",
      "Epoch 61/200\n",
      "11690/11690 [==============================] - 9s - loss: 0.6917 - acc: 0.5243 - val_loss: 0.6929 - val_acc: 0.5004\n",
      "Epoch 62/200\n",
      "11690/11690 [==============================] - 7s - loss: 0.6917 - acc: 0.5211 - val_loss: 0.6930 - val_acc: 0.5096\n",
      "Epoch 63/200\n",
      "11690/11690 [==============================] - 7s - loss: 0.6917 - acc: 0.5233 - val_loss: 0.6924 - val_acc: 0.5089\n",
      "Epoch 64/200\n",
      "11690/11690 [==============================] - 7s - loss: 0.6915 - acc: 0.5230 - val_loss: 0.6922 - val_acc: 0.5104\n",
      "Epoch 65/200\n",
      "11690/11690 [==============================] - 7s - loss: 0.6917 - acc: 0.5228 - val_loss: 0.6925 - val_acc: 0.5096\n",
      "Epoch 66/200\n",
      "11690/11690 [==============================] - 7s - loss: 0.6918 - acc: 0.5241 - val_loss: 0.6923 - val_acc: 0.5135\n",
      "Epoch 67/200\n",
      "11690/11690 [==============================] - 7s - loss: 0.6916 - acc: 0.5253 - val_loss: 0.6919 - val_acc: 0.5227\n",
      "Epoch 68/200\n",
      "11690/11690 [==============================] - 7s - loss: 0.6916 - acc: 0.5242 - val_loss: 0.6921 - val_acc: 0.5219\n",
      "Epoch 69/200\n",
      "11690/11690 [==============================] - 7s - loss: 0.6915 - acc: 0.5266 - val_loss: 0.6920 - val_acc: 0.5135\n",
      "Epoch 70/200\n",
      "11690/11690 [==============================] - 8s - loss: 0.6917 - acc: 0.5228 - val_loss: 0.6923 - val_acc: 0.5104\n",
      "Epoch 71/200\n",
      "11690/11690 [==============================] - 7s - loss: 0.6918 - acc: 0.5255 - val_loss: 0.6913 - val_acc: 0.5281\n",
      "Epoch 72/200\n",
      "11690/11690 [==============================] - 7s - loss: 0.6916 - acc: 0.5235 - val_loss: 0.6912 - val_acc: 0.5327\n",
      "Epoch 73/200\n",
      "11690/11690 [==============================] - 7s - loss: 0.6916 - acc: 0.5218 - val_loss: 0.6917 - val_acc: 0.5296\n",
      "Epoch 74/200\n",
      "11690/11690 [==============================] - 7s - loss: 0.6915 - acc: 0.5266 - val_loss: 0.6912 - val_acc: 0.5350\n",
      "Epoch 75/200\n",
      "11690/11690 [==============================] - 7s - loss: 0.6916 - acc: 0.5234 - val_loss: 0.6917 - val_acc: 0.5235\n",
      "Epoch 76/200\n",
      "11690/11690 [==============================] - 7s - loss: 0.6916 - acc: 0.5246 - val_loss: 0.6917 - val_acc: 0.5219\n",
      "Epoch 77/200\n",
      "11690/11690 [==============================] - 9s - loss: 0.6916 - acc: 0.5228 - val_loss: 0.6915 - val_acc: 0.5296\n",
      "Epoch 78/200\n",
      "11690/11690 [==============================] - 7s - loss: 0.6919 - acc: 0.5239 - val_loss: 0.6917 - val_acc: 0.5258\n",
      "Epoch 79/200\n",
      "11690/11690 [==============================] - 7s - loss: 0.6916 - acc: 0.5251 - val_loss: 0.6918 - val_acc: 0.5242\n",
      "Epoch 80/200\n",
      "11690/11690 [==============================] - 7s - loss: 0.6915 - acc: 0.5205 - val_loss: 0.6924 - val_acc: 0.5142\n",
      "Epoch 81/200\n",
      "11690/11690 [==============================] - 7s - loss: 0.6916 - acc: 0.5247 - val_loss: 0.6920 - val_acc: 0.5089\n",
      "Epoch 82/200\n",
      "11690/11690 [==============================] - 8s - loss: 0.6915 - acc: 0.5276 - val_loss: 0.6915 - val_acc: 0.5258\n",
      "Epoch 83/200\n",
      "11690/11690 [==============================] - 8s - loss: 0.6914 - acc: 0.5250 - val_loss: 0.6920 - val_acc: 0.5081\n",
      "Epoch 84/200\n",
      "11690/11690 [==============================] - 7s - loss: 0.6913 - acc: 0.5240 - val_loss: 0.6921 - val_acc: 0.5196\n",
      "Epoch 85/200\n",
      "11690/11690 [==============================] - 7s - loss: 0.6913 - acc: 0.5242 - val_loss: 0.6926 - val_acc: 0.5242\n",
      "Epoch 86/200\n",
      "11690/11690 [==============================] - 9s - loss: 0.6918 - acc: 0.5239 - val_loss: 0.6920 - val_acc: 0.5273\n",
      "Epoch 87/200\n",
      "11690/11690 [==============================] - 7s - loss: 0.6914 - acc: 0.5232 - val_loss: 0.6916 - val_acc: 0.5242\n",
      "Epoch 88/200\n",
      "11690/11690 [==============================] - 7s - loss: 0.6915 - acc: 0.5259 - val_loss: 0.6921 - val_acc: 0.5212\n",
      "Epoch 89/200\n",
      "11690/11690 [==============================] - 7s - loss: 0.6914 - acc: 0.5257 - val_loss: 0.6918 - val_acc: 0.5204\n",
      "Epoch 90/200\n",
      "11690/11690 [==============================] - 7s - loss: 0.6915 - acc: 0.5259 - val_loss: 0.6921 - val_acc: 0.5112\n",
      "Epoch 91/200\n",
      "11690/11690 [==============================] - 7s - loss: 0.6912 - acc: 0.5216 - val_loss: 0.6921 - val_acc: 0.5166\n",
      "Epoch 92/200\n",
      "11690/11690 [==============================] - 7s - loss: 0.6914 - acc: 0.5255 - val_loss: 0.6919 - val_acc: 0.5166\n",
      "Epoch 93/200\n",
      "11690/11690 [==============================] - 9s - loss: 0.6914 - acc: 0.5248 - val_loss: 0.6923 - val_acc: 0.5058\n",
      "Epoch 94/200\n",
      "11690/11690 [==============================] - 7s - loss: 0.6915 - acc: 0.5234 - val_loss: 0.6918 - val_acc: 0.5204\n",
      "Epoch 95/200\n",
      "11690/11690 [==============================] - 7s - loss: 0.6914 - acc: 0.5217 - val_loss: 0.6918 - val_acc: 0.5273\n",
      "Epoch 96/200\n",
      "11690/11690 [==============================] - 7s - loss: 0.6915 - acc: 0.5253 - val_loss: 0.6920 - val_acc: 0.5227\n",
      "Epoch 97/200\n",
      "11690/11690 [==============================] - 7s - loss: 0.6916 - acc: 0.5252 - val_loss: 0.6920 - val_acc: 0.5081\n",
      "Epoch 98/200\n",
      "11690/11690 [==============================] - 7s - loss: 0.6915 - acc: 0.5260 - val_loss: 0.6926 - val_acc: 0.5173\n",
      "Epoch 99/200\n",
      "11690/11690 [==============================] - 9s - loss: 0.6914 - acc: 0.5259 - val_loss: 0.6924 - val_acc: 0.5042\n",
      "Epoch 100/200\n",
      "11690/11690 [==============================] - 7s - loss: 0.6914 - acc: 0.5244 - val_loss: 0.6917 - val_acc: 0.5273\n",
      "Epoch 101/200\n",
      "11690/11690 [==============================] - 7s - loss: 0.6911 - acc: 0.5257 - val_loss: 0.6917 - val_acc: 0.5273\n",
      "Epoch 102/200\n",
      "11690/11690 [==============================] - 7s - loss: 0.6913 - acc: 0.5255 - val_loss: 0.6913 - val_acc: 0.5296\n",
      "Epoch 103/200\n",
      "11690/11690 [==============================] - 9s - loss: 0.6915 - acc: 0.5258 - val_loss: 0.6920 - val_acc: 0.5219\n",
      "Epoch 104/200\n",
      "11690/11690 [==============================] - 8s - loss: 0.6913 - acc: 0.5251 - val_loss: 0.6927 - val_acc: 0.5142\n",
      "Epoch 105/200\n",
      "11690/11690 [==============================] - 7s - loss: 0.6913 - acc: 0.5273 - val_loss: 0.6917 - val_acc: 0.5266\n",
      "Epoch 106/200\n",
      "11690/11690 [==============================] - 7s - loss: 0.6912 - acc: 0.5238 - val_loss: 0.6915 - val_acc: 0.5296\n",
      "Epoch 107/200\n",
      "11690/11690 [==============================] - 7s - loss: 0.6912 - acc: 0.5267 - val_loss: 0.6906 - val_acc: 0.5335\n",
      "Epoch 108/200\n",
      "11690/11690 [==============================] - 7s - loss: 0.6909 - acc: 0.5255 - val_loss: 0.6929 - val_acc: 0.5081\n",
      "Epoch 109/200\n",
      "11690/11690 [==============================] - 7s - loss: 0.6912 - acc: 0.5311 - val_loss: 0.6910 - val_acc: 0.5327\n",
      "Epoch 110/200\n",
      "11690/11690 [==============================] - 9s - loss: 0.6910 - acc: 0.5254 - val_loss: 0.6914 - val_acc: 0.5296\n",
      "Epoch 111/200\n",
      "11690/11690 [==============================] - 7s - loss: 0.6915 - acc: 0.5271 - val_loss: 0.6911 - val_acc: 0.5304\n",
      "Epoch 112/200\n",
      "11690/11690 [==============================] - 9s - loss: 0.6912 - acc: 0.5255 - val_loss: 0.6934 - val_acc: 0.5004\n",
      "Epoch 113/200\n",
      "11690/11690 [==============================] - 7s - loss: 0.6914 - acc: 0.5223 - val_loss: 0.6923 - val_acc: 0.5242\n",
      "Epoch 114/200\n",
      "11690/11690 [==============================] - 7s - loss: 0.6912 - acc: 0.5261 - val_loss: 0.6926 - val_acc: 0.5035\n",
      "Epoch 115/200\n",
      "11690/11690 [==============================] - 7s - loss: 0.6913 - acc: 0.5263 - val_loss: 0.6920 - val_acc: 0.5112\n",
      "Epoch 116/200\n",
      "11690/11690 [==============================] - 7s - loss: 0.6911 - acc: 0.5251 - val_loss: 0.6917 - val_acc: 0.5266\n",
      "Epoch 117/200\n",
      "11690/11690 [==============================] - 9s - loss: 0.6910 - acc: 0.5249 - val_loss: 0.6923 - val_acc: 0.5081\n",
      "Epoch 118/200\n",
      "11690/11690 [==============================] - 7s - loss: 0.6913 - acc: 0.5251 - val_loss: 0.6918 - val_acc: 0.5189\n",
      "Epoch 119/200\n",
      "11690/11690 [==============================] - 7s - loss: 0.6912 - acc: 0.5238 - val_loss: 0.6928 - val_acc: 0.5004\n",
      "Epoch 120/200\n",
      "11690/11690 [==============================] - 9s - loss: 0.6917 - acc: 0.5279 - val_loss: 0.6918 - val_acc: 0.5258\n",
      "Epoch 121/200\n",
      "11690/11690 [==============================] - 7s - loss: 0.6911 - acc: 0.5247 - val_loss: 0.6928 - val_acc: 0.5096\n",
      "Epoch 122/200\n",
      "11690/11690 [==============================] - 7s - loss: 0.6909 - acc: 0.5234 - val_loss: 0.6913 - val_acc: 0.5335\n",
      "Epoch 123/200\n",
      "11690/11690 [==============================] - 9s - loss: 0.6911 - acc: 0.5274 - val_loss: 0.6926 - val_acc: 0.5073\n",
      "Epoch 124/200\n",
      "11690/11690 [==============================] - 8s - loss: 0.6911 - acc: 0.5266 - val_loss: 0.6915 - val_acc: 0.5319\n",
      "Epoch 125/200\n",
      "11690/11690 [==============================] - 7s - loss: 0.6912 - acc: 0.5245 - val_loss: 0.6927 - val_acc: 0.5158\n",
      "Epoch 126/200\n",
      "11690/11690 [==============================] - 9s - loss: 0.6911 - acc: 0.5257 - val_loss: 0.6926 - val_acc: 0.5289\n",
      "Epoch 127/200\n"
     ]
    },
    {
     "name": "stdout",
     "output_type": "stream",
     "text": [
      "11690/11690 [==============================] - 7s - loss: 0.6910 - acc: 0.5283 - val_loss: 0.6920 - val_acc: 0.5266\n",
      "Epoch 128/200\n",
      "11690/11690 [==============================] - 7s - loss: 0.6913 - acc: 0.5270 - val_loss: 0.6923 - val_acc: 0.5227\n",
      "Epoch 129/200\n",
      "11690/11690 [==============================] - 7s - loss: 0.6910 - acc: 0.5263 - val_loss: 0.6937 - val_acc: 0.5273\n",
      "Epoch 130/200\n",
      "11690/11690 [==============================] - 7s - loss: 0.6910 - acc: 0.5255 - val_loss: 0.6921 - val_acc: 0.5227\n",
      "Epoch 131/200\n",
      "11690/11690 [==============================] - 7s - loss: 0.6909 - acc: 0.5250 - val_loss: 0.6932 - val_acc: 0.5073\n",
      "Epoch 132/200\n",
      "11690/11690 [==============================] - 7s - loss: 0.6909 - acc: 0.5217 - val_loss: 0.6933 - val_acc: 0.5296\n",
      "Epoch 133/200\n",
      "11690/11690 [==============================] - 7s - loss: 0.6913 - acc: 0.5254 - val_loss: 0.6915 - val_acc: 0.5242\n",
      "Epoch 134/200\n",
      "11690/11690 [==============================] - 7s - loss: 0.6910 - acc: 0.5253 - val_loss: 0.6922 - val_acc: 0.5281\n",
      "Epoch 135/200\n",
      "11690/11690 [==============================] - 9s - loss: 0.6911 - acc: 0.5258 - val_loss: 0.6918 - val_acc: 0.5150\n",
      "Epoch 136/200\n",
      "11690/11690 [==============================] - 7s - loss: 0.6911 - acc: 0.5273 - val_loss: 0.6926 - val_acc: 0.5212\n",
      "Epoch 137/200\n",
      "11690/11690 [==============================] - 7s - loss: 0.6910 - acc: 0.5251 - val_loss: 0.6915 - val_acc: 0.5281\n",
      "Epoch 138/200\n",
      "11690/11690 [==============================] - 9s - loss: 0.6912 - acc: 0.5240 - val_loss: 0.6918 - val_acc: 0.5296\n",
      "Epoch 139/200\n",
      "11690/11690 [==============================] - 7s - loss: 0.6909 - acc: 0.5237 - val_loss: 0.6926 - val_acc: 0.5319\n",
      "Epoch 140/200\n",
      "11690/11690 [==============================] - 7s - loss: 0.6911 - acc: 0.5254 - val_loss: 0.6923 - val_acc: 0.5235\n",
      "Epoch 141/200\n",
      "11690/11690 [==============================] - 7s - loss: 0.6912 - acc: 0.5254 - val_loss: 0.6923 - val_acc: 0.5227\n",
      "Epoch 142/200\n",
      "11690/11690 [==============================] - 7s - loss: 0.6911 - acc: 0.5249 - val_loss: 0.6921 - val_acc: 0.5258\n",
      "Epoch 143/200\n",
      "11690/11690 [==============================] - 8s - loss: 0.6910 - acc: 0.5264 - val_loss: 0.6925 - val_acc: 0.5189\n",
      "Epoch 144/200\n",
      "11690/11690 [==============================] - 9s - loss: 0.6907 - acc: 0.5256 - val_loss: 0.6924 - val_acc: 0.5135\n",
      "Epoch 145/200\n",
      "11690/11690 [==============================] - 7s - loss: 0.6909 - acc: 0.5281 - val_loss: 0.6929 - val_acc: 0.5073\n",
      "Epoch 146/200\n",
      "11690/11690 [==============================] - 7s - loss: 0.6906 - acc: 0.5271 - val_loss: 0.6934 - val_acc: 0.4988\n",
      "Epoch 147/200\n",
      "11690/11690 [==============================] - 7s - loss: 0.6905 - acc: 0.5262 - val_loss: 0.6926 - val_acc: 0.5250\n",
      "Epoch 148/200\n",
      "11690/11690 [==============================] - 9s - loss: 0.6907 - acc: 0.5259 - val_loss: 0.6920 - val_acc: 0.5073\n",
      "Epoch 149/200\n",
      "11690/11690 [==============================] - 7s - loss: 0.6908 - acc: 0.5282 - val_loss: 0.6916 - val_acc: 0.5319\n",
      "Epoch 150/200\n",
      "11690/11690 [==============================] - 7s - loss: 0.6905 - acc: 0.5281 - val_loss: 0.6926 - val_acc: 0.5250\n",
      "Epoch 151/200\n",
      "11690/11690 [==============================] - 7s - loss: 0.6906 - acc: 0.5278 - val_loss: 0.6925 - val_acc: 0.5296\n",
      "Epoch 152/200\n",
      "11690/11690 [==============================] - 7s - loss: 0.6907 - acc: 0.5278 - val_loss: 0.6922 - val_acc: 0.5250\n",
      "Epoch 153/200\n",
      "11690/11690 [==============================] - 7s - loss: 0.6912 - acc: 0.5260 - val_loss: 0.6923 - val_acc: 0.5127\n",
      "Epoch 154/200\n",
      "11690/11690 [==============================] - 7s - loss: 0.6907 - acc: 0.5251 - val_loss: 0.6932 - val_acc: 0.5142\n",
      "Epoch 155/200\n",
      "11690/11690 [==============================] - 7s - loss: 0.6908 - acc: 0.5241 - val_loss: 0.6935 - val_acc: 0.5104\n",
      "Epoch 156/200\n",
      "11690/11690 [==============================] - 9s - loss: 0.6905 - acc: 0.5259 - val_loss: 0.6927 - val_acc: 0.5127\n",
      "Epoch 157/200\n",
      "11690/11690 [==============================] - 7s - loss: 0.6903 - acc: 0.5272 - val_loss: 0.6924 - val_acc: 0.5112\n",
      "Epoch 158/200\n",
      "11690/11690 [==============================] - 7s - loss: 0.6907 - acc: 0.5251 - val_loss: 0.6924 - val_acc: 0.5227\n",
      "Epoch 159/200\n",
      "11690/11690 [==============================] - 7s - loss: 0.6906 - acc: 0.5271 - val_loss: 0.6932 - val_acc: 0.5273\n",
      "Epoch 160/200\n",
      "11690/11690 [==============================] - 7s - loss: 0.6905 - acc: 0.5288 - val_loss: 0.6916 - val_acc: 0.5296\n",
      "Epoch 161/200\n",
      "11690/11690 [==============================] - 7s - loss: 0.6907 - acc: 0.5248 - val_loss: 0.6927 - val_acc: 0.5181\n",
      "Epoch 162/200\n",
      "11690/11690 [==============================] - 7s - loss: 0.6906 - acc: 0.5229 - val_loss: 0.6912 - val_acc: 0.5319\n",
      "Epoch 163/200\n",
      "11690/11690 [==============================] - 9s - loss: 0.6907 - acc: 0.5242 - val_loss: 0.6919 - val_acc: 0.5273\n",
      "Epoch 164/200\n",
      "11690/11690 [==============================] - 7s - loss: 0.6906 - acc: 0.5269 - val_loss: 0.6925 - val_acc: 0.5104\n",
      "Epoch 165/200\n",
      "11690/11690 [==============================] - 7s - loss: 0.6902 - acc: 0.5263 - val_loss: 0.6921 - val_acc: 0.5296\n",
      "Epoch 166/200\n",
      "11690/11690 [==============================] - 8s - loss: 0.6901 - acc: 0.5246 - val_loss: 0.6920 - val_acc: 0.5119\n",
      "Epoch 167/200\n",
      "11690/11690 [==============================] - 8s - loss: 0.6903 - acc: 0.5282 - val_loss: 0.6925 - val_acc: 0.5266\n",
      "Epoch 168/200\n",
      "11690/11690 [==============================] - 7s - loss: 0.6901 - acc: 0.5273 - val_loss: 0.6921 - val_acc: 0.5242\n",
      "Epoch 169/200\n",
      "11690/11690 [==============================] - 7s - loss: 0.6903 - acc: 0.5243 - val_loss: 0.6937 - val_acc: 0.5150\n",
      "Epoch 170/200\n",
      "11690/11690 [==============================] - 7s - loss: 0.6903 - acc: 0.5251 - val_loss: 0.6923 - val_acc: 0.5289\n",
      "Epoch 171/200\n",
      "11690/11690 [==============================] - 9s - loss: 0.6901 - acc: 0.5264 - val_loss: 0.6928 - val_acc: 0.5204\n",
      "Epoch 172/200\n",
      "11690/11690 [==============================] - 7s - loss: 0.6903 - acc: 0.5267 - val_loss: 0.6932 - val_acc: 0.5196\n",
      "Epoch 173/200\n",
      "11690/11690 [==============================] - 7s - loss: 0.6902 - acc: 0.5304 - val_loss: 0.6928 - val_acc: 0.5281\n",
      "Epoch 174/200\n",
      "11690/11690 [==============================] - 7s - loss: 0.6898 - acc: 0.5248 - val_loss: 0.6934 - val_acc: 0.5166\n",
      "Epoch 175/200\n",
      "11690/11690 [==============================] - 7s - loss: 0.6900 - acc: 0.5311 - val_loss: 0.6928 - val_acc: 0.5242\n",
      "Epoch 176/200\n",
      "11690/11690 [==============================] - 9s - loss: 0.6901 - acc: 0.5258 - val_loss: 0.6925 - val_acc: 0.5173\n",
      "Epoch 177/200\n",
      "11690/11690 [==============================] - 7s - loss: 0.6901 - acc: 0.5255 - val_loss: 0.6935 - val_acc: 0.5196\n",
      "Epoch 178/200\n",
      "11690/11690 [==============================] - 7s - loss: 0.6897 - acc: 0.5251 - val_loss: 0.6927 - val_acc: 0.5104\n",
      "Epoch 179/200\n",
      "11690/11690 [==============================] - 9s - loss: 0.6904 - acc: 0.5284 - val_loss: 0.6941 - val_acc: 0.5173\n",
      "Epoch 180/200\n",
      "11690/11690 [==============================] - 7s - loss: 0.6895 - acc: 0.5287 - val_loss: 0.6934 - val_acc: 0.5096\n",
      "Epoch 181/200\n",
      "11690/11690 [==============================] - 7s - loss: 0.6898 - acc: 0.5278 - val_loss: 0.6943 - val_acc: 0.5189\n",
      "Epoch 182/200\n",
      "11690/11690 [==============================] - 7s - loss: 0.6898 - acc: 0.5235 - val_loss: 0.6940 - val_acc: 0.5273\n",
      "Epoch 183/200\n",
      "11690/11690 [==============================] - 7s - loss: 0.6896 - acc: 0.5275 - val_loss: 0.6948 - val_acc: 0.5296\n",
      "Epoch 184/200\n",
      "11690/11690 [==============================] - 7s - loss: 0.6901 - acc: 0.5255 - val_loss: 0.6944 - val_acc: 0.5104\n",
      "Epoch 185/200\n",
      "11690/11690 [==============================] - 9s - loss: 0.6895 - acc: 0.5285 - val_loss: 0.6932 - val_acc: 0.5304\n",
      "Epoch 186/200\n",
      "11690/11690 [==============================] - 7s - loss: 0.6893 - acc: 0.5288 - val_loss: 0.6929 - val_acc: 0.5312\n",
      "Epoch 187/200\n",
      "11690/11690 [==============================] - 7s - loss: 0.6901 - acc: 0.5292 - val_loss: 0.6943 - val_acc: 0.5189\n",
      "Epoch 188/200\n",
      "11690/11690 [==============================] - 7s - loss: 0.6893 - acc: 0.5279 - val_loss: 0.6958 - val_acc: 0.5150\n",
      "Epoch 189/200\n",
      "11690/11690 [==============================] - 7s - loss: 0.6893 - acc: 0.5288 - val_loss: 0.6932 - val_acc: 0.5281\n",
      "Epoch 190/200\n",
      "11690/11690 [==============================] - 7s - loss: 0.6898 - acc: 0.5293 - val_loss: 0.6927 - val_acc: 0.5296\n",
      "Epoch 191/200\n",
      "11690/11690 [==============================] - 7s - loss: 0.6896 - acc: 0.5263 - val_loss: 0.6941 - val_acc: 0.5312\n",
      "Epoch 192/200\n",
      "11690/11690 [==============================] - 7s - loss: 0.6886 - acc: 0.5279 - val_loss: 0.6946 - val_acc: 0.5227\n",
      "Epoch 193/200\n",
      "11690/11690 [==============================] - 9s - loss: 0.6904 - acc: 0.5277 - val_loss: 0.6918 - val_acc: 0.5289\n",
      "Epoch 194/200\n",
      "11690/11690 [==============================] - 7s - loss: 0.6896 - acc: 0.5303 - val_loss: 0.6936 - val_acc: 0.5289\n",
      "Epoch 195/200\n",
      "11690/11690 [==============================] - 7s - loss: 0.6898 - acc: 0.5267 - val_loss: 0.6964 - val_acc: 0.5073\n",
      "Epoch 196/200\n",
      "11690/11690 [==============================] - 7s - loss: 0.6895 - acc: 0.5287 - val_loss: 0.6927 - val_acc: 0.5273\n",
      "Epoch 197/200\n",
      "11690/11690 [==============================] - 9s - loss: 0.6898 - acc: 0.5269 - val_loss: 0.6937 - val_acc: 0.5273\n",
      "Epoch 198/200\n",
      "11690/11690 [==============================] - 7s - loss: 0.6894 - acc: 0.5260 - val_loss: 0.6919 - val_acc: 0.5266\n",
      "Epoch 199/200\n",
      "11690/11690 [==============================] - 7s - loss: 0.6894 - acc: 0.5293 - val_loss: 0.6945 - val_acc: 0.5258\n",
      "Epoch 200/200\n",
      "11690/11690 [==============================] - 7s - loss: 0.6887 - acc: 0.5279 - val_loss: 0.6928 - val_acc: 0.5219\n"
     ]
    }
   ],
   "source": [
    "history = model.fit(x_train, y_train,\n",
    "                    batch_size = 64, \n",
    "                    epochs=200, \n",
    "                    verbose=1, \n",
    "                    validation_data=(x_test, y_test))"
   ]
  },
  {
   "cell_type": "code",
   "execution_count": 40,
   "metadata": {
    "collapsed": true
   },
   "outputs": [],
   "source": [
    "def plot_train(hist):\n",
    "    h = hist.history\n",
    "    if 'acc' in h:\n",
    "        meas='acc'\n",
    "        loc='lower right'\n",
    "    else:\n",
    "        meas='loss'\n",
    "        loc='upper right'\n",
    "    plt.plot(hist.history[meas])\n",
    "    plt.plot(hist.history['val_'+meas])\n",
    "    plt.title('model '+meas)\n",
    "    plt.ylabel(meas)\n",
    "    plt.xlabel('epoch')\n",
    "    plt.legend(['train', 'validation'], loc=loc)"
   ]
  },
  {
   "cell_type": "code",
   "execution_count": 41,
   "metadata": {},
   "outputs": [
    {
     "data": {
      "application/javascript": [
       "/* Put everything inside the global mpl namespace */\n",
       "window.mpl = {};\n",
       "\n",
       "\n",
       "mpl.get_websocket_type = function() {\n",
       "    if (typeof(WebSocket) !== 'undefined') {\n",
       "        return WebSocket;\n",
       "    } else if (typeof(MozWebSocket) !== 'undefined') {\n",
       "        return MozWebSocket;\n",
       "    } else {\n",
       "        alert('Your browser does not have WebSocket support.' +\n",
       "              'Please try Chrome, Safari or Firefox ≥ 6. ' +\n",
       "              'Firefox 4 and 5 are also supported but you ' +\n",
       "              'have to enable WebSockets in about:config.');\n",
       "    };\n",
       "}\n",
       "\n",
       "mpl.figure = function(figure_id, websocket, ondownload, parent_element) {\n",
       "    this.id = figure_id;\n",
       "\n",
       "    this.ws = websocket;\n",
       "\n",
       "    this.supports_binary = (this.ws.binaryType != undefined);\n",
       "\n",
       "    if (!this.supports_binary) {\n",
       "        var warnings = document.getElementById(\"mpl-warnings\");\n",
       "        if (warnings) {\n",
       "            warnings.style.display = 'block';\n",
       "            warnings.textContent = (\n",
       "                \"This browser does not support binary websocket messages. \" +\n",
       "                    \"Performance may be slow.\");\n",
       "        }\n",
       "    }\n",
       "\n",
       "    this.imageObj = new Image();\n",
       "\n",
       "    this.context = undefined;\n",
       "    this.message = undefined;\n",
       "    this.canvas = undefined;\n",
       "    this.rubberband_canvas = undefined;\n",
       "    this.rubberband_context = undefined;\n",
       "    this.format_dropdown = undefined;\n",
       "\n",
       "    this.image_mode = 'full';\n",
       "\n",
       "    this.root = $('<div/>');\n",
       "    this._root_extra_style(this.root)\n",
       "    this.root.attr('style', 'display: inline-block');\n",
       "\n",
       "    $(parent_element).append(this.root);\n",
       "\n",
       "    this._init_header(this);\n",
       "    this._init_canvas(this);\n",
       "    this._init_toolbar(this);\n",
       "\n",
       "    var fig = this;\n",
       "\n",
       "    this.waiting = false;\n",
       "\n",
       "    this.ws.onopen =  function () {\n",
       "            fig.send_message(\"supports_binary\", {value: fig.supports_binary});\n",
       "            fig.send_message(\"send_image_mode\", {});\n",
       "            if (mpl.ratio != 1) {\n",
       "                fig.send_message(\"set_dpi_ratio\", {'dpi_ratio': mpl.ratio});\n",
       "            }\n",
       "            fig.send_message(\"refresh\", {});\n",
       "        }\n",
       "\n",
       "    this.imageObj.onload = function() {\n",
       "            if (fig.image_mode == 'full') {\n",
       "                // Full images could contain transparency (where diff images\n",
       "                // almost always do), so we need to clear the canvas so that\n",
       "                // there is no ghosting.\n",
       "                fig.context.clearRect(0, 0, fig.canvas.width, fig.canvas.height);\n",
       "            }\n",
       "            fig.context.drawImage(fig.imageObj, 0, 0);\n",
       "        };\n",
       "\n",
       "    this.imageObj.onunload = function() {\n",
       "        fig.ws.close();\n",
       "    }\n",
       "\n",
       "    this.ws.onmessage = this._make_on_message_function(this);\n",
       "\n",
       "    this.ondownload = ondownload;\n",
       "}\n",
       "\n",
       "mpl.figure.prototype._init_header = function() {\n",
       "    var titlebar = $(\n",
       "        '<div class=\"ui-dialog-titlebar ui-widget-header ui-corner-all ' +\n",
       "        'ui-helper-clearfix\"/>');\n",
       "    var titletext = $(\n",
       "        '<div class=\"ui-dialog-title\" style=\"width: 100%; ' +\n",
       "        'text-align: center; padding: 3px;\"/>');\n",
       "    titlebar.append(titletext)\n",
       "    this.root.append(titlebar);\n",
       "    this.header = titletext[0];\n",
       "}\n",
       "\n",
       "\n",
       "\n",
       "mpl.figure.prototype._canvas_extra_style = function(canvas_div) {\n",
       "\n",
       "}\n",
       "\n",
       "\n",
       "mpl.figure.prototype._root_extra_style = function(canvas_div) {\n",
       "\n",
       "}\n",
       "\n",
       "mpl.figure.prototype._init_canvas = function() {\n",
       "    var fig = this;\n",
       "\n",
       "    var canvas_div = $('<div/>');\n",
       "\n",
       "    canvas_div.attr('style', 'position: relative; clear: both; outline: 0');\n",
       "\n",
       "    function canvas_keyboard_event(event) {\n",
       "        return fig.key_event(event, event['data']);\n",
       "    }\n",
       "\n",
       "    canvas_div.keydown('key_press', canvas_keyboard_event);\n",
       "    canvas_div.keyup('key_release', canvas_keyboard_event);\n",
       "    this.canvas_div = canvas_div\n",
       "    this._canvas_extra_style(canvas_div)\n",
       "    this.root.append(canvas_div);\n",
       "\n",
       "    var canvas = $('<canvas/>');\n",
       "    canvas.addClass('mpl-canvas');\n",
       "    canvas.attr('style', \"left: 0; top: 0; z-index: 0; outline: 0\")\n",
       "\n",
       "    this.canvas = canvas[0];\n",
       "    this.context = canvas[0].getContext(\"2d\");\n",
       "\n",
       "    var backingStore = this.context.backingStorePixelRatio ||\n",
       "\tthis.context.webkitBackingStorePixelRatio ||\n",
       "\tthis.context.mozBackingStorePixelRatio ||\n",
       "\tthis.context.msBackingStorePixelRatio ||\n",
       "\tthis.context.oBackingStorePixelRatio ||\n",
       "\tthis.context.backingStorePixelRatio || 1;\n",
       "\n",
       "    mpl.ratio = (window.devicePixelRatio || 1) / backingStore;\n",
       "\n",
       "    var rubberband = $('<canvas/>');\n",
       "    rubberband.attr('style', \"position: absolute; left: 0; top: 0; z-index: 1;\")\n",
       "\n",
       "    var pass_mouse_events = true;\n",
       "\n",
       "    canvas_div.resizable({\n",
       "        start: function(event, ui) {\n",
       "            pass_mouse_events = false;\n",
       "        },\n",
       "        resize: function(event, ui) {\n",
       "            fig.request_resize(ui.size.width, ui.size.height);\n",
       "        },\n",
       "        stop: function(event, ui) {\n",
       "            pass_mouse_events = true;\n",
       "            fig.request_resize(ui.size.width, ui.size.height);\n",
       "        },\n",
       "    });\n",
       "\n",
       "    function mouse_event_fn(event) {\n",
       "        if (pass_mouse_events)\n",
       "            return fig.mouse_event(event, event['data']);\n",
       "    }\n",
       "\n",
       "    rubberband.mousedown('button_press', mouse_event_fn);\n",
       "    rubberband.mouseup('button_release', mouse_event_fn);\n",
       "    // Throttle sequential mouse events to 1 every 20ms.\n",
       "    rubberband.mousemove('motion_notify', mouse_event_fn);\n",
       "\n",
       "    rubberband.mouseenter('figure_enter', mouse_event_fn);\n",
       "    rubberband.mouseleave('figure_leave', mouse_event_fn);\n",
       "\n",
       "    canvas_div.on(\"wheel\", function (event) {\n",
       "        event = event.originalEvent;\n",
       "        event['data'] = 'scroll'\n",
       "        if (event.deltaY < 0) {\n",
       "            event.step = 1;\n",
       "        } else {\n",
       "            event.step = -1;\n",
       "        }\n",
       "        mouse_event_fn(event);\n",
       "    });\n",
       "\n",
       "    canvas_div.append(canvas);\n",
       "    canvas_div.append(rubberband);\n",
       "\n",
       "    this.rubberband = rubberband;\n",
       "    this.rubberband_canvas = rubberband[0];\n",
       "    this.rubberband_context = rubberband[0].getContext(\"2d\");\n",
       "    this.rubberband_context.strokeStyle = \"#000000\";\n",
       "\n",
       "    this._resize_canvas = function(width, height) {\n",
       "        // Keep the size of the canvas, canvas container, and rubber band\n",
       "        // canvas in synch.\n",
       "        canvas_div.css('width', width)\n",
       "        canvas_div.css('height', height)\n",
       "\n",
       "        canvas.attr('width', width * mpl.ratio);\n",
       "        canvas.attr('height', height * mpl.ratio);\n",
       "        canvas.attr('style', 'width: ' + width + 'px; height: ' + height + 'px;');\n",
       "\n",
       "        rubberband.attr('width', width);\n",
       "        rubberband.attr('height', height);\n",
       "    }\n",
       "\n",
       "    // Set the figure to an initial 600x600px, this will subsequently be updated\n",
       "    // upon first draw.\n",
       "    this._resize_canvas(600, 600);\n",
       "\n",
       "    // Disable right mouse context menu.\n",
       "    $(this.rubberband_canvas).bind(\"contextmenu\",function(e){\n",
       "        return false;\n",
       "    });\n",
       "\n",
       "    function set_focus () {\n",
       "        canvas.focus();\n",
       "        canvas_div.focus();\n",
       "    }\n",
       "\n",
       "    window.setTimeout(set_focus, 100);\n",
       "}\n",
       "\n",
       "mpl.figure.prototype._init_toolbar = function() {\n",
       "    var fig = this;\n",
       "\n",
       "    var nav_element = $('<div/>')\n",
       "    nav_element.attr('style', 'width: 100%');\n",
       "    this.root.append(nav_element);\n",
       "\n",
       "    // Define a callback function for later on.\n",
       "    function toolbar_event(event) {\n",
       "        return fig.toolbar_button_onclick(event['data']);\n",
       "    }\n",
       "    function toolbar_mouse_event(event) {\n",
       "        return fig.toolbar_button_onmouseover(event['data']);\n",
       "    }\n",
       "\n",
       "    for(var toolbar_ind in mpl.toolbar_items) {\n",
       "        var name = mpl.toolbar_items[toolbar_ind][0];\n",
       "        var tooltip = mpl.toolbar_items[toolbar_ind][1];\n",
       "        var image = mpl.toolbar_items[toolbar_ind][2];\n",
       "        var method_name = mpl.toolbar_items[toolbar_ind][3];\n",
       "\n",
       "        if (!name) {\n",
       "            // put a spacer in here.\n",
       "            continue;\n",
       "        }\n",
       "        var button = $('<button/>');\n",
       "        button.addClass('ui-button ui-widget ui-state-default ui-corner-all ' +\n",
       "                        'ui-button-icon-only');\n",
       "        button.attr('role', 'button');\n",
       "        button.attr('aria-disabled', 'false');\n",
       "        button.click(method_name, toolbar_event);\n",
       "        button.mouseover(tooltip, toolbar_mouse_event);\n",
       "\n",
       "        var icon_img = $('<span/>');\n",
       "        icon_img.addClass('ui-button-icon-primary ui-icon');\n",
       "        icon_img.addClass(image);\n",
       "        icon_img.addClass('ui-corner-all');\n",
       "\n",
       "        var tooltip_span = $('<span/>');\n",
       "        tooltip_span.addClass('ui-button-text');\n",
       "        tooltip_span.html(tooltip);\n",
       "\n",
       "        button.append(icon_img);\n",
       "        button.append(tooltip_span);\n",
       "\n",
       "        nav_element.append(button);\n",
       "    }\n",
       "\n",
       "    var fmt_picker_span = $('<span/>');\n",
       "\n",
       "    var fmt_picker = $('<select/>');\n",
       "    fmt_picker.addClass('mpl-toolbar-option ui-widget ui-widget-content');\n",
       "    fmt_picker_span.append(fmt_picker);\n",
       "    nav_element.append(fmt_picker_span);\n",
       "    this.format_dropdown = fmt_picker[0];\n",
       "\n",
       "    for (var ind in mpl.extensions) {\n",
       "        var fmt = mpl.extensions[ind];\n",
       "        var option = $(\n",
       "            '<option/>', {selected: fmt === mpl.default_extension}).html(fmt);\n",
       "        fmt_picker.append(option)\n",
       "    }\n",
       "\n",
       "    // Add hover states to the ui-buttons\n",
       "    $( \".ui-button\" ).hover(\n",
       "        function() { $(this).addClass(\"ui-state-hover\");},\n",
       "        function() { $(this).removeClass(\"ui-state-hover\");}\n",
       "    );\n",
       "\n",
       "    var status_bar = $('<span class=\"mpl-message\"/>');\n",
       "    nav_element.append(status_bar);\n",
       "    this.message = status_bar[0];\n",
       "}\n",
       "\n",
       "mpl.figure.prototype.request_resize = function(x_pixels, y_pixels) {\n",
       "    // Request matplotlib to resize the figure. Matplotlib will then trigger a resize in the client,\n",
       "    // which will in turn request a refresh of the image.\n",
       "    this.send_message('resize', {'width': x_pixels, 'height': y_pixels});\n",
       "}\n",
       "\n",
       "mpl.figure.prototype.send_message = function(type, properties) {\n",
       "    properties['type'] = type;\n",
       "    properties['figure_id'] = this.id;\n",
       "    this.ws.send(JSON.stringify(properties));\n",
       "}\n",
       "\n",
       "mpl.figure.prototype.send_draw_message = function() {\n",
       "    if (!this.waiting) {\n",
       "        this.waiting = true;\n",
       "        this.ws.send(JSON.stringify({type: \"draw\", figure_id: this.id}));\n",
       "    }\n",
       "}\n",
       "\n",
       "\n",
       "mpl.figure.prototype.handle_save = function(fig, msg) {\n",
       "    var format_dropdown = fig.format_dropdown;\n",
       "    var format = format_dropdown.options[format_dropdown.selectedIndex].value;\n",
       "    fig.ondownload(fig, format);\n",
       "}\n",
       "\n",
       "\n",
       "mpl.figure.prototype.handle_resize = function(fig, msg) {\n",
       "    var size = msg['size'];\n",
       "    if (size[0] != fig.canvas.width || size[1] != fig.canvas.height) {\n",
       "        fig._resize_canvas(size[0], size[1]);\n",
       "        fig.send_message(\"refresh\", {});\n",
       "    };\n",
       "}\n",
       "\n",
       "mpl.figure.prototype.handle_rubberband = function(fig, msg) {\n",
       "    var x0 = msg['x0'] / mpl.ratio;\n",
       "    var y0 = (fig.canvas.height - msg['y0']) / mpl.ratio;\n",
       "    var x1 = msg['x1'] / mpl.ratio;\n",
       "    var y1 = (fig.canvas.height - msg['y1']) / mpl.ratio;\n",
       "    x0 = Math.floor(x0) + 0.5;\n",
       "    y0 = Math.floor(y0) + 0.5;\n",
       "    x1 = Math.floor(x1) + 0.5;\n",
       "    y1 = Math.floor(y1) + 0.5;\n",
       "    var min_x = Math.min(x0, x1);\n",
       "    var min_y = Math.min(y0, y1);\n",
       "    var width = Math.abs(x1 - x0);\n",
       "    var height = Math.abs(y1 - y0);\n",
       "\n",
       "    fig.rubberband_context.clearRect(\n",
       "        0, 0, fig.canvas.width, fig.canvas.height);\n",
       "\n",
       "    fig.rubberband_context.strokeRect(min_x, min_y, width, height);\n",
       "}\n",
       "\n",
       "mpl.figure.prototype.handle_figure_label = function(fig, msg) {\n",
       "    // Updates the figure title.\n",
       "    fig.header.textContent = msg['label'];\n",
       "}\n",
       "\n",
       "mpl.figure.prototype.handle_cursor = function(fig, msg) {\n",
       "    var cursor = msg['cursor'];\n",
       "    switch(cursor)\n",
       "    {\n",
       "    case 0:\n",
       "        cursor = 'pointer';\n",
       "        break;\n",
       "    case 1:\n",
       "        cursor = 'default';\n",
       "        break;\n",
       "    case 2:\n",
       "        cursor = 'crosshair';\n",
       "        break;\n",
       "    case 3:\n",
       "        cursor = 'move';\n",
       "        break;\n",
       "    }\n",
       "    fig.rubberband_canvas.style.cursor = cursor;\n",
       "}\n",
       "\n",
       "mpl.figure.prototype.handle_message = function(fig, msg) {\n",
       "    fig.message.textContent = msg['message'];\n",
       "}\n",
       "\n",
       "mpl.figure.prototype.handle_draw = function(fig, msg) {\n",
       "    // Request the server to send over a new figure.\n",
       "    fig.send_draw_message();\n",
       "}\n",
       "\n",
       "mpl.figure.prototype.handle_image_mode = function(fig, msg) {\n",
       "    fig.image_mode = msg['mode'];\n",
       "}\n",
       "\n",
       "mpl.figure.prototype.updated_canvas_event = function() {\n",
       "    // Called whenever the canvas gets updated.\n",
       "    this.send_message(\"ack\", {});\n",
       "}\n",
       "\n",
       "// A function to construct a web socket function for onmessage handling.\n",
       "// Called in the figure constructor.\n",
       "mpl.figure.prototype._make_on_message_function = function(fig) {\n",
       "    return function socket_on_message(evt) {\n",
       "        if (evt.data instanceof Blob) {\n",
       "            /* FIXME: We get \"Resource interpreted as Image but\n",
       "             * transferred with MIME type text/plain:\" errors on\n",
       "             * Chrome.  But how to set the MIME type?  It doesn't seem\n",
       "             * to be part of the websocket stream */\n",
       "            evt.data.type = \"image/png\";\n",
       "\n",
       "            /* Free the memory for the previous frames */\n",
       "            if (fig.imageObj.src) {\n",
       "                (window.URL || window.webkitURL).revokeObjectURL(\n",
       "                    fig.imageObj.src);\n",
       "            }\n",
       "\n",
       "            fig.imageObj.src = (window.URL || window.webkitURL).createObjectURL(\n",
       "                evt.data);\n",
       "            fig.updated_canvas_event();\n",
       "            fig.waiting = false;\n",
       "            return;\n",
       "        }\n",
       "        else if (typeof evt.data === 'string' && evt.data.slice(0, 21) == \"data:image/png;base64\") {\n",
       "            fig.imageObj.src = evt.data;\n",
       "            fig.updated_canvas_event();\n",
       "            fig.waiting = false;\n",
       "            return;\n",
       "        }\n",
       "\n",
       "        var msg = JSON.parse(evt.data);\n",
       "        var msg_type = msg['type'];\n",
       "\n",
       "        // Call the  \"handle_{type}\" callback, which takes\n",
       "        // the figure and JSON message as its only arguments.\n",
       "        try {\n",
       "            var callback = fig[\"handle_\" + msg_type];\n",
       "        } catch (e) {\n",
       "            console.log(\"No handler for the '\" + msg_type + \"' message type: \", msg);\n",
       "            return;\n",
       "        }\n",
       "\n",
       "        if (callback) {\n",
       "            try {\n",
       "                // console.log(\"Handling '\" + msg_type + \"' message: \", msg);\n",
       "                callback(fig, msg);\n",
       "            } catch (e) {\n",
       "                console.log(\"Exception inside the 'handler_\" + msg_type + \"' callback:\", e, e.stack, msg);\n",
       "            }\n",
       "        }\n",
       "    };\n",
       "}\n",
       "\n",
       "// from http://stackoverflow.com/questions/1114465/getting-mouse-location-in-canvas\n",
       "mpl.findpos = function(e) {\n",
       "    //this section is from http://www.quirksmode.org/js/events_properties.html\n",
       "    var targ;\n",
       "    if (!e)\n",
       "        e = window.event;\n",
       "    if (e.target)\n",
       "        targ = e.target;\n",
       "    else if (e.srcElement)\n",
       "        targ = e.srcElement;\n",
       "    if (targ.nodeType == 3) // defeat Safari bug\n",
       "        targ = targ.parentNode;\n",
       "\n",
       "    // jQuery normalizes the pageX and pageY\n",
       "    // pageX,Y are the mouse positions relative to the document\n",
       "    // offset() returns the position of the element relative to the document\n",
       "    var x = e.pageX - $(targ).offset().left;\n",
       "    var y = e.pageY - $(targ).offset().top;\n",
       "\n",
       "    return {\"x\": x, \"y\": y};\n",
       "};\n",
       "\n",
       "/*\n",
       " * return a copy of an object with only non-object keys\n",
       " * we need this to avoid circular references\n",
       " * http://stackoverflow.com/a/24161582/3208463\n",
       " */\n",
       "function simpleKeys (original) {\n",
       "  return Object.keys(original).reduce(function (obj, key) {\n",
       "    if (typeof original[key] !== 'object')\n",
       "        obj[key] = original[key]\n",
       "    return obj;\n",
       "  }, {});\n",
       "}\n",
       "\n",
       "mpl.figure.prototype.mouse_event = function(event, name) {\n",
       "    var canvas_pos = mpl.findpos(event)\n",
       "\n",
       "    if (name === 'button_press')\n",
       "    {\n",
       "        this.canvas.focus();\n",
       "        this.canvas_div.focus();\n",
       "    }\n",
       "\n",
       "    var x = canvas_pos.x * mpl.ratio;\n",
       "    var y = canvas_pos.y * mpl.ratio;\n",
       "\n",
       "    this.send_message(name, {x: x, y: y, button: event.button,\n",
       "                             step: event.step,\n",
       "                             guiEvent: simpleKeys(event)});\n",
       "\n",
       "    /* This prevents the web browser from automatically changing to\n",
       "     * the text insertion cursor when the button is pressed.  We want\n",
       "     * to control all of the cursor setting manually through the\n",
       "     * 'cursor' event from matplotlib */\n",
       "    event.preventDefault();\n",
       "    return false;\n",
       "}\n",
       "\n",
       "mpl.figure.prototype._key_event_extra = function(event, name) {\n",
       "    // Handle any extra behaviour associated with a key event\n",
       "}\n",
       "\n",
       "mpl.figure.prototype.key_event = function(event, name) {\n",
       "\n",
       "    // Prevent repeat events\n",
       "    if (name == 'key_press')\n",
       "    {\n",
       "        if (event.which === this._key)\n",
       "            return;\n",
       "        else\n",
       "            this._key = event.which;\n",
       "    }\n",
       "    if (name == 'key_release')\n",
       "        this._key = null;\n",
       "\n",
       "    var value = '';\n",
       "    if (event.ctrlKey && event.which != 17)\n",
       "        value += \"ctrl+\";\n",
       "    if (event.altKey && event.which != 18)\n",
       "        value += \"alt+\";\n",
       "    if (event.shiftKey && event.which != 16)\n",
       "        value += \"shift+\";\n",
       "\n",
       "    value += 'k';\n",
       "    value += event.which.toString();\n",
       "\n",
       "    this._key_event_extra(event, name);\n",
       "\n",
       "    this.send_message(name, {key: value,\n",
       "                             guiEvent: simpleKeys(event)});\n",
       "    return false;\n",
       "}\n",
       "\n",
       "mpl.figure.prototype.toolbar_button_onclick = function(name) {\n",
       "    if (name == 'download') {\n",
       "        this.handle_save(this, null);\n",
       "    } else {\n",
       "        this.send_message(\"toolbar_button\", {name: name});\n",
       "    }\n",
       "};\n",
       "\n",
       "mpl.figure.prototype.toolbar_button_onmouseover = function(tooltip) {\n",
       "    this.message.textContent = tooltip;\n",
       "};\n",
       "mpl.toolbar_items = [[\"Home\", \"Reset original view\", \"fa fa-home icon-home\", \"home\"], [\"Back\", \"Back to  previous view\", \"fa fa-arrow-left icon-arrow-left\", \"back\"], [\"Forward\", \"Forward to next view\", \"fa fa-arrow-right icon-arrow-right\", \"forward\"], [\"\", \"\", \"\", \"\"], [\"Pan\", \"Pan axes with left mouse, zoom with right\", \"fa fa-arrows icon-move\", \"pan\"], [\"Zoom\", \"Zoom to rectangle\", \"fa fa-square-o icon-check-empty\", \"zoom\"], [\"\", \"\", \"\", \"\"], [\"Download\", \"Download plot\", \"fa fa-floppy-o icon-save\", \"download\"]];\n",
       "\n",
       "mpl.extensions = [\"eps\", \"jpeg\", \"pdf\", \"png\", \"ps\", \"raw\", \"svg\", \"tif\"];\n",
       "\n",
       "mpl.default_extension = \"png\";var comm_websocket_adapter = function(comm) {\n",
       "    // Create a \"websocket\"-like object which calls the given IPython comm\n",
       "    // object with the appropriate methods. Currently this is a non binary\n",
       "    // socket, so there is still some room for performance tuning.\n",
       "    var ws = {};\n",
       "\n",
       "    ws.close = function() {\n",
       "        comm.close()\n",
       "    };\n",
       "    ws.send = function(m) {\n",
       "        //console.log('sending', m);\n",
       "        comm.send(m);\n",
       "    };\n",
       "    // Register the callback with on_msg.\n",
       "    comm.on_msg(function(msg) {\n",
       "        //console.log('receiving', msg['content']['data'], msg);\n",
       "        // Pass the mpl event to the overriden (by mpl) onmessage function.\n",
       "        ws.onmessage(msg['content']['data'])\n",
       "    });\n",
       "    return ws;\n",
       "}\n",
       "\n",
       "mpl.mpl_figure_comm = function(comm, msg) {\n",
       "    // This is the function which gets called when the mpl process\n",
       "    // starts-up an IPython Comm through the \"matplotlib\" channel.\n",
       "\n",
       "    var id = msg.content.data.id;\n",
       "    // Get hold of the div created by the display call when the Comm\n",
       "    // socket was opened in Python.\n",
       "    var element = $(\"#\" + id);\n",
       "    var ws_proxy = comm_websocket_adapter(comm)\n",
       "\n",
       "    function ondownload(figure, format) {\n",
       "        window.open(figure.imageObj.src);\n",
       "    }\n",
       "\n",
       "    var fig = new mpl.figure(id, ws_proxy,\n",
       "                           ondownload,\n",
       "                           element.get(0));\n",
       "\n",
       "    // Call onopen now - mpl needs it, as it is assuming we've passed it a real\n",
       "    // web socket which is closed, not our websocket->open comm proxy.\n",
       "    ws_proxy.onopen();\n",
       "\n",
       "    fig.parent_element = element.get(0);\n",
       "    fig.cell_info = mpl.find_output_cell(\"<div id='\" + id + \"'></div>\");\n",
       "    if (!fig.cell_info) {\n",
       "        console.error(\"Failed to find cell for figure\", id, fig);\n",
       "        return;\n",
       "    }\n",
       "\n",
       "    var output_index = fig.cell_info[2]\n",
       "    var cell = fig.cell_info[0];\n",
       "\n",
       "};\n",
       "\n",
       "mpl.figure.prototype.handle_close = function(fig, msg) {\n",
       "    var width = fig.canvas.width/mpl.ratio\n",
       "    fig.root.unbind('remove')\n",
       "\n",
       "    // Update the output cell to use the data from the current canvas.\n",
       "    fig.push_to_output();\n",
       "    var dataURL = fig.canvas.toDataURL();\n",
       "    // Re-enable the keyboard manager in IPython - without this line, in FF,\n",
       "    // the notebook keyboard shortcuts fail.\n",
       "    IPython.keyboard_manager.enable()\n",
       "    $(fig.parent_element).html('<img src=\"' + dataURL + '\" width=\"' + width + '\">');\n",
       "    fig.close_ws(fig, msg);\n",
       "}\n",
       "\n",
       "mpl.figure.prototype.close_ws = function(fig, msg){\n",
       "    fig.send_message('closing', msg);\n",
       "    // fig.ws.close()\n",
       "}\n",
       "\n",
       "mpl.figure.prototype.push_to_output = function(remove_interactive) {\n",
       "    // Turn the data on the canvas into data in the output cell.\n",
       "    var width = this.canvas.width/mpl.ratio\n",
       "    var dataURL = this.canvas.toDataURL();\n",
       "    this.cell_info[1]['text/html'] = '<img src=\"' + dataURL + '\" width=\"' + width + '\">';\n",
       "}\n",
       "\n",
       "mpl.figure.prototype.updated_canvas_event = function() {\n",
       "    // Tell IPython that the notebook contents must change.\n",
       "    IPython.notebook.set_dirty(true);\n",
       "    this.send_message(\"ack\", {});\n",
       "    var fig = this;\n",
       "    // Wait a second, then push the new image to the DOM so\n",
       "    // that it is saved nicely (might be nice to debounce this).\n",
       "    setTimeout(function () { fig.push_to_output() }, 1000);\n",
       "}\n",
       "\n",
       "mpl.figure.prototype._init_toolbar = function() {\n",
       "    var fig = this;\n",
       "\n",
       "    var nav_element = $('<div/>')\n",
       "    nav_element.attr('style', 'width: 100%');\n",
       "    this.root.append(nav_element);\n",
       "\n",
       "    // Define a callback function for later on.\n",
       "    function toolbar_event(event) {\n",
       "        return fig.toolbar_button_onclick(event['data']);\n",
       "    }\n",
       "    function toolbar_mouse_event(event) {\n",
       "        return fig.toolbar_button_onmouseover(event['data']);\n",
       "    }\n",
       "\n",
       "    for(var toolbar_ind in mpl.toolbar_items){\n",
       "        var name = mpl.toolbar_items[toolbar_ind][0];\n",
       "        var tooltip = mpl.toolbar_items[toolbar_ind][1];\n",
       "        var image = mpl.toolbar_items[toolbar_ind][2];\n",
       "        var method_name = mpl.toolbar_items[toolbar_ind][3];\n",
       "\n",
       "        if (!name) { continue; };\n",
       "\n",
       "        var button = $('<button class=\"btn btn-default\" href=\"#\" title=\"' + name + '\"><i class=\"fa ' + image + ' fa-lg\"></i></button>');\n",
       "        button.click(method_name, toolbar_event);\n",
       "        button.mouseover(tooltip, toolbar_mouse_event);\n",
       "        nav_element.append(button);\n",
       "    }\n",
       "\n",
       "    // Add the status bar.\n",
       "    var status_bar = $('<span class=\"mpl-message\" style=\"text-align:right; float: right;\"/>');\n",
       "    nav_element.append(status_bar);\n",
       "    this.message = status_bar[0];\n",
       "\n",
       "    // Add the close button to the window.\n",
       "    var buttongrp = $('<div class=\"btn-group inline pull-right\"></div>');\n",
       "    var button = $('<button class=\"btn btn-mini btn-primary\" href=\"#\" title=\"Stop Interaction\"><i class=\"fa fa-power-off icon-remove icon-large\"></i></button>');\n",
       "    button.click(function (evt) { fig.handle_close(fig, {}); } );\n",
       "    button.mouseover('Stop Interaction', toolbar_mouse_event);\n",
       "    buttongrp.append(button);\n",
       "    var titlebar = this.root.find($('.ui-dialog-titlebar'));\n",
       "    titlebar.prepend(buttongrp);\n",
       "}\n",
       "\n",
       "mpl.figure.prototype._root_extra_style = function(el){\n",
       "    var fig = this\n",
       "    el.on(\"remove\", function(){\n",
       "\tfig.close_ws(fig, {});\n",
       "    });\n",
       "}\n",
       "\n",
       "mpl.figure.prototype._canvas_extra_style = function(el){\n",
       "    // this is important to make the div 'focusable\n",
       "    el.attr('tabindex', 0)\n",
       "    // reach out to IPython and tell the keyboard manager to turn it's self\n",
       "    // off when our div gets focus\n",
       "\n",
       "    // location in version 3\n",
       "    if (IPython.notebook.keyboard_manager) {\n",
       "        IPython.notebook.keyboard_manager.register_events(el);\n",
       "    }\n",
       "    else {\n",
       "        // location in version 2\n",
       "        IPython.keyboard_manager.register_events(el);\n",
       "    }\n",
       "\n",
       "}\n",
       "\n",
       "mpl.figure.prototype._key_event_extra = function(event, name) {\n",
       "    var manager = IPython.notebook.keyboard_manager;\n",
       "    if (!manager)\n",
       "        manager = IPython.keyboard_manager;\n",
       "\n",
       "    // Check for shift+enter\n",
       "    if (event.shiftKey && event.which == 13) {\n",
       "        this.canvas_div.blur();\n",
       "        event.shiftKey = false;\n",
       "        // Send a \"J\" for go to next cell\n",
       "        event.which = 74;\n",
       "        event.keyCode = 74;\n",
       "        manager.command_mode();\n",
       "        manager.handle_keydown(event);\n",
       "    }\n",
       "}\n",
       "\n",
       "mpl.figure.prototype.handle_save = function(fig, msg) {\n",
       "    fig.ondownload(fig, null);\n",
       "}\n",
       "\n",
       "\n",
       "mpl.find_output_cell = function(html_output) {\n",
       "    // Return the cell and output element which can be found *uniquely* in the notebook.\n",
       "    // Note - this is a bit hacky, but it is done because the \"notebook_saving.Notebook\"\n",
       "    // IPython event is triggered only after the cells have been serialised, which for\n",
       "    // our purposes (turning an active figure into a static one), is too late.\n",
       "    var cells = IPython.notebook.get_cells();\n",
       "    var ncells = cells.length;\n",
       "    for (var i=0; i<ncells; i++) {\n",
       "        var cell = cells[i];\n",
       "        if (cell.cell_type === 'code'){\n",
       "            for (var j=0; j<cell.output_area.outputs.length; j++) {\n",
       "                var data = cell.output_area.outputs[j];\n",
       "                if (data.data) {\n",
       "                    // IPython >= 3 moved mimebundle to data attribute of output\n",
       "                    data = data.data;\n",
       "                }\n",
       "                if (data['text/html'] == html_output) {\n",
       "                    return [cell, data, j];\n",
       "                }\n",
       "            }\n",
       "        }\n",
       "    }\n",
       "}\n",
       "\n",
       "// Register the function which deals with the matplotlib target/channel.\n",
       "// The kernel may be null if the page has been refreshed.\n",
       "if (IPython.notebook.kernel != null) {\n",
       "    IPython.notebook.kernel.comm_manager.register_target('matplotlib', mpl.mpl_figure_comm);\n",
       "}\n"
      ],
      "text/plain": [
       "<IPython.core.display.Javascript object>"
      ]
     },
     "metadata": {},
     "output_type": "display_data"
    },
    {
     "data": {
      "text/html": [
       "<img src=\"data:image/png;base64,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\" width=\"639.9999861283738\">"
      ],
      "text/plain": [
       "<IPython.core.display.HTML object>"
      ]
     },
     "metadata": {},
     "output_type": "display_data"
    }
   ],
   "source": [
    "plot_train(history)"
   ]
  },
  {
   "cell_type": "code",
   "execution_count": 42,
   "metadata": {},
   "outputs": [
    {
     "name": "stdout",
     "output_type": "stream",
     "text": [
      "1299/1299 [==============================] - 0s     \n",
      "Model Accuracy = 52.19 %\n",
      "Model Loss = 00.69\n"
     ]
    }
   ],
   "source": [
    "evaluation = model.evaluate(x_test, y_test, batch_size=512)\n",
    "print('Model Accuracy = {:.2f} %'.format(evaluation[1]*100))\n",
    "print('Model Loss = {:05.2f}'.format(evaluation[0]))"
   ]
  },
  {
   "cell_type": "code",
   "execution_count": null,
   "metadata": {
    "collapsed": true
   },
   "outputs": [],
   "source": []
  },
  {
   "cell_type": "code",
   "execution_count": null,
   "metadata": {
    "collapsed": true
   },
   "outputs": [],
   "source": []
  }
 ],
 "metadata": {
  "kernelspec": {
   "display_name": "Python 3",
   "language": "python",
   "name": "python3"
  },
  "language_info": {
   "codemirror_mode": {
    "name": "ipython",
    "version": 3
   },
   "file_extension": ".py",
   "mimetype": "text/x-python",
   "name": "python",
   "nbconvert_exporter": "python",
   "pygments_lexer": "ipython3",
   "version": "3.6.3"
  }
 },
 "nbformat": 4,
 "nbformat_minor": 2
}
