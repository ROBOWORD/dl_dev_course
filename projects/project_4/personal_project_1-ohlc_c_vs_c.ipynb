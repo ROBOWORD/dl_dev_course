{
 "cells": [
  {
   "cell_type": "code",
   "execution_count": 2,
   "metadata": {},
   "outputs": [
    {
     "name": "stderr",
     "output_type": "stream",
     "text": [
      "Using TensorFlow backend.\n"
     ]
    }
   ],
   "source": [
    "import numpy as np\n",
    "import pandas as pd\n",
    "import matplotlib.pyplot as plt\n",
    "import sys\n",
    "\n",
    "import keras\n",
    "from keras.models import Sequential, Model, load_model\n",
    "from keras.layers import Dense, LSTM, Dropout, Input, Activation, TimeDistributed, Flatten, Conv2D\n",
    "from keras.optimizers import RMSprop, Adam\n",
    "\n",
    "from keras.callbacks import ModelCheckpoint\n",
    "from keras.utils import np_utils\n",
    "\n",
    "import tensorflow as tf\n",
    "%matplotlib notebook"
   ]
  },
  {
   "cell_type": "code",
   "execution_count": 3,
   "metadata": {},
   "outputs": [
    {
     "name": "stdout",
     "output_type": "stream",
     "text": [
      "1.13.3\n",
      "0.20.3\n",
      "1.4.0-rc0\n",
      "2.0.8\n"
     ]
    }
   ],
   "source": [
    "print(np.__version__)\n",
    "print(pd.__version__)\n",
    "print(tf.__version__)\n",
    "print(keras.__version__)"
   ]
  },
  {
   "cell_type": "raw",
   "metadata": {
    "collapsed": true
   },
   "source": [
    "def normalise_windows(window_data):\n",
    "    normalised_data = []\n",
    "    for window in window_data:\n",
    "        normalised_window = [((float(p) / float(window[0])) - 1) for p in window]\n",
    "        normalised_data.append(normalised_window)\n",
    "    return normalised_data\n",
    "\n",
    "def normalise_windows2(window_data):\n",
    "    normalised_wk = []\n",
    "    w0 = window_data[0][0]\n",
    "    for day in window_data:\n",
    "        normalised_day = []\n",
    "        for d in day:\n",
    "            normalised_window = [((float(p) / w0) - 1) for p in d]\n",
    "            normalised_day.append(normalised_window)\n",
    "        normalised_wk.append(normalised_day)\n",
    "    return normalised_wk\n",
    "\n",
    "def normalize_window3(window_data):\n",
    "    for w in window_data:\n",
    "        w/=w[0][0]\n",
    "        w -= 1"
   ]
  },
  {
   "cell_type": "code",
   "execution_count": 4,
   "metadata": {
    "collapsed": true
   },
   "outputs": [],
   "source": [
    "#f = open('sp500.csv', 'rb').read()\n",
    "#data = f.decode().split('\\n')def updown(a,b):"
   ]
  },
  {
   "cell_type": "code",
   "execution_count": 5,
   "metadata": {},
   "outputs": [
    {
     "data": {
      "text/plain": [
       "8260"
      ]
     },
     "execution_count": 5,
     "metadata": {},
     "output_type": "execute_result"
    }
   ],
   "source": [
    "\n",
    "# load csv as np array\n",
    "raw = np.loadtxt(open('./data_mkt/DJI-ohlc.csv'), delimiter=',')\n",
    "len(raw)"
   ]
  },
  {
   "cell_type": "code",
   "execution_count": 6,
   "metadata": {},
   "outputs": [
    {
     "data": {
      "text/plain": [
       "(numpy.ndarray,\n",
       " 4,\n",
       " array([ 1277.719971,  1295.48999 ,  1266.890015,  1292.619995]),\n",
       " array([ 23442.900391,  23517.710938,  23388.910156,  23435.009766]))"
      ]
     },
     "execution_count": 6,
     "metadata": {},
     "output_type": "execute_result"
    }
   ],
   "source": [
    "type(raw), len(raw[0]), raw[0], raw[-1]"
   ]
  },
  {
   "cell_type": "code",
   "execution_count": 7,
   "metadata": {
    "collapsed": true
   },
   "outputs": [],
   "source": [
    "# create list of sequences/window of length seqlen\n",
    "# set sequence length\n",
    "seqlen = 10\n",
    "winraw = []\n",
    "for i in range(len(raw)-seqlen):\n",
    "    winraw.append(raw[i:i+seqlen,:])"
   ]
  },
  {
   "cell_type": "code",
   "execution_count": 8,
   "metadata": {
    "collapsed": true
   },
   "outputs": [],
   "source": [
    "# convert winraw to np.array\n",
    "wr = np.array(winraw)"
   ]
  },
  {
   "cell_type": "code",
   "execution_count": 9,
   "metadata": {},
   "outputs": [
    {
     "data": {
      "text/plain": [
       "(array([[ 1277.719971,  1295.48999 ,  1266.890015,  1292.619995],\n",
       "        [ 1297.369995,  1305.099976,  1278.930054,  1287.880005],\n",
       "        [ 1283.23999 ,  1293.400024,  1272.640015,  1286.77002 ],\n",
       "        [ 1276.939941,  1286.109985,  1269.77002 ,  1277.719971],\n",
       "        [ 1272.079956,  1294.939941,  1268.98999 ,  1290.079956],\n",
       "        [ 1294.060059,  1301.130005,  1278.599976,  1285.22998 ],\n",
       "        [ 1284.890015,  1294.5     ,  1275.069946,  1280.589966],\n",
       "        [ 1285.      ,  1297.040039,  1279.810059,  1290.079956],\n",
       "        [ 1290.079956,  1297.150024,  1281.359985,  1289.969971],\n",
       "        [ 1287.98999 ,  1291.73999 ,  1268.660034,  1276.060059]]),\n",
       " 8250,\n",
       " 10,\n",
       " numpy.ndarray)"
      ]
     },
     "execution_count": 9,
     "metadata": {},
     "output_type": "execute_result"
    }
   ],
   "source": [
    "wr[0],len(wr), len(wr[0]),type(wr)"
   ]
  },
  {
   "cell_type": "code",
   "execution_count": 10,
   "metadata": {},
   "outputs": [
    {
     "data": {
      "text/plain": [
       "array([ True,  True,  True,  True], dtype=bool)"
      ]
     },
     "execution_count": 10,
     "metadata": {},
     "output_type": "execute_result"
    }
   ],
   "source": [
    "winraw[-1][-1] == raw[-2]"
   ]
  },
  {
   "cell_type": "code",
   "execution_count": 11,
   "metadata": {},
   "outputs": [
    {
     "data": {
      "text/plain": [
       "(array([[ 1277.719971,  1295.48999 ,  1266.890015,  1292.619995],\n",
       "        [ 1297.369995,  1305.099976,  1278.930054,  1287.880005],\n",
       "        [ 1283.23999 ,  1293.400024,  1272.640015,  1286.77002 ],\n",
       "        [ 1276.939941,  1286.109985,  1269.77002 ,  1277.719971],\n",
       "        [ 1272.079956,  1294.939941,  1268.98999 ,  1290.079956],\n",
       "        [ 1294.060059,  1301.130005,  1278.599976,  1285.22998 ],\n",
       "        [ 1284.890015,  1294.5     ,  1275.069946,  1280.589966],\n",
       "        [ 1285.      ,  1297.040039,  1279.810059,  1290.079956],\n",
       "        [ 1290.079956,  1297.150024,  1281.359985,  1289.969971],\n",
       "        [ 1287.98999 ,  1291.73999 ,  1268.660034,  1276.060059]]),\n",
       " 1276.0600589999999,\n",
       " 1277.719971)"
      ]
     },
     "execution_count": 11,
     "metadata": {},
     "output_type": "execute_result"
    }
   ],
   "source": [
    "zz = 0\n",
    "wr[zz], wr[zz][-1][-1],wr[zz][0][0]"
   ]
  },
  {
   "cell_type": "code",
   "execution_count": 12,
   "metadata": {},
   "outputs": [
    {
     "data": {
      "text/plain": [
       "1292.619995"
      ]
     },
     "execution_count": 12,
     "metadata": {},
     "output_type": "execute_result"
    }
   ],
   "source": [
    "raw[0][-1]"
   ]
  },
  {
   "cell_type": "code",
   "execution_count": 13,
   "metadata": {
    "collapsed": true
   },
   "outputs": [],
   "source": [
    "# Helper functions\n",
    "def updown(a,b):\n",
    "    # test if next time step is higher or lower\n",
    "    if a < b:\n",
    "        return 1\n",
    "    else:\n",
    "        return 0"
   ]
  },
  {
   "cell_type": "code",
   "execution_count": 18,
   "metadata": {},
   "outputs": [
    {
     "data": {
      "text/plain": [
       "(8250, 1)"
      ]
     },
     "execution_count": 18,
     "metadata": {},
     "output_type": "execute_result"
    }
   ],
   "source": [
    "# create y values, up or down of next time step\n",
    "#yr = []\n",
    "#for w in wr:\n",
    "#    yr.append(updown(w[-1][-1],\n",
    "#                       (w+1)[0][0]))\n",
    "# create y values, up or down of next time step after last time step of a window\n",
    "y = []\n",
    "for w in range(len(raw)):\n",
    "    w_a = raw[w-1][-1]\n",
    "    w_b = raw[w][-1]\n",
    "    #print(w_a[-1],type(w_a[-1]))\n",
    "    #print(w_b[-1])\n",
    "    check_updown = updown(w_a,\n",
    "                          w_b)\n",
    "    y.append(check_updown)\n",
    "y=y[seqlen:]\n",
    "len(y)"
   ]
  },
  {
   "cell_type": "code",
   "execution_count": 15,
   "metadata": {},
   "outputs": [
    {
     "data": {
      "text/plain": [
       "(8250, 1, 1)"
      ]
     },
     "execution_count": 15,
     "metadata": {},
     "output_type": "execute_result"
    }
   ],
   "source": [
    "len(y), y[0], y[-1]\n"
   ]
  },
  {
   "cell_type": "code",
   "execution_count": 28,
   "metadata": {},
   "outputs": [
    {
     "name": "stdout",
     "output_type": "stream",
     "text": [
      "[[ 2222.860107  2235.        2210.540039  2226.070068]\n",
      " [ 2223.389893  2236.25      2215.360107  2224.639893]\n",
      " [ 2217.139893  2227.5       2203.75      2214.639893]\n",
      " [ 2216.070068  2247.320068  2202.5       2238.75    ]\n",
      " [ 2241.25      2254.639893  2225.709961  2239.110107]\n",
      " [ 2236.610107  2249.459961  2221.25      2235.360107]\n",
      " [ 2238.929932  2254.639893  2214.290039  2218.389893]\n",
      " [ 2220.889893  2264.820068  2214.820068  2256.429932]\n",
      " [ 2260.709961  2277.679932  2242.320068  2265.889893]\n",
      " [ 2261.610107  2303.570068  2252.860107  2291.070068]] 2291.070068\n",
      "1\n",
      "[[ 2223.389893  2236.25      2215.360107  2224.639893]\n",
      " [ 2217.139893  2227.5       2203.75      2214.639893]\n",
      " [ 2216.070068  2247.320068  2202.5       2238.75    ]\n",
      " [ 2241.25      2254.639893  2225.709961  2239.110107]\n",
      " [ 2236.610107  2249.459961  2221.25      2235.360107]\n",
      " [ 2238.929932  2254.639893  2214.290039  2218.389893]\n",
      " [ 2220.889893  2264.820068  2214.820068  2256.429932]\n",
      " [ 2260.709961  2277.679932  2242.320068  2265.889893]\n",
      " [ 2261.610107  2303.570068  2252.860107  2291.070068]\n",
      " [ 2307.320068  2349.639893  2295.179932  2322.860107]] 2322.860107\n"
     ]
    }
   ],
   "source": [
    "# check y against wr values\n",
    "z = 1000\n",
    "\n",
    "print(wr[z],wr[z][-1][-1])\n",
    "#print(rawwin[z][0])\n",
    "print(y[z])\n",
    "print(wr[z+1],wr[z+1][-1][-1])"
   ]
  },
  {
   "cell_type": "code",
   "execution_count": 101,
   "metadata": {},
   "outputs": [
    {
     "data": {
      "text/plain": [
       "True"
      ]
     },
     "execution_count": 101,
     "metadata": {},
     "output_type": "execute_result"
    }
   ],
   "source": [
    "len(wr)==len(y)"
   ]
  },
  {
   "cell_type": "code",
   "execution_count": 102,
   "metadata": {},
   "outputs": [
    {
     "data": {
      "text/plain": [
       "(array([[ 1277.719971,  1295.48999 ,  1266.890015,  1292.619995],\n",
       "        [ 1297.369995,  1305.099976,  1278.930054,  1287.880005],\n",
       "        [ 1283.23999 ,  1293.400024,  1272.640015,  1286.77002 ],\n",
       "        [ 1276.939941,  1286.109985,  1269.77002 ,  1277.719971],\n",
       "        [ 1272.079956,  1294.939941,  1268.98999 ,  1290.079956],\n",
       "        [ 1294.060059,  1301.130005,  1278.599976,  1285.22998 ],\n",
       "        [ 1284.890015,  1294.5     ,  1275.069946,  1280.589966],\n",
       "        [ 1285.      ,  1297.040039,  1279.810059,  1290.079956],\n",
       "        [ 1290.079956,  1297.150024,  1281.359985,  1289.969971],\n",
       "        [ 1287.98999 ,  1291.73999 ,  1268.660034,  1276.060059]]), 10)"
      ]
     },
     "execution_count": 102,
     "metadata": {},
     "output_type": "execute_result"
    }
   ],
   "source": [
    "wr[0], len(wr[0])"
   ]
  },
  {
   "cell_type": "code",
   "execution_count": 103,
   "metadata": {},
   "outputs": [
    {
     "data": {
      "text/plain": [
       "((8250, 10, 4), numpy.ndarray)"
      ]
     },
     "execution_count": 103,
     "metadata": {},
     "output_type": "execute_result"
    }
   ],
   "source": [
    "wr.shape, type(wr)"
   ]
  },
  {
   "cell_type": "code",
   "execution_count": 104,
   "metadata": {
    "collapsed": true
   },
   "outputs": [],
   "source": [
    "winarr = np.array(wr)\n",
    "#winnorm = normalize_window3(winarr)"
   ]
  },
  {
   "cell_type": "code",
   "execution_count": 105,
   "metadata": {},
   "outputs": [
    {
     "data": {
      "text/plain": [
       "((8250, 10, 4), numpy.ndarray, numpy.ndarray, numpy.ndarray, numpy.float64)"
      ]
     },
     "execution_count": 105,
     "metadata": {},
     "output_type": "execute_result"
    }
   ],
   "source": [
    "winarr.shape,type(winarr),type(winarr[0]),type(winarr[0][0]),type(winarr[0][0][0])"
   ]
  },
  {
   "cell_type": "code",
   "execution_count": 106,
   "metadata": {},
   "outputs": [
    {
     "data": {
      "text/plain": [
       "(array([[ 1277.719971,  1295.48999 ,  1266.890015,  1292.619995],\n",
       "        [ 1297.369995,  1305.099976,  1278.930054,  1287.880005],\n",
       "        [ 1283.23999 ,  1293.400024,  1272.640015,  1286.77002 ],\n",
       "        [ 1276.939941,  1286.109985,  1269.77002 ,  1277.719971],\n",
       "        [ 1272.079956,  1294.939941,  1268.98999 ,  1290.079956],\n",
       "        [ 1294.060059,  1301.130005,  1278.599976,  1285.22998 ],\n",
       "        [ 1284.890015,  1294.5     ,  1275.069946,  1280.589966],\n",
       "        [ 1285.      ,  1297.040039,  1279.810059,  1290.079956],\n",
       "        [ 1290.079956,  1297.150024,  1281.359985,  1289.969971],\n",
       "        [ 1287.98999 ,  1291.73999 ,  1268.660034,  1276.060059]]),\n",
       " 1277.719971)"
      ]
     },
     "execution_count": 106,
     "metadata": {},
     "output_type": "execute_result"
    }
   ],
   "source": [
    "winarr[0],winarr[0][0][0]"
   ]
  },
  {
   "cell_type": "code",
   "execution_count": 107,
   "metadata": {
    "collapsed": true
   },
   "outputs": [],
   "source": [
    "# normalize X\n",
    "for w in winarr:\n",
    "    #print(w[0][0])\n",
    "    w/=w[0][0]\n",
    "    w -= 1"
   ]
  },
  {
   "cell_type": "code",
   "execution_count": 108,
   "metadata": {},
   "outputs": [
    {
     "data": {
      "text/plain": [
       "array([[  0.00000000e+00,   3.71630540e-03,  -1.64965929e-05,\n",
       "          3.05229569e-03],\n",
       "       [  8.81003539e-04,   3.46987140e-03,  -1.49264702e-03,\n",
       "          3.28790115e-03],\n",
       "       [  5.11318750e-03,   1.04694250e-02,   4.96590238e-03,\n",
       "          1.04603730e-02],\n",
       "       [  1.13404460e-02,   1.21816038e-02,   8.09239052e-03,\n",
       "          8.09239052e-03],\n",
       "       [  1.12464576e-02,   1.72442017e-02,   1.10927430e-02,\n",
       "          1.53604581e-02],\n",
       "       [  1.48982993e-02,   1.57827713e-02,   7.10259395e-03,\n",
       "          1.04963272e-02],\n",
       "       [  1.27239616e-02,   1.61435818e-02,   1.27239616e-02,\n",
       "          1.35888915e-02],\n",
       "       [  1.43815747e-02,   1.56914055e-02,   1.15228392e-02,\n",
       "          1.50325563e-02],\n",
       "       [  1.38007249e-02,   1.47969509e-02,   1.04273798e-02,\n",
       "          1.13313940e-02],\n",
       "       [  1.22184885e-02,   1.38266964e-02,   1.07098525e-02,\n",
       "          1.25658479e-02]])"
      ]
     },
     "execution_count": 108,
     "metadata": {},
     "output_type": "execute_result"
    }
   ],
   "source": [
    "winarr[-1]"
   ]
  },
  {
   "cell_type": "code",
   "execution_count": 109,
   "metadata": {},
   "outputs": [
    {
     "data": {
      "text/plain": [
       "(8250, 10, 4)"
      ]
     },
     "execution_count": 109,
     "metadata": {},
     "output_type": "execute_result"
    }
   ],
   "source": [
    "winarr.shape"
   ]
  },
  {
   "cell_type": "code",
   "execution_count": 110,
   "metadata": {},
   "outputs": [
    {
     "data": {
      "text/plain": [
       "(numpy.ndarray, list, numpy.ndarray)"
      ]
     },
     "execution_count": 110,
     "metadata": {},
     "output_type": "execute_result"
    }
   ],
   "source": [
    "type(winarr), type(y), type(wr)"
   ]
  },
  {
   "cell_type": "code",
   "execution_count": 111,
   "metadata": {
    "collapsed": true
   },
   "outputs": [],
   "source": [
    "# convert yr and winnorm to np.array\n",
    "yarr = np.array(y)\n",
    "#winnormarr = np.array(winnorm)"
   ]
  },
  {
   "cell_type": "code",
   "execution_count": 112,
   "metadata": {},
   "outputs": [
    {
     "data": {
      "text/plain": [
       "(numpy.ndarray, numpy.ndarray, numpy.ndarray)"
      ]
     },
     "execution_count": 112,
     "metadata": {},
     "output_type": "execute_result"
    }
   ],
   "source": [
    "type(winarr), type(yarr), type(wr)"
   ]
  },
  {
   "cell_type": "code",
   "execution_count": 113,
   "metadata": {},
   "outputs": [
    {
     "data": {
      "text/plain": [
       "((8250,), (8250, 10, 4))"
      ]
     },
     "execution_count": 113,
     "metadata": {},
     "output_type": "execute_result"
    }
   ],
   "source": [
    "yarr.shape, winarr.shape"
   ]
  },
  {
   "cell_type": "code",
   "execution_count": 114,
   "metadata": {},
   "outputs": [
    {
     "data": {
      "text/plain": [
       "((8250, 1), (8250, 10, 4))"
      ]
     },
     "execution_count": 114,
     "metadata": {},
     "output_type": "execute_result"
    }
   ],
   "source": [
    "# concat y to winnorm(x)\n",
    "yarr = np.reshape(yarr,(yarr.shape[0],1))\n",
    "yarr.shape, winarr.shape"
   ]
  },
  {
   "cell_type": "code",
   "execution_count": 115,
   "metadata": {
    "collapsed": true
   },
   "outputs": [],
   "source": [
    "def unison_shuffled_copies(a, b):\n",
    "    assert len(a) == len(b)\n",
    "    p = np.random.permutation(len(a))\n",
    "    return a[p], b[p]\n",
    "#x_data,y_data = unison_shuffled_copies(x_data,y_data)"
   ]
  },
  {
   "cell_type": "code",
   "execution_count": 116,
   "metadata": {
    "collapsed": true
   },
   "outputs": [],
   "source": [
    "row = round(0.9 * winarr.shape[0])"
   ]
  },
  {
   "cell_type": "code",
   "execution_count": 117,
   "metadata": {
    "collapsed": true
   },
   "outputs": [],
   "source": [
    "#train = winnormarr[:int(row), :]"
   ]
  },
  {
   "cell_type": "code",
   "execution_count": 118,
   "metadata": {
    "collapsed": true
   },
   "outputs": [],
   "source": [
    "#np.random.shuffle(train)"
   ]
  },
  {
   "cell_type": "code",
   "execution_count": 119,
   "metadata": {
    "collapsed": true
   },
   "outputs": [],
   "source": [
    "x_train = winarr[:row]\n",
    "y_train = yarr[:row]"
   ]
  },
  {
   "cell_type": "code",
   "execution_count": 121,
   "metadata": {
    "collapsed": true
   },
   "outputs": [],
   "source": [
    "x_test = winarr[int(row):]\n",
    "y_test = yarr[int(row):]"
   ]
  },
  {
   "cell_type": "code",
   "execution_count": 122,
   "metadata": {},
   "outputs": [
    {
     "data": {
      "text/plain": [
       "((7425, 10, 4), (7425, 1), (825, 10, 4), (825, 1))"
      ]
     },
     "execution_count": 122,
     "metadata": {},
     "output_type": "execute_result"
    }
   ],
   "source": [
    "x_train.shape,y_train.shape, x_test.shape, y_test.shape"
   ]
  },
  {
   "cell_type": "code",
   "execution_count": 123,
   "metadata": {
    "collapsed": true
   },
   "outputs": [],
   "source": [
    "x_train = np.reshape(x_train, (x_train.shape[0], x_train.shape[1], x_train.shape[2]))\n",
    "x_test = np.reshape(x_test, (x_test.shape[0], x_test.shape[1], x_test.shape[2])) "
   ]
  },
  {
   "cell_type": "code",
   "execution_count": 124,
   "metadata": {},
   "outputs": [
    {
     "data": {
      "text/plain": [
       "((7425, 10, 4), (7425, 1), (825, 10, 4), (825, 1))"
      ]
     },
     "execution_count": 124,
     "metadata": {},
     "output_type": "execute_result"
    }
   ],
   "source": [
    "x_train.shape, y_train.shape, x_test.shape, y_test.shape"
   ]
  },
  {
   "cell_type": "code",
   "execution_count": 125,
   "metadata": {},
   "outputs": [
    {
     "name": "stdout",
     "output_type": "stream",
     "text": [
      "(10, 4)\n"
     ]
    }
   ],
   "source": [
    "inputshape = ( x_train.shape[1], x_train.shape[2]) #,x_train.shape[3])\n",
    "print(inputshape)"
   ]
  },
  {
   "cell_type": "code",
   "execution_count": 126,
   "metadata": {
    "collapsed": true
   },
   "outputs": [],
   "source": [
    "# define the input shape\n",
    "inp = Input(shape=inputshape)"
   ]
  },
  {
   "cell_type": "code",
   "execution_count": 127,
   "metadata": {
    "collapsed": true
   },
   "outputs": [],
   "source": [
    "\n",
    "#print('our input shape is ',(x_train.shape[1], x_train.shape[2]) )\n",
    "#x = TimeDistributed(Conv2D(32,(2,2), activation='relu'))(inp)\n",
    "#x = TimeDistributed(Flatten())(x)\n",
    "\n",
    "x = LSTM(32, return_sequences = True)(inp) \n",
    "#x = Dropout(0.2)(x)\n",
    "x = LSTM(64, return_sequences = False)(x)\n",
    "#x = Dropout(0.2)(x)\n",
    "\n",
    "#x = TimeDistributed(Conv2D(32,(2,2), activation='relu')0)(x)\n",
    "x = Dropout(0.2)(x)\n",
    "#x = Flatten()(x)\n",
    "output = Dense(1, activation ='sigmoid')(x)\n",
    "\n",
    "model = Model(inputs = inp, outputs=output )"
   ]
  },
  {
   "cell_type": "code",
   "execution_count": 128,
   "metadata": {
    "collapsed": true
   },
   "outputs": [],
   "source": [
    "#optimizer = RMSprop(lr=0.01)\n",
    "model.compile(loss='binary_crossentropy', optimizer='adam', metrics=['accuracy'])"
   ]
  },
  {
   "cell_type": "code",
   "execution_count": 129,
   "metadata": {},
   "outputs": [
    {
     "name": "stdout",
     "output_type": "stream",
     "text": [
      "_________________________________________________________________\n",
      "Layer (type)                 Output Shape              Param #   \n",
      "=================================================================\n",
      "input_3 (InputLayer)         (None, 10, 4)             0         \n",
      "_________________________________________________________________\n",
      "lstm_5 (LSTM)                (None, 10, 32)            4736      \n",
      "_________________________________________________________________\n",
      "lstm_6 (LSTM)                (None, 64)                24832     \n",
      "_________________________________________________________________\n",
      "dropout_3 (Dropout)          (None, 64)                0         \n",
      "_________________________________________________________________\n",
      "dense_3 (Dense)              (None, 1)                 65        \n",
      "=================================================================\n",
      "Total params: 29,633\n",
      "Trainable params: 29,633\n",
      "Non-trainable params: 0\n",
      "_________________________________________________________________\n"
     ]
    }
   ],
   "source": [
    "model.summary()"
   ]
  },
  {
   "cell_type": "code",
   "execution_count": 131,
   "metadata": {},
   "outputs": [
    {
     "name": "stdout",
     "output_type": "stream",
     "text": [
      "Train on 7425 samples, validate on 825 samples\n",
      "Epoch 1/100\n",
      "7425/7425 [==============================] - 2s - loss: 0.6915 - acc: 0.5323 - val_loss: 0.6914 - val_acc: 0.5309\n",
      "Epoch 2/100\n",
      "7425/7425 [==============================] - 2s - loss: 0.6913 - acc: 0.5323 - val_loss: 0.6914 - val_acc: 0.5309\n",
      "Epoch 3/100\n",
      "7425/7425 [==============================] - 2s - loss: 0.6914 - acc: 0.5323 - val_loss: 0.6914 - val_acc: 0.5309\n",
      "Epoch 4/100\n",
      "7425/7425 [==============================] - 2s - loss: 0.6912 - acc: 0.5323 - val_loss: 0.6914 - val_acc: 0.5309\n",
      "Epoch 5/100\n",
      "7425/7425 [==============================] - 2s - loss: 0.6912 - acc: 0.5323 - val_loss: 0.6915 - val_acc: 0.5309\n",
      "Epoch 6/100\n",
      "7425/7425 [==============================] - 2s - loss: 0.6913 - acc: 0.5325 - val_loss: 0.6916 - val_acc: 0.5309\n",
      "Epoch 7/100\n",
      "7425/7425 [==============================] - 2s - loss: 0.6911 - acc: 0.5323 - val_loss: 0.6915 - val_acc: 0.5309\n",
      "Epoch 8/100\n",
      "7425/7425 [==============================] - 2s - loss: 0.6912 - acc: 0.5323 - val_loss: 0.6917 - val_acc: 0.5309\n",
      "Epoch 9/100\n",
      "7425/7425 [==============================] - 2s - loss: 0.6913 - acc: 0.5320 - val_loss: 0.6916 - val_acc: 0.5309\n",
      "Epoch 10/100\n",
      "7425/7425 [==============================] - 2s - loss: 0.6912 - acc: 0.5325 - val_loss: 0.6916 - val_acc: 0.5309\n",
      "Epoch 11/100\n",
      "7425/7425 [==============================] - 2s - loss: 0.6910 - acc: 0.5324 - val_loss: 0.6917 - val_acc: 0.5309\n",
      "Epoch 12/100\n",
      "7425/7425 [==============================] - 2s - loss: 0.6912 - acc: 0.5328 - val_loss: 0.6918 - val_acc: 0.5309\n",
      "Epoch 13/100\n",
      "7425/7425 [==============================] - 2s - loss: 0.6912 - acc: 0.5323 - val_loss: 0.6918 - val_acc: 0.5309\n",
      "Epoch 14/100\n",
      "7425/7425 [==============================] - 2s - loss: 0.6911 - acc: 0.5323 - val_loss: 0.6918 - val_acc: 0.5309\n",
      "Epoch 15/100\n",
      "7425/7425 [==============================] - 2s - loss: 0.6910 - acc: 0.5321 - val_loss: 0.6918 - val_acc: 0.5309\n",
      "Epoch 16/100\n",
      "7425/7425 [==============================] - 2s - loss: 0.6912 - acc: 0.5337 - val_loss: 0.6919 - val_acc: 0.5309\n",
      "Epoch 17/100\n",
      "7425/7425 [==============================] - 2s - loss: 0.6912 - acc: 0.5325 - val_loss: 0.6918 - val_acc: 0.5309\n",
      "Epoch 18/100\n",
      "7425/7425 [==============================] - 2s - loss: 0.6911 - acc: 0.5323 - val_loss: 0.6920 - val_acc: 0.5309\n",
      "Epoch 19/100\n",
      "7425/7425 [==============================] - 2s - loss: 0.6909 - acc: 0.5325 - val_loss: 0.6920 - val_acc: 0.5309\n",
      "Epoch 20/100\n",
      "7425/7425 [==============================] - 2s - loss: 0.6910 - acc: 0.5319 - val_loss: 0.6919 - val_acc: 0.5309\n",
      "Epoch 21/100\n",
      "7425/7425 [==============================] - 2s - loss: 0.6911 - acc: 0.5328 - val_loss: 0.6920 - val_acc: 0.5309\n",
      "Epoch 22/100\n",
      "7425/7425 [==============================] - 2s - loss: 0.6910 - acc: 0.5339 - val_loss: 0.6920 - val_acc: 0.5309\n",
      "Epoch 23/100\n",
      "7425/7425 [==============================] - 2s - loss: 0.6911 - acc: 0.5325 - val_loss: 0.6920 - val_acc: 0.5309\n",
      "Epoch 24/100\n",
      "7425/7425 [==============================] - 2s - loss: 0.6911 - acc: 0.5314 - val_loss: 0.6922 - val_acc: 0.5309\n",
      "Epoch 25/100\n",
      "7425/7425 [==============================] - 2s - loss: 0.6911 - acc: 0.5323 - val_loss: 0.6921 - val_acc: 0.5309\n",
      "Epoch 26/100\n",
      "7425/7425 [==============================] - 2s - loss: 0.6910 - acc: 0.5319 - val_loss: 0.6921 - val_acc: 0.5309\n",
      "Epoch 27/100\n",
      "7425/7425 [==============================] - 2s - loss: 0.6912 - acc: 0.5310 - val_loss: 0.6921 - val_acc: 0.5309\n",
      "Epoch 28/100\n",
      "7425/7425 [==============================] - 2s - loss: 0.6910 - acc: 0.5328 - val_loss: 0.6920 - val_acc: 0.5309\n",
      "Epoch 29/100\n",
      "7425/7425 [==============================] - 3s - loss: 0.6910 - acc: 0.5310 - val_loss: 0.6921 - val_acc: 0.5309\n",
      "Epoch 30/100\n",
      "7425/7425 [==============================] - 3s - loss: 0.6909 - acc: 0.5306 - val_loss: 0.6922 - val_acc: 0.5309\n",
      "Epoch 31/100\n",
      "7425/7425 [==============================] - 3s - loss: 0.6909 - acc: 0.5320 - val_loss: 0.6921 - val_acc: 0.5309\n",
      "Epoch 32/100\n",
      "7425/7425 [==============================] - 3s - loss: 0.6909 - acc: 0.5323 - val_loss: 0.6921 - val_acc: 0.5309\n",
      "Epoch 33/100\n",
      "7425/7425 [==============================] - 3s - loss: 0.6911 - acc: 0.5325 - val_loss: 0.6923 - val_acc: 0.5309\n",
      "Epoch 34/100\n",
      "7425/7425 [==============================] - 3s - loss: 0.6909 - acc: 0.5314 - val_loss: 0.6922 - val_acc: 0.5309\n",
      "Epoch 35/100\n",
      "7425/7425 [==============================] - 3s - loss: 0.6910 - acc: 0.5325 - val_loss: 0.6923 - val_acc: 0.5309\n",
      "Epoch 36/100\n",
      "7425/7425 [==============================] - 2s - loss: 0.6912 - acc: 0.5325 - val_loss: 0.6922 - val_acc: 0.5309\n",
      "Epoch 37/100\n",
      "7425/7425 [==============================] - 2s - loss: 0.6910 - acc: 0.5314 - val_loss: 0.6921 - val_acc: 0.5309\n",
      "Epoch 38/100\n",
      "7425/7425 [==============================] - 2s - loss: 0.6910 - acc: 0.5316 - val_loss: 0.6922 - val_acc: 0.5309\n",
      "Epoch 39/100\n",
      "7425/7425 [==============================] - 2s - loss: 0.6911 - acc: 0.5324 - val_loss: 0.6923 - val_acc: 0.5309\n",
      "Epoch 40/100\n",
      "7425/7425 [==============================] - 3s - loss: 0.6908 - acc: 0.5319 - val_loss: 0.6925 - val_acc: 0.5333\n",
      "Epoch 41/100\n",
      "7425/7425 [==============================] - 3s - loss: 0.6909 - acc: 0.5324 - val_loss: 0.6921 - val_acc: 0.5309\n",
      "Epoch 42/100\n",
      "7425/7425 [==============================] - 3s - loss: 0.6909 - acc: 0.5331 - val_loss: 0.6922 - val_acc: 0.5309\n",
      "Epoch 43/100\n",
      "7425/7425 [==============================] - 3s - loss: 0.6906 - acc: 0.5317 - val_loss: 0.6924 - val_acc: 0.5309\n",
      "Epoch 44/100\n",
      "7425/7425 [==============================] - 2s - loss: 0.6906 - acc: 0.5308 - val_loss: 0.6921 - val_acc: 0.5309\n",
      "Epoch 45/100\n",
      "7425/7425 [==============================] - 2s - loss: 0.6909 - acc: 0.5306 - val_loss: 0.6923 - val_acc: 0.5309\n",
      "Epoch 46/100\n",
      "7425/7425 [==============================] - 3s - loss: 0.6909 - acc: 0.5324 - val_loss: 0.6928 - val_acc: 0.5309\n",
      "Epoch 47/100\n",
      "7425/7425 [==============================] - 2s - loss: 0.6909 - acc: 0.5335 - val_loss: 0.6927 - val_acc: 0.5321\n",
      "Epoch 48/100\n",
      "7425/7425 [==============================] - 2s - loss: 0.6910 - acc: 0.5325 - val_loss: 0.6926 - val_acc: 0.5321\n",
      "Epoch 49/100\n",
      "7425/7425 [==============================] - 2s - loss: 0.6906 - acc: 0.5321 - val_loss: 0.6927 - val_acc: 0.5333\n",
      "Epoch 50/100\n",
      "7425/7425 [==============================] - 2s - loss: 0.6910 - acc: 0.5331 - val_loss: 0.6924 - val_acc: 0.5309\n",
      "Epoch 51/100\n",
      "7425/7425 [==============================] - 2s - loss: 0.6909 - acc: 0.5336 - val_loss: 0.6925 - val_acc: 0.5309\n",
      "Epoch 52/100\n",
      "7425/7425 [==============================] - 2s - loss: 0.6910 - acc: 0.5325 - val_loss: 0.6926 - val_acc: 0.5321\n",
      "Epoch 53/100\n",
      "7425/7425 [==============================] - 2s - loss: 0.6909 - acc: 0.5321 - val_loss: 0.6926 - val_acc: 0.5309\n",
      "Epoch 54/100\n",
      "7425/7425 [==============================] - 2s - loss: 0.6908 - acc: 0.5297 - val_loss: 0.6931 - val_acc: 0.5333\n",
      "Epoch 55/100\n",
      "7425/7425 [==============================] - 2s - loss: 0.6908 - acc: 0.5341 - val_loss: 0.6924 - val_acc: 0.5309\n",
      "Epoch 56/100\n",
      "7425/7425 [==============================] - 2s - loss: 0.6912 - acc: 0.5314 - val_loss: 0.6924 - val_acc: 0.5309\n",
      "Epoch 57/100\n",
      "7425/7425 [==============================] - 2s - loss: 0.6907 - acc: 0.5324 - val_loss: 0.6922 - val_acc: 0.5309\n",
      "Epoch 58/100\n",
      "7425/7425 [==============================] - 2s - loss: 0.6908 - acc: 0.5339 - val_loss: 0.6924 - val_acc: 0.5309\n",
      "Epoch 59/100\n",
      "7425/7425 [==============================] - 2s - loss: 0.6908 - acc: 0.5323 - val_loss: 0.6924 - val_acc: 0.5309\n",
      "Epoch 60/100\n",
      "7425/7425 [==============================] - 2s - loss: 0.6908 - acc: 0.5319 - val_loss: 0.6927 - val_acc: 0.5333\n",
      "Epoch 61/100\n",
      "7425/7425 [==============================] - 2s - loss: 0.6909 - acc: 0.5313 - val_loss: 0.6923 - val_acc: 0.5309\n",
      "Epoch 62/100\n",
      "7425/7425 [==============================] - 2s - loss: 0.6908 - acc: 0.5325 - val_loss: 0.6923 - val_acc: 0.5321\n",
      "Epoch 63/100\n",
      "7425/7425 [==============================] - 3s - loss: 0.6905 - acc: 0.5323 - val_loss: 0.6923 - val_acc: 0.5309\n",
      "Epoch 64/100\n",
      "7425/7425 [==============================] - 2s - loss: 0.6909 - acc: 0.5327 - val_loss: 0.6923 - val_acc: 0.5309\n",
      "Epoch 65/100\n",
      "7425/7425 [==============================] - 2s - loss: 0.6906 - acc: 0.5329 - val_loss: 0.6925 - val_acc: 0.5309\n",
      "Epoch 66/100\n",
      "7425/7425 [==============================] - 2s - loss: 0.6907 - acc: 0.5337 - val_loss: 0.6926 - val_acc: 0.5333\n",
      "Epoch 67/100\n",
      "7425/7425 [==============================] - 2s - loss: 0.6906 - acc: 0.5328 - val_loss: 0.6923 - val_acc: 0.5309\n",
      "Epoch 68/100\n",
      "7425/7425 [==============================] - 2s - loss: 0.6906 - acc: 0.5358 - val_loss: 0.6925 - val_acc: 0.5309\n",
      "Epoch 69/100\n",
      "7425/7425 [==============================] - 2s - loss: 0.6909 - acc: 0.5324 - val_loss: 0.6928 - val_acc: 0.5333\n",
      "Epoch 70/100\n",
      "7425/7425 [==============================] - 2s - loss: 0.6907 - acc: 0.5301 - val_loss: 0.6925 - val_acc: 0.5309\n",
      "Epoch 71/100\n",
      "7425/7425 [==============================] - 2s - loss: 0.6908 - acc: 0.5336 - val_loss: 0.6925 - val_acc: 0.5321\n",
      "Epoch 72/100\n",
      "7425/7425 [==============================] - 2s - loss: 0.6906 - acc: 0.5327 - val_loss: 0.6928 - val_acc: 0.5333\n",
      "Epoch 73/100\n",
      "7425/7425 [==============================] - 2s - loss: 0.6905 - acc: 0.5331 - val_loss: 0.6927 - val_acc: 0.5333\n",
      "Epoch 74/100\n",
      "7425/7425 [==============================] - 2s - loss: 0.6903 - acc: 0.5327 - val_loss: 0.6932 - val_acc: 0.5297\n",
      "Epoch 75/100\n",
      "7425/7425 [==============================] - 2s - loss: 0.6907 - acc: 0.5316 - val_loss: 0.6934 - val_acc: 0.5309\n",
      "Epoch 76/100\n",
      "7425/7425 [==============================] - 2s - loss: 0.6905 - acc: 0.5331 - val_loss: 0.6931 - val_acc: 0.5297\n",
      "Epoch 77/100\n",
      "7425/7425 [==============================] - 2s - loss: 0.6907 - acc: 0.5320 - val_loss: 0.6925 - val_acc: 0.5333\n",
      "Epoch 78/100\n",
      "7425/7425 [==============================] - 2s - loss: 0.6902 - acc: 0.5331 - val_loss: 0.6927 - val_acc: 0.5321\n",
      "Epoch 79/100\n",
      "7425/7425 [==============================] - 2s - loss: 0.6904 - acc: 0.5319 - val_loss: 0.6930 - val_acc: 0.5321\n",
      "Epoch 80/100\n",
      "7425/7425 [==============================] - 2s - loss: 0.6901 - acc: 0.5335 - val_loss: 0.6934 - val_acc: 0.5273\n",
      "Epoch 81/100\n",
      "7425/7425 [==============================] - 2s - loss: 0.6908 - acc: 0.5313 - val_loss: 0.6929 - val_acc: 0.5285\n",
      "Epoch 82/100\n",
      "7425/7425 [==============================] - 2s - loss: 0.6905 - acc: 0.5309 - val_loss: 0.6930 - val_acc: 0.5333\n",
      "Epoch 83/100\n",
      "7425/7425 [==============================] - 2s - loss: 0.6901 - acc: 0.5323 - val_loss: 0.6931 - val_acc: 0.5297\n",
      "Epoch 84/100\n",
      "7425/7425 [==============================] - 2s - loss: 0.6902 - acc: 0.5321 - val_loss: 0.6930 - val_acc: 0.5321\n",
      "Epoch 85/100\n",
      "7425/7425 [==============================] - 2s - loss: 0.6901 - acc: 0.5341 - val_loss: 0.6934 - val_acc: 0.5309\n",
      "Epoch 86/100\n",
      "7425/7425 [==============================] - 2s - loss: 0.6901 - acc: 0.5325 - val_loss: 0.6931 - val_acc: 0.5333\n",
      "Epoch 87/100\n",
      "7425/7425 [==============================] - 2s - loss: 0.6902 - acc: 0.5340 - val_loss: 0.6935 - val_acc: 0.5297\n",
      "Epoch 88/100\n",
      "7425/7425 [==============================] - 2s - loss: 0.6899 - acc: 0.5297 - val_loss: 0.6934 - val_acc: 0.5321\n",
      "Epoch 89/100\n",
      "7425/7425 [==============================] - 2s - loss: 0.6905 - acc: 0.5331 - val_loss: 0.6930 - val_acc: 0.5333\n",
      "Epoch 90/100\n",
      "7425/7425 [==============================] - 2s - loss: 0.6901 - acc: 0.5323 - val_loss: 0.6934 - val_acc: 0.5321\n",
      "Epoch 91/100\n",
      "7425/7425 [==============================] - 2s - loss: 0.6902 - acc: 0.5328 - val_loss: 0.6938 - val_acc: 0.5321\n",
      "Epoch 92/100\n",
      "7425/7425 [==============================] - 2s - loss: 0.6904 - acc: 0.5328 - val_loss: 0.6935 - val_acc: 0.5321\n",
      "Epoch 93/100\n",
      "7425/7425 [==============================] - 2s - loss: 0.6901 - acc: 0.5339 - val_loss: 0.6933 - val_acc: 0.5333\n",
      "Epoch 94/100\n",
      "7425/7425 [==============================] - 2s - loss: 0.6897 - acc: 0.5335 - val_loss: 0.6932 - val_acc: 0.5333\n",
      "Epoch 95/100\n",
      "7425/7425 [==============================] - 2s - loss: 0.6899 - acc: 0.5349 - val_loss: 0.6935 - val_acc: 0.5321\n",
      "Epoch 96/100\n",
      "7425/7425 [==============================] - 2s - loss: 0.6901 - acc: 0.5314 - val_loss: 0.6935 - val_acc: 0.5321\n",
      "Epoch 97/100\n",
      "7425/7425 [==============================] - 2s - loss: 0.6899 - acc: 0.5337 - val_loss: 0.6936 - val_acc: 0.5297\n",
      "Epoch 98/100\n",
      "7425/7425 [==============================] - 2s - loss: 0.6901 - acc: 0.5325 - val_loss: 0.6935 - val_acc: 0.5321\n",
      "Epoch 99/100\n",
      "7425/7425 [==============================] - 2s - loss: 0.6900 - acc: 0.5355 - val_loss: 0.6932 - val_acc: 0.5309\n",
      "Epoch 100/100\n",
      "7425/7425 [==============================] - 2s - loss: 0.6901 - acc: 0.5358 - val_loss: 0.6929 - val_acc: 0.5309\n"
     ]
    }
   ],
   "source": [
    "history = model.fit(x_train, y_train,\n",
    "                    batch_size = 64, \n",
    "                    epochs=100, \n",
    "                    verbose=1, \n",
    "                    validation_data=(x_test, y_test))"
   ]
  },
  {
   "cell_type": "code",
   "execution_count": 132,
   "metadata": {
    "collapsed": true
   },
   "outputs": [],
   "source": [
    "def plot_train(hist):\n",
    "    h = hist.history\n",
    "    if 'acc' in h:\n",
    "        meas='acc'\n",
    "        loc='lower right'\n",
    "    else:\n",
    "        meas='loss'\n",
    "        loc='upper right'\n",
    "    plt.plot(hist.history[meas])\n",
    "    plt.plot(hist.history['val_'+meas])\n",
    "    plt.title('model '+meas)\n",
    "    plt.ylabel(meas)\n",
    "    plt.xlabel('epoch')\n",
    "    plt.legend(['train', 'validation'], loc=loc)"
   ]
  },
  {
   "cell_type": "code",
   "execution_count": 133,
   "metadata": {},
   "outputs": [
    {
     "data": {
      "application/javascript": [
       "/* Put everything inside the global mpl namespace */\n",
       "window.mpl = {};\n",
       "\n",
       "\n",
       "mpl.get_websocket_type = function() {\n",
       "    if (typeof(WebSocket) !== 'undefined') {\n",
       "        return WebSocket;\n",
       "    } else if (typeof(MozWebSocket) !== 'undefined') {\n",
       "        return MozWebSocket;\n",
       "    } else {\n",
       "        alert('Your browser does not have WebSocket support.' +\n",
       "              'Please try Chrome, Safari or Firefox ≥ 6. ' +\n",
       "              'Firefox 4 and 5 are also supported but you ' +\n",
       "              'have to enable WebSockets in about:config.');\n",
       "    };\n",
       "}\n",
       "\n",
       "mpl.figure = function(figure_id, websocket, ondownload, parent_element) {\n",
       "    this.id = figure_id;\n",
       "\n",
       "    this.ws = websocket;\n",
       "\n",
       "    this.supports_binary = (this.ws.binaryType != undefined);\n",
       "\n",
       "    if (!this.supports_binary) {\n",
       "        var warnings = document.getElementById(\"mpl-warnings\");\n",
       "        if (warnings) {\n",
       "            warnings.style.display = 'block';\n",
       "            warnings.textContent = (\n",
       "                \"This browser does not support binary websocket messages. \" +\n",
       "                    \"Performance may be slow.\");\n",
       "        }\n",
       "    }\n",
       "\n",
       "    this.imageObj = new Image();\n",
       "\n",
       "    this.context = undefined;\n",
       "    this.message = undefined;\n",
       "    this.canvas = undefined;\n",
       "    this.rubberband_canvas = undefined;\n",
       "    this.rubberband_context = undefined;\n",
       "    this.format_dropdown = undefined;\n",
       "\n",
       "    this.image_mode = 'full';\n",
       "\n",
       "    this.root = $('<div/>');\n",
       "    this._root_extra_style(this.root)\n",
       "    this.root.attr('style', 'display: inline-block');\n",
       "\n",
       "    $(parent_element).append(this.root);\n",
       "\n",
       "    this._init_header(this);\n",
       "    this._init_canvas(this);\n",
       "    this._init_toolbar(this);\n",
       "\n",
       "    var fig = this;\n",
       "\n",
       "    this.waiting = false;\n",
       "\n",
       "    this.ws.onopen =  function () {\n",
       "            fig.send_message(\"supports_binary\", {value: fig.supports_binary});\n",
       "            fig.send_message(\"send_image_mode\", {});\n",
       "            if (mpl.ratio != 1) {\n",
       "                fig.send_message(\"set_dpi_ratio\", {'dpi_ratio': mpl.ratio});\n",
       "            }\n",
       "            fig.send_message(\"refresh\", {});\n",
       "        }\n",
       "\n",
       "    this.imageObj.onload = function() {\n",
       "            if (fig.image_mode == 'full') {\n",
       "                // Full images could contain transparency (where diff images\n",
       "                // almost always do), so we need to clear the canvas so that\n",
       "                // there is no ghosting.\n",
       "                fig.context.clearRect(0, 0, fig.canvas.width, fig.canvas.height);\n",
       "            }\n",
       "            fig.context.drawImage(fig.imageObj, 0, 0);\n",
       "        };\n",
       "\n",
       "    this.imageObj.onunload = function() {\n",
       "        fig.ws.close();\n",
       "    }\n",
       "\n",
       "    this.ws.onmessage = this._make_on_message_function(this);\n",
       "\n",
       "    this.ondownload = ondownload;\n",
       "}\n",
       "\n",
       "mpl.figure.prototype._init_header = function() {\n",
       "    var titlebar = $(\n",
       "        '<div class=\"ui-dialog-titlebar ui-widget-header ui-corner-all ' +\n",
       "        'ui-helper-clearfix\"/>');\n",
       "    var titletext = $(\n",
       "        '<div class=\"ui-dialog-title\" style=\"width: 100%; ' +\n",
       "        'text-align: center; padding: 3px;\"/>');\n",
       "    titlebar.append(titletext)\n",
       "    this.root.append(titlebar);\n",
       "    this.header = titletext[0];\n",
       "}\n",
       "\n",
       "\n",
       "\n",
       "mpl.figure.prototype._canvas_extra_style = function(canvas_div) {\n",
       "\n",
       "}\n",
       "\n",
       "\n",
       "mpl.figure.prototype._root_extra_style = function(canvas_div) {\n",
       "\n",
       "}\n",
       "\n",
       "mpl.figure.prototype._init_canvas = function() {\n",
       "    var fig = this;\n",
       "\n",
       "    var canvas_div = $('<div/>');\n",
       "\n",
       "    canvas_div.attr('style', 'position: relative; clear: both; outline: 0');\n",
       "\n",
       "    function canvas_keyboard_event(event) {\n",
       "        return fig.key_event(event, event['data']);\n",
       "    }\n",
       "\n",
       "    canvas_div.keydown('key_press', canvas_keyboard_event);\n",
       "    canvas_div.keyup('key_release', canvas_keyboard_event);\n",
       "    this.canvas_div = canvas_div\n",
       "    this._canvas_extra_style(canvas_div)\n",
       "    this.root.append(canvas_div);\n",
       "\n",
       "    var canvas = $('<canvas/>');\n",
       "    canvas.addClass('mpl-canvas');\n",
       "    canvas.attr('style', \"left: 0; top: 0; z-index: 0; outline: 0\")\n",
       "\n",
       "    this.canvas = canvas[0];\n",
       "    this.context = canvas[0].getContext(\"2d\");\n",
       "\n",
       "    var backingStore = this.context.backingStorePixelRatio ||\n",
       "\tthis.context.webkitBackingStorePixelRatio ||\n",
       "\tthis.context.mozBackingStorePixelRatio ||\n",
       "\tthis.context.msBackingStorePixelRatio ||\n",
       "\tthis.context.oBackingStorePixelRatio ||\n",
       "\tthis.context.backingStorePixelRatio || 1;\n",
       "\n",
       "    mpl.ratio = (window.devicePixelRatio || 1) / backingStore;\n",
       "\n",
       "    var rubberband = $('<canvas/>');\n",
       "    rubberband.attr('style', \"position: absolute; left: 0; top: 0; z-index: 1;\")\n",
       "\n",
       "    var pass_mouse_events = true;\n",
       "\n",
       "    canvas_div.resizable({\n",
       "        start: function(event, ui) {\n",
       "            pass_mouse_events = false;\n",
       "        },\n",
       "        resize: function(event, ui) {\n",
       "            fig.request_resize(ui.size.width, ui.size.height);\n",
       "        },\n",
       "        stop: function(event, ui) {\n",
       "            pass_mouse_events = true;\n",
       "            fig.request_resize(ui.size.width, ui.size.height);\n",
       "        },\n",
       "    });\n",
       "\n",
       "    function mouse_event_fn(event) {\n",
       "        if (pass_mouse_events)\n",
       "            return fig.mouse_event(event, event['data']);\n",
       "    }\n",
       "\n",
       "    rubberband.mousedown('button_press', mouse_event_fn);\n",
       "    rubberband.mouseup('button_release', mouse_event_fn);\n",
       "    // Throttle sequential mouse events to 1 every 20ms.\n",
       "    rubberband.mousemove('motion_notify', mouse_event_fn);\n",
       "\n",
       "    rubberband.mouseenter('figure_enter', mouse_event_fn);\n",
       "    rubberband.mouseleave('figure_leave', mouse_event_fn);\n",
       "\n",
       "    canvas_div.on(\"wheel\", function (event) {\n",
       "        event = event.originalEvent;\n",
       "        event['data'] = 'scroll'\n",
       "        if (event.deltaY < 0) {\n",
       "            event.step = 1;\n",
       "        } else {\n",
       "            event.step = -1;\n",
       "        }\n",
       "        mouse_event_fn(event);\n",
       "    });\n",
       "\n",
       "    canvas_div.append(canvas);\n",
       "    canvas_div.append(rubberband);\n",
       "\n",
       "    this.rubberband = rubberband;\n",
       "    this.rubberband_canvas = rubberband[0];\n",
       "    this.rubberband_context = rubberband[0].getContext(\"2d\");\n",
       "    this.rubberband_context.strokeStyle = \"#000000\";\n",
       "\n",
       "    this._resize_canvas = function(width, height) {\n",
       "        // Keep the size of the canvas, canvas container, and rubber band\n",
       "        // canvas in synch.\n",
       "        canvas_div.css('width', width)\n",
       "        canvas_div.css('height', height)\n",
       "\n",
       "        canvas.attr('width', width * mpl.ratio);\n",
       "        canvas.attr('height', height * mpl.ratio);\n",
       "        canvas.attr('style', 'width: ' + width + 'px; height: ' + height + 'px;');\n",
       "\n",
       "        rubberband.attr('width', width);\n",
       "        rubberband.attr('height', height);\n",
       "    }\n",
       "\n",
       "    // Set the figure to an initial 600x600px, this will subsequently be updated\n",
       "    // upon first draw.\n",
       "    this._resize_canvas(600, 600);\n",
       "\n",
       "    // Disable right mouse context menu.\n",
       "    $(this.rubberband_canvas).bind(\"contextmenu\",function(e){\n",
       "        return false;\n",
       "    });\n",
       "\n",
       "    function set_focus () {\n",
       "        canvas.focus();\n",
       "        canvas_div.focus();\n",
       "    }\n",
       "\n",
       "    window.setTimeout(set_focus, 100);\n",
       "}\n",
       "\n",
       "mpl.figure.prototype._init_toolbar = function() {\n",
       "    var fig = this;\n",
       "\n",
       "    var nav_element = $('<div/>')\n",
       "    nav_element.attr('style', 'width: 100%');\n",
       "    this.root.append(nav_element);\n",
       "\n",
       "    // Define a callback function for later on.\n",
       "    function toolbar_event(event) {\n",
       "        return fig.toolbar_button_onclick(event['data']);\n",
       "    }\n",
       "    function toolbar_mouse_event(event) {\n",
       "        return fig.toolbar_button_onmouseover(event['data']);\n",
       "    }\n",
       "\n",
       "    for(var toolbar_ind in mpl.toolbar_items) {\n",
       "        var name = mpl.toolbar_items[toolbar_ind][0];\n",
       "        var tooltip = mpl.toolbar_items[toolbar_ind][1];\n",
       "        var image = mpl.toolbar_items[toolbar_ind][2];\n",
       "        var method_name = mpl.toolbar_items[toolbar_ind][3];\n",
       "\n",
       "        if (!name) {\n",
       "            // put a spacer in here.\n",
       "            continue;\n",
       "        }\n",
       "        var button = $('<button/>');\n",
       "        button.addClass('ui-button ui-widget ui-state-default ui-corner-all ' +\n",
       "                        'ui-button-icon-only');\n",
       "        button.attr('role', 'button');\n",
       "        button.attr('aria-disabled', 'false');\n",
       "        button.click(method_name, toolbar_event);\n",
       "        button.mouseover(tooltip, toolbar_mouse_event);\n",
       "\n",
       "        var icon_img = $('<span/>');\n",
       "        icon_img.addClass('ui-button-icon-primary ui-icon');\n",
       "        icon_img.addClass(image);\n",
       "        icon_img.addClass('ui-corner-all');\n",
       "\n",
       "        var tooltip_span = $('<span/>');\n",
       "        tooltip_span.addClass('ui-button-text');\n",
       "        tooltip_span.html(tooltip);\n",
       "\n",
       "        button.append(icon_img);\n",
       "        button.append(tooltip_span);\n",
       "\n",
       "        nav_element.append(button);\n",
       "    }\n",
       "\n",
       "    var fmt_picker_span = $('<span/>');\n",
       "\n",
       "    var fmt_picker = $('<select/>');\n",
       "    fmt_picker.addClass('mpl-toolbar-option ui-widget ui-widget-content');\n",
       "    fmt_picker_span.append(fmt_picker);\n",
       "    nav_element.append(fmt_picker_span);\n",
       "    this.format_dropdown = fmt_picker[0];\n",
       "\n",
       "    for (var ind in mpl.extensions) {\n",
       "        var fmt = mpl.extensions[ind];\n",
       "        var option = $(\n",
       "            '<option/>', {selected: fmt === mpl.default_extension}).html(fmt);\n",
       "        fmt_picker.append(option)\n",
       "    }\n",
       "\n",
       "    // Add hover states to the ui-buttons\n",
       "    $( \".ui-button\" ).hover(\n",
       "        function() { $(this).addClass(\"ui-state-hover\");},\n",
       "        function() { $(this).removeClass(\"ui-state-hover\");}\n",
       "    );\n",
       "\n",
       "    var status_bar = $('<span class=\"mpl-message\"/>');\n",
       "    nav_element.append(status_bar);\n",
       "    this.message = status_bar[0];\n",
       "}\n",
       "\n",
       "mpl.figure.prototype.request_resize = function(x_pixels, y_pixels) {\n",
       "    // Request matplotlib to resize the figure. Matplotlib will then trigger a resize in the client,\n",
       "    // which will in turn request a refresh of the image.\n",
       "    this.send_message('resize', {'width': x_pixels, 'height': y_pixels});\n",
       "}\n",
       "\n",
       "mpl.figure.prototype.send_message = function(type, properties) {\n",
       "    properties['type'] = type;\n",
       "    properties['figure_id'] = this.id;\n",
       "    this.ws.send(JSON.stringify(properties));\n",
       "}\n",
       "\n",
       "mpl.figure.prototype.send_draw_message = function() {\n",
       "    if (!this.waiting) {\n",
       "        this.waiting = true;\n",
       "        this.ws.send(JSON.stringify({type: \"draw\", figure_id: this.id}));\n",
       "    }\n",
       "}\n",
       "\n",
       "\n",
       "mpl.figure.prototype.handle_save = function(fig, msg) {\n",
       "    var format_dropdown = fig.format_dropdown;\n",
       "    var format = format_dropdown.options[format_dropdown.selectedIndex].value;\n",
       "    fig.ondownload(fig, format);\n",
       "}\n",
       "\n",
       "\n",
       "mpl.figure.prototype.handle_resize = function(fig, msg) {\n",
       "    var size = msg['size'];\n",
       "    if (size[0] != fig.canvas.width || size[1] != fig.canvas.height) {\n",
       "        fig._resize_canvas(size[0], size[1]);\n",
       "        fig.send_message(\"refresh\", {});\n",
       "    };\n",
       "}\n",
       "\n",
       "mpl.figure.prototype.handle_rubberband = function(fig, msg) {\n",
       "    var x0 = msg['x0'] / mpl.ratio;\n",
       "    var y0 = (fig.canvas.height - msg['y0']) / mpl.ratio;\n",
       "    var x1 = msg['x1'] / mpl.ratio;\n",
       "    var y1 = (fig.canvas.height - msg['y1']) / mpl.ratio;\n",
       "    x0 = Math.floor(x0) + 0.5;\n",
       "    y0 = Math.floor(y0) + 0.5;\n",
       "    x1 = Math.floor(x1) + 0.5;\n",
       "    y1 = Math.floor(y1) + 0.5;\n",
       "    var min_x = Math.min(x0, x1);\n",
       "    var min_y = Math.min(y0, y1);\n",
       "    var width = Math.abs(x1 - x0);\n",
       "    var height = Math.abs(y1 - y0);\n",
       "\n",
       "    fig.rubberband_context.clearRect(\n",
       "        0, 0, fig.canvas.width, fig.canvas.height);\n",
       "\n",
       "    fig.rubberband_context.strokeRect(min_x, min_y, width, height);\n",
       "}\n",
       "\n",
       "mpl.figure.prototype.handle_figure_label = function(fig, msg) {\n",
       "    // Updates the figure title.\n",
       "    fig.header.textContent = msg['label'];\n",
       "}\n",
       "\n",
       "mpl.figure.prototype.handle_cursor = function(fig, msg) {\n",
       "    var cursor = msg['cursor'];\n",
       "    switch(cursor)\n",
       "    {\n",
       "    case 0:\n",
       "        cursor = 'pointer';\n",
       "        break;\n",
       "    case 1:\n",
       "        cursor = 'default';\n",
       "        break;\n",
       "    case 2:\n",
       "        cursor = 'crosshair';\n",
       "        break;\n",
       "    case 3:\n",
       "        cursor = 'move';\n",
       "        break;\n",
       "    }\n",
       "    fig.rubberband_canvas.style.cursor = cursor;\n",
       "}\n",
       "\n",
       "mpl.figure.prototype.handle_message = function(fig, msg) {\n",
       "    fig.message.textContent = msg['message'];\n",
       "}\n",
       "\n",
       "mpl.figure.prototype.handle_draw = function(fig, msg) {\n",
       "    // Request the server to send over a new figure.\n",
       "    fig.send_draw_message();\n",
       "}\n",
       "\n",
       "mpl.figure.prototype.handle_image_mode = function(fig, msg) {\n",
       "    fig.image_mode = msg['mode'];\n",
       "}\n",
       "\n",
       "mpl.figure.prototype.updated_canvas_event = function() {\n",
       "    // Called whenever the canvas gets updated.\n",
       "    this.send_message(\"ack\", {});\n",
       "}\n",
       "\n",
       "// A function to construct a web socket function for onmessage handling.\n",
       "// Called in the figure constructor.\n",
       "mpl.figure.prototype._make_on_message_function = function(fig) {\n",
       "    return function socket_on_message(evt) {\n",
       "        if (evt.data instanceof Blob) {\n",
       "            /* FIXME: We get \"Resource interpreted as Image but\n",
       "             * transferred with MIME type text/plain:\" errors on\n",
       "             * Chrome.  But how to set the MIME type?  It doesn't seem\n",
       "             * to be part of the websocket stream */\n",
       "            evt.data.type = \"image/png\";\n",
       "\n",
       "            /* Free the memory for the previous frames */\n",
       "            if (fig.imageObj.src) {\n",
       "                (window.URL || window.webkitURL).revokeObjectURL(\n",
       "                    fig.imageObj.src);\n",
       "            }\n",
       "\n",
       "            fig.imageObj.src = (window.URL || window.webkitURL).createObjectURL(\n",
       "                evt.data);\n",
       "            fig.updated_canvas_event();\n",
       "            fig.waiting = false;\n",
       "            return;\n",
       "        }\n",
       "        else if (typeof evt.data === 'string' && evt.data.slice(0, 21) == \"data:image/png;base64\") {\n",
       "            fig.imageObj.src = evt.data;\n",
       "            fig.updated_canvas_event();\n",
       "            fig.waiting = false;\n",
       "            return;\n",
       "        }\n",
       "\n",
       "        var msg = JSON.parse(evt.data);\n",
       "        var msg_type = msg['type'];\n",
       "\n",
       "        // Call the  \"handle_{type}\" callback, which takes\n",
       "        // the figure and JSON message as its only arguments.\n",
       "        try {\n",
       "            var callback = fig[\"handle_\" + msg_type];\n",
       "        } catch (e) {\n",
       "            console.log(\"No handler for the '\" + msg_type + \"' message type: \", msg);\n",
       "            return;\n",
       "        }\n",
       "\n",
       "        if (callback) {\n",
       "            try {\n",
       "                // console.log(\"Handling '\" + msg_type + \"' message: \", msg);\n",
       "                callback(fig, msg);\n",
       "            } catch (e) {\n",
       "                console.log(\"Exception inside the 'handler_\" + msg_type + \"' callback:\", e, e.stack, msg);\n",
       "            }\n",
       "        }\n",
       "    };\n",
       "}\n",
       "\n",
       "// from http://stackoverflow.com/questions/1114465/getting-mouse-location-in-canvas\n",
       "mpl.findpos = function(e) {\n",
       "    //this section is from http://www.quirksmode.org/js/events_properties.html\n",
       "    var targ;\n",
       "    if (!e)\n",
       "        e = window.event;\n",
       "    if (e.target)\n",
       "        targ = e.target;\n",
       "    else if (e.srcElement)\n",
       "        targ = e.srcElement;\n",
       "    if (targ.nodeType == 3) // defeat Safari bug\n",
       "        targ = targ.parentNode;\n",
       "\n",
       "    // jQuery normalizes the pageX and pageY\n",
       "    // pageX,Y are the mouse positions relative to the document\n",
       "    // offset() returns the position of the element relative to the document\n",
       "    var x = e.pageX - $(targ).offset().left;\n",
       "    var y = e.pageY - $(targ).offset().top;\n",
       "\n",
       "    return {\"x\": x, \"y\": y};\n",
       "};\n",
       "\n",
       "/*\n",
       " * return a copy of an object with only non-object keys\n",
       " * we need this to avoid circular references\n",
       " * http://stackoverflow.com/a/24161582/3208463\n",
       " */\n",
       "function simpleKeys (original) {\n",
       "  return Object.keys(original).reduce(function (obj, key) {\n",
       "    if (typeof original[key] !== 'object')\n",
       "        obj[key] = original[key]\n",
       "    return obj;\n",
       "  }, {});\n",
       "}\n",
       "\n",
       "mpl.figure.prototype.mouse_event = function(event, name) {\n",
       "    var canvas_pos = mpl.findpos(event)\n",
       "\n",
       "    if (name === 'button_press')\n",
       "    {\n",
       "        this.canvas.focus();\n",
       "        this.canvas_div.focus();\n",
       "    }\n",
       "\n",
       "    var x = canvas_pos.x * mpl.ratio;\n",
       "    var y = canvas_pos.y * mpl.ratio;\n",
       "\n",
       "    this.send_message(name, {x: x, y: y, button: event.button,\n",
       "                             step: event.step,\n",
       "                             guiEvent: simpleKeys(event)});\n",
       "\n",
       "    /* This prevents the web browser from automatically changing to\n",
       "     * the text insertion cursor when the button is pressed.  We want\n",
       "     * to control all of the cursor setting manually through the\n",
       "     * 'cursor' event from matplotlib */\n",
       "    event.preventDefault();\n",
       "    return false;\n",
       "}\n",
       "\n",
       "mpl.figure.prototype._key_event_extra = function(event, name) {\n",
       "    // Handle any extra behaviour associated with a key event\n",
       "}\n",
       "\n",
       "mpl.figure.prototype.key_event = function(event, name) {\n",
       "\n",
       "    // Prevent repeat events\n",
       "    if (name == 'key_press')\n",
       "    {\n",
       "        if (event.which === this._key)\n",
       "            return;\n",
       "        else\n",
       "            this._key = event.which;\n",
       "    }\n",
       "    if (name == 'key_release')\n",
       "        this._key = null;\n",
       "\n",
       "    var value = '';\n",
       "    if (event.ctrlKey && event.which != 17)\n",
       "        value += \"ctrl+\";\n",
       "    if (event.altKey && event.which != 18)\n",
       "        value += \"alt+\";\n",
       "    if (event.shiftKey && event.which != 16)\n",
       "        value += \"shift+\";\n",
       "\n",
       "    value += 'k';\n",
       "    value += event.which.toString();\n",
       "\n",
       "    this._key_event_extra(event, name);\n",
       "\n",
       "    this.send_message(name, {key: value,\n",
       "                             guiEvent: simpleKeys(event)});\n",
       "    return false;\n",
       "}\n",
       "\n",
       "mpl.figure.prototype.toolbar_button_onclick = function(name) {\n",
       "    if (name == 'download') {\n",
       "        this.handle_save(this, null);\n",
       "    } else {\n",
       "        this.send_message(\"toolbar_button\", {name: name});\n",
       "    }\n",
       "};\n",
       "\n",
       "mpl.figure.prototype.toolbar_button_onmouseover = function(tooltip) {\n",
       "    this.message.textContent = tooltip;\n",
       "};\n",
       "mpl.toolbar_items = [[\"Home\", \"Reset original view\", \"fa fa-home icon-home\", \"home\"], [\"Back\", \"Back to  previous view\", \"fa fa-arrow-left icon-arrow-left\", \"back\"], [\"Forward\", \"Forward to next view\", \"fa fa-arrow-right icon-arrow-right\", \"forward\"], [\"\", \"\", \"\", \"\"], [\"Pan\", \"Pan axes with left mouse, zoom with right\", \"fa fa-arrows icon-move\", \"pan\"], [\"Zoom\", \"Zoom to rectangle\", \"fa fa-square-o icon-check-empty\", \"zoom\"], [\"\", \"\", \"\", \"\"], [\"Download\", \"Download plot\", \"fa fa-floppy-o icon-save\", \"download\"]];\n",
       "\n",
       "mpl.extensions = [\"eps\", \"jpeg\", \"pdf\", \"png\", \"ps\", \"raw\", \"svg\", \"tif\"];\n",
       "\n",
       "mpl.default_extension = \"png\";var comm_websocket_adapter = function(comm) {\n",
       "    // Create a \"websocket\"-like object which calls the given IPython comm\n",
       "    // object with the appropriate methods. Currently this is a non binary\n",
       "    // socket, so there is still some room for performance tuning.\n",
       "    var ws = {};\n",
       "\n",
       "    ws.close = function() {\n",
       "        comm.close()\n",
       "    };\n",
       "    ws.send = function(m) {\n",
       "        //console.log('sending', m);\n",
       "        comm.send(m);\n",
       "    };\n",
       "    // Register the callback with on_msg.\n",
       "    comm.on_msg(function(msg) {\n",
       "        //console.log('receiving', msg['content']['data'], msg);\n",
       "        // Pass the mpl event to the overriden (by mpl) onmessage function.\n",
       "        ws.onmessage(msg['content']['data'])\n",
       "    });\n",
       "    return ws;\n",
       "}\n",
       "\n",
       "mpl.mpl_figure_comm = function(comm, msg) {\n",
       "    // This is the function which gets called when the mpl process\n",
       "    // starts-up an IPython Comm through the \"matplotlib\" channel.\n",
       "\n",
       "    var id = msg.content.data.id;\n",
       "    // Get hold of the div created by the display call when the Comm\n",
       "    // socket was opened in Python.\n",
       "    var element = $(\"#\" + id);\n",
       "    var ws_proxy = comm_websocket_adapter(comm)\n",
       "\n",
       "    function ondownload(figure, format) {\n",
       "        window.open(figure.imageObj.src);\n",
       "    }\n",
       "\n",
       "    var fig = new mpl.figure(id, ws_proxy,\n",
       "                           ondownload,\n",
       "                           element.get(0));\n",
       "\n",
       "    // Call onopen now - mpl needs it, as it is assuming we've passed it a real\n",
       "    // web socket which is closed, not our websocket->open comm proxy.\n",
       "    ws_proxy.onopen();\n",
       "\n",
       "    fig.parent_element = element.get(0);\n",
       "    fig.cell_info = mpl.find_output_cell(\"<div id='\" + id + \"'></div>\");\n",
       "    if (!fig.cell_info) {\n",
       "        console.error(\"Failed to find cell for figure\", id, fig);\n",
       "        return;\n",
       "    }\n",
       "\n",
       "    var output_index = fig.cell_info[2]\n",
       "    var cell = fig.cell_info[0];\n",
       "\n",
       "};\n",
       "\n",
       "mpl.figure.prototype.handle_close = function(fig, msg) {\n",
       "    var width = fig.canvas.width/mpl.ratio\n",
       "    fig.root.unbind('remove')\n",
       "\n",
       "    // Update the output cell to use the data from the current canvas.\n",
       "    fig.push_to_output();\n",
       "    var dataURL = fig.canvas.toDataURL();\n",
       "    // Re-enable the keyboard manager in IPython - without this line, in FF,\n",
       "    // the notebook keyboard shortcuts fail.\n",
       "    IPython.keyboard_manager.enable()\n",
       "    $(fig.parent_element).html('<img src=\"' + dataURL + '\" width=\"' + width + '\">');\n",
       "    fig.close_ws(fig, msg);\n",
       "}\n",
       "\n",
       "mpl.figure.prototype.close_ws = function(fig, msg){\n",
       "    fig.send_message('closing', msg);\n",
       "    // fig.ws.close()\n",
       "}\n",
       "\n",
       "mpl.figure.prototype.push_to_output = function(remove_interactive) {\n",
       "    // Turn the data on the canvas into data in the output cell.\n",
       "    var width = this.canvas.width/mpl.ratio\n",
       "    var dataURL = this.canvas.toDataURL();\n",
       "    this.cell_info[1]['text/html'] = '<img src=\"' + dataURL + '\" width=\"' + width + '\">';\n",
       "}\n",
       "\n",
       "mpl.figure.prototype.updated_canvas_event = function() {\n",
       "    // Tell IPython that the notebook contents must change.\n",
       "    IPython.notebook.set_dirty(true);\n",
       "    this.send_message(\"ack\", {});\n",
       "    var fig = this;\n",
       "    // Wait a second, then push the new image to the DOM so\n",
       "    // that it is saved nicely (might be nice to debounce this).\n",
       "    setTimeout(function () { fig.push_to_output() }, 1000);\n",
       "}\n",
       "\n",
       "mpl.figure.prototype._init_toolbar = function() {\n",
       "    var fig = this;\n",
       "\n",
       "    var nav_element = $('<div/>')\n",
       "    nav_element.attr('style', 'width: 100%');\n",
       "    this.root.append(nav_element);\n",
       "\n",
       "    // Define a callback function for later on.\n",
       "    function toolbar_event(event) {\n",
       "        return fig.toolbar_button_onclick(event['data']);\n",
       "    }\n",
       "    function toolbar_mouse_event(event) {\n",
       "        return fig.toolbar_button_onmouseover(event['data']);\n",
       "    }\n",
       "\n",
       "    for(var toolbar_ind in mpl.toolbar_items){\n",
       "        var name = mpl.toolbar_items[toolbar_ind][0];\n",
       "        var tooltip = mpl.toolbar_items[toolbar_ind][1];\n",
       "        var image = mpl.toolbar_items[toolbar_ind][2];\n",
       "        var method_name = mpl.toolbar_items[toolbar_ind][3];\n",
       "\n",
       "        if (!name) { continue; };\n",
       "\n",
       "        var button = $('<button class=\"btn btn-default\" href=\"#\" title=\"' + name + '\"><i class=\"fa ' + image + ' fa-lg\"></i></button>');\n",
       "        button.click(method_name, toolbar_event);\n",
       "        button.mouseover(tooltip, toolbar_mouse_event);\n",
       "        nav_element.append(button);\n",
       "    }\n",
       "\n",
       "    // Add the status bar.\n",
       "    var status_bar = $('<span class=\"mpl-message\" style=\"text-align:right; float: right;\"/>');\n",
       "    nav_element.append(status_bar);\n",
       "    this.message = status_bar[0];\n",
       "\n",
       "    // Add the close button to the window.\n",
       "    var buttongrp = $('<div class=\"btn-group inline pull-right\"></div>');\n",
       "    var button = $('<button class=\"btn btn-mini btn-primary\" href=\"#\" title=\"Stop Interaction\"><i class=\"fa fa-power-off icon-remove icon-large\"></i></button>');\n",
       "    button.click(function (evt) { fig.handle_close(fig, {}); } );\n",
       "    button.mouseover('Stop Interaction', toolbar_mouse_event);\n",
       "    buttongrp.append(button);\n",
       "    var titlebar = this.root.find($('.ui-dialog-titlebar'));\n",
       "    titlebar.prepend(buttongrp);\n",
       "}\n",
       "\n",
       "mpl.figure.prototype._root_extra_style = function(el){\n",
       "    var fig = this\n",
       "    el.on(\"remove\", function(){\n",
       "\tfig.close_ws(fig, {});\n",
       "    });\n",
       "}\n",
       "\n",
       "mpl.figure.prototype._canvas_extra_style = function(el){\n",
       "    // this is important to make the div 'focusable\n",
       "    el.attr('tabindex', 0)\n",
       "    // reach out to IPython and tell the keyboard manager to turn it's self\n",
       "    // off when our div gets focus\n",
       "\n",
       "    // location in version 3\n",
       "    if (IPython.notebook.keyboard_manager) {\n",
       "        IPython.notebook.keyboard_manager.register_events(el);\n",
       "    }\n",
       "    else {\n",
       "        // location in version 2\n",
       "        IPython.keyboard_manager.register_events(el);\n",
       "    }\n",
       "\n",
       "}\n",
       "\n",
       "mpl.figure.prototype._key_event_extra = function(event, name) {\n",
       "    var manager = IPython.notebook.keyboard_manager;\n",
       "    if (!manager)\n",
       "        manager = IPython.keyboard_manager;\n",
       "\n",
       "    // Check for shift+enter\n",
       "    if (event.shiftKey && event.which == 13) {\n",
       "        this.canvas_div.blur();\n",
       "        event.shiftKey = false;\n",
       "        // Send a \"J\" for go to next cell\n",
       "        event.which = 74;\n",
       "        event.keyCode = 74;\n",
       "        manager.command_mode();\n",
       "        manager.handle_keydown(event);\n",
       "    }\n",
       "}\n",
       "\n",
       "mpl.figure.prototype.handle_save = function(fig, msg) {\n",
       "    fig.ondownload(fig, null);\n",
       "}\n",
       "\n",
       "\n",
       "mpl.find_output_cell = function(html_output) {\n",
       "    // Return the cell and output element which can be found *uniquely* in the notebook.\n",
       "    // Note - this is a bit hacky, but it is done because the \"notebook_saving.Notebook\"\n",
       "    // IPython event is triggered only after the cells have been serialised, which for\n",
       "    // our purposes (turning an active figure into a static one), is too late.\n",
       "    var cells = IPython.notebook.get_cells();\n",
       "    var ncells = cells.length;\n",
       "    for (var i=0; i<ncells; i++) {\n",
       "        var cell = cells[i];\n",
       "        if (cell.cell_type === 'code'){\n",
       "            for (var j=0; j<cell.output_area.outputs.length; j++) {\n",
       "                var data = cell.output_area.outputs[j];\n",
       "                if (data.data) {\n",
       "                    // IPython >= 3 moved mimebundle to data attribute of output\n",
       "                    data = data.data;\n",
       "                }\n",
       "                if (data['text/html'] == html_output) {\n",
       "                    return [cell, data, j];\n",
       "                }\n",
       "            }\n",
       "        }\n",
       "    }\n",
       "}\n",
       "\n",
       "// Register the function which deals with the matplotlib target/channel.\n",
       "// The kernel may be null if the page has been refreshed.\n",
       "if (IPython.notebook.kernel != null) {\n",
       "    IPython.notebook.kernel.comm_manager.register_target('matplotlib', mpl.mpl_figure_comm);\n",
       "}\n"
      ],
      "text/plain": [
       "<IPython.core.display.Javascript object>"
      ]
     },
     "metadata": {},
     "output_type": "display_data"
    },
    {
     "data": {
      "text/html": [
       "<img src=\"data:image/png;base64,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\" width=\"639.9999861283738\">"
      ],
      "text/plain": [
       "<IPython.core.display.HTML object>"
      ]
     },
     "metadata": {},
     "output_type": "display_data"
    }
   ],
   "source": [
    "plot_train(history)"
   ]
  },
  {
   "cell_type": "code",
   "execution_count": 136,
   "metadata": {},
   "outputs": [
    {
     "name": "stdout",
     "output_type": "stream",
     "text": [
      "512/825 [=================>............] - ETA: 0sModel Accuracy = 53.09 %\n",
      "Model Loss = 00.69\n"
     ]
    }
   ],
   "source": [
    "evaluation = model.evaluate(x_test, y_test, batch_size=512)\n",
    "print('Model Accuracy = {:.2f} %'.format(evaluation[1]*100))\n",
    "print('Model Loss = {:05.2f}'.format(evaluation[0]))"
   ]
  },
  {
   "cell_type": "code",
   "execution_count": null,
   "metadata": {
    "collapsed": true
   },
   "outputs": [],
   "source": []
  }
 ],
 "metadata": {
  "kernelspec": {
   "display_name": "Python 3",
   "language": "python",
   "name": "python3"
  },
  "language_info": {
   "codemirror_mode": {
    "name": "ipython",
    "version": 3
   },
   "file_extension": ".py",
   "mimetype": "text/x-python",
   "name": "python",
   "nbconvert_exporter": "python",
   "pygments_lexer": "ipython3",
   "version": "3.6.3"
  }
 },
 "nbformat": 4,
 "nbformat_minor": 2
}
