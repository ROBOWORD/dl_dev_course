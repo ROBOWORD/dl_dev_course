{
 "cells": [
  {
   "cell_type": "code",
   "execution_count": 1,
   "metadata": {},
   "outputs": [
    {
     "name": "stderr",
     "output_type": "stream",
     "text": [
      "Using TensorFlow backend.\n"
     ]
    }
   ],
   "source": [
    "import numpy as np\n",
    "import pandas as pd\n",
    "import matplotlib.pyplot as plt\n",
    "import sys\n",
    "\n",
    "import keras\n",
    "from keras.models import Sequential, Model, load_model\n",
    "from keras.layers import Dense, LSTM, Dropout, Input, Activation, Flatten \n",
    "from keras.layers import TimeDistributed, Conv2D, Bidirectional\n",
    "from keras.optimizers import RMSprop, Adam\n",
    "\n",
    "from keras.callbacks import ModelCheckpoint\n",
    "from keras.utils import np_utils\n",
    "\n",
    "import tensorflow as tf\n",
    "%matplotlib notebook"
   ]
  },
  {
   "cell_type": "code",
   "execution_count": 2,
   "metadata": {},
   "outputs": [
    {
     "name": "stdout",
     "output_type": "stream",
     "text": [
      "1.13.3\n",
      "0.20.3\n",
      "1.4.0-rc0\n",
      "2.0.8\n"
     ]
    }
   ],
   "source": [
    "print(np.__version__)\n",
    "print(pd.__version__)\n",
    "print(tf.__version__)\n",
    "print(keras.__version__)"
   ]
  },
  {
   "cell_type": "code",
   "execution_count": 3,
   "metadata": {
    "collapsed": true
   },
   "outputs": [],
   "source": [
    "#f = open('sp500.csv', 'rb').read()\n",
    "#data = f.decode().split('\\n')def updown(a,b):"
   ]
  },
  {
   "cell_type": "code",
   "execution_count": 4,
   "metadata": {},
   "outputs": [
    {
     "data": {
      "text/plain": [
       "8260"
      ]
     },
     "execution_count": 4,
     "metadata": {},
     "output_type": "execute_result"
    }
   ],
   "source": [
    "# load csv as np array\n",
    "raw = np.loadtxt(open('DJI-ohlc.csv'), delimiter=',')\n",
    "len(raw)"
   ]
  },
  {
   "cell_type": "code",
   "execution_count": 5,
   "metadata": {},
   "outputs": [
    {
     "data": {
      "text/plain": [
       "(numpy.ndarray,\n",
       " 4,\n",
       " array([ 1277.719971,  1295.48999 ,  1266.890015,  1292.619995]),\n",
       " array([ 23442.900391,  23517.710938,  23388.910156,  23435.009766]))"
      ]
     },
     "execution_count": 5,
     "metadata": {},
     "output_type": "execute_result"
    }
   ],
   "source": [
    "type(raw), len(raw[0]), raw[0], raw[-1]"
   ]
  },
  {
   "cell_type": "code",
   "execution_count": 6,
   "metadata": {
    "collapsed": true
   },
   "outputs": [],
   "source": [
    "# create list of sequences/window of length seqlen\n",
    "# set sequence length\n",
    "seqlen = 20\n",
    "winraw = []\n",
    "for i in range(len(raw)-seqlen):\n",
    "    winraw.append(raw[i:i+seqlen,:])"
   ]
  },
  {
   "cell_type": "code",
   "execution_count": 7,
   "metadata": {
    "collapsed": true
   },
   "outputs": [],
   "source": [
    "# convert winraw to np.array\n",
    "winarr = np.array(winraw)"
   ]
  },
  {
   "cell_type": "code",
   "execution_count": 8,
   "metadata": {},
   "outputs": [
    {
     "data": {
      "text/plain": [
       "(array([[ 1277.719971,  1295.48999 ,  1266.890015,  1292.619995],\n",
       "        [ 1297.369995,  1305.099976,  1278.930054,  1287.880005],\n",
       "        [ 1283.23999 ,  1293.400024,  1272.640015,  1286.77002 ],\n",
       "        [ 1276.939941,  1286.109985,  1269.77002 ,  1277.719971],\n",
       "        [ 1272.079956,  1294.939941,  1268.98999 ,  1290.079956],\n",
       "        [ 1294.060059,  1301.130005,  1278.599976,  1285.22998 ],\n",
       "        [ 1284.890015,  1294.5     ,  1275.069946,  1280.589966],\n",
       "        [ 1285.      ,  1297.040039,  1279.810059,  1290.079956],\n",
       "        [ 1290.079956,  1297.150024,  1281.359985,  1289.969971],\n",
       "        [ 1287.98999 ,  1291.73999 ,  1268.660034,  1276.060059],\n",
       "        [ 1271.199951,  1283.130005,  1266.339966,  1276.609985],\n",
       "        [ 1277.829956,  1304.660034,  1274.51001 ,  1297.920044],\n",
       "        [ 1301.790039,  1307.530029,  1283.680054,  1287.880005],\n",
       "        [ 1289.199951,  1296.27002 ,  1275.069946,  1282.02002 ],\n",
       "        [ 1279.810059,  1287.430054,  1273.52002 ,  1280.589966],\n",
       "        [ 1280.150024,  1292.51001 ,  1272.530029,  1283.130005],\n",
       "        [ 1280.369995,  1287.099976,  1272.640015,  1279.040039],\n",
       "        [ 1277.939941,  1286.550049,  1269.98999 ,  1275.839966],\n",
       "        [ 1269.98999 ,  1283.130005,  1263.910034,  1277.5     ],\n",
       "        [ 1276.280029,  1293.180054,  1272.310059,  1286.109985]]),\n",
       " 8240,\n",
       " 20,\n",
       " numpy.ndarray)"
      ]
     },
     "execution_count": 8,
     "metadata": {},
     "output_type": "execute_result"
    }
   ],
   "source": [
    "winarr[0],len(winarr), len(winarr[0]),type(winarr)"
   ]
  },
  {
   "cell_type": "code",
   "execution_count": 9,
   "metadata": {},
   "outputs": [
    {
     "data": {
      "text/plain": [
       "array([ True,  True,  True,  True], dtype=bool)"
      ]
     },
     "execution_count": 9,
     "metadata": {},
     "output_type": "execute_result"
    }
   ],
   "source": [
    "winraw[-1][-1] == raw[-2]"
   ]
  },
  {
   "cell_type": "code",
   "execution_count": 10,
   "metadata": {
    "collapsed": true,
    "scrolled": true
   },
   "outputs": [],
   "source": [
    "#halfseqlen = round(seqlen/2)\n",
    "#halfseqlen"
   ]
  },
  {
   "cell_type": "code",
   "execution_count": 11,
   "metadata": {},
   "outputs": [
    {
     "data": {
      "text/plain": [
       "(array([[ 1277.719971,  1295.48999 ,  1266.890015,  1292.619995],\n",
       "        [ 1297.369995,  1305.099976,  1278.930054,  1287.880005],\n",
       "        [ 1283.23999 ,  1293.400024,  1272.640015,  1286.77002 ],\n",
       "        [ 1276.939941,  1286.109985,  1269.77002 ,  1277.719971],\n",
       "        [ 1272.079956,  1294.939941,  1268.98999 ,  1290.079956],\n",
       "        [ 1294.060059,  1301.130005,  1278.599976,  1285.22998 ],\n",
       "        [ 1284.890015,  1294.5     ,  1275.069946,  1280.589966],\n",
       "        [ 1285.      ,  1297.040039,  1279.810059,  1290.079956],\n",
       "        [ 1290.079956,  1297.150024,  1281.359985,  1289.969971],\n",
       "        [ 1287.98999 ,  1291.73999 ,  1268.660034,  1276.060059],\n",
       "        [ 1271.199951,  1283.130005,  1266.339966,  1276.609985],\n",
       "        [ 1277.829956,  1304.660034,  1274.51001 ,  1297.920044],\n",
       "        [ 1301.790039,  1307.530029,  1283.680054,  1287.880005],\n",
       "        [ 1289.199951,  1296.27002 ,  1275.069946,  1282.02002 ],\n",
       "        [ 1279.810059,  1287.430054,  1273.52002 ,  1280.589966],\n",
       "        [ 1280.150024,  1292.51001 ,  1272.530029,  1283.130005],\n",
       "        [ 1280.369995,  1287.099976,  1272.640015,  1279.040039],\n",
       "        [ 1277.939941,  1286.550049,  1269.98999 ,  1275.839966],\n",
       "        [ 1269.98999 ,  1283.130005,  1263.910034,  1277.5     ],\n",
       "        [ 1276.280029,  1293.180054,  1272.310059,  1286.109985]]),\n",
       " 1286.1099850000001,\n",
       " 1292.619995)"
      ]
     },
     "execution_count": 11,
     "metadata": {},
     "output_type": "execute_result"
    }
   ],
   "source": [
    "zz = 0\n",
    "winarr[zz], winarr[zz][-1][-1],winarr[zz][0][-1]"
   ]
  },
  {
   "cell_type": "code",
   "execution_count": 12,
   "metadata": {
    "collapsed": true
   },
   "outputs": [],
   "source": [
    "trends = ['up', 'dn', 'flat']"
   ]
  },
  {
   "cell_type": "code",
   "execution_count": 13,
   "metadata": {
    "collapsed": true
   },
   "outputs": [],
   "source": [
    "# helper functions to check if uptrend, downtrend or flat\n",
    "# 1st part is to get change(difference) of each window from 1st to last close\n",
    "# 2nd part is to check the stats of the difference\n",
    "# 3rd part is to check trend\n",
    "\n",
    "# get range of each window by subtracting last close from 1st close\n",
    "# and dividing by 1st close to get a % change\n",
    "def getRange(w):\n",
    "    wa = w[0][-1]\n",
    "    #wb = w[halfseqlen][-1]\n",
    "    wc = w[-1][-1]\n",
    "    return (wc-wa)/wa\n",
    "\n",
    "# check trend and give Y\n",
    "def checkTrend(a,b):\n",
    "    # uptrend is 1, downtrend is 2, flat is 3\n",
    "    if a >= b:\n",
    "        return 0\n",
    "    elif a <= -b:\n",
    "        return 1\n",
    "    else:\n",
    "        return 2\n"
   ]
  },
  {
   "cell_type": "code",
   "execution_count": 14,
   "metadata": {
    "collapsed": true
   },
   "outputs": [],
   "source": [
    "windowrange = []\n",
    "for w in winarr:\n",
    "    windowrange.append(getRange(w))\n"
   ]
  },
  {
   "cell_type": "code",
   "execution_count": 15,
   "metadata": {},
   "outputs": [
    {
     "data": {
      "text/plain": [
       "8240"
      ]
     },
     "execution_count": 15,
     "metadata": {},
     "output_type": "execute_result"
    }
   ],
   "source": [
    "len(windowrange)"
   ]
  },
  {
   "cell_type": "code",
   "execution_count": 16,
   "metadata": {
    "collapsed": true
   },
   "outputs": [],
   "source": [
    "absrange = [abs(x) for x in windowrange]"
   ]
  },
  {
   "cell_type": "code",
   "execution_count": 17,
   "metadata": {},
   "outputs": [
    {
     "data": {
      "text/plain": [
       "(8240,\n",
       " [0.0050362906540061415,\n",
       "  0.0053187998675388783,\n",
       "  0.0021449131990190179,\n",
       "  0.016936429335970726,\n",
       "  0.00042627357896879464,\n",
       "  0.0051508260023625501,\n",
       "  0.00017177317161642263,\n",
       "  0.014378897147984232,\n",
       "  0.015744503714497701,\n",
       "  0.0058853107634175752])"
      ]
     },
     "execution_count": 17,
     "metadata": {},
     "output_type": "execute_result"
    }
   ],
   "source": [
    "len(absrange),absrange[:10]"
   ]
  },
  {
   "cell_type": "code",
   "execution_count": 18,
   "metadata": {},
   "outputs": [
    {
     "data": {
      "text/plain": [
       "(0.32293376031473131, 0.0, 0.031925640746101998)"
      ]
     },
     "execution_count": 18,
     "metadata": {},
     "output_type": "execute_result"
    }
   ],
   "source": [
    "max(absrange),min(absrange), np.mean(absrange)"
   ]
  },
  {
   "cell_type": "code",
   "execution_count": 19,
   "metadata": {},
   "outputs": [
    {
     "data": {
      "text/plain": [
       "(0.22461109702830503, 6079)"
      ]
     },
     "execution_count": 19,
     "metadata": {},
     "output_type": "execute_result"
    }
   ],
   "source": [
    "max(windowrange),np.argmax(windowrange)"
   ]
  },
  {
   "cell_type": "code",
   "execution_count": 20,
   "metadata": {},
   "outputs": [
    {
     "data": {
      "text/plain": [
       "array([[ 6625.740234,  6709.609863,  6516.859863,  6547.049805],\n",
       "       [ 6547.009766,  6926.490234,  6546.609863,  6926.490234],\n",
       "       [ 6923.129883,  7015.060059,  6867.549805,  6930.399902],\n",
       "       [ 6932.390137,  7184.709961,  6872.25    ,  7170.060059],\n",
       "       [ 7167.350098,  7242.620117,  7105.859863,  7223.97998 ],\n",
       "       [ 7225.330078,  7392.910156,  7206.850098,  7216.970215],\n",
       "       [ 7218.      ,  7396.810059,  7172.049805,  7395.700195],\n",
       "       [ 7395.700195,  7571.640137,  7257.27002 ,  7486.580078],\n",
       "       [ 7489.680176,  7548.459961,  7369.259766,  7400.799805],\n",
       "       [ 7402.310059,  7460.930176,  7257.830078,  7278.379883],\n",
       "       [ 7279.25    ,  7780.720215,  7278.779785,  7775.859863],\n",
       "       [ 7773.470215,  7796.569824,  7646.990234,  7659.970215],\n",
       "       [ 7659.810059,  7863.629883,  7550.060059,  7749.810059],\n",
       "       [ 7752.359863,  7931.330078,  7752.279785,  7924.560059],\n",
       "       [ 7922.569824,  7922.569824,  7735.950195,  7776.180176],\n",
       "       [ 7773.310059,  7773.390137,  7437.589844,  7522.02002 ],\n",
       "       [ 7523.77002 ,  7725.359863,  7523.450195,  7608.919922],\n",
       "       [ 7606.129883,  7789.      ,  7483.870117,  7761.600098],\n",
       "       [ 7763.990234,  8075.72998 ,  7763.990234,  7978.080078],\n",
       "       [ 7980.629883,  8019.5     ,  7897.240234,  8017.589844]])"
      ]
     },
     "execution_count": 20,
     "metadata": {},
     "output_type": "execute_result"
    }
   ],
   "source": [
    "winarr[6079]"
   ]
  },
  {
   "cell_type": "code",
   "execution_count": 21,
   "metadata": {},
   "outputs": [
    {
     "data": {
      "text/plain": [
       "0.031925640746101998"
      ]
     },
     "execution_count": 21,
     "metadata": {},
     "output_type": "execute_result"
    }
   ],
   "source": [
    "avgchg = np.mean(absrange)\n",
    "avgchg"
   ]
  },
  {
   "cell_type": "code",
   "execution_count": 22,
   "metadata": {
    "collapsed": true
   },
   "outputs": [],
   "source": [
    "y = []\n",
    "for w in windowrange:\n",
    "    y.append(checkTrend(w,avgchg-0.01))"
   ]
  },
  {
   "cell_type": "code",
   "execution_count": 23,
   "metadata": {},
   "outputs": [
    {
     "data": {
      "text/plain": [
       "(2962, 1591, 3687)"
      ]
     },
     "execution_count": 23,
     "metadata": {},
     "output_type": "execute_result"
    }
   ],
   "source": [
    "y.count(0),y.count(1), y.count(2)"
   ]
  },
  {
   "cell_type": "code",
   "execution_count": null,
   "metadata": {
    "collapsed": true
   },
   "outputs": [],
   "source": []
  },
  {
   "cell_type": "code",
   "execution_count": 24,
   "metadata": {},
   "outputs": [
    {
     "name": "stdout",
     "output_type": "stream",
     "text": [
      "[[ 1277.719971  1295.48999   1266.890015  1292.619995]\n",
      " [ 1297.369995  1305.099976  1278.930054  1287.880005]\n",
      " [ 1283.23999   1293.400024  1272.640015  1286.77002 ]\n",
      " [ 1276.939941  1286.109985  1269.77002   1277.719971]\n",
      " [ 1272.079956  1294.939941  1268.98999   1290.079956]\n",
      " [ 1294.060059  1301.130005  1278.599976  1285.22998 ]\n",
      " [ 1284.890015  1294.5       1275.069946  1280.589966]\n",
      " [ 1285.        1297.040039  1279.810059  1290.079956]\n",
      " [ 1290.079956  1297.150024  1281.359985  1289.969971]\n",
      " [ 1287.98999   1291.73999   1268.660034  1276.060059]\n",
      " [ 1271.199951  1283.130005  1266.339966  1276.609985]\n",
      " [ 1277.829956  1304.660034  1274.51001   1297.920044]\n",
      " [ 1301.790039  1307.530029  1283.680054  1287.880005]\n",
      " [ 1289.199951  1296.27002   1275.069946  1282.02002 ]\n",
      " [ 1279.810059  1287.430054  1273.52002   1280.589966]\n",
      " [ 1280.150024  1292.51001   1272.530029  1283.130005]\n",
      " [ 1280.369995  1287.099976  1272.640015  1279.040039]\n",
      " [ 1277.939941  1286.550049  1269.98999   1275.839966]\n",
      " [ 1269.98999   1283.130005  1263.910034  1277.5     ]\n",
      " [ 1276.280029  1293.180054  1272.310059  1286.109985]]\n",
      "2\n",
      "-6.51001 -0.00503629065401\n"
     ]
    }
   ],
   "source": [
    "# check y against winarr values\n",
    "z = 0\n",
    "\n",
    "print(winarr[z])\n",
    "print(y[z])\n",
    "print(winarr[z][-1][-1]-winarr[z][0][-1],(winarr[z][-1][-1]-winarr[z][0][-1])/winarr[z][0][-1])"
   ]
  },
  {
   "cell_type": "code",
   "execution_count": 25,
   "metadata": {},
   "outputs": [
    {
     "data": {
      "text/plain": [
       "True"
      ]
     },
     "execution_count": 25,
     "metadata": {},
     "output_type": "execute_result"
    }
   ],
   "source": [
    "len(winarr)==len(y)"
   ]
  },
  {
   "cell_type": "code",
   "execution_count": 26,
   "metadata": {},
   "outputs": [
    {
     "data": {
      "text/plain": [
       "(array([[ 1277.719971,  1295.48999 ,  1266.890015,  1292.619995],\n",
       "        [ 1297.369995,  1305.099976,  1278.930054,  1287.880005],\n",
       "        [ 1283.23999 ,  1293.400024,  1272.640015,  1286.77002 ],\n",
       "        [ 1276.939941,  1286.109985,  1269.77002 ,  1277.719971],\n",
       "        [ 1272.079956,  1294.939941,  1268.98999 ,  1290.079956],\n",
       "        [ 1294.060059,  1301.130005,  1278.599976,  1285.22998 ],\n",
       "        [ 1284.890015,  1294.5     ,  1275.069946,  1280.589966],\n",
       "        [ 1285.      ,  1297.040039,  1279.810059,  1290.079956],\n",
       "        [ 1290.079956,  1297.150024,  1281.359985,  1289.969971],\n",
       "        [ 1287.98999 ,  1291.73999 ,  1268.660034,  1276.060059],\n",
       "        [ 1271.199951,  1283.130005,  1266.339966,  1276.609985],\n",
       "        [ 1277.829956,  1304.660034,  1274.51001 ,  1297.920044],\n",
       "        [ 1301.790039,  1307.530029,  1283.680054,  1287.880005],\n",
       "        [ 1289.199951,  1296.27002 ,  1275.069946,  1282.02002 ],\n",
       "        [ 1279.810059,  1287.430054,  1273.52002 ,  1280.589966],\n",
       "        [ 1280.150024,  1292.51001 ,  1272.530029,  1283.130005],\n",
       "        [ 1280.369995,  1287.099976,  1272.640015,  1279.040039],\n",
       "        [ 1277.939941,  1286.550049,  1269.98999 ,  1275.839966],\n",
       "        [ 1269.98999 ,  1283.130005,  1263.910034,  1277.5     ],\n",
       "        [ 1276.280029,  1293.180054,  1272.310059,  1286.109985]]), 20)"
      ]
     },
     "execution_count": 26,
     "metadata": {},
     "output_type": "execute_result"
    }
   ],
   "source": [
    "winarr[0], len(winarr[0])"
   ]
  },
  {
   "cell_type": "code",
   "execution_count": 27,
   "metadata": {},
   "outputs": [
    {
     "data": {
      "text/plain": [
       "((8240, 20, 4), numpy.ndarray, numpy.ndarray, numpy.ndarray, numpy.float64)"
      ]
     },
     "execution_count": 27,
     "metadata": {},
     "output_type": "execute_result"
    }
   ],
   "source": [
    "winarr.shape,type(winarr),type(winarr[0]),type(winarr[0][0]),type(winarr[0][0][0])"
   ]
  },
  {
   "cell_type": "code",
   "execution_count": 28,
   "metadata": {
    "collapsed": true
   },
   "outputs": [],
   "source": [
    "winarrhalf = []\n",
    "seqlenhalf = round(seqlen/2)\n",
    "for w in winarr:\n",
    "    whalf = w[:seqlenhalf]\n",
    "    winarrhalf.append(whalf)"
   ]
  },
  {
   "cell_type": "code",
   "execution_count": 29,
   "metadata": {},
   "outputs": [
    {
     "data": {
      "text/plain": [
       "(8240, 10)"
      ]
     },
     "execution_count": 29,
     "metadata": {},
     "output_type": "execute_result"
    }
   ],
   "source": [
    "len(winarrhalf), len(winarrhalf[0])"
   ]
  },
  {
   "cell_type": "code",
   "execution_count": 30,
   "metadata": {
    "collapsed": true
   },
   "outputs": [],
   "source": [
    "# normalize X\n",
    "for w in winarrhalf:\n",
    "    #print(w[0][0])\n",
    "    w/=w[0][0]\n",
    "    w -= 1"
   ]
  },
  {
   "cell_type": "code",
   "execution_count": 31,
   "metadata": {},
   "outputs": [
    {
     "data": {
      "text/plain": [
       "array([[ 0.        ,  0.00595819, -0.01421332, -0.00731479],\n",
       "       [-0.01089127, -0.00306001, -0.01906162, -0.00817036],\n",
       "       [-0.01574728, -0.0086791 , -0.02127379, -0.01514604],\n",
       "       [-0.01949331, -0.00187306, -0.02187503, -0.00561909],\n",
       "       [-0.00255127,  0.00289818, -0.01446775, -0.0093574 ],\n",
       "       [-0.00961945, -0.00221216, -0.01718866, -0.01293388],\n",
       "       [-0.00953467, -0.00025433, -0.01353503, -0.00561909],\n",
       "       [-0.00561909, -0.00016955, -0.01234036, -0.00570387],\n",
       "       [-0.00723002, -0.00433955, -0.02212935, -0.01642549],\n",
       "       [-0.02017161, -0.01097604, -0.02391764, -0.01600161]])"
      ]
     },
     "execution_count": 31,
     "metadata": {},
     "output_type": "execute_result"
    }
   ],
   "source": [
    "winarrhalf[1]"
   ]
  },
  {
   "cell_type": "code",
   "execution_count": 32,
   "metadata": {},
   "outputs": [
    {
     "data": {
      "text/plain": [
       "(8240, 10, 4)"
      ]
     },
     "execution_count": 32,
     "metadata": {},
     "output_type": "execute_result"
    }
   ],
   "source": [
    "winarrhalf = np.array(winarrhalf)\n",
    "winarrhalf.shape"
   ]
  },
  {
   "cell_type": "code",
   "execution_count": 33,
   "metadata": {
    "collapsed": true
   },
   "outputs": [],
   "source": [
    "# convert yr and winnorm to np.array\n",
    "yarr = np.array(y)\n",
    "#winnormarr = np.array(winnorm)"
   ]
  },
  {
   "cell_type": "code",
   "execution_count": 34,
   "metadata": {},
   "outputs": [
    {
     "data": {
      "text/plain": [
       "((8240,), (8240, 20, 4))"
      ]
     },
     "execution_count": 34,
     "metadata": {},
     "output_type": "execute_result"
    }
   ],
   "source": [
    "yarr.shape, winarr.shape"
   ]
  },
  {
   "cell_type": "code",
   "execution_count": 35,
   "metadata": {},
   "outputs": [
    {
     "data": {
      "text/plain": [
       "((8240, 1), (8240, 20, 4))"
      ]
     },
     "execution_count": 35,
     "metadata": {},
     "output_type": "execute_result"
    }
   ],
   "source": [
    "# reshape yarr\n",
    "yarr = np.reshape(yarr,(yarr.shape[0],1))\n",
    "yarr.shape, winarr.shape"
   ]
  },
  {
   "cell_type": "code",
   "execution_count": 36,
   "metadata": {
    "collapsed": true
   },
   "outputs": [],
   "source": [
    "def unison_shuffled_copies(a, b):\n",
    "    assert len(a) == len(b)\n",
    "    p = np.random.permutation(len(a))\n",
    "    return a[p], b[p]\n",
    "#x_data,y_data = unison_shuffled_copies(x_data,y_data)"
   ]
  },
  {
   "cell_type": "code",
   "execution_count": 37,
   "metadata": {
    "collapsed": true
   },
   "outputs": [],
   "source": [
    "row = round(0.8 * winarrhalf.shape[0])"
   ]
  },
  {
   "cell_type": "code",
   "execution_count": 38,
   "metadata": {
    "collapsed": true
   },
   "outputs": [],
   "source": [
    "#train = winnormarr[:int(row), :]"
   ]
  },
  {
   "cell_type": "code",
   "execution_count": 39,
   "metadata": {
    "collapsed": true
   },
   "outputs": [],
   "source": [
    "#np.random.shuffle(train)"
   ]
  },
  {
   "cell_type": "code",
   "execution_count": 40,
   "metadata": {
    "collapsed": true
   },
   "outputs": [],
   "source": [
    "x_train = winarrhalf[:row]\n",
    "y_train = yarr[:row]"
   ]
  },
  {
   "cell_type": "code",
   "execution_count": 41,
   "metadata": {
    "collapsed": true
   },
   "outputs": [],
   "source": [
    "x_test = winarrhalf[int(row):]\n",
    "y_test = yarr[int(row):]"
   ]
  },
  {
   "cell_type": "code",
   "execution_count": 42,
   "metadata": {},
   "outputs": [
    {
     "data": {
      "text/plain": [
       "((6592, 10, 4), (6592, 1), (1648, 10, 4), (1648, 1))"
      ]
     },
     "execution_count": 42,
     "metadata": {},
     "output_type": "execute_result"
    }
   ],
   "source": [
    "x_train.shape,y_train.shape, x_test.shape, y_test.shape"
   ]
  },
  {
   "cell_type": "code",
   "execution_count": 43,
   "metadata": {
    "collapsed": true
   },
   "outputs": [],
   "source": [
    "x_train = np.reshape(x_train, (x_train.shape[0], x_train.shape[1], x_train.shape[2]))\n",
    "x_test = np.reshape(x_test, (x_test.shape[0], x_test.shape[1], x_test.shape[2])) "
   ]
  },
  {
   "cell_type": "code",
   "execution_count": 44,
   "metadata": {},
   "outputs": [
    {
     "data": {
      "text/plain": [
       "((6592, 10, 4), (6592, 1), (1648, 10, 4), (1648, 1))"
      ]
     },
     "execution_count": 44,
     "metadata": {},
     "output_type": "execute_result"
    }
   ],
   "source": [
    "x_train.shape, y_train.shape, x_test.shape, y_test.shape"
   ]
  },
  {
   "cell_type": "code",
   "execution_count": 45,
   "metadata": {
    "collapsed": true
   },
   "outputs": [],
   "source": [
    "# convert class vectors to binary class matrices\n",
    "num_classes = len(trends)\n",
    "y_train = keras.utils.to_categorical(y_train, num_classes=num_classes)\n",
    "y_test = keras.utils.to_categorical(y_test, num_classes=num_classes)"
   ]
  },
  {
   "cell_type": "code",
   "execution_count": 46,
   "metadata": {},
   "outputs": [
    {
     "name": "stdout",
     "output_type": "stream",
     "text": [
      "(10, 4)\n"
     ]
    }
   ],
   "source": [
    "inputshape = ( x_train.shape[1], x_train.shape[2]) #,x_train.shape[3])\n",
    "print(inputshape)"
   ]
  },
  {
   "cell_type": "code",
   "execution_count": 47,
   "metadata": {
    "collapsed": true
   },
   "outputs": [],
   "source": [
    "# define the input shape\n",
    "inp = Input(shape=inputshape)"
   ]
  },
  {
   "cell_type": "code",
   "execution_count": 48,
   "metadata": {
    "collapsed": true
   },
   "outputs": [],
   "source": [
    "\n",
    "#print('our input shape is ',(x_train.shape[1], x_train.shape[2]) )\n",
    "#x = TimeDistributed(Conv2D(32,(2,2), activation='relu'))(inp)\n",
    "#x = TimeDistributed(Flatten())(x)\n",
    "\n",
    "x = LSTM(32, return_sequences = True)(inp) \n",
    "#x = Dropout(0.2)(x)\n",
    "x = LSTM(64, return_sequences = False, go_backwards=True)(x)\n",
    "#x = Dropout(0.2)(x)\n",
    "\n",
    "#x = TimeDistributed(Conv2D(32,(2,2), activation='relu')0)(x)\n",
    "x = Dropout(0.2)(x)\n",
    "#x = Flatten()(x)\n",
    "output = Dense(num_classes, activation ='softmax')(x)\n",
    "\n",
    "model = Model(inputs = inp, outputs=output )"
   ]
  },
  {
   "cell_type": "code",
   "execution_count": 49,
   "metadata": {
    "collapsed": true
   },
   "outputs": [],
   "source": [
    "#optimizer = RMSprop(lr=0.01)\n",
    "model.compile(loss='categorical_crossentropy', optimizer='adam', metrics=['accuracy'])"
   ]
  },
  {
   "cell_type": "code",
   "execution_count": 50,
   "metadata": {},
   "outputs": [
    {
     "name": "stdout",
     "output_type": "stream",
     "text": [
      "_________________________________________________________________\n",
      "Layer (type)                 Output Shape              Param #   \n",
      "=================================================================\n",
      "input_1 (InputLayer)         (None, 10, 4)             0         \n",
      "_________________________________________________________________\n",
      "lstm_1 (LSTM)                (None, 10, 32)            4736      \n",
      "_________________________________________________________________\n",
      "lstm_2 (LSTM)                (None, 64)                24832     \n",
      "_________________________________________________________________\n",
      "dropout_1 (Dropout)          (None, 64)                0         \n",
      "_________________________________________________________________\n",
      "dense_1 (Dense)              (None, 3)                 195       \n",
      "=================================================================\n",
      "Total params: 29,763\n",
      "Trainable params: 29,763\n",
      "Non-trainable params: 0\n",
      "_________________________________________________________________\n"
     ]
    }
   ],
   "source": [
    "model.summary()"
   ]
  },
  {
   "cell_type": "code",
   "execution_count": 51,
   "metadata": {},
   "outputs": [
    {
     "name": "stdout",
     "output_type": "stream",
     "text": [
      "Train on 6592 samples, validate on 1648 samples\n",
      "Epoch 1/200\n",
      "6592/6592 [==============================] - 3s - loss: 1.0268 - acc: 0.4589 - val_loss: 0.9158 - val_acc: 0.5674\n",
      "Epoch 2/200\n",
      "6592/6592 [==============================] - 2s - loss: 0.9210 - acc: 0.5535 - val_loss: 0.8367 - val_acc: 0.6135\n",
      "Epoch 3/200\n",
      "6592/6592 [==============================] - 2s - loss: 0.8811 - acc: 0.5765 - val_loss: 0.8588 - val_acc: 0.6110\n",
      "Epoch 4/200\n",
      "6592/6592 [==============================] - 2s - loss: 0.8805 - acc: 0.5846 - val_loss: 0.8486 - val_acc: 0.6147\n",
      "Epoch 5/200\n",
      "6592/6592 [==============================] - 2s - loss: 0.8775 - acc: 0.5850 - val_loss: 0.8467 - val_acc: 0.6135\n",
      "Epoch 6/200\n",
      "6592/6592 [==============================] - 2s - loss: 0.8717 - acc: 0.5871 - val_loss: 0.8398 - val_acc: 0.6250\n",
      "Epoch 7/200\n",
      "6592/6592 [==============================] - 2s - loss: 0.8795 - acc: 0.5837 - val_loss: 0.8408 - val_acc: 0.6177\n",
      "Epoch 8/200\n",
      "6592/6592 [==============================] - 2s - loss: 0.8722 - acc: 0.5921 - val_loss: 0.8547 - val_acc: 0.5886\n",
      "Epoch 9/200\n",
      "6592/6592 [==============================] - 2s - loss: 0.8688 - acc: 0.5883 - val_loss: 0.8337 - val_acc: 0.6305\n",
      "Epoch 10/200\n",
      "6592/6592 [==============================] - 2s - loss: 0.8710 - acc: 0.5936 - val_loss: 0.8462 - val_acc: 0.6201\n",
      "Epoch 11/200\n",
      "6592/6592 [==============================] - 2s - loss: 0.8682 - acc: 0.5884 - val_loss: 0.8229 - val_acc: 0.6238\n",
      "Epoch 12/200\n",
      "6592/6592 [==============================] - 2s - loss: 0.8669 - acc: 0.5851 - val_loss: 0.8330 - val_acc: 0.6189\n",
      "Epoch 13/200\n",
      "6592/6592 [==============================] - 2s - loss: 0.8653 - acc: 0.5938 - val_loss: 0.8284 - val_acc: 0.6305\n",
      "Epoch 14/200\n",
      "6592/6592 [==============================] - 2s - loss: 0.8629 - acc: 0.5963 - val_loss: 0.8343 - val_acc: 0.6098\n",
      "Epoch 15/200\n",
      "6592/6592 [==============================] - 2s - loss: 0.8581 - acc: 0.6000 - val_loss: 0.8123 - val_acc: 0.6365\n",
      "Epoch 16/200\n",
      "6592/6592 [==============================] - 2s - loss: 0.8554 - acc: 0.6015 - val_loss: 0.8124 - val_acc: 0.6292\n",
      "Epoch 17/200\n",
      "6592/6592 [==============================] - 2s - loss: 0.8585 - acc: 0.5916 - val_loss: 0.8076 - val_acc: 0.6292\n",
      "Epoch 18/200\n",
      "6592/6592 [==============================] - 2s - loss: 0.8529 - acc: 0.6035 - val_loss: 0.8259 - val_acc: 0.6177\n",
      "Epoch 19/200\n",
      "6592/6592 [==============================] - 2s - loss: 0.8470 - acc: 0.6039 - val_loss: 0.8052 - val_acc: 0.6286\n",
      "Epoch 20/200\n",
      "6592/6592 [==============================] - 2s - loss: 0.8399 - acc: 0.6083 - val_loss: 0.7991 - val_acc: 0.6359\n",
      "Epoch 21/200\n",
      "6592/6592 [==============================] - 2s - loss: 0.8389 - acc: 0.6104 - val_loss: 0.7917 - val_acc: 0.6383\n",
      "Epoch 22/200\n",
      "6592/6592 [==============================] - 2s - loss: 0.8455 - acc: 0.6033 - val_loss: 0.8148 - val_acc: 0.6232\n",
      "Epoch 23/200\n",
      "6592/6592 [==============================] - 2s - loss: 0.8409 - acc: 0.6048 - val_loss: 0.7924 - val_acc: 0.6323\n",
      "Epoch 24/200\n",
      "6592/6592 [==============================] - 2s - loss: 0.8335 - acc: 0.6118 - val_loss: 0.7882 - val_acc: 0.6347\n",
      "Epoch 25/200\n",
      "6592/6592 [==============================] - 2s - loss: 0.8412 - acc: 0.6022 - val_loss: 0.8130 - val_acc: 0.6183\n",
      "Epoch 26/200\n",
      "6592/6592 [==============================] - 2s - loss: 0.8346 - acc: 0.6132 - val_loss: 0.7918 - val_acc: 0.6323\n",
      "Epoch 27/200\n",
      "6592/6592 [==============================] - 2s - loss: 0.8284 - acc: 0.6139 - val_loss: 0.7930 - val_acc: 0.6159\n",
      "Epoch 28/200\n",
      "6592/6592 [==============================] - 2s - loss: 0.8375 - acc: 0.6077 - val_loss: 0.7991 - val_acc: 0.6311\n",
      "Epoch 29/200\n",
      "6592/6592 [==============================] - 2s - loss: 0.8363 - acc: 0.6076 - val_loss: 0.7895 - val_acc: 0.6383\n",
      "Epoch 30/200\n",
      "6592/6592 [==============================] - 2s - loss: 0.8285 - acc: 0.6126 - val_loss: 0.7947 - val_acc: 0.6408\n",
      "Epoch 31/200\n",
      "6592/6592 [==============================] - 2s - loss: 0.8271 - acc: 0.6170 - val_loss: 0.8007 - val_acc: 0.6232\n",
      "Epoch 32/200\n",
      "6592/6592 [==============================] - 2s - loss: 0.8275 - acc: 0.6103 - val_loss: 0.7888 - val_acc: 0.6280\n",
      "Epoch 33/200\n",
      "6592/6592 [==============================] - 2s - loss: 0.8307 - acc: 0.6147 - val_loss: 0.7893 - val_acc: 0.6256\n",
      "Epoch 34/200\n",
      "6592/6592 [==============================] - 2s - loss: 0.8266 - acc: 0.6089 - val_loss: 0.7944 - val_acc: 0.6390\n",
      "Epoch 35/200\n",
      "6592/6592 [==============================] - 2s - loss: 0.8288 - acc: 0.6151 - val_loss: 0.7897 - val_acc: 0.6396\n",
      "Epoch 36/200\n",
      "6592/6592 [==============================] - 2s - loss: 0.8290 - acc: 0.6118 - val_loss: 0.7869 - val_acc: 0.6359\n",
      "Epoch 37/200\n",
      "6592/6592 [==============================] - 2s - loss: 0.8285 - acc: 0.6092 - val_loss: 0.7863 - val_acc: 0.6317\n",
      "Epoch 38/200\n",
      "6592/6592 [==============================] - 2s - loss: 0.8283 - acc: 0.6148 - val_loss: 0.7877 - val_acc: 0.6201\n",
      "Epoch 39/200\n",
      "6592/6592 [==============================] - 2s - loss: 0.8267 - acc: 0.6127 - val_loss: 0.7883 - val_acc: 0.6299\n",
      "Epoch 40/200\n",
      "6592/6592 [==============================] - 2s - loss: 0.8283 - acc: 0.6129 - val_loss: 0.7808 - val_acc: 0.6280\n",
      "Epoch 41/200\n",
      "6592/6592 [==============================] - 2s - loss: 0.8226 - acc: 0.6174 - val_loss: 0.7980 - val_acc: 0.6214\n",
      "Epoch 42/200\n",
      "6592/6592 [==============================] - 2s - loss: 0.8266 - acc: 0.6151 - val_loss: 0.7926 - val_acc: 0.6262\n",
      "Epoch 43/200\n",
      "6592/6592 [==============================] - 2s - loss: 0.8249 - acc: 0.6171 - val_loss: 0.7849 - val_acc: 0.6268\n",
      "Epoch 44/200\n",
      "6592/6592 [==============================] - 2s - loss: 0.8251 - acc: 0.6156 - val_loss: 0.7797 - val_acc: 0.6292\n",
      "Epoch 45/200\n",
      "6592/6592 [==============================] - 2s - loss: 0.8239 - acc: 0.6211 - val_loss: 0.7945 - val_acc: 0.6238\n",
      "Epoch 46/200\n",
      "6592/6592 [==============================] - 2s - loss: 0.8240 - acc: 0.6148 - val_loss: 0.8091 - val_acc: 0.6086\n",
      "Epoch 47/200\n",
      "6592/6592 [==============================] - 2s - loss: 0.8241 - acc: 0.6185 - val_loss: 0.7782 - val_acc: 0.6335\n",
      "Epoch 48/200\n",
      "6592/6592 [==============================] - 2s - loss: 0.8217 - acc: 0.6132 - val_loss: 0.7908 - val_acc: 0.6383\n",
      "Epoch 49/200\n",
      "6592/6592 [==============================] - 2s - loss: 0.8213 - acc: 0.6147 - val_loss: 0.7775 - val_acc: 0.6256\n",
      "Epoch 50/200\n",
      "6592/6592 [==============================] - 2s - loss: 0.8226 - acc: 0.6229 - val_loss: 0.7899 - val_acc: 0.6390\n",
      "Epoch 51/200\n",
      "6592/6592 [==============================] - 2s - loss: 0.8214 - acc: 0.6179 - val_loss: 0.7880 - val_acc: 0.6329\n",
      "Epoch 52/200\n",
      "6592/6592 [==============================] - 2s - loss: 0.8226 - acc: 0.6156 - val_loss: 0.7804 - val_acc: 0.6426\n",
      "Epoch 53/200\n",
      "6592/6592 [==============================] - 2s - loss: 0.8215 - acc: 0.6168 - val_loss: 0.7835 - val_acc: 0.6377\n",
      "Epoch 54/200\n",
      "6592/6592 [==============================] - 2s - loss: 0.8236 - acc: 0.6153 - val_loss: 0.7832 - val_acc: 0.6329\n",
      "Epoch 55/200\n",
      "6592/6592 [==============================] - 2s - loss: 0.8228 - acc: 0.6145 - val_loss: 0.7810 - val_acc: 0.6329\n",
      "Epoch 56/200\n",
      "6592/6592 [==============================] - 2s - loss: 0.8212 - acc: 0.6215 - val_loss: 0.7792 - val_acc: 0.6353\n",
      "Epoch 57/200\n",
      "6592/6592 [==============================] - 2s - loss: 0.8225 - acc: 0.6186 - val_loss: 0.7835 - val_acc: 0.6371\n",
      "Epoch 58/200\n",
      "6592/6592 [==============================] - 2s - loss: 0.8191 - acc: 0.6191 - val_loss: 0.7833 - val_acc: 0.6377\n",
      "Epoch 59/200\n",
      "6592/6592 [==============================] - 2s - loss: 0.8225 - acc: 0.6194 - val_loss: 0.7880 - val_acc: 0.6371\n",
      "Epoch 60/200\n",
      "6592/6592 [==============================] - 2s - loss: 0.8233 - acc: 0.6185 - val_loss: 0.7794 - val_acc: 0.6305\n",
      "Epoch 61/200\n",
      "6592/6592 [==============================] - 2s - loss: 0.8222 - acc: 0.6233 - val_loss: 0.7881 - val_acc: 0.6335\n",
      "Epoch 62/200\n",
      "6592/6592 [==============================] - 2s - loss: 0.8209 - acc: 0.6198 - val_loss: 0.7791 - val_acc: 0.6353\n",
      "Epoch 63/200\n",
      "6592/6592 [==============================] - 2s - loss: 0.8210 - acc: 0.6192 - val_loss: 0.7837 - val_acc: 0.6244\n",
      "Epoch 64/200\n",
      "6592/6592 [==============================] - 2s - loss: 0.8206 - acc: 0.6165 - val_loss: 0.7813 - val_acc: 0.6286\n",
      "Epoch 65/200\n"
     ]
    },
    {
     "name": "stdout",
     "output_type": "stream",
     "text": [
      "6592/6592 [==============================] - 2s - loss: 0.8232 - acc: 0.6150 - val_loss: 0.7818 - val_acc: 0.6274\n",
      "Epoch 66/200\n",
      "6592/6592 [==============================] - 2s - loss: 0.8212 - acc: 0.6223 - val_loss: 0.7929 - val_acc: 0.6299\n",
      "Epoch 67/200\n",
      "6592/6592 [==============================] - 2s - loss: 0.8219 - acc: 0.6120 - val_loss: 0.7882 - val_acc: 0.6189\n",
      "Epoch 68/200\n",
      "6592/6592 [==============================] - 2s - loss: 0.8225 - acc: 0.6153 - val_loss: 0.7795 - val_acc: 0.6280\n",
      "Epoch 69/200\n",
      "6592/6592 [==============================] - 2s - loss: 0.8178 - acc: 0.6186 - val_loss: 0.8058 - val_acc: 0.6341\n",
      "Epoch 70/200\n",
      "6592/6592 [==============================] - 2s - loss: 0.8213 - acc: 0.6147 - val_loss: 0.7861 - val_acc: 0.6323\n",
      "Epoch 71/200\n",
      "6592/6592 [==============================] - 2s - loss: 0.8199 - acc: 0.6198 - val_loss: 0.7748 - val_acc: 0.6359\n",
      "Epoch 72/200\n",
      "6592/6592 [==============================] - 2s - loss: 0.8217 - acc: 0.6162 - val_loss: 0.7979 - val_acc: 0.6311\n",
      "Epoch 73/200\n",
      "6592/6592 [==============================] - 2s - loss: 0.8195 - acc: 0.6204 - val_loss: 0.7864 - val_acc: 0.6481\n",
      "Epoch 74/200\n",
      "6592/6592 [==============================] - 2s - loss: 0.8184 - acc: 0.6209 - val_loss: 0.7856 - val_acc: 0.6396\n",
      "Epoch 75/200\n",
      "6592/6592 [==============================] - 2s - loss: 0.8202 - acc: 0.6159 - val_loss: 0.7832 - val_acc: 0.6256\n",
      "Epoch 76/200\n",
      "6592/6592 [==============================] - 2s - loss: 0.8180 - acc: 0.6192 - val_loss: 0.7813 - val_acc: 0.6299\n",
      "Epoch 77/200\n",
      "6592/6592 [==============================] - 2s - loss: 0.8192 - acc: 0.6194 - val_loss: 0.7893 - val_acc: 0.6365\n",
      "Epoch 78/200\n",
      "6592/6592 [==============================] - 2s - loss: 0.8216 - acc: 0.6173 - val_loss: 0.7881 - val_acc: 0.6414\n",
      "Epoch 79/200\n",
      "6592/6592 [==============================] - 2s - loss: 0.8186 - acc: 0.6171 - val_loss: 0.7775 - val_acc: 0.6317\n",
      "Epoch 80/200\n",
      "6592/6592 [==============================] - 2s - loss: 0.8219 - acc: 0.6168 - val_loss: 0.7786 - val_acc: 0.6305\n",
      "Epoch 81/200\n",
      "6592/6592 [==============================] - 2s - loss: 0.8153 - acc: 0.6198 - val_loss: 0.7790 - val_acc: 0.6353\n",
      "Epoch 82/200\n",
      "6592/6592 [==============================] - 2s - loss: 0.8196 - acc: 0.6133 - val_loss: 0.7851 - val_acc: 0.6311\n",
      "Epoch 83/200\n",
      "6592/6592 [==============================] - 2s - loss: 0.8211 - acc: 0.6157 - val_loss: 0.7817 - val_acc: 0.6317\n",
      "Epoch 84/200\n",
      "6592/6592 [==============================] - 2s - loss: 0.8173 - acc: 0.6258 - val_loss: 0.7805 - val_acc: 0.6341\n",
      "Epoch 85/200\n",
      "6592/6592 [==============================] - 2s - loss: 0.8161 - acc: 0.6221 - val_loss: 0.7975 - val_acc: 0.6317\n",
      "Epoch 86/200\n",
      "6592/6592 [==============================] - 2s - loss: 0.8202 - acc: 0.6192 - val_loss: 0.7956 - val_acc: 0.6402\n",
      "Epoch 87/200\n",
      "6592/6592 [==============================] - 2s - loss: 0.8170 - acc: 0.6162 - val_loss: 0.7896 - val_acc: 0.6323\n",
      "Epoch 88/200\n",
      "6592/6592 [==============================] - 2s - loss: 0.8182 - acc: 0.6165 - val_loss: 0.7830 - val_acc: 0.6208\n",
      "Epoch 89/200\n",
      "6592/6592 [==============================] - 2s - loss: 0.8188 - acc: 0.6197 - val_loss: 0.7847 - val_acc: 0.6262\n",
      "Epoch 90/200\n",
      "6592/6592 [==============================] - 2s - loss: 0.8172 - acc: 0.6206 - val_loss: 0.7774 - val_acc: 0.6280\n",
      "Epoch 91/200\n",
      "6592/6592 [==============================] - 2s - loss: 0.8180 - acc: 0.6214 - val_loss: 0.7801 - val_acc: 0.6286\n",
      "Epoch 92/200\n",
      "6592/6592 [==============================] - 2s - loss: 0.8149 - acc: 0.6224 - val_loss: 0.7860 - val_acc: 0.6402\n",
      "Epoch 93/200\n",
      "6592/6592 [==============================] - 2s - loss: 0.8189 - acc: 0.6185 - val_loss: 0.7867 - val_acc: 0.6414\n",
      "Epoch 94/200\n",
      "6592/6592 [==============================] - 2s - loss: 0.8180 - acc: 0.6223 - val_loss: 0.7798 - val_acc: 0.6292\n",
      "Epoch 95/200\n",
      "6592/6592 [==============================] - 2s - loss: 0.8203 - acc: 0.6182 - val_loss: 0.7847 - val_acc: 0.6408\n",
      "Epoch 96/200\n",
      "6592/6592 [==============================] - 2s - loss: 0.8167 - acc: 0.6168 - val_loss: 0.7777 - val_acc: 0.6274\n",
      "Epoch 97/200\n",
      "6592/6592 [==============================] - 2s - loss: 0.8174 - acc: 0.6218 - val_loss: 0.7768 - val_acc: 0.6353\n",
      "Epoch 98/200\n",
      "6592/6592 [==============================] - 2s - loss: 0.8156 - acc: 0.6229 - val_loss: 0.7863 - val_acc: 0.6341\n",
      "Epoch 99/200\n",
      "6592/6592 [==============================] - 2s - loss: 0.8165 - acc: 0.6262 - val_loss: 0.7801 - val_acc: 0.6365\n",
      "Epoch 100/200\n",
      "6592/6592 [==============================] - 2s - loss: 0.8188 - acc: 0.6218 - val_loss: 0.7802 - val_acc: 0.6353\n",
      "Epoch 101/200\n",
      "6592/6592 [==============================] - 2s - loss: 0.8163 - acc: 0.6192 - val_loss: 0.7874 - val_acc: 0.6365\n",
      "Epoch 102/200\n",
      "6592/6592 [==============================] - 2s - loss: 0.8187 - acc: 0.6174 - val_loss: 0.7886 - val_acc: 0.6365\n",
      "Epoch 103/200\n",
      "6592/6592 [==============================] - 2s - loss: 0.8169 - acc: 0.6208 - val_loss: 0.7842 - val_acc: 0.6226\n",
      "Epoch 104/200\n",
      "6592/6592 [==============================] - 2s - loss: 0.8162 - acc: 0.6188 - val_loss: 0.7858 - val_acc: 0.6195\n",
      "Epoch 105/200\n",
      "6592/6592 [==============================] - 2s - loss: 0.8151 - acc: 0.6217 - val_loss: 0.7827 - val_acc: 0.6335\n",
      "Epoch 106/200\n",
      "6592/6592 [==============================] - 2s - loss: 0.8164 - acc: 0.6171 - val_loss: 0.7788 - val_acc: 0.6317\n",
      "Epoch 107/200\n",
      "6592/6592 [==============================] - 2s - loss: 0.8164 - acc: 0.6203 - val_loss: 0.7941 - val_acc: 0.6189\n",
      "Epoch 108/200\n",
      "6592/6592 [==============================] - 2s - loss: 0.8150 - acc: 0.6177 - val_loss: 0.7760 - val_acc: 0.6286\n",
      "Epoch 109/200\n",
      "6592/6592 [==============================] - 2s - loss: 0.8158 - acc: 0.6197 - val_loss: 0.7780 - val_acc: 0.6305\n",
      "Epoch 110/200\n",
      "6592/6592 [==============================] - 2s - loss: 0.8159 - acc: 0.6203 - val_loss: 0.7809 - val_acc: 0.6317\n",
      "Epoch 111/200\n",
      "6592/6592 [==============================] - 2s - loss: 0.8187 - acc: 0.6223 - val_loss: 0.7812 - val_acc: 0.6317\n",
      "Epoch 112/200\n",
      "6592/6592 [==============================] - 2s - loss: 0.8131 - acc: 0.6236 - val_loss: 0.8013 - val_acc: 0.6341\n",
      "Epoch 113/200\n",
      "6592/6592 [==============================] - 2s - loss: 0.8150 - acc: 0.6245 - val_loss: 0.7975 - val_acc: 0.6189\n",
      "Epoch 114/200\n",
      "6592/6592 [==============================] - 2s - loss: 0.8134 - acc: 0.6227 - val_loss: 0.7796 - val_acc: 0.6292\n",
      "Epoch 115/200\n",
      "6592/6592 [==============================] - 2s - loss: 0.8139 - acc: 0.6218 - val_loss: 0.7891 - val_acc: 0.6232\n",
      "Epoch 116/200\n",
      "6592/6592 [==============================] - 2s - loss: 0.8177 - acc: 0.6167 - val_loss: 0.7811 - val_acc: 0.6365\n",
      "Epoch 117/200\n",
      "6592/6592 [==============================] - 3s - loss: 0.8144 - acc: 0.6195 - val_loss: 0.7753 - val_acc: 0.6286\n",
      "Epoch 118/200\n",
      "6592/6592 [==============================] - 3s - loss: 0.8138 - acc: 0.6176 - val_loss: 0.7871 - val_acc: 0.6377\n",
      "Epoch 119/200\n",
      "6592/6592 [==============================] - 3s - loss: 0.8135 - acc: 0.6242 - val_loss: 0.7883 - val_acc: 0.6347\n",
      "Epoch 120/200\n",
      "6592/6592 [==============================] - 2s - loss: 0.8140 - acc: 0.6201 - val_loss: 0.7963 - val_acc: 0.6171\n",
      "Epoch 121/200\n",
      "6592/6592 [==============================] - 2s - loss: 0.8146 - acc: 0.6186 - val_loss: 0.7782 - val_acc: 0.6365\n",
      "Epoch 122/200\n",
      "6592/6592 [==============================] - 2s - loss: 0.8137 - acc: 0.6258 - val_loss: 0.7768 - val_acc: 0.6359\n",
      "Epoch 123/200\n",
      "6592/6592 [==============================] - 2s - loss: 0.8138 - acc: 0.6224 - val_loss: 0.7869 - val_acc: 0.6426\n",
      "Epoch 124/200\n",
      "6592/6592 [==============================] - 2s - loss: 0.8115 - acc: 0.6276 - val_loss: 0.7807 - val_acc: 0.6256\n",
      "Epoch 125/200\n",
      "6592/6592 [==============================] - 2s - loss: 0.8115 - acc: 0.6250 - val_loss: 0.7896 - val_acc: 0.6299\n",
      "Epoch 126/200\n",
      "6592/6592 [==============================] - 2s - loss: 0.8128 - acc: 0.6248 - val_loss: 0.7995 - val_acc: 0.6341\n",
      "Epoch 127/200\n",
      "6592/6592 [==============================] - 2s - loss: 0.8128 - acc: 0.6204 - val_loss: 0.7852 - val_acc: 0.6377\n",
      "Epoch 128/200\n",
      "6592/6592 [==============================] - 2s - loss: 0.8124 - acc: 0.6233 - val_loss: 0.7777 - val_acc: 0.6286\n",
      "Epoch 129/200\n"
     ]
    },
    {
     "name": "stdout",
     "output_type": "stream",
     "text": [
      "6592/6592 [==============================] - 2s - loss: 0.8102 - acc: 0.6235 - val_loss: 0.7787 - val_acc: 0.6317\n",
      "Epoch 130/200\n",
      "6592/6592 [==============================] - 2s - loss: 0.8105 - acc: 0.6282 - val_loss: 0.7756 - val_acc: 0.6335\n",
      "Epoch 131/200\n",
      "6592/6592 [==============================] - 2s - loss: 0.8094 - acc: 0.6220 - val_loss: 0.7830 - val_acc: 0.6201\n",
      "Epoch 132/200\n",
      "6592/6592 [==============================] - 2s - loss: 0.8093 - acc: 0.6256 - val_loss: 0.7845 - val_acc: 0.6438\n",
      "Epoch 133/200\n",
      "6592/6592 [==============================] - 2s - loss: 0.8099 - acc: 0.6211 - val_loss: 0.7764 - val_acc: 0.6311\n",
      "Epoch 134/200\n",
      "6592/6592 [==============================] - 2s - loss: 0.8085 - acc: 0.6238 - val_loss: 0.7808 - val_acc: 0.6323\n",
      "Epoch 135/200\n",
      "6592/6592 [==============================] - 2s - loss: 0.8121 - acc: 0.6229 - val_loss: 0.7816 - val_acc: 0.6292\n",
      "Epoch 136/200\n",
      "6592/6592 [==============================] - 2s - loss: 0.8108 - acc: 0.6252 - val_loss: 0.7780 - val_acc: 0.6402\n",
      "Epoch 137/200\n",
      "6592/6592 [==============================] - 2s - loss: 0.8117 - acc: 0.6247 - val_loss: 0.7795 - val_acc: 0.6353\n",
      "Epoch 138/200\n",
      "6592/6592 [==============================] - 2s - loss: 0.8076 - acc: 0.6212 - val_loss: 0.7837 - val_acc: 0.6286\n",
      "Epoch 139/200\n",
      "6592/6592 [==============================] - 2s - loss: 0.8086 - acc: 0.6285 - val_loss: 0.7879 - val_acc: 0.6323\n",
      "Epoch 140/200\n",
      "6592/6592 [==============================] - 2s - loss: 0.8096 - acc: 0.6252 - val_loss: 0.7933 - val_acc: 0.6341\n",
      "Epoch 141/200\n",
      "6592/6592 [==============================] - 2s - loss: 0.8085 - acc: 0.6300 - val_loss: 0.7903 - val_acc: 0.6359\n",
      "Epoch 142/200\n",
      "6592/6592 [==============================] - 2s - loss: 0.8091 - acc: 0.6271 - val_loss: 0.7870 - val_acc: 0.6420\n",
      "Epoch 143/200\n",
      "6592/6592 [==============================] - 2s - loss: 0.8105 - acc: 0.6250 - val_loss: 0.7794 - val_acc: 0.6256\n",
      "Epoch 144/200\n",
      "6592/6592 [==============================] - 2s - loss: 0.8090 - acc: 0.6276 - val_loss: 0.7918 - val_acc: 0.6256\n",
      "Epoch 145/200\n",
      "6592/6592 [==============================] - 2s - loss: 0.8087 - acc: 0.6282 - val_loss: 0.7805 - val_acc: 0.6329\n",
      "Epoch 146/200\n",
      "6592/6592 [==============================] - 2s - loss: 0.8084 - acc: 0.6242 - val_loss: 0.7791 - val_acc: 0.6286\n",
      "Epoch 147/200\n",
      "6592/6592 [==============================] - 2s - loss: 0.8084 - acc: 0.6273 - val_loss: 0.7798 - val_acc: 0.6377\n",
      "Epoch 148/200\n",
      "6592/6592 [==============================] - 2s - loss: 0.8073 - acc: 0.6247 - val_loss: 0.7837 - val_acc: 0.6396\n",
      "Epoch 149/200\n",
      "6592/6592 [==============================] - 2s - loss: 0.8057 - acc: 0.6258 - val_loss: 0.7861 - val_acc: 0.6371\n",
      "Epoch 150/200\n",
      "6592/6592 [==============================] - 2s - loss: 0.8072 - acc: 0.6283 - val_loss: 0.7811 - val_acc: 0.6311\n",
      "Epoch 151/200\n",
      "6592/6592 [==============================] - 2s - loss: 0.8052 - acc: 0.6279 - val_loss: 0.7911 - val_acc: 0.6371\n",
      "Epoch 152/200\n",
      "6592/6592 [==============================] - 2s - loss: 0.8062 - acc: 0.6244 - val_loss: 0.7812 - val_acc: 0.6329\n",
      "Epoch 153/200\n",
      "6592/6592 [==============================] - 2s - loss: 0.8061 - acc: 0.6282 - val_loss: 0.7815 - val_acc: 0.6371\n",
      "Epoch 154/200\n",
      "6592/6592 [==============================] - 2s - loss: 0.8064 - acc: 0.6267 - val_loss: 0.7825 - val_acc: 0.6268\n",
      "Epoch 155/200\n",
      "6592/6592 [==============================] - 2s - loss: 0.8087 - acc: 0.6285 - val_loss: 0.7827 - val_acc: 0.6274\n",
      "Epoch 156/200\n",
      "6592/6592 [==============================] - 2s - loss: 0.8066 - acc: 0.6252 - val_loss: 0.8101 - val_acc: 0.6305\n",
      "Epoch 157/200\n",
      "6592/6592 [==============================] - 2s - loss: 0.8052 - acc: 0.6277 - val_loss: 0.7820 - val_acc: 0.6311\n",
      "Epoch 158/200\n",
      "6592/6592 [==============================] - 2s - loss: 0.8042 - acc: 0.6247 - val_loss: 0.7845 - val_acc: 0.6299\n",
      "Epoch 159/200\n",
      "6592/6592 [==============================] - 2s - loss: 0.8063 - acc: 0.6276 - val_loss: 0.7910 - val_acc: 0.6317\n",
      "Epoch 160/200\n",
      "6592/6592 [==============================] - 2s - loss: 0.8073 - acc: 0.6312 - val_loss: 0.7805 - val_acc: 0.6305\n",
      "Epoch 161/200\n",
      "6592/6592 [==============================] - 2s - loss: 0.8049 - acc: 0.6285 - val_loss: 0.7839 - val_acc: 0.6299\n",
      "Epoch 162/200\n",
      "6592/6592 [==============================] - 2s - loss: 0.8028 - acc: 0.6255 - val_loss: 0.7856 - val_acc: 0.6335\n",
      "Epoch 163/200\n",
      "6592/6592 [==============================] - 2s - loss: 0.8029 - acc: 0.6259 - val_loss: 0.7842 - val_acc: 0.6371\n",
      "Epoch 164/200\n",
      "6592/6592 [==============================] - 2s - loss: 0.8052 - acc: 0.6296 - val_loss: 0.7846 - val_acc: 0.6286\n",
      "Epoch 165/200\n",
      "6592/6592 [==============================] - 2s - loss: 0.8042 - acc: 0.6276 - val_loss: 0.7846 - val_acc: 0.6262\n",
      "Epoch 166/200\n",
      "6592/6592 [==============================] - 2s - loss: 0.8010 - acc: 0.6285 - val_loss: 0.7810 - val_acc: 0.6402\n",
      "Epoch 167/200\n",
      "6592/6592 [==============================] - 2s - loss: 0.8031 - acc: 0.6267 - val_loss: 0.7810 - val_acc: 0.6402\n",
      "Epoch 168/200\n",
      "6592/6592 [==============================] - 2s - loss: 0.8019 - acc: 0.6271 - val_loss: 0.7849 - val_acc: 0.6305\n",
      "Epoch 169/200\n",
      "6592/6592 [==============================] - 2s - loss: 0.8041 - acc: 0.6300 - val_loss: 0.7841 - val_acc: 0.6323\n",
      "Epoch 170/200\n",
      "6592/6592 [==============================] - 2s - loss: 0.7986 - acc: 0.6333 - val_loss: 0.7906 - val_acc: 0.62500.634\n",
      "Epoch 171/200\n",
      "6592/6592 [==============================] - 2s - loss: 0.8022 - acc: 0.6280 - val_loss: 0.7907 - val_acc: 0.6256\n",
      "Epoch 172/200\n",
      "6592/6592 [==============================] - 2s - loss: 0.8010 - acc: 0.6317 - val_loss: 0.7795 - val_acc: 0.6299\n",
      "Epoch 173/200\n",
      "6592/6592 [==============================] - 2s - loss: 0.7993 - acc: 0.6283 - val_loss: 0.7818 - val_acc: 0.6323\n",
      "Epoch 174/200\n",
      "6592/6592 [==============================] - 2s - loss: 0.7994 - acc: 0.6282 - val_loss: 0.7816 - val_acc: 0.6311\n",
      "Epoch 175/200\n",
      "6592/6592 [==============================] - 2s - loss: 0.7978 - acc: 0.6289 - val_loss: 0.7970 - val_acc: 0.6371\n",
      "Epoch 176/200\n",
      "6592/6592 [==============================] - 2s - loss: 0.8018 - acc: 0.6282 - val_loss: 0.7789 - val_acc: 0.6377\n",
      "Epoch 177/200\n",
      "6592/6592 [==============================] - 2s - loss: 0.7991 - acc: 0.6271 - val_loss: 0.7810 - val_acc: 0.6323\n",
      "Epoch 178/200\n",
      "6592/6592 [==============================] - 2s - loss: 0.7998 - acc: 0.6265 - val_loss: 0.7869 - val_acc: 0.6292\n",
      "Epoch 179/200\n",
      "6592/6592 [==============================] - 2s - loss: 0.7986 - acc: 0.6305 - val_loss: 0.7858 - val_acc: 0.6377\n",
      "Epoch 180/200\n",
      "6592/6592 [==============================] - 2s - loss: 0.7992 - acc: 0.6262 - val_loss: 0.7874 - val_acc: 0.6292\n",
      "Epoch 181/200\n",
      "6592/6592 [==============================] - 2s - loss: 0.7969 - acc: 0.6302 - val_loss: 0.7830 - val_acc: 0.6311\n",
      "Epoch 182/200\n",
      "6592/6592 [==============================] - 2s - loss: 0.7974 - acc: 0.6277 - val_loss: 0.7879 - val_acc: 0.6335\n",
      "Epoch 183/200\n",
      "6592/6592 [==============================] - 2s - loss: 0.8004 - acc: 0.6276 - val_loss: 0.7835 - val_acc: 0.6365\n",
      "Epoch 184/200\n",
      "6592/6592 [==============================] - 2s - loss: 0.7983 - acc: 0.6296 - val_loss: 0.7884 - val_acc: 0.6390\n",
      "Epoch 185/200\n",
      "6592/6592 [==============================] - 2s - loss: 0.7986 - acc: 0.6303 - val_loss: 0.7873 - val_acc: 0.6347\n",
      "Epoch 186/200\n",
      "6592/6592 [==============================] - 2s - loss: 0.7952 - acc: 0.6326 - val_loss: 0.7875 - val_acc: 0.6420\n",
      "Epoch 187/200\n",
      "6592/6592 [==============================] - 2s - loss: 0.7935 - acc: 0.6317 - val_loss: 0.7888 - val_acc: 0.6299\n",
      "Epoch 188/200\n",
      "6592/6592 [==============================] - 2s - loss: 0.7981 - acc: 0.6324 - val_loss: 0.7873 - val_acc: 0.6341\n",
      "Epoch 189/200\n",
      "6592/6592 [==============================] - 2s - loss: 0.7928 - acc: 0.6309 - val_loss: 0.7929 - val_acc: 0.6335\n",
      "Epoch 190/200\n",
      "6592/6592 [==============================] - 2s - loss: 0.7912 - acc: 0.6371 - val_loss: 0.7959 - val_acc: 0.6274\n",
      "Epoch 191/200\n",
      "6592/6592 [==============================] - 2s - loss: 0.7931 - acc: 0.6288 - val_loss: 0.7924 - val_acc: 0.6305\n",
      "Epoch 192/200\n",
      "6592/6592 [==============================] - 2s - loss: 0.7932 - acc: 0.6292 - val_loss: 0.7947 - val_acc: 0.6335\n",
      "Epoch 193/200\n"
     ]
    },
    {
     "name": "stdout",
     "output_type": "stream",
     "text": [
      "6592/6592 [==============================] - 2s - loss: 0.7925 - acc: 0.6308 - val_loss: 0.7911 - val_acc: 0.6341\n",
      "Epoch 194/200\n",
      "6592/6592 [==============================] - 2s - loss: 0.7912 - acc: 0.6314 - val_loss: 0.8027 - val_acc: 0.6280\n",
      "Epoch 195/200\n",
      "6592/6592 [==============================] - 2s - loss: 0.7936 - acc: 0.6341 - val_loss: 0.7878 - val_acc: 0.6311\n",
      "Epoch 196/200\n",
      "6592/6592 [==============================] - 2s - loss: 0.7921 - acc: 0.6343 - val_loss: 0.7956 - val_acc: 0.6414\n",
      "Epoch 197/200\n",
      "6592/6592 [==============================] - 2s - loss: 0.7885 - acc: 0.6329 - val_loss: 0.8071 - val_acc: 0.6323\n",
      "Epoch 198/200\n",
      "6592/6592 [==============================] - 2s - loss: 0.7937 - acc: 0.6305 - val_loss: 0.7882 - val_acc: 0.6274\n",
      "Epoch 199/200\n",
      "6592/6592 [==============================] - 2s - loss: 0.7910 - acc: 0.6387 - val_loss: 0.7916 - val_acc: 0.6341\n",
      "Epoch 200/200\n",
      "6592/6592 [==============================] - 2s - loss: 0.7897 - acc: 0.6346 - val_loss: 0.7955 - val_acc: 0.6347\n"
     ]
    }
   ],
   "source": [
    "history = model.fit(x_train, y_train,\n",
    "                    batch_size = 64, \n",
    "                    epochs=200, \n",
    "                    verbose=1, \n",
    "                    validation_data=(x_test, y_test))"
   ]
  },
  {
   "cell_type": "code",
   "execution_count": 52,
   "metadata": {
    "collapsed": true
   },
   "outputs": [],
   "source": [
    "def plot_train(hist):\n",
    "    h = hist.history\n",
    "    if 'acc' in h:\n",
    "        meas='acc'\n",
    "        loc='lower right'\n",
    "    else:\n",
    "        meas='loss'\n",
    "        loc='upper right'\n",
    "    plt.plot(hist.history[meas])\n",
    "    plt.plot(hist.history['val_'+meas])\n",
    "    plt.title('model '+meas)\n",
    "    plt.ylabel(meas)\n",
    "    plt.xlabel('epoch')\n",
    "    plt.legend(['train', 'validation'], loc=loc)"
   ]
  },
  {
   "cell_type": "code",
   "execution_count": 53,
   "metadata": {},
   "outputs": [
    {
     "data": {
      "application/javascript": [
       "/* Put everything inside the global mpl namespace */\n",
       "window.mpl = {};\n",
       "\n",
       "\n",
       "mpl.get_websocket_type = function() {\n",
       "    if (typeof(WebSocket) !== 'undefined') {\n",
       "        return WebSocket;\n",
       "    } else if (typeof(MozWebSocket) !== 'undefined') {\n",
       "        return MozWebSocket;\n",
       "    } else {\n",
       "        alert('Your browser does not have WebSocket support.' +\n",
       "              'Please try Chrome, Safari or Firefox ≥ 6. ' +\n",
       "              'Firefox 4 and 5 are also supported but you ' +\n",
       "              'have to enable WebSockets in about:config.');\n",
       "    };\n",
       "}\n",
       "\n",
       "mpl.figure = function(figure_id, websocket, ondownload, parent_element) {\n",
       "    this.id = figure_id;\n",
       "\n",
       "    this.ws = websocket;\n",
       "\n",
       "    this.supports_binary = (this.ws.binaryType != undefined);\n",
       "\n",
       "    if (!this.supports_binary) {\n",
       "        var warnings = document.getElementById(\"mpl-warnings\");\n",
       "        if (warnings) {\n",
       "            warnings.style.display = 'block';\n",
       "            warnings.textContent = (\n",
       "                \"This browser does not support binary websocket messages. \" +\n",
       "                    \"Performance may be slow.\");\n",
       "        }\n",
       "    }\n",
       "\n",
       "    this.imageObj = new Image();\n",
       "\n",
       "    this.context = undefined;\n",
       "    this.message = undefined;\n",
       "    this.canvas = undefined;\n",
       "    this.rubberband_canvas = undefined;\n",
       "    this.rubberband_context = undefined;\n",
       "    this.format_dropdown = undefined;\n",
       "\n",
       "    this.image_mode = 'full';\n",
       "\n",
       "    this.root = $('<div/>');\n",
       "    this._root_extra_style(this.root)\n",
       "    this.root.attr('style', 'display: inline-block');\n",
       "\n",
       "    $(parent_element).append(this.root);\n",
       "\n",
       "    this._init_header(this);\n",
       "    this._init_canvas(this);\n",
       "    this._init_toolbar(this);\n",
       "\n",
       "    var fig = this;\n",
       "\n",
       "    this.waiting = false;\n",
       "\n",
       "    this.ws.onopen =  function () {\n",
       "            fig.send_message(\"supports_binary\", {value: fig.supports_binary});\n",
       "            fig.send_message(\"send_image_mode\", {});\n",
       "            if (mpl.ratio != 1) {\n",
       "                fig.send_message(\"set_dpi_ratio\", {'dpi_ratio': mpl.ratio});\n",
       "            }\n",
       "            fig.send_message(\"refresh\", {});\n",
       "        }\n",
       "\n",
       "    this.imageObj.onload = function() {\n",
       "            if (fig.image_mode == 'full') {\n",
       "                // Full images could contain transparency (where diff images\n",
       "                // almost always do), so we need to clear the canvas so that\n",
       "                // there is no ghosting.\n",
       "                fig.context.clearRect(0, 0, fig.canvas.width, fig.canvas.height);\n",
       "            }\n",
       "            fig.context.drawImage(fig.imageObj, 0, 0);\n",
       "        };\n",
       "\n",
       "    this.imageObj.onunload = function() {\n",
       "        fig.ws.close();\n",
       "    }\n",
       "\n",
       "    this.ws.onmessage = this._make_on_message_function(this);\n",
       "\n",
       "    this.ondownload = ondownload;\n",
       "}\n",
       "\n",
       "mpl.figure.prototype._init_header = function() {\n",
       "    var titlebar = $(\n",
       "        '<div class=\"ui-dialog-titlebar ui-widget-header ui-corner-all ' +\n",
       "        'ui-helper-clearfix\"/>');\n",
       "    var titletext = $(\n",
       "        '<div class=\"ui-dialog-title\" style=\"width: 100%; ' +\n",
       "        'text-align: center; padding: 3px;\"/>');\n",
       "    titlebar.append(titletext)\n",
       "    this.root.append(titlebar);\n",
       "    this.header = titletext[0];\n",
       "}\n",
       "\n",
       "\n",
       "\n",
       "mpl.figure.prototype._canvas_extra_style = function(canvas_div) {\n",
       "\n",
       "}\n",
       "\n",
       "\n",
       "mpl.figure.prototype._root_extra_style = function(canvas_div) {\n",
       "\n",
       "}\n",
       "\n",
       "mpl.figure.prototype._init_canvas = function() {\n",
       "    var fig = this;\n",
       "\n",
       "    var canvas_div = $('<div/>');\n",
       "\n",
       "    canvas_div.attr('style', 'position: relative; clear: both; outline: 0');\n",
       "\n",
       "    function canvas_keyboard_event(event) {\n",
       "        return fig.key_event(event, event['data']);\n",
       "    }\n",
       "\n",
       "    canvas_div.keydown('key_press', canvas_keyboard_event);\n",
       "    canvas_div.keyup('key_release', canvas_keyboard_event);\n",
       "    this.canvas_div = canvas_div\n",
       "    this._canvas_extra_style(canvas_div)\n",
       "    this.root.append(canvas_div);\n",
       "\n",
       "    var canvas = $('<canvas/>');\n",
       "    canvas.addClass('mpl-canvas');\n",
       "    canvas.attr('style', \"left: 0; top: 0; z-index: 0; outline: 0\")\n",
       "\n",
       "    this.canvas = canvas[0];\n",
       "    this.context = canvas[0].getContext(\"2d\");\n",
       "\n",
       "    var backingStore = this.context.backingStorePixelRatio ||\n",
       "\tthis.context.webkitBackingStorePixelRatio ||\n",
       "\tthis.context.mozBackingStorePixelRatio ||\n",
       "\tthis.context.msBackingStorePixelRatio ||\n",
       "\tthis.context.oBackingStorePixelRatio ||\n",
       "\tthis.context.backingStorePixelRatio || 1;\n",
       "\n",
       "    mpl.ratio = (window.devicePixelRatio || 1) / backingStore;\n",
       "\n",
       "    var rubberband = $('<canvas/>');\n",
       "    rubberband.attr('style', \"position: absolute; left: 0; top: 0; z-index: 1;\")\n",
       "\n",
       "    var pass_mouse_events = true;\n",
       "\n",
       "    canvas_div.resizable({\n",
       "        start: function(event, ui) {\n",
       "            pass_mouse_events = false;\n",
       "        },\n",
       "        resize: function(event, ui) {\n",
       "            fig.request_resize(ui.size.width, ui.size.height);\n",
       "        },\n",
       "        stop: function(event, ui) {\n",
       "            pass_mouse_events = true;\n",
       "            fig.request_resize(ui.size.width, ui.size.height);\n",
       "        },\n",
       "    });\n",
       "\n",
       "    function mouse_event_fn(event) {\n",
       "        if (pass_mouse_events)\n",
       "            return fig.mouse_event(event, event['data']);\n",
       "    }\n",
       "\n",
       "    rubberband.mousedown('button_press', mouse_event_fn);\n",
       "    rubberband.mouseup('button_release', mouse_event_fn);\n",
       "    // Throttle sequential mouse events to 1 every 20ms.\n",
       "    rubberband.mousemove('motion_notify', mouse_event_fn);\n",
       "\n",
       "    rubberband.mouseenter('figure_enter', mouse_event_fn);\n",
       "    rubberband.mouseleave('figure_leave', mouse_event_fn);\n",
       "\n",
       "    canvas_div.on(\"wheel\", function (event) {\n",
       "        event = event.originalEvent;\n",
       "        event['data'] = 'scroll'\n",
       "        if (event.deltaY < 0) {\n",
       "            event.step = 1;\n",
       "        } else {\n",
       "            event.step = -1;\n",
       "        }\n",
       "        mouse_event_fn(event);\n",
       "    });\n",
       "\n",
       "    canvas_div.append(canvas);\n",
       "    canvas_div.append(rubberband);\n",
       "\n",
       "    this.rubberband = rubberband;\n",
       "    this.rubberband_canvas = rubberband[0];\n",
       "    this.rubberband_context = rubberband[0].getContext(\"2d\");\n",
       "    this.rubberband_context.strokeStyle = \"#000000\";\n",
       "\n",
       "    this._resize_canvas = function(width, height) {\n",
       "        // Keep the size of the canvas, canvas container, and rubber band\n",
       "        // canvas in synch.\n",
       "        canvas_div.css('width', width)\n",
       "        canvas_div.css('height', height)\n",
       "\n",
       "        canvas.attr('width', width * mpl.ratio);\n",
       "        canvas.attr('height', height * mpl.ratio);\n",
       "        canvas.attr('style', 'width: ' + width + 'px; height: ' + height + 'px;');\n",
       "\n",
       "        rubberband.attr('width', width);\n",
       "        rubberband.attr('height', height);\n",
       "    }\n",
       "\n",
       "    // Set the figure to an initial 600x600px, this will subsequently be updated\n",
       "    // upon first draw.\n",
       "    this._resize_canvas(600, 600);\n",
       "\n",
       "    // Disable right mouse context menu.\n",
       "    $(this.rubberband_canvas).bind(\"contextmenu\",function(e){\n",
       "        return false;\n",
       "    });\n",
       "\n",
       "    function set_focus () {\n",
       "        canvas.focus();\n",
       "        canvas_div.focus();\n",
       "    }\n",
       "\n",
       "    window.setTimeout(set_focus, 100);\n",
       "}\n",
       "\n",
       "mpl.figure.prototype._init_toolbar = function() {\n",
       "    var fig = this;\n",
       "\n",
       "    var nav_element = $('<div/>')\n",
       "    nav_element.attr('style', 'width: 100%');\n",
       "    this.root.append(nav_element);\n",
       "\n",
       "    // Define a callback function for later on.\n",
       "    function toolbar_event(event) {\n",
       "        return fig.toolbar_button_onclick(event['data']);\n",
       "    }\n",
       "    function toolbar_mouse_event(event) {\n",
       "        return fig.toolbar_button_onmouseover(event['data']);\n",
       "    }\n",
       "\n",
       "    for(var toolbar_ind in mpl.toolbar_items) {\n",
       "        var name = mpl.toolbar_items[toolbar_ind][0];\n",
       "        var tooltip = mpl.toolbar_items[toolbar_ind][1];\n",
       "        var image = mpl.toolbar_items[toolbar_ind][2];\n",
       "        var method_name = mpl.toolbar_items[toolbar_ind][3];\n",
       "\n",
       "        if (!name) {\n",
       "            // put a spacer in here.\n",
       "            continue;\n",
       "        }\n",
       "        var button = $('<button/>');\n",
       "        button.addClass('ui-button ui-widget ui-state-default ui-corner-all ' +\n",
       "                        'ui-button-icon-only');\n",
       "        button.attr('role', 'button');\n",
       "        button.attr('aria-disabled', 'false');\n",
       "        button.click(method_name, toolbar_event);\n",
       "        button.mouseover(tooltip, toolbar_mouse_event);\n",
       "\n",
       "        var icon_img = $('<span/>');\n",
       "        icon_img.addClass('ui-button-icon-primary ui-icon');\n",
       "        icon_img.addClass(image);\n",
       "        icon_img.addClass('ui-corner-all');\n",
       "\n",
       "        var tooltip_span = $('<span/>');\n",
       "        tooltip_span.addClass('ui-button-text');\n",
       "        tooltip_span.html(tooltip);\n",
       "\n",
       "        button.append(icon_img);\n",
       "        button.append(tooltip_span);\n",
       "\n",
       "        nav_element.append(button);\n",
       "    }\n",
       "\n",
       "    var fmt_picker_span = $('<span/>');\n",
       "\n",
       "    var fmt_picker = $('<select/>');\n",
       "    fmt_picker.addClass('mpl-toolbar-option ui-widget ui-widget-content');\n",
       "    fmt_picker_span.append(fmt_picker);\n",
       "    nav_element.append(fmt_picker_span);\n",
       "    this.format_dropdown = fmt_picker[0];\n",
       "\n",
       "    for (var ind in mpl.extensions) {\n",
       "        var fmt = mpl.extensions[ind];\n",
       "        var option = $(\n",
       "            '<option/>', {selected: fmt === mpl.default_extension}).html(fmt);\n",
       "        fmt_picker.append(option)\n",
       "    }\n",
       "\n",
       "    // Add hover states to the ui-buttons\n",
       "    $( \".ui-button\" ).hover(\n",
       "        function() { $(this).addClass(\"ui-state-hover\");},\n",
       "        function() { $(this).removeClass(\"ui-state-hover\");}\n",
       "    );\n",
       "\n",
       "    var status_bar = $('<span class=\"mpl-message\"/>');\n",
       "    nav_element.append(status_bar);\n",
       "    this.message = status_bar[0];\n",
       "}\n",
       "\n",
       "mpl.figure.prototype.request_resize = function(x_pixels, y_pixels) {\n",
       "    // Request matplotlib to resize the figure. Matplotlib will then trigger a resize in the client,\n",
       "    // which will in turn request a refresh of the image.\n",
       "    this.send_message('resize', {'width': x_pixels, 'height': y_pixels});\n",
       "}\n",
       "\n",
       "mpl.figure.prototype.send_message = function(type, properties) {\n",
       "    properties['type'] = type;\n",
       "    properties['figure_id'] = this.id;\n",
       "    this.ws.send(JSON.stringify(properties));\n",
       "}\n",
       "\n",
       "mpl.figure.prototype.send_draw_message = function() {\n",
       "    if (!this.waiting) {\n",
       "        this.waiting = true;\n",
       "        this.ws.send(JSON.stringify({type: \"draw\", figure_id: this.id}));\n",
       "    }\n",
       "}\n",
       "\n",
       "\n",
       "mpl.figure.prototype.handle_save = function(fig, msg) {\n",
       "    var format_dropdown = fig.format_dropdown;\n",
       "    var format = format_dropdown.options[format_dropdown.selectedIndex].value;\n",
       "    fig.ondownload(fig, format);\n",
       "}\n",
       "\n",
       "\n",
       "mpl.figure.prototype.handle_resize = function(fig, msg) {\n",
       "    var size = msg['size'];\n",
       "    if (size[0] != fig.canvas.width || size[1] != fig.canvas.height) {\n",
       "        fig._resize_canvas(size[0], size[1]);\n",
       "        fig.send_message(\"refresh\", {});\n",
       "    };\n",
       "}\n",
       "\n",
       "mpl.figure.prototype.handle_rubberband = function(fig, msg) {\n",
       "    var x0 = msg['x0'] / mpl.ratio;\n",
       "    var y0 = (fig.canvas.height - msg['y0']) / mpl.ratio;\n",
       "    var x1 = msg['x1'] / mpl.ratio;\n",
       "    var y1 = (fig.canvas.height - msg['y1']) / mpl.ratio;\n",
       "    x0 = Math.floor(x0) + 0.5;\n",
       "    y0 = Math.floor(y0) + 0.5;\n",
       "    x1 = Math.floor(x1) + 0.5;\n",
       "    y1 = Math.floor(y1) + 0.5;\n",
       "    var min_x = Math.min(x0, x1);\n",
       "    var min_y = Math.min(y0, y1);\n",
       "    var width = Math.abs(x1 - x0);\n",
       "    var height = Math.abs(y1 - y0);\n",
       "\n",
       "    fig.rubberband_context.clearRect(\n",
       "        0, 0, fig.canvas.width, fig.canvas.height);\n",
       "\n",
       "    fig.rubberband_context.strokeRect(min_x, min_y, width, height);\n",
       "}\n",
       "\n",
       "mpl.figure.prototype.handle_figure_label = function(fig, msg) {\n",
       "    // Updates the figure title.\n",
       "    fig.header.textContent = msg['label'];\n",
       "}\n",
       "\n",
       "mpl.figure.prototype.handle_cursor = function(fig, msg) {\n",
       "    var cursor = msg['cursor'];\n",
       "    switch(cursor)\n",
       "    {\n",
       "    case 0:\n",
       "        cursor = 'pointer';\n",
       "        break;\n",
       "    case 1:\n",
       "        cursor = 'default';\n",
       "        break;\n",
       "    case 2:\n",
       "        cursor = 'crosshair';\n",
       "        break;\n",
       "    case 3:\n",
       "        cursor = 'move';\n",
       "        break;\n",
       "    }\n",
       "    fig.rubberband_canvas.style.cursor = cursor;\n",
       "}\n",
       "\n",
       "mpl.figure.prototype.handle_message = function(fig, msg) {\n",
       "    fig.message.textContent = msg['message'];\n",
       "}\n",
       "\n",
       "mpl.figure.prototype.handle_draw = function(fig, msg) {\n",
       "    // Request the server to send over a new figure.\n",
       "    fig.send_draw_message();\n",
       "}\n",
       "\n",
       "mpl.figure.prototype.handle_image_mode = function(fig, msg) {\n",
       "    fig.image_mode = msg['mode'];\n",
       "}\n",
       "\n",
       "mpl.figure.prototype.updated_canvas_event = function() {\n",
       "    // Called whenever the canvas gets updated.\n",
       "    this.send_message(\"ack\", {});\n",
       "}\n",
       "\n",
       "// A function to construct a web socket function for onmessage handling.\n",
       "// Called in the figure constructor.\n",
       "mpl.figure.prototype._make_on_message_function = function(fig) {\n",
       "    return function socket_on_message(evt) {\n",
       "        if (evt.data instanceof Blob) {\n",
       "            /* FIXME: We get \"Resource interpreted as Image but\n",
       "             * transferred with MIME type text/plain:\" errors on\n",
       "             * Chrome.  But how to set the MIME type?  It doesn't seem\n",
       "             * to be part of the websocket stream */\n",
       "            evt.data.type = \"image/png\";\n",
       "\n",
       "            /* Free the memory for the previous frames */\n",
       "            if (fig.imageObj.src) {\n",
       "                (window.URL || window.webkitURL).revokeObjectURL(\n",
       "                    fig.imageObj.src);\n",
       "            }\n",
       "\n",
       "            fig.imageObj.src = (window.URL || window.webkitURL).createObjectURL(\n",
       "                evt.data);\n",
       "            fig.updated_canvas_event();\n",
       "            fig.waiting = false;\n",
       "            return;\n",
       "        }\n",
       "        else if (typeof evt.data === 'string' && evt.data.slice(0, 21) == \"data:image/png;base64\") {\n",
       "            fig.imageObj.src = evt.data;\n",
       "            fig.updated_canvas_event();\n",
       "            fig.waiting = false;\n",
       "            return;\n",
       "        }\n",
       "\n",
       "        var msg = JSON.parse(evt.data);\n",
       "        var msg_type = msg['type'];\n",
       "\n",
       "        // Call the  \"handle_{type}\" callback, which takes\n",
       "        // the figure and JSON message as its only arguments.\n",
       "        try {\n",
       "            var callback = fig[\"handle_\" + msg_type];\n",
       "        } catch (e) {\n",
       "            console.log(\"No handler for the '\" + msg_type + \"' message type: \", msg);\n",
       "            return;\n",
       "        }\n",
       "\n",
       "        if (callback) {\n",
       "            try {\n",
       "                // console.log(\"Handling '\" + msg_type + \"' message: \", msg);\n",
       "                callback(fig, msg);\n",
       "            } catch (e) {\n",
       "                console.log(\"Exception inside the 'handler_\" + msg_type + \"' callback:\", e, e.stack, msg);\n",
       "            }\n",
       "        }\n",
       "    };\n",
       "}\n",
       "\n",
       "// from http://stackoverflow.com/questions/1114465/getting-mouse-location-in-canvas\n",
       "mpl.findpos = function(e) {\n",
       "    //this section is from http://www.quirksmode.org/js/events_properties.html\n",
       "    var targ;\n",
       "    if (!e)\n",
       "        e = window.event;\n",
       "    if (e.target)\n",
       "        targ = e.target;\n",
       "    else if (e.srcElement)\n",
       "        targ = e.srcElement;\n",
       "    if (targ.nodeType == 3) // defeat Safari bug\n",
       "        targ = targ.parentNode;\n",
       "\n",
       "    // jQuery normalizes the pageX and pageY\n",
       "    // pageX,Y are the mouse positions relative to the document\n",
       "    // offset() returns the position of the element relative to the document\n",
       "    var x = e.pageX - $(targ).offset().left;\n",
       "    var y = e.pageY - $(targ).offset().top;\n",
       "\n",
       "    return {\"x\": x, \"y\": y};\n",
       "};\n",
       "\n",
       "/*\n",
       " * return a copy of an object with only non-object keys\n",
       " * we need this to avoid circular references\n",
       " * http://stackoverflow.com/a/24161582/3208463\n",
       " */\n",
       "function simpleKeys (original) {\n",
       "  return Object.keys(original).reduce(function (obj, key) {\n",
       "    if (typeof original[key] !== 'object')\n",
       "        obj[key] = original[key]\n",
       "    return obj;\n",
       "  }, {});\n",
       "}\n",
       "\n",
       "mpl.figure.prototype.mouse_event = function(event, name) {\n",
       "    var canvas_pos = mpl.findpos(event)\n",
       "\n",
       "    if (name === 'button_press')\n",
       "    {\n",
       "        this.canvas.focus();\n",
       "        this.canvas_div.focus();\n",
       "    }\n",
       "\n",
       "    var x = canvas_pos.x * mpl.ratio;\n",
       "    var y = canvas_pos.y * mpl.ratio;\n",
       "\n",
       "    this.send_message(name, {x: x, y: y, button: event.button,\n",
       "                             step: event.step,\n",
       "                             guiEvent: simpleKeys(event)});\n",
       "\n",
       "    /* This prevents the web browser from automatically changing to\n",
       "     * the text insertion cursor when the button is pressed.  We want\n",
       "     * to control all of the cursor setting manually through the\n",
       "     * 'cursor' event from matplotlib */\n",
       "    event.preventDefault();\n",
       "    return false;\n",
       "}\n",
       "\n",
       "mpl.figure.prototype._key_event_extra = function(event, name) {\n",
       "    // Handle any extra behaviour associated with a key event\n",
       "}\n",
       "\n",
       "mpl.figure.prototype.key_event = function(event, name) {\n",
       "\n",
       "    // Prevent repeat events\n",
       "    if (name == 'key_press')\n",
       "    {\n",
       "        if (event.which === this._key)\n",
       "            return;\n",
       "        else\n",
       "            this._key = event.which;\n",
       "    }\n",
       "    if (name == 'key_release')\n",
       "        this._key = null;\n",
       "\n",
       "    var value = '';\n",
       "    if (event.ctrlKey && event.which != 17)\n",
       "        value += \"ctrl+\";\n",
       "    if (event.altKey && event.which != 18)\n",
       "        value += \"alt+\";\n",
       "    if (event.shiftKey && event.which != 16)\n",
       "        value += \"shift+\";\n",
       "\n",
       "    value += 'k';\n",
       "    value += event.which.toString();\n",
       "\n",
       "    this._key_event_extra(event, name);\n",
       "\n",
       "    this.send_message(name, {key: value,\n",
       "                             guiEvent: simpleKeys(event)});\n",
       "    return false;\n",
       "}\n",
       "\n",
       "mpl.figure.prototype.toolbar_button_onclick = function(name) {\n",
       "    if (name == 'download') {\n",
       "        this.handle_save(this, null);\n",
       "    } else {\n",
       "        this.send_message(\"toolbar_button\", {name: name});\n",
       "    }\n",
       "};\n",
       "\n",
       "mpl.figure.prototype.toolbar_button_onmouseover = function(tooltip) {\n",
       "    this.message.textContent = tooltip;\n",
       "};\n",
       "mpl.toolbar_items = [[\"Home\", \"Reset original view\", \"fa fa-home icon-home\", \"home\"], [\"Back\", \"Back to  previous view\", \"fa fa-arrow-left icon-arrow-left\", \"back\"], [\"Forward\", \"Forward to next view\", \"fa fa-arrow-right icon-arrow-right\", \"forward\"], [\"\", \"\", \"\", \"\"], [\"Pan\", \"Pan axes with left mouse, zoom with right\", \"fa fa-arrows icon-move\", \"pan\"], [\"Zoom\", \"Zoom to rectangle\", \"fa fa-square-o icon-check-empty\", \"zoom\"], [\"\", \"\", \"\", \"\"], [\"Download\", \"Download plot\", \"fa fa-floppy-o icon-save\", \"download\"]];\n",
       "\n",
       "mpl.extensions = [\"eps\", \"jpeg\", \"pdf\", \"png\", \"ps\", \"raw\", \"svg\", \"tif\"];\n",
       "\n",
       "mpl.default_extension = \"png\";var comm_websocket_adapter = function(comm) {\n",
       "    // Create a \"websocket\"-like object which calls the given IPython comm\n",
       "    // object with the appropriate methods. Currently this is a non binary\n",
       "    // socket, so there is still some room for performance tuning.\n",
       "    var ws = {};\n",
       "\n",
       "    ws.close = function() {\n",
       "        comm.close()\n",
       "    };\n",
       "    ws.send = function(m) {\n",
       "        //console.log('sending', m);\n",
       "        comm.send(m);\n",
       "    };\n",
       "    // Register the callback with on_msg.\n",
       "    comm.on_msg(function(msg) {\n",
       "        //console.log('receiving', msg['content']['data'], msg);\n",
       "        // Pass the mpl event to the overriden (by mpl) onmessage function.\n",
       "        ws.onmessage(msg['content']['data'])\n",
       "    });\n",
       "    return ws;\n",
       "}\n",
       "\n",
       "mpl.mpl_figure_comm = function(comm, msg) {\n",
       "    // This is the function which gets called when the mpl process\n",
       "    // starts-up an IPython Comm through the \"matplotlib\" channel.\n",
       "\n",
       "    var id = msg.content.data.id;\n",
       "    // Get hold of the div created by the display call when the Comm\n",
       "    // socket was opened in Python.\n",
       "    var element = $(\"#\" + id);\n",
       "    var ws_proxy = comm_websocket_adapter(comm)\n",
       "\n",
       "    function ondownload(figure, format) {\n",
       "        window.open(figure.imageObj.src);\n",
       "    }\n",
       "\n",
       "    var fig = new mpl.figure(id, ws_proxy,\n",
       "                           ondownload,\n",
       "                           element.get(0));\n",
       "\n",
       "    // Call onopen now - mpl needs it, as it is assuming we've passed it a real\n",
       "    // web socket which is closed, not our websocket->open comm proxy.\n",
       "    ws_proxy.onopen();\n",
       "\n",
       "    fig.parent_element = element.get(0);\n",
       "    fig.cell_info = mpl.find_output_cell(\"<div id='\" + id + \"'></div>\");\n",
       "    if (!fig.cell_info) {\n",
       "        console.error(\"Failed to find cell for figure\", id, fig);\n",
       "        return;\n",
       "    }\n",
       "\n",
       "    var output_index = fig.cell_info[2]\n",
       "    var cell = fig.cell_info[0];\n",
       "\n",
       "};\n",
       "\n",
       "mpl.figure.prototype.handle_close = function(fig, msg) {\n",
       "    var width = fig.canvas.width/mpl.ratio\n",
       "    fig.root.unbind('remove')\n",
       "\n",
       "    // Update the output cell to use the data from the current canvas.\n",
       "    fig.push_to_output();\n",
       "    var dataURL = fig.canvas.toDataURL();\n",
       "    // Re-enable the keyboard manager in IPython - without this line, in FF,\n",
       "    // the notebook keyboard shortcuts fail.\n",
       "    IPython.keyboard_manager.enable()\n",
       "    $(fig.parent_element).html('<img src=\"' + dataURL + '\" width=\"' + width + '\">');\n",
       "    fig.close_ws(fig, msg);\n",
       "}\n",
       "\n",
       "mpl.figure.prototype.close_ws = function(fig, msg){\n",
       "    fig.send_message('closing', msg);\n",
       "    // fig.ws.close()\n",
       "}\n",
       "\n",
       "mpl.figure.prototype.push_to_output = function(remove_interactive) {\n",
       "    // Turn the data on the canvas into data in the output cell.\n",
       "    var width = this.canvas.width/mpl.ratio\n",
       "    var dataURL = this.canvas.toDataURL();\n",
       "    this.cell_info[1]['text/html'] = '<img src=\"' + dataURL + '\" width=\"' + width + '\">';\n",
       "}\n",
       "\n",
       "mpl.figure.prototype.updated_canvas_event = function() {\n",
       "    // Tell IPython that the notebook contents must change.\n",
       "    IPython.notebook.set_dirty(true);\n",
       "    this.send_message(\"ack\", {});\n",
       "    var fig = this;\n",
       "    // Wait a second, then push the new image to the DOM so\n",
       "    // that it is saved nicely (might be nice to debounce this).\n",
       "    setTimeout(function () { fig.push_to_output() }, 1000);\n",
       "}\n",
       "\n",
       "mpl.figure.prototype._init_toolbar = function() {\n",
       "    var fig = this;\n",
       "\n",
       "    var nav_element = $('<div/>')\n",
       "    nav_element.attr('style', 'width: 100%');\n",
       "    this.root.append(nav_element);\n",
       "\n",
       "    // Define a callback function for later on.\n",
       "    function toolbar_event(event) {\n",
       "        return fig.toolbar_button_onclick(event['data']);\n",
       "    }\n",
       "    function toolbar_mouse_event(event) {\n",
       "        return fig.toolbar_button_onmouseover(event['data']);\n",
       "    }\n",
       "\n",
       "    for(var toolbar_ind in mpl.toolbar_items){\n",
       "        var name = mpl.toolbar_items[toolbar_ind][0];\n",
       "        var tooltip = mpl.toolbar_items[toolbar_ind][1];\n",
       "        var image = mpl.toolbar_items[toolbar_ind][2];\n",
       "        var method_name = mpl.toolbar_items[toolbar_ind][3];\n",
       "\n",
       "        if (!name) { continue; };\n",
       "\n",
       "        var button = $('<button class=\"btn btn-default\" href=\"#\" title=\"' + name + '\"><i class=\"fa ' + image + ' fa-lg\"></i></button>');\n",
       "        button.click(method_name, toolbar_event);\n",
       "        button.mouseover(tooltip, toolbar_mouse_event);\n",
       "        nav_element.append(button);\n",
       "    }\n",
       "\n",
       "    // Add the status bar.\n",
       "    var status_bar = $('<span class=\"mpl-message\" style=\"text-align:right; float: right;\"/>');\n",
       "    nav_element.append(status_bar);\n",
       "    this.message = status_bar[0];\n",
       "\n",
       "    // Add the close button to the window.\n",
       "    var buttongrp = $('<div class=\"btn-group inline pull-right\"></div>');\n",
       "    var button = $('<button class=\"btn btn-mini btn-primary\" href=\"#\" title=\"Stop Interaction\"><i class=\"fa fa-power-off icon-remove icon-large\"></i></button>');\n",
       "    button.click(function (evt) { fig.handle_close(fig, {}); } );\n",
       "    button.mouseover('Stop Interaction', toolbar_mouse_event);\n",
       "    buttongrp.append(button);\n",
       "    var titlebar = this.root.find($('.ui-dialog-titlebar'));\n",
       "    titlebar.prepend(buttongrp);\n",
       "}\n",
       "\n",
       "mpl.figure.prototype._root_extra_style = function(el){\n",
       "    var fig = this\n",
       "    el.on(\"remove\", function(){\n",
       "\tfig.close_ws(fig, {});\n",
       "    });\n",
       "}\n",
       "\n",
       "mpl.figure.prototype._canvas_extra_style = function(el){\n",
       "    // this is important to make the div 'focusable\n",
       "    el.attr('tabindex', 0)\n",
       "    // reach out to IPython and tell the keyboard manager to turn it's self\n",
       "    // off when our div gets focus\n",
       "\n",
       "    // location in version 3\n",
       "    if (IPython.notebook.keyboard_manager) {\n",
       "        IPython.notebook.keyboard_manager.register_events(el);\n",
       "    }\n",
       "    else {\n",
       "        // location in version 2\n",
       "        IPython.keyboard_manager.register_events(el);\n",
       "    }\n",
       "\n",
       "}\n",
       "\n",
       "mpl.figure.prototype._key_event_extra = function(event, name) {\n",
       "    var manager = IPython.notebook.keyboard_manager;\n",
       "    if (!manager)\n",
       "        manager = IPython.keyboard_manager;\n",
       "\n",
       "    // Check for shift+enter\n",
       "    if (event.shiftKey && event.which == 13) {\n",
       "        this.canvas_div.blur();\n",
       "        event.shiftKey = false;\n",
       "        // Send a \"J\" for go to next cell\n",
       "        event.which = 74;\n",
       "        event.keyCode = 74;\n",
       "        manager.command_mode();\n",
       "        manager.handle_keydown(event);\n",
       "    }\n",
       "}\n",
       "\n",
       "mpl.figure.prototype.handle_save = function(fig, msg) {\n",
       "    fig.ondownload(fig, null);\n",
       "}\n",
       "\n",
       "\n",
       "mpl.find_output_cell = function(html_output) {\n",
       "    // Return the cell and output element which can be found *uniquely* in the notebook.\n",
       "    // Note - this is a bit hacky, but it is done because the \"notebook_saving.Notebook\"\n",
       "    // IPython event is triggered only after the cells have been serialised, which for\n",
       "    // our purposes (turning an active figure into a static one), is too late.\n",
       "    var cells = IPython.notebook.get_cells();\n",
       "    var ncells = cells.length;\n",
       "    for (var i=0; i<ncells; i++) {\n",
       "        var cell = cells[i];\n",
       "        if (cell.cell_type === 'code'){\n",
       "            for (var j=0; j<cell.output_area.outputs.length; j++) {\n",
       "                var data = cell.output_area.outputs[j];\n",
       "                if (data.data) {\n",
       "                    // IPython >= 3 moved mimebundle to data attribute of output\n",
       "                    data = data.data;\n",
       "                }\n",
       "                if (data['text/html'] == html_output) {\n",
       "                    return [cell, data, j];\n",
       "                }\n",
       "            }\n",
       "        }\n",
       "    }\n",
       "}\n",
       "\n",
       "// Register the function which deals with the matplotlib target/channel.\n",
       "// The kernel may be null if the page has been refreshed.\n",
       "if (IPython.notebook.kernel != null) {\n",
       "    IPython.notebook.kernel.comm_manager.register_target('matplotlib', mpl.mpl_figure_comm);\n",
       "}\n"
      ],
      "text/plain": [
       "<IPython.core.display.Javascript object>"
      ]
     },
     "metadata": {},
     "output_type": "display_data"
    },
    {
     "data": {
      "text/html": [
       "<img src=\"data:image/png;base64,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\" width=\"640\">"
      ],
      "text/plain": [
       "<IPython.core.display.HTML object>"
      ]
     },
     "metadata": {},
     "output_type": "display_data"
    }
   ],
   "source": [
    "plot_train(history)"
   ]
  },
  {
   "cell_type": "code",
   "execution_count": 54,
   "metadata": {},
   "outputs": [
    {
     "name": "stdout",
     "output_type": "stream",
     "text": [
      " 512/1648 [========>.....................] - ETA: 0sModel Accuracy = 63.47 %\n",
      "Model Loss = 00.80\n"
     ]
    }
   ],
   "source": [
    "evaluation = model.evaluate(x_test, y_test, batch_size=512)\n",
    "print('Model Accuracy = {:.2f} %'.format(evaluation[1]*100))\n",
    "print('Model Loss = {:05.2f}'.format(evaluation[0]))"
   ]
  },
  {
   "cell_type": "code",
   "execution_count": null,
   "metadata": {
    "collapsed": true
   },
   "outputs": [],
   "source": []
  }
 ],
 "metadata": {
  "kernelspec": {
   "display_name": "Python 3",
   "language": "python",
   "name": "python3"
  },
  "language_info": {
   "codemirror_mode": {
    "name": "ipython",
    "version": 3
   },
   "file_extension": ".py",
   "mimetype": "text/x-python",
   "name": "python",
   "nbconvert_exporter": "python",
   "pygments_lexer": "ipython3",
   "version": "3.6.3"
  }
 },
 "nbformat": 4,
 "nbformat_minor": 2
}
