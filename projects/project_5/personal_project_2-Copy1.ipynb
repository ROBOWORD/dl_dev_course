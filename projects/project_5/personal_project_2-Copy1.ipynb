{
 "cells": [
  {
   "cell_type": "code",
   "execution_count": 1,
   "metadata": {},
   "outputs": [
    {
     "name": "stderr",
     "output_type": "stream",
     "text": [
      "Using TensorFlow backend.\n"
     ]
    }
   ],
   "source": [
    "import numpy as np\n",
    "import pandas as pd\n",
    "import matplotlib.pyplot as plt\n",
    "import sys\n",
    "\n",
    "import keras\n",
    "from keras.models import Sequential, Model, load_model\n",
    "from keras.layers import Dense, LSTM, Dropout, Input, Activation, Flatten \n",
    "from keras.layers import TimeDistributed, Conv2D, Bidirectional\n",
    "from keras.optimizers import RMSprop, Adam\n",
    "\n",
    "from keras.callbacks import ModelCheckpoint\n",
    "from keras.utils import np_utils\n",
    "\n",
    "import tensorflow as tf\n",
    "%matplotlib notebook"
   ]
  },
  {
   "cell_type": "code",
   "execution_count": 2,
   "metadata": {},
   "outputs": [
    {
     "name": "stdout",
     "output_type": "stream",
     "text": [
      "1.13.3\n",
      "0.20.3\n",
      "1.4.0-rc0\n",
      "2.0.8\n"
     ]
    }
   ],
   "source": [
    "print(np.__version__)\n",
    "print(pd.__version__)\n",
    "print(tf.__version__)\n",
    "print(keras.__version__)"
   ]
  },
  {
   "cell_type": "code",
   "execution_count": 3,
   "metadata": {
    "collapsed": true
   },
   "outputs": [],
   "source": [
    "#f = open('sp500.csv', 'rb').read()\n",
    "#data = f.decode().split('\\n')def updown(a,b):"
   ]
  },
  {
   "cell_type": "code",
   "execution_count": 4,
   "metadata": {},
   "outputs": [
    {
     "data": {
      "text/plain": [
       "17070"
      ]
     },
     "execution_count": 4,
     "metadata": {},
     "output_type": "execute_result"
    }
   ],
   "source": [
    "# load csv as np array\n",
    "raw = np.loadtxt(open('snp-ohlc_4ta.csv'), delimiter=',')\n",
    "len(raw)"
   ]
  },
  {
   "cell_type": "code",
   "execution_count": 5,
   "metadata": {},
   "outputs": [
    {
     "data": {
      "text/plain": [
       "(numpy.ndarray, 8, array([  1.66600000e+01,   1.66600000e+01,   1.66600000e+01,\n",
       "          1.66600000e+01,   1.26000000e+06,   1.66600000e+01,\n",
       "          1.66600000e+01,   0.00000000e+00]), array([  2.58320996e+03,   2.58839990e+03,   2.57491992e+03,\n",
       "          2.57936011e+03,   2.21094534e+09,   2.56936793e+03,\n",
       "          2.55815613e+03,  -2.03599436e+01]))"
      ]
     },
     "execution_count": 5,
     "metadata": {},
     "output_type": "execute_result"
    }
   ],
   "source": [
    "type(raw), len(raw[0]), raw[0], raw[-1]"
   ]
  },
  {
   "cell_type": "code",
   "execution_count": null,
   "metadata": {
    "collapsed": true
   },
   "outputs": [],
   "source": [
    "raw = raw[13:]"
   ]
  },
  {
   "cell_type": "code",
   "execution_count": 6,
   "metadata": {
    "collapsed": true
   },
   "outputs": [],
   "source": [
    "# create list of sequences/window of length seqlen\n",
    "# set sequence length\n",
    "seqlen = 20\n",
    "winraw = []\n",
    "for i in range(len(raw)-seqlen):\n",
    "    winraw.append(raw[i:i+seqlen,:])"
   ]
  },
  {
   "cell_type": "code",
   "execution_count": 7,
   "metadata": {
    "collapsed": true
   },
   "outputs": [],
   "source": [
    "# convert winraw to np.array\n",
    "winarr = np.array(winraw)"
   ]
  },
  {
   "cell_type": "code",
   "execution_count": 8,
   "metadata": {},
   "outputs": [
    {
     "data": {
      "text/plain": [
       "(array([[  1.66600000e+01,   1.66600000e+01,   1.66600000e+01,\n",
       "           1.66600000e+01,   1.26000000e+06,   1.66600000e+01,\n",
       "           1.66600000e+01,   0.00000000e+00],\n",
       "        [  1.68500000e+01,   1.68500000e+01,   1.68500000e+01,\n",
       "           1.68500000e+01,   1.89000000e+06,   1.66945455e+01,\n",
       "           1.66780952e+01,   0.00000000e+00],\n",
       "        [  1.69300000e+01,   1.69300000e+01,   1.69300000e+01,\n",
       "           1.69300000e+01,   2.55000000e+06,   1.67373554e+01,\n",
       "           1.67020862e+01,   0.00000000e+00],\n",
       "        [  1.69800000e+01,   1.69800000e+01,   1.69800000e+01,\n",
       "           1.69800000e+01,   2.01000000e+06,   1.67814726e+01,\n",
       "           1.67285542e+01,   0.00000000e+00],\n",
       "        [  1.70900000e+01,   1.70900000e+01,   1.70800000e+01,\n",
       "           1.70800000e+01,   3.85000000e+06,   1.68357503e+01,\n",
       "           1.67620252e+01,   0.00000000e+00],\n",
       "        [  1.70300010e+01,   1.70300010e+01,   1.70300010e+01,\n",
       "           1.70300010e+01,   2.16000000e+06,   1.68710686e+01,\n",
       "           1.67875467e+01,   0.00000000e+00],\n",
       "        [  1.70900000e+01,   1.70900000e+01,   1.70900000e+01,\n",
       "           1.70900000e+01,   2.63000000e+06,   1.69108743e+01,\n",
       "           1.68163518e+01,   0.00000000e+00],\n",
       "        [  1.67600000e+01,   1.67600000e+01,   1.67600000e+01,\n",
       "           1.67600000e+01,   2.97000000e+06,   1.68834426e+01,\n",
       "           1.68109849e+01,   0.00000000e+00],\n",
       "        [  1.66700000e+01,   1.66700000e+01,   1.66700000e+01,\n",
       "           1.66700000e+01,   3.33000000e+06,   1.68446349e+01,\n",
       "           1.67975578e+01,   0.00000000e+00],\n",
       "        [  1.66500000e+01,   1.67199990e+01,   1.66500000e+01,\n",
       "           1.67199990e+01,   2.64000000e+06,   1.68219738e+01,\n",
       "           1.67901712e+01,   0.00000000e+00],\n",
       "        [  1.68600010e+01,   1.68600010e+01,   1.68600010e+01,\n",
       "           1.68600010e+01,   1.79000000e+06,   1.68288878e+01,\n",
       "           1.67968217e+01,   0.00000000e+00],\n",
       "        [  1.68500000e+01,   1.68500000e+01,   1.68500000e+01,\n",
       "           1.68500000e+01,   1.57000000e+06,   1.68327264e+01,\n",
       "           1.68018863e+01,   0.00000000e+00],\n",
       "        [  1.68700010e+01,   1.68700010e+01,   1.68700010e+01,\n",
       "           1.68700010e+01,   1.17000000e+06,   1.68395036e+01,\n",
       "           1.68083734e+01,   0.00000000e+00],\n",
       "        [  1.69000000e+01,   1.69000000e+01,   1.69000000e+01,\n",
       "           1.69000000e+01,   1.44000000e+06,   1.68505030e+01,\n",
       "           1.68170998e+01,  -4.31818182e+01],\n",
       "        [  1.69400010e+01,   1.69400010e+01,   1.69200000e+01,\n",
       "           1.69200000e+01,   1.89000000e+06,   1.68631388e+01,\n",
       "           1.68268998e+01,  -3.86363636e+01],\n",
       "        [  1.68600010e+01,   1.68600010e+01,   1.68600010e+01,\n",
       "           1.68600010e+01,   1.25000000e+06,   1.68625683e+01,\n",
       "           1.68300523e+01,  -5.22725000e+01],\n",
       "        [  1.67400000e+01,   1.67400000e+01,   1.67400000e+01,\n",
       "           1.67400000e+01,   1.70000000e+06,   1.68402831e+01,\n",
       "           1.68214759e+01,  -7.95454545e+01],\n",
       "        [  1.67300000e+01,   1.67300000e+01,   1.67300000e+01,\n",
       "           1.67300000e+01,   1.15000000e+06,   1.68202317e+01,\n",
       "           1.68127639e+01,  -8.18181818e+01],\n",
       "        [  1.68200000e+01,   1.68200000e+01,   1.68200000e+01,\n",
       "           1.68200000e+01,   1.25000000e+06,   1.68201895e+01,\n",
       "           1.68134530e+01,  -6.13636364e+01],\n",
       "        [  1.69000000e+01,   1.70200000e+01,   1.69000000e+01,\n",
       "           1.70200000e+01,   2.38000000e+06,   1.68565187e+01,\n",
       "           1.68331242e+01,  -1.59090909e+01]]), 17050, 20, numpy.ndarray)"
      ]
     },
     "execution_count": 8,
     "metadata": {},
     "output_type": "execute_result"
    }
   ],
   "source": [
    "winarr[0],len(winarr), len(winarr[0]),type(winarr)"
   ]
  },
  {
   "cell_type": "code",
   "execution_count": 9,
   "metadata": {},
   "outputs": [
    {
     "data": {
      "text/plain": [
       "array([ True,  True,  True,  True,  True,  True,  True,  True], dtype=bool)"
      ]
     },
     "execution_count": 9,
     "metadata": {},
     "output_type": "execute_result"
    }
   ],
   "source": [
    "winraw[-1][-1] == raw[-2]"
   ]
  },
  {
   "cell_type": "code",
   "execution_count": 10,
   "metadata": {
    "collapsed": true,
    "scrolled": true
   },
   "outputs": [],
   "source": [
    "#halfseqlen = round(seqlen/2)\n",
    "#halfseqlen"
   ]
  },
  {
   "cell_type": "code",
   "execution_count": 11,
   "metadata": {},
   "outputs": [
    {
     "data": {
      "text/plain": [
       "(array([[  1.66600000e+01,   1.66600000e+01,   1.66600000e+01,\n",
       "           1.66600000e+01,   1.26000000e+06,   1.66600000e+01,\n",
       "           1.66600000e+01,   0.00000000e+00],\n",
       "        [  1.68500000e+01,   1.68500000e+01,   1.68500000e+01,\n",
       "           1.68500000e+01,   1.89000000e+06,   1.66945455e+01,\n",
       "           1.66780952e+01,   0.00000000e+00],\n",
       "        [  1.69300000e+01,   1.69300000e+01,   1.69300000e+01,\n",
       "           1.69300000e+01,   2.55000000e+06,   1.67373554e+01,\n",
       "           1.67020862e+01,   0.00000000e+00],\n",
       "        [  1.69800000e+01,   1.69800000e+01,   1.69800000e+01,\n",
       "           1.69800000e+01,   2.01000000e+06,   1.67814726e+01,\n",
       "           1.67285542e+01,   0.00000000e+00],\n",
       "        [  1.70900000e+01,   1.70900000e+01,   1.70800000e+01,\n",
       "           1.70800000e+01,   3.85000000e+06,   1.68357503e+01,\n",
       "           1.67620252e+01,   0.00000000e+00],\n",
       "        [  1.70300010e+01,   1.70300010e+01,   1.70300010e+01,\n",
       "           1.70300010e+01,   2.16000000e+06,   1.68710686e+01,\n",
       "           1.67875467e+01,   0.00000000e+00],\n",
       "        [  1.70900000e+01,   1.70900000e+01,   1.70900000e+01,\n",
       "           1.70900000e+01,   2.63000000e+06,   1.69108743e+01,\n",
       "           1.68163518e+01,   0.00000000e+00],\n",
       "        [  1.67600000e+01,   1.67600000e+01,   1.67600000e+01,\n",
       "           1.67600000e+01,   2.97000000e+06,   1.68834426e+01,\n",
       "           1.68109849e+01,   0.00000000e+00],\n",
       "        [  1.66700000e+01,   1.66700000e+01,   1.66700000e+01,\n",
       "           1.66700000e+01,   3.33000000e+06,   1.68446349e+01,\n",
       "           1.67975578e+01,   0.00000000e+00],\n",
       "        [  1.66500000e+01,   1.67199990e+01,   1.66500000e+01,\n",
       "           1.67199990e+01,   2.64000000e+06,   1.68219738e+01,\n",
       "           1.67901712e+01,   0.00000000e+00],\n",
       "        [  1.68600010e+01,   1.68600010e+01,   1.68600010e+01,\n",
       "           1.68600010e+01,   1.79000000e+06,   1.68288878e+01,\n",
       "           1.67968217e+01,   0.00000000e+00],\n",
       "        [  1.68500000e+01,   1.68500000e+01,   1.68500000e+01,\n",
       "           1.68500000e+01,   1.57000000e+06,   1.68327264e+01,\n",
       "           1.68018863e+01,   0.00000000e+00],\n",
       "        [  1.68700010e+01,   1.68700010e+01,   1.68700010e+01,\n",
       "           1.68700010e+01,   1.17000000e+06,   1.68395036e+01,\n",
       "           1.68083734e+01,   0.00000000e+00],\n",
       "        [  1.69000000e+01,   1.69000000e+01,   1.69000000e+01,\n",
       "           1.69000000e+01,   1.44000000e+06,   1.68505030e+01,\n",
       "           1.68170998e+01,  -4.31818182e+01],\n",
       "        [  1.69400010e+01,   1.69400010e+01,   1.69200000e+01,\n",
       "           1.69200000e+01,   1.89000000e+06,   1.68631388e+01,\n",
       "           1.68268998e+01,  -3.86363636e+01],\n",
       "        [  1.68600010e+01,   1.68600010e+01,   1.68600010e+01,\n",
       "           1.68600010e+01,   1.25000000e+06,   1.68625683e+01,\n",
       "           1.68300523e+01,  -5.22725000e+01],\n",
       "        [  1.67400000e+01,   1.67400000e+01,   1.67400000e+01,\n",
       "           1.67400000e+01,   1.70000000e+06,   1.68402831e+01,\n",
       "           1.68214759e+01,  -7.95454545e+01],\n",
       "        [  1.67300000e+01,   1.67300000e+01,   1.67300000e+01,\n",
       "           1.67300000e+01,   1.15000000e+06,   1.68202317e+01,\n",
       "           1.68127639e+01,  -8.18181818e+01],\n",
       "        [  1.68200000e+01,   1.68200000e+01,   1.68200000e+01,\n",
       "           1.68200000e+01,   1.25000000e+06,   1.68201895e+01,\n",
       "           1.68134530e+01,  -6.13636364e+01],\n",
       "        [  1.69000000e+01,   1.70200000e+01,   1.69000000e+01,\n",
       "           1.70200000e+01,   2.38000000e+06,   1.68565187e+01,\n",
       "           1.68331242e+01,  -1.59090909e+01]]), -15.9090909091, 0.0)"
      ]
     },
     "execution_count": 11,
     "metadata": {},
     "output_type": "execute_result"
    }
   ],
   "source": [
    "zz = 0\n",
    "winarr[zz], winarr[zz][-1][-1],winarr[zz][0][-1]"
   ]
  },
  {
   "cell_type": "code",
   "execution_count": 12,
   "metadata": {
    "collapsed": true
   },
   "outputs": [],
   "source": [
    "trends = ['up', 'dn', 'flat']"
   ]
  },
  {
   "cell_type": "code",
   "execution_count": 50,
   "metadata": {
    "collapsed": true
   },
   "outputs": [],
   "source": [
    "# helper functions to check if uptrend, downtrend or flat\n",
    "# 1st part is to get change(difference) of each window from 1st to last close\n",
    "# 2nd part is to check the stats of the difference\n",
    "# 3rd part is to check trend\n",
    "\n",
    "# get range of each window by subtracting last close from 1st close\n",
    "# and dividing by 1st close to get a % change\n",
    "def getRange(w):\n",
    "    wa = w[0][3]\n",
    "    #wb = w[halfseqlen][-1]\n",
    "    wc = w[-1][3]\n",
    "    return (wc-wa)/wa\n",
    "\n",
    "# check trend and give Y\n",
    "def checkTrend(a,b):\n",
    "    # uptrend is 1, downtrend is 2, flat is 3\n",
    "    if a >= b:\n",
    "        return 0\n",
    "    elif a <= -b:\n",
    "        return 1\n",
    "    else:\n",
    "        return 2\n"
   ]
  },
  {
   "cell_type": "code",
   "execution_count": 51,
   "metadata": {},
   "outputs": [
    {
     "name": "stderr",
     "output_type": "stream",
     "text": [
      "/home/john/miniconda3/envs/tfsc/lib/python3.6/site-packages/ipykernel_launcher.py:12: RuntimeWarning: divide by zero encountered in double_scalars\n",
      "  if sys.path[0] == '':\n",
      "/home/john/miniconda3/envs/tfsc/lib/python3.6/site-packages/ipykernel_launcher.py:12: RuntimeWarning: invalid value encountered in double_scalars\n",
      "  if sys.path[0] == '':\n"
     ]
    }
   ],
   "source": [
    "windowrange = []\n",
    "for w in winarr:\n",
    "    windowrange.append(getRange(w))\n"
   ]
  },
  {
   "cell_type": "code",
   "execution_count": 52,
   "metadata": {},
   "outputs": [
    {
     "data": {
      "text/plain": [
       "17050"
      ]
     },
     "execution_count": 52,
     "metadata": {},
     "output_type": "execute_result"
    }
   ],
   "source": [
    "len(windowrange), "
   ]
  },
  {
   "cell_type": "code",
   "execution_count": 53,
   "metadata": {
    "collapsed": true
   },
   "outputs": [],
   "source": [
    "absrange = [abs(x) for x in windowrange]"
   ]
  },
  {
   "cell_type": "code",
   "execution_count": 54,
   "metadata": {},
   "outputs": [
    {
     "data": {
      "text/plain": [
       "(17050,\n",
       " [inf,\n",
       "  inf,\n",
       "  inf,\n",
       "  inf,\n",
       "  21.000099999998486,\n",
       "  inf,\n",
       "  inf,\n",
       "  inf,\n",
       "  inf,\n",
       "  7.4286918384545615])"
      ]
     },
     "execution_count": 54,
     "metadata": {},
     "output_type": "execute_result"
    }
   ],
   "source": [
    "len(absrange),absrange[:10]"
   ]
  },
  {
   "cell_type": "code",
   "execution_count": 55,
   "metadata": {},
   "outputs": [
    {
     "data": {
      "text/plain": [
       "(inf, 0.0, nan)"
      ]
     },
     "execution_count": 55,
     "metadata": {},
     "output_type": "execute_result"
    }
   ],
   "source": [
    "max(absrange),min(absrange), np.mean(absrange)"
   ]
  },
  {
   "cell_type": "code",
   "execution_count": 56,
   "metadata": {},
   "outputs": [
    {
     "data": {
      "text/plain": [
       "(inf, 124)"
      ]
     },
     "execution_count": 56,
     "metadata": {},
     "output_type": "execute_result"
    }
   ],
   "source": [
    "max(windowrange),np.argmax(windowrange)"
   ]
  },
  {
   "cell_type": "code",
   "execution_count": 57,
   "metadata": {},
   "outputs": [
    {
     "data": {
      "text/plain": [
       "array([[  0.00000000e+00,   9.82610939e-03,  -7.77455990e-03,\n",
       "         -2.26756287e-03,   1.20504344e+05,   1.11843802e-02,\n",
       "          2.25965344e-02,  -1.94406809e+00],\n",
       "       [ -2.26756287e-03,   3.34733826e-03,  -1.14458265e-02,\n",
       "         -5.29098364e-03,   1.07654760e+05,   8.18885948e-03,\n",
       "          1.99405803e-02,  -1.98629461e+00],\n",
       "       [ -5.29098364e-03,   3.56334085e-03,  -1.20937586e-02,\n",
       "         -6.04684153e-03,   1.09382435e+05,   5.60055021e-03,\n",
       "          1.74655877e-02,  -1.99546070e+00],\n",
       "       [ -6.04684153e-03,   1.56570239e-02,  -6.04684153e-03,\n",
       "          1.13379008e-02,   1.56893502e+05,   6.64370485e-03,\n",
       "          1.68819985e-02,  -1.73368701e+00],\n",
       "       [  1.13379008e-02,   2.62390668e-02,   5.50698623e-03,\n",
       "          1.88964473e-02,   1.51386538e+05,   8.87147620e-03,\n",
       "          1.70738508e-02,  -1.42183069e+00],\n",
       "       [  1.88964473e-02,   3.03422629e-02,   1.23096748e-02,\n",
       "          2.34315730e-02,   1.34649684e+05,   1.15187665e-02,\n",
       "          1.76793481e-02,  -1.17584453e+00],\n",
       "       [  2.33235717e-02,   2.33235717e-02,   6.37075903e-03,\n",
       "          1.23096748e-02,   1.15645257e+05,   1.16625680e-02,\n",
       "          1.71679507e-02,  -1.45884448e+00],\n",
       "       [  1.23096748e-02,   1.63049561e-02,   1.07977539e-03,\n",
       "          8.31439360e-03,   1.13593643e+05,   1.10538091e-02,\n",
       "          1.63247548e-02,  -1.56050558e+00],\n",
       "       [  8.31439360e-03,   9.71818368e-03,  -1.16618291e-02,\n",
       "         -8.63840829e-03,   1.52358355e+05,   7.47340590e-03,\n",
       "          1.39473107e-02,  -1.99187459e+00],\n",
       "       [ -8.63840829e-03,  -8.53040699e-03,  -2.91544862e-02,\n",
       "         -2.49432888e-02,   1.72874498e+05,   1.57946141e-03,\n",
       "          1.02434440e-02,  -2.00336864e+00],\n",
       "       [ -2.49432888e-02,  -2.24597989e-02,  -4.30838782e-02,\n",
       "         -3.28258392e-02,   1.71362782e+05,  -4.67604779e-03,\n",
       "          6.14160754e-03,  -1.92894336e+00],\n",
       "       [ -3.28258392e-02,  -1.63049669e-02,  -3.83328254e-02,\n",
       "         -2.62390776e-02,   1.43072101e+05,  -8.59659866e-03,\n",
       "          3.05773277e-03,  -1.83207915e+00],\n",
       "       [ -2.62390776e-02,  -1.97603064e-02,  -3.87647550e-02,\n",
       "         -2.81827121e-02,   1.09814354e+05,  -1.21577102e-02,\n",
       "          8.24523002e-05,  -1.86066203e+00],\n",
       "       [ -2.81827121e-02,  -1.64129682e-02,  -3.48774859e-02,\n",
       "         -2.48353631e-02,   1.18560709e+05,  -1.44627380e-02,\n",
       "         -2.29067297e-03,  -1.81143627e+00],\n",
       "       [ -2.48353631e-02,   4.53512575e-03,  -3.01263467e-02,\n",
       "         -4.21120825e-03,   1.63264304e+05,  -1.25988235e-02,\n",
       "         -2.47358110e-03,  -1.50813966e+00],\n",
       "       [ -4.21120825e-03,   1.05819565e-02,  -1.24176869e-02,\n",
       "         -5.61499832e-03,   1.47067350e+05,  -1.13290371e-02,\n",
       "         -2.77276369e-03,  -1.52878364e+00],\n",
       "       [ -5.61499832e-03,  -3.67135295e-03,  -2.18119531e-02,\n",
       "         -1.42533202e-02,   1.19640506e+05,  -1.18607249e-02,\n",
       "         -3.86615003e-03,  -1.65581788e+00],\n",
       "       [ -1.42533202e-02,  -1.09059820e-02,  -2.67790085e-02,\n",
       "         -1.60889535e-02,   1.02039815e+05,  -1.26294938e-02,\n",
       "         -5.03022655e-03,  -1.68281251e+00],\n",
       "       [ -1.60889535e-02,  -2.69949247e-03,  -2.07320913e-02,\n",
       "         -1.24176869e-02,   1.15645257e+05,  -1.25909834e-02,\n",
       "         -5.73379420e-03,  -1.62882325e+00],\n",
       "       [ -1.24176869e-02,  -2.91550585e-03,  -2.05161643e-02,\n",
       "         -1.04740524e-02,   1.27954943e+05,  -1.22060869e-02,\n",
       "         -6.18524736e-03,  -1.54955540e+00]])"
      ]
     },
     "execution_count": 57,
     "metadata": {},
     "output_type": "execute_result"
    }
   ],
   "source": [
    "winarr[6079]"
   ]
  },
  {
   "cell_type": "code",
   "execution_count": 58,
   "metadata": {},
   "outputs": [
    {
     "data": {
      "text/plain": [
       "nan"
      ]
     },
     "execution_count": 58,
     "metadata": {},
     "output_type": "execute_result"
    }
   ],
   "source": [
    "avgchg = np.mean(absrange)\n",
    "avgchg"
   ]
  },
  {
   "cell_type": "code",
   "execution_count": 59,
   "metadata": {
    "collapsed": true
   },
   "outputs": [],
   "source": [
    "y = []\n",
    "for w in windowrange:\n",
    "    y.append(checkTrend(w,avgchg-0.01))"
   ]
  },
  {
   "cell_type": "code",
   "execution_count": 60,
   "metadata": {},
   "outputs": [
    {
     "data": {
      "text/plain": [
       "(0, 0, 17050)"
      ]
     },
     "execution_count": 60,
     "metadata": {},
     "output_type": "execute_result"
    }
   ],
   "source": [
    "y.count(0),y.count(1), y.count(2)"
   ]
  },
  {
   "cell_type": "code",
   "execution_count": null,
   "metadata": {
    "collapsed": true
   },
   "outputs": [],
   "source": []
  },
  {
   "cell_type": "code",
   "execution_count": 61,
   "metadata": {},
   "outputs": [
    {
     "name": "stdout",
     "output_type": "stream",
     "text": [
      "[[  0.00000000e+00   0.00000000e+00   0.00000000e+00   0.00000000e+00\n",
      "    7.56292521e+04   0.00000000e+00   0.00000000e+00  -1.00000000e+00]\n",
      " [  1.14045618e-02   1.14045618e-02   1.14045618e-02   1.14045618e-02\n",
      "    1.13444378e+05   2.07355669e-03   1.08614875e-03  -1.00000000e+00]\n",
      " [  1.62064826e-02   1.62064826e-02   1.62064826e-02   1.62064826e-02\n",
      "    1.53060224e+05   4.64317959e-03   2.52618054e-03  -1.00000000e+00]\n",
      " [  1.92076831e-02   1.92076831e-02   1.92076831e-02   1.92076831e-02\n",
      "    1.20647259e+05   7.29127113e-03   4.11489507e-03  -1.00000000e+00]\n",
      " [  2.58103241e-02   2.58103241e-02   2.52100840e-02   2.52100840e-02\n",
      "    2.31091437e+05   1.05492371e-02   6.12396068e-03  -1.00000000e+00]\n",
      " [  2.22089436e-02   2.22089436e-02   2.22089436e-02   2.22089436e-02\n",
      "    1.29650861e+05   1.26691837e-02   7.65586382e-03  -1.00000000e+00]\n",
      " [  2.58103241e-02   2.58103241e-02   2.58103241e-02   2.58103241e-02\n",
      "    1.57862145e+05   1.50584820e-02   9.38486004e-03  -1.00000000e+00]\n",
      " [  6.00240096e-03   6.00240096e-03   6.00240096e-03   6.00240096e-03\n",
      "    1.78270309e+05   1.34119218e-02   9.06272107e-03  -1.00000000e+00]\n",
      " [  6.00240096e-04   6.00240096e-04   6.00240096e-04   6.00240096e-04\n",
      "    1.99878952e+05   1.10825251e-02   8.25677050e-03  -1.00000000e+00]\n",
      " [ -6.00240096e-04   3.60138055e-03  -6.00240096e-04   3.60138055e-03\n",
      "    1.58462385e+05   9.72231703e-03   7.81340004e-03  -1.00000000e+00]\n",
      " [  1.20048619e-02   1.20048619e-02   1.20048619e-02   1.20048619e-02\n",
      "    1.07441977e+05   1.01373252e-02   8.21258688e-03  -1.00000000e+00]\n",
      " [  1.14045618e-02   1.14045618e-02   1.14045618e-02   1.14045618e-02\n",
      "    9.42366951e+04   1.03677319e-02   8.51658450e-03  -1.00000000e+00]\n",
      " [  1.26051020e-02   1.26051020e-02   1.26051020e-02   1.26051020e-02\n",
      "    7.02270912e+04   1.07745264e-02   8.90596712e-03  -1.00000000e+00]\n",
      " [  1.44057623e-02   1.44057623e-02   1.44057623e-02   1.44057623e-02\n",
      "    8.64335738e+04   1.14347511e-02   9.42975714e-03  -3.59194587e+00]\n",
      " [  1.68067827e-02   1.68067827e-02   1.56062425e-02   1.56062425e-02\n",
      "    1.13444378e+05   1.21932041e-02   1.00179938e-02  -3.31910946e+00]\n",
      " [  1.20048619e-02   1.20048619e-02   1.20048619e-02   1.20048619e-02\n",
      "    7.50290120e+04   1.21589601e-02   1.02072194e-02  -4.13760504e+00]\n",
      " [  4.80192077e-03   4.80192077e-03   4.80192077e-03   4.80192077e-03\n",
      "    1.02039816e+05   1.08213166e-02   9.69242903e-03  -5.77463713e+00]\n",
      " [  4.20168067e-03   4.20168067e-03   4.20168067e-03   4.20168067e-03\n",
      "    6.90266110e+04   9.61774640e-03   9.16950061e-03  -5.91105533e+00]\n",
      " [  9.60384154e-03   9.60384154e-03   9.60384154e-03   9.60384154e-03\n",
      "    7.50290120e+04   9.61521825e-03   9.21086642e-03  -4.68329150e+00]\n",
      " [  1.44057623e-02   2.16086435e-02   1.44057623e-02   2.16086435e-02\n",
      "    1.42856143e+05   1.17958410e-02   1.03916071e-02  -1.95492743e+00]]\n",
      "2\n",
      "-0.954927425516 0.954927425516\n"
     ]
    }
   ],
   "source": [
    "# check y against winarr values\n",
    "z = 0\n",
    "\n",
    "print(winarr[z])\n",
    "print(y[z])\n",
    "print(winarr[z][-1][-1]-winarr[z][0][-1],(winarr[z][-1][-1]-winarr[z][0][-1])/winarr[z][0][-1])"
   ]
  },
  {
   "cell_type": "code",
   "execution_count": 62,
   "metadata": {},
   "outputs": [
    {
     "data": {
      "text/plain": [
       "True"
      ]
     },
     "execution_count": 62,
     "metadata": {},
     "output_type": "execute_result"
    }
   ],
   "source": [
    "len(winarr)==len(y)"
   ]
  },
  {
   "cell_type": "code",
   "execution_count": 63,
   "metadata": {},
   "outputs": [
    {
     "data": {
      "text/plain": [
       "(array([[  0.00000000e+00,   0.00000000e+00,   0.00000000e+00,\n",
       "           0.00000000e+00,   7.56292521e+04,   0.00000000e+00,\n",
       "           0.00000000e+00,  -1.00000000e+00],\n",
       "        [  1.14045618e-02,   1.14045618e-02,   1.14045618e-02,\n",
       "           1.14045618e-02,   1.13444378e+05,   2.07355669e-03,\n",
       "           1.08614875e-03,  -1.00000000e+00],\n",
       "        [  1.62064826e-02,   1.62064826e-02,   1.62064826e-02,\n",
       "           1.62064826e-02,   1.53060224e+05,   4.64317959e-03,\n",
       "           2.52618054e-03,  -1.00000000e+00],\n",
       "        [  1.92076831e-02,   1.92076831e-02,   1.92076831e-02,\n",
       "           1.92076831e-02,   1.20647259e+05,   7.29127113e-03,\n",
       "           4.11489507e-03,  -1.00000000e+00],\n",
       "        [  2.58103241e-02,   2.58103241e-02,   2.52100840e-02,\n",
       "           2.52100840e-02,   2.31091437e+05,   1.05492371e-02,\n",
       "           6.12396068e-03,  -1.00000000e+00],\n",
       "        [  2.22089436e-02,   2.22089436e-02,   2.22089436e-02,\n",
       "           2.22089436e-02,   1.29650861e+05,   1.26691837e-02,\n",
       "           7.65586382e-03,  -1.00000000e+00],\n",
       "        [  2.58103241e-02,   2.58103241e-02,   2.58103241e-02,\n",
       "           2.58103241e-02,   1.57862145e+05,   1.50584820e-02,\n",
       "           9.38486004e-03,  -1.00000000e+00],\n",
       "        [  6.00240096e-03,   6.00240096e-03,   6.00240096e-03,\n",
       "           6.00240096e-03,   1.78270309e+05,   1.34119218e-02,\n",
       "           9.06272107e-03,  -1.00000000e+00],\n",
       "        [  6.00240096e-04,   6.00240096e-04,   6.00240096e-04,\n",
       "           6.00240096e-04,   1.99878952e+05,   1.10825251e-02,\n",
       "           8.25677050e-03,  -1.00000000e+00],\n",
       "        [ -6.00240096e-04,   3.60138055e-03,  -6.00240096e-04,\n",
       "           3.60138055e-03,   1.58462385e+05,   9.72231703e-03,\n",
       "           7.81340004e-03,  -1.00000000e+00],\n",
       "        [  1.20048619e-02,   1.20048619e-02,   1.20048619e-02,\n",
       "           1.20048619e-02,   1.07441977e+05,   1.01373252e-02,\n",
       "           8.21258688e-03,  -1.00000000e+00],\n",
       "        [  1.14045618e-02,   1.14045618e-02,   1.14045618e-02,\n",
       "           1.14045618e-02,   9.42366951e+04,   1.03677319e-02,\n",
       "           8.51658450e-03,  -1.00000000e+00],\n",
       "        [  1.26051020e-02,   1.26051020e-02,   1.26051020e-02,\n",
       "           1.26051020e-02,   7.02270912e+04,   1.07745264e-02,\n",
       "           8.90596712e-03,  -1.00000000e+00],\n",
       "        [  1.44057623e-02,   1.44057623e-02,   1.44057623e-02,\n",
       "           1.44057623e-02,   8.64335738e+04,   1.14347511e-02,\n",
       "           9.42975714e-03,  -3.59194587e+00],\n",
       "        [  1.68067827e-02,   1.68067827e-02,   1.56062425e-02,\n",
       "           1.56062425e-02,   1.13444378e+05,   1.21932041e-02,\n",
       "           1.00179938e-02,  -3.31910946e+00],\n",
       "        [  1.20048619e-02,   1.20048619e-02,   1.20048619e-02,\n",
       "           1.20048619e-02,   7.50290120e+04,   1.21589601e-02,\n",
       "           1.02072194e-02,  -4.13760504e+00],\n",
       "        [  4.80192077e-03,   4.80192077e-03,   4.80192077e-03,\n",
       "           4.80192077e-03,   1.02039816e+05,   1.08213166e-02,\n",
       "           9.69242903e-03,  -5.77463713e+00],\n",
       "        [  4.20168067e-03,   4.20168067e-03,   4.20168067e-03,\n",
       "           4.20168067e-03,   6.90266110e+04,   9.61774640e-03,\n",
       "           9.16950061e-03,  -5.91105533e+00],\n",
       "        [  9.60384154e-03,   9.60384154e-03,   9.60384154e-03,\n",
       "           9.60384154e-03,   7.50290120e+04,   9.61521825e-03,\n",
       "           9.21086642e-03,  -4.68329150e+00],\n",
       "        [  1.44057623e-02,   2.16086435e-02,   1.44057623e-02,\n",
       "           2.16086435e-02,   1.42856143e+05,   1.17958410e-02,\n",
       "           1.03916071e-02,  -1.95492743e+00]]), 20)"
      ]
     },
     "execution_count": 63,
     "metadata": {},
     "output_type": "execute_result"
    }
   ],
   "source": [
    "winarr[0], len(winarr[0])"
   ]
  },
  {
   "cell_type": "code",
   "execution_count": 64,
   "metadata": {},
   "outputs": [
    {
     "data": {
      "text/plain": [
       "((17050, 20, 8), numpy.ndarray, numpy.ndarray, numpy.ndarray, numpy.float64)"
      ]
     },
     "execution_count": 64,
     "metadata": {},
     "output_type": "execute_result"
    }
   ],
   "source": [
    "winarr.shape,type(winarr),type(winarr[0]),type(winarr[0][0]),type(winarr[0][0][0])"
   ]
  },
  {
   "cell_type": "code",
   "execution_count": 65,
   "metadata": {},
   "outputs": [
    {
     "name": "stderr",
     "output_type": "stream",
     "text": [
      "/home/john/miniconda3/envs/tfsc/lib/python3.6/site-packages/ipykernel_launcher.py:4: RuntimeWarning: divide by zero encountered in true_divide\n",
      "  after removing the cwd from sys.path.\n",
      "/home/john/miniconda3/envs/tfsc/lib/python3.6/site-packages/ipykernel_launcher.py:4: RuntimeWarning: invalid value encountered in true_divide\n",
      "  after removing the cwd from sys.path.\n"
     ]
    }
   ],
   "source": [
    "# normalize X\n",
    "for w in winarr:\n",
    "    #print(w[0][0])\n",
    "    w/=w[0][0]\n",
    "    w -= 1"
   ]
  },
  {
   "cell_type": "code",
   "execution_count": 66,
   "metadata": {},
   "outputs": [
    {
     "data": {
      "text/plain": [
       "array([[ nan,  nan,  nan,  nan,  inf, -inf, -inf, -inf],\n",
       "       [ inf,  inf,  inf,  inf,  inf, -inf, -inf, -inf],\n",
       "       [ inf,  inf,  inf,  inf,  inf, -inf, -inf, -inf],\n",
       "       [ inf,  inf,  inf,  inf,  inf, -inf, -inf, -inf],\n",
       "       [ inf,  inf,  inf,  inf,  inf,  inf, -inf, -inf],\n",
       "       [ inf,  inf,  inf,  inf,  inf,  inf, -inf, -inf],\n",
       "       [-inf, -inf, -inf, -inf,  inf,  inf, -inf, -inf],\n",
       "       [-inf, -inf, -inf, -inf,  inf, -inf, -inf, -inf],\n",
       "       [-inf, -inf, -inf, -inf,  inf, -inf, -inf, -inf],\n",
       "       [ inf,  inf,  inf,  inf,  inf, -inf, -inf, -inf],\n",
       "       [ nan,  nan,  nan,  nan,  inf, -inf, -inf, -inf],\n",
       "       [ inf,  inf,  inf,  inf,  inf, -inf, -inf, -inf],\n",
       "       [ inf,  inf,  inf,  inf,  inf,  inf, -inf, -inf],\n",
       "       [ inf,  inf,  inf,  inf,  inf,  inf, -inf, -inf],\n",
       "       [ inf,  inf,  inf,  inf,  inf,  inf, -inf, -inf],\n",
       "       [-inf, -inf, -inf, -inf,  inf, -inf, -inf, -inf],\n",
       "       [-inf, -inf, -inf, -inf,  inf, -inf, -inf, -inf],\n",
       "       [-inf, -inf, -inf, -inf,  inf, -inf, -inf, -inf],\n",
       "       [ inf,  inf,  inf,  inf,  inf,  inf, -inf, -inf],\n",
       "       [ inf,  inf,  inf,  inf,  inf,  inf,  inf, -inf]])"
      ]
     },
     "execution_count": 66,
     "metadata": {},
     "output_type": "execute_result"
    }
   ],
   "source": [
    "winarr[1]"
   ]
  },
  {
   "cell_type": "code",
   "execution_count": 67,
   "metadata": {},
   "outputs": [
    {
     "data": {
      "text/plain": [
       "(17050, 20, 8)"
      ]
     },
     "execution_count": 67,
     "metadata": {},
     "output_type": "execute_result"
    }
   ],
   "source": [
    "winarr.shape"
   ]
  },
  {
   "cell_type": "code",
   "execution_count": 68,
   "metadata": {
    "collapsed": true
   },
   "outputs": [],
   "source": [
    "# convert yr and winnorm to np.array\n",
    "yarr = np.array(y)\n",
    "#winnormarr = np.array(winnorm)"
   ]
  },
  {
   "cell_type": "code",
   "execution_count": 69,
   "metadata": {},
   "outputs": [
    {
     "data": {
      "text/plain": [
       "((17050,), (17050, 20, 8))"
      ]
     },
     "execution_count": 69,
     "metadata": {},
     "output_type": "execute_result"
    }
   ],
   "source": [
    "yarr.shape, winarr.shape"
   ]
  },
  {
   "cell_type": "code",
   "execution_count": 70,
   "metadata": {},
   "outputs": [
    {
     "data": {
      "text/plain": [
       "((17050, 1), (17050, 20, 8))"
      ]
     },
     "execution_count": 70,
     "metadata": {},
     "output_type": "execute_result"
    }
   ],
   "source": [
    "# reshape yarr\n",
    "yarr = np.reshape(yarr,(yarr.shape[0],1))\n",
    "yarr.shape, winarr.shape"
   ]
  },
  {
   "cell_type": "code",
   "execution_count": 71,
   "metadata": {
    "collapsed": true
   },
   "outputs": [],
   "source": [
    "def unison_shuffled_copies(a, b):\n",
    "    assert len(a) == len(b)\n",
    "    p = np.random.permutation(len(a))\n",
    "    return a[p], b[p]\n",
    "#x_data,y_data = unison_shuffled_copies(x_data,y_data)"
   ]
  },
  {
   "cell_type": "code",
   "execution_count": 72,
   "metadata": {
    "collapsed": true
   },
   "outputs": [],
   "source": [
    "row = round(0.8 * winarr.shape[0])"
   ]
  },
  {
   "cell_type": "code",
   "execution_count": 73,
   "metadata": {
    "collapsed": true
   },
   "outputs": [],
   "source": [
    "#train = winnormarr[:int(row), :]"
   ]
  },
  {
   "cell_type": "code",
   "execution_count": 74,
   "metadata": {
    "collapsed": true
   },
   "outputs": [],
   "source": [
    "#np.random.shuffle(train)"
   ]
  },
  {
   "cell_type": "code",
   "execution_count": 75,
   "metadata": {
    "collapsed": true
   },
   "outputs": [],
   "source": [
    "x_train = winarr[:row]\n",
    "y_train = yarr[:row]"
   ]
  },
  {
   "cell_type": "code",
   "execution_count": 76,
   "metadata": {
    "collapsed": true
   },
   "outputs": [],
   "source": [
    "x_test = winarr[int(row):]\n",
    "y_test = yarr[int(row):]"
   ]
  },
  {
   "cell_type": "code",
   "execution_count": 77,
   "metadata": {},
   "outputs": [
    {
     "data": {
      "text/plain": [
       "((13640, 20, 8), (13640, 1), (3410, 20, 8), (3410, 1))"
      ]
     },
     "execution_count": 77,
     "metadata": {},
     "output_type": "execute_result"
    }
   ],
   "source": [
    "x_train.shape,y_train.shape, x_test.shape, y_test.shape"
   ]
  },
  {
   "cell_type": "code",
   "execution_count": 78,
   "metadata": {
    "collapsed": true
   },
   "outputs": [],
   "source": [
    "x_train = np.reshape(x_train, (x_train.shape[0], x_train.shape[1], x_train.shape[2]))\n",
    "x_test = np.reshape(x_test, (x_test.shape[0], x_test.shape[1], x_test.shape[2])) "
   ]
  },
  {
   "cell_type": "code",
   "execution_count": 79,
   "metadata": {},
   "outputs": [
    {
     "data": {
      "text/plain": [
       "((13640, 20, 8), (13640, 1), (3410, 20, 8), (3410, 1))"
      ]
     },
     "execution_count": 79,
     "metadata": {},
     "output_type": "execute_result"
    }
   ],
   "source": [
    "x_train.shape, y_train.shape, x_test.shape, y_test.shape"
   ]
  },
  {
   "cell_type": "code",
   "execution_count": 80,
   "metadata": {
    "collapsed": true
   },
   "outputs": [],
   "source": [
    "# convert class vectors to binary class matrices\n",
    "num_classes = len(trends)\n",
    "y_train = keras.utils.to_categorical(y_train, num_classes=num_classes)\n",
    "y_test = keras.utils.to_categorical(y_test, num_classes=num_classes)"
   ]
  },
  {
   "cell_type": "code",
   "execution_count": 81,
   "metadata": {},
   "outputs": [
    {
     "name": "stdout",
     "output_type": "stream",
     "text": [
      "(20, 8)\n"
     ]
    }
   ],
   "source": [
    "inputshape = ( x_train.shape[1], x_train.shape[2]) #,x_train.shape[3])\n",
    "print(inputshape)"
   ]
  },
  {
   "cell_type": "code",
   "execution_count": 82,
   "metadata": {
    "collapsed": true
   },
   "outputs": [],
   "source": [
    "# define the input shape\n",
    "inp = Input(shape=inputshape)"
   ]
  },
  {
   "cell_type": "code",
   "execution_count": 83,
   "metadata": {
    "collapsed": true
   },
   "outputs": [],
   "source": [
    "\n",
    "#print('our input shape is ',(x_train.shape[1], x_train.shape[2]) )\n",
    "#x = TimeDistributed(Conv2D(32,(2,2), activation='relu'))(inp)\n",
    "#x = TimeDistributed(Flatten())(x)\n",
    "\n",
    "x = LSTM(32, return_sequences = True)(inp) \n",
    "#x = Dropout(0.2)(x)\n",
    "x = LSTM(64, return_sequences = False, go_backwards=True)(x)\n",
    "#x = Dropout(0.2)(x)\n",
    "\n",
    "#x = TimeDistributed(Conv2D(32,(2,2), activation='relu')0)(x)\n",
    "x = Dropout(0.2)(x)\n",
    "#x = Flatten()(x)\n",
    "output = Dense(num_classes, activation ='softmax')(x)\n",
    "\n",
    "model = Model(inputs = inp, outputs=output )"
   ]
  },
  {
   "cell_type": "code",
   "execution_count": 84,
   "metadata": {
    "collapsed": true
   },
   "outputs": [],
   "source": [
    "#optimizer = RMSprop(lr=0.01)\n",
    "model.compile(loss='categorical_crossentropy', optimizer='adam', metrics=['accuracy'])"
   ]
  },
  {
   "cell_type": "code",
   "execution_count": 85,
   "metadata": {},
   "outputs": [
    {
     "name": "stdout",
     "output_type": "stream",
     "text": [
      "_________________________________________________________________\n",
      "Layer (type)                 Output Shape              Param #   \n",
      "=================================================================\n",
      "input_2 (InputLayer)         (None, 20, 8)             0         \n",
      "_________________________________________________________________\n",
      "lstm_3 (LSTM)                (None, 20, 32)            5248      \n",
      "_________________________________________________________________\n",
      "lstm_4 (LSTM)                (None, 64)                24832     \n",
      "_________________________________________________________________\n",
      "dropout_2 (Dropout)          (None, 64)                0         \n",
      "_________________________________________________________________\n",
      "dense_2 (Dense)              (None, 3)                 195       \n",
      "=================================================================\n",
      "Total params: 30,275\n",
      "Trainable params: 30,275\n",
      "Non-trainable params: 0\n",
      "_________________________________________________________________\n"
     ]
    }
   ],
   "source": [
    "model.summary()"
   ]
  },
  {
   "cell_type": "code",
   "execution_count": 86,
   "metadata": {},
   "outputs": [
    {
     "name": "stdout",
     "output_type": "stream",
     "text": [
      "Train on 13640 samples, validate on 3410 samples\n",
      "Epoch 1/200\n",
      " 9536/13640 [===================>..........] - ETA: 2s - loss: 1.1921e-07 - acc: 0.0000e+00"
     ]
    },
    {
     "ename": "KeyboardInterrupt",
     "evalue": "",
     "output_type": "error",
     "traceback": [
      "\u001b[0;31m---------------------------------------------------------------------------\u001b[0m",
      "\u001b[0;31mKeyboardInterrupt\u001b[0m                         Traceback (most recent call last)",
      "\u001b[0;32m<ipython-input-86-beb912b10347>\u001b[0m in \u001b[0;36m<module>\u001b[0;34m()\u001b[0m\n\u001b[1;32m      3\u001b[0m                     \u001b[0mepochs\u001b[0m\u001b[0;34m=\u001b[0m\u001b[0;36m200\u001b[0m\u001b[0;34m,\u001b[0m\u001b[0;34m\u001b[0m\u001b[0m\n\u001b[1;32m      4\u001b[0m                     \u001b[0mverbose\u001b[0m\u001b[0;34m=\u001b[0m\u001b[0;36m1\u001b[0m\u001b[0;34m,\u001b[0m\u001b[0;34m\u001b[0m\u001b[0m\n\u001b[0;32m----> 5\u001b[0;31m                     validation_data=(x_test, y_test))\n\u001b[0m",
      "\u001b[0;32m~/miniconda3/envs/tfsc/lib/python3.6/site-packages/keras/engine/training.py\u001b[0m in \u001b[0;36mfit\u001b[0;34m(self, x, y, batch_size, epochs, verbose, callbacks, validation_split, validation_data, shuffle, class_weight, sample_weight, initial_epoch, steps_per_epoch, validation_steps, **kwargs)\u001b[0m\n\u001b[1;32m   1596\u001b[0m                               \u001b[0minitial_epoch\u001b[0m\u001b[0;34m=\u001b[0m\u001b[0minitial_epoch\u001b[0m\u001b[0;34m,\u001b[0m\u001b[0;34m\u001b[0m\u001b[0m\n\u001b[1;32m   1597\u001b[0m                               \u001b[0msteps_per_epoch\u001b[0m\u001b[0;34m=\u001b[0m\u001b[0msteps_per_epoch\u001b[0m\u001b[0;34m,\u001b[0m\u001b[0;34m\u001b[0m\u001b[0m\n\u001b[0;32m-> 1598\u001b[0;31m                               validation_steps=validation_steps)\n\u001b[0m\u001b[1;32m   1599\u001b[0m \u001b[0;34m\u001b[0m\u001b[0m\n\u001b[1;32m   1600\u001b[0m     def evaluate(self, x, y,\n",
      "\u001b[0;32m~/miniconda3/envs/tfsc/lib/python3.6/site-packages/keras/engine/training.py\u001b[0m in \u001b[0;36m_fit_loop\u001b[0;34m(self, f, ins, out_labels, batch_size, epochs, verbose, callbacks, val_f, val_ins, shuffle, callback_metrics, initial_epoch, steps_per_epoch, validation_steps)\u001b[0m\n\u001b[1;32m   1181\u001b[0m                     \u001b[0mbatch_logs\u001b[0m\u001b[0;34m[\u001b[0m\u001b[0;34m'size'\u001b[0m\u001b[0;34m]\u001b[0m \u001b[0;34m=\u001b[0m \u001b[0mlen\u001b[0m\u001b[0;34m(\u001b[0m\u001b[0mbatch_ids\u001b[0m\u001b[0;34m)\u001b[0m\u001b[0;34m\u001b[0m\u001b[0m\n\u001b[1;32m   1182\u001b[0m                     \u001b[0mcallbacks\u001b[0m\u001b[0;34m.\u001b[0m\u001b[0mon_batch_begin\u001b[0m\u001b[0;34m(\u001b[0m\u001b[0mbatch_index\u001b[0m\u001b[0;34m,\u001b[0m \u001b[0mbatch_logs\u001b[0m\u001b[0;34m)\u001b[0m\u001b[0;34m\u001b[0m\u001b[0m\n\u001b[0;32m-> 1183\u001b[0;31m                     \u001b[0mouts\u001b[0m \u001b[0;34m=\u001b[0m \u001b[0mf\u001b[0m\u001b[0;34m(\u001b[0m\u001b[0mins_batch\u001b[0m\u001b[0;34m)\u001b[0m\u001b[0;34m\u001b[0m\u001b[0m\n\u001b[0m\u001b[1;32m   1184\u001b[0m                     \u001b[0;32mif\u001b[0m \u001b[0;32mnot\u001b[0m \u001b[0misinstance\u001b[0m\u001b[0;34m(\u001b[0m\u001b[0mouts\u001b[0m\u001b[0;34m,\u001b[0m \u001b[0mlist\u001b[0m\u001b[0;34m)\u001b[0m\u001b[0;34m:\u001b[0m\u001b[0;34m\u001b[0m\u001b[0m\n\u001b[1;32m   1185\u001b[0m                         \u001b[0mouts\u001b[0m \u001b[0;34m=\u001b[0m \u001b[0;34m[\u001b[0m\u001b[0mouts\u001b[0m\u001b[0;34m]\u001b[0m\u001b[0;34m\u001b[0m\u001b[0m\n",
      "\u001b[0;32m~/miniconda3/envs/tfsc/lib/python3.6/site-packages/keras/backend/tensorflow_backend.py\u001b[0m in \u001b[0;36m__call__\u001b[0;34m(self, inputs)\u001b[0m\n\u001b[1;32m   2271\u001b[0m         updated = session.run(self.outputs + [self.updates_op],\n\u001b[1;32m   2272\u001b[0m                               \u001b[0mfeed_dict\u001b[0m\u001b[0;34m=\u001b[0m\u001b[0mfeed_dict\u001b[0m\u001b[0;34m,\u001b[0m\u001b[0;34m\u001b[0m\u001b[0m\n\u001b[0;32m-> 2273\u001b[0;31m                               **self.session_kwargs)\n\u001b[0m\u001b[1;32m   2274\u001b[0m         \u001b[0;32mreturn\u001b[0m \u001b[0mupdated\u001b[0m\u001b[0;34m[\u001b[0m\u001b[0;34m:\u001b[0m\u001b[0mlen\u001b[0m\u001b[0;34m(\u001b[0m\u001b[0mself\u001b[0m\u001b[0;34m.\u001b[0m\u001b[0moutputs\u001b[0m\u001b[0;34m)\u001b[0m\u001b[0;34m]\u001b[0m\u001b[0;34m\u001b[0m\u001b[0m\n\u001b[1;32m   2275\u001b[0m \u001b[0;34m\u001b[0m\u001b[0m\n",
      "\u001b[0;32m~/miniconda3/envs/tfsc/lib/python3.6/site-packages/tensorflow/python/client/session.py\u001b[0m in \u001b[0;36mrun\u001b[0;34m(self, fetches, feed_dict, options, run_metadata)\u001b[0m\n\u001b[1;32m    887\u001b[0m     \u001b[0;32mtry\u001b[0m\u001b[0;34m:\u001b[0m\u001b[0;34m\u001b[0m\u001b[0m\n\u001b[1;32m    888\u001b[0m       result = self._run(None, fetches, feed_dict, options_ptr,\n\u001b[0;32m--> 889\u001b[0;31m                          run_metadata_ptr)\n\u001b[0m\u001b[1;32m    890\u001b[0m       \u001b[0;32mif\u001b[0m \u001b[0mrun_metadata\u001b[0m\u001b[0;34m:\u001b[0m\u001b[0;34m\u001b[0m\u001b[0m\n\u001b[1;32m    891\u001b[0m         \u001b[0mproto_data\u001b[0m \u001b[0;34m=\u001b[0m \u001b[0mtf_session\u001b[0m\u001b[0;34m.\u001b[0m\u001b[0mTF_GetBuffer\u001b[0m\u001b[0;34m(\u001b[0m\u001b[0mrun_metadata_ptr\u001b[0m\u001b[0;34m)\u001b[0m\u001b[0;34m\u001b[0m\u001b[0m\n",
      "\u001b[0;32m~/miniconda3/envs/tfsc/lib/python3.6/site-packages/tensorflow/python/client/session.py\u001b[0m in \u001b[0;36m_run\u001b[0;34m(self, handle, fetches, feed_dict, options, run_metadata)\u001b[0m\n\u001b[1;32m   1118\u001b[0m     \u001b[0;32mif\u001b[0m \u001b[0mfinal_fetches\u001b[0m \u001b[0;32mor\u001b[0m \u001b[0mfinal_targets\u001b[0m \u001b[0;32mor\u001b[0m \u001b[0;34m(\u001b[0m\u001b[0mhandle\u001b[0m \u001b[0;32mand\u001b[0m \u001b[0mfeed_dict_tensor\u001b[0m\u001b[0;34m)\u001b[0m\u001b[0;34m:\u001b[0m\u001b[0;34m\u001b[0m\u001b[0m\n\u001b[1;32m   1119\u001b[0m       results = self._do_run(handle, final_targets, final_fetches,\n\u001b[0;32m-> 1120\u001b[0;31m                              feed_dict_tensor, options, run_metadata)\n\u001b[0m\u001b[1;32m   1121\u001b[0m     \u001b[0;32melse\u001b[0m\u001b[0;34m:\u001b[0m\u001b[0;34m\u001b[0m\u001b[0m\n\u001b[1;32m   1122\u001b[0m       \u001b[0mresults\u001b[0m \u001b[0;34m=\u001b[0m \u001b[0;34m[\u001b[0m\u001b[0;34m]\u001b[0m\u001b[0;34m\u001b[0m\u001b[0m\n",
      "\u001b[0;32m~/miniconda3/envs/tfsc/lib/python3.6/site-packages/tensorflow/python/client/session.py\u001b[0m in \u001b[0;36m_do_run\u001b[0;34m(self, handle, target_list, fetch_list, feed_dict, options, run_metadata)\u001b[0m\n\u001b[1;32m   1315\u001b[0m     \u001b[0;32mif\u001b[0m \u001b[0mhandle\u001b[0m \u001b[0;32mis\u001b[0m \u001b[0;32mNone\u001b[0m\u001b[0;34m:\u001b[0m\u001b[0;34m\u001b[0m\u001b[0m\n\u001b[1;32m   1316\u001b[0m       return self._do_call(_run_fn, self._session, feeds, fetches, targets,\n\u001b[0;32m-> 1317\u001b[0;31m                            options, run_metadata)\n\u001b[0m\u001b[1;32m   1318\u001b[0m     \u001b[0;32melse\u001b[0m\u001b[0;34m:\u001b[0m\u001b[0;34m\u001b[0m\u001b[0m\n\u001b[1;32m   1319\u001b[0m       \u001b[0;32mreturn\u001b[0m \u001b[0mself\u001b[0m\u001b[0;34m.\u001b[0m\u001b[0m_do_call\u001b[0m\u001b[0;34m(\u001b[0m\u001b[0m_prun_fn\u001b[0m\u001b[0;34m,\u001b[0m \u001b[0mself\u001b[0m\u001b[0;34m.\u001b[0m\u001b[0m_session\u001b[0m\u001b[0;34m,\u001b[0m \u001b[0mhandle\u001b[0m\u001b[0;34m,\u001b[0m \u001b[0mfeeds\u001b[0m\u001b[0;34m,\u001b[0m \u001b[0mfetches\u001b[0m\u001b[0;34m)\u001b[0m\u001b[0;34m\u001b[0m\u001b[0m\n",
      "\u001b[0;32m~/miniconda3/envs/tfsc/lib/python3.6/site-packages/tensorflow/python/client/session.py\u001b[0m in \u001b[0;36m_do_call\u001b[0;34m(self, fn, *args)\u001b[0m\n\u001b[1;32m   1321\u001b[0m   \u001b[0;32mdef\u001b[0m \u001b[0m_do_call\u001b[0m\u001b[0;34m(\u001b[0m\u001b[0mself\u001b[0m\u001b[0;34m,\u001b[0m \u001b[0mfn\u001b[0m\u001b[0;34m,\u001b[0m \u001b[0;34m*\u001b[0m\u001b[0margs\u001b[0m\u001b[0;34m)\u001b[0m\u001b[0;34m:\u001b[0m\u001b[0;34m\u001b[0m\u001b[0m\n\u001b[1;32m   1322\u001b[0m     \u001b[0;32mtry\u001b[0m\u001b[0;34m:\u001b[0m\u001b[0;34m\u001b[0m\u001b[0m\n\u001b[0;32m-> 1323\u001b[0;31m       \u001b[0;32mreturn\u001b[0m \u001b[0mfn\u001b[0m\u001b[0;34m(\u001b[0m\u001b[0;34m*\u001b[0m\u001b[0margs\u001b[0m\u001b[0;34m)\u001b[0m\u001b[0;34m\u001b[0m\u001b[0m\n\u001b[0m\u001b[1;32m   1324\u001b[0m     \u001b[0;32mexcept\u001b[0m \u001b[0merrors\u001b[0m\u001b[0;34m.\u001b[0m\u001b[0mOpError\u001b[0m \u001b[0;32mas\u001b[0m \u001b[0me\u001b[0m\u001b[0;34m:\u001b[0m\u001b[0;34m\u001b[0m\u001b[0m\n\u001b[1;32m   1325\u001b[0m       \u001b[0mmessage\u001b[0m \u001b[0;34m=\u001b[0m \u001b[0mcompat\u001b[0m\u001b[0;34m.\u001b[0m\u001b[0mas_text\u001b[0m\u001b[0;34m(\u001b[0m\u001b[0me\u001b[0m\u001b[0;34m.\u001b[0m\u001b[0mmessage\u001b[0m\u001b[0;34m)\u001b[0m\u001b[0;34m\u001b[0m\u001b[0m\n",
      "\u001b[0;32m~/miniconda3/envs/tfsc/lib/python3.6/site-packages/tensorflow/python/client/session.py\u001b[0m in \u001b[0;36m_run_fn\u001b[0;34m(session, feed_dict, fetch_list, target_list, options, run_metadata)\u001b[0m\n\u001b[1;32m   1300\u001b[0m           return tf_session.TF_Run(session, options,\n\u001b[1;32m   1301\u001b[0m                                    \u001b[0mfeed_dict\u001b[0m\u001b[0;34m,\u001b[0m \u001b[0mfetch_list\u001b[0m\u001b[0;34m,\u001b[0m \u001b[0mtarget_list\u001b[0m\u001b[0;34m,\u001b[0m\u001b[0;34m\u001b[0m\u001b[0m\n\u001b[0;32m-> 1302\u001b[0;31m                                    status, run_metadata)\n\u001b[0m\u001b[1;32m   1303\u001b[0m \u001b[0;34m\u001b[0m\u001b[0m\n\u001b[1;32m   1304\u001b[0m     \u001b[0;32mdef\u001b[0m \u001b[0m_prun_fn\u001b[0m\u001b[0;34m(\u001b[0m\u001b[0msession\u001b[0m\u001b[0;34m,\u001b[0m \u001b[0mhandle\u001b[0m\u001b[0;34m,\u001b[0m \u001b[0mfeed_dict\u001b[0m\u001b[0;34m,\u001b[0m \u001b[0mfetch_list\u001b[0m\u001b[0;34m)\u001b[0m\u001b[0;34m:\u001b[0m\u001b[0;34m\u001b[0m\u001b[0m\n",
      "\u001b[0;31mKeyboardInterrupt\u001b[0m: "
     ]
    }
   ],
   "source": [
    "history = model.fit(x_train, y_train,\n",
    "                    batch_size = 64, \n",
    "                    epochs=200, \n",
    "                    verbose=1, \n",
    "                    validation_data=(x_test, y_test))"
   ]
  },
  {
   "cell_type": "code",
   "execution_count": 50,
   "metadata": {
    "collapsed": true
   },
   "outputs": [],
   "source": [
    "def plot_train(hist):\n",
    "    h = hist.history\n",
    "    if 'acc' in h:\n",
    "        meas='acc'\n",
    "        loc='lower right'\n",
    "    else:\n",
    "        meas='loss'\n",
    "        loc='upper right'\n",
    "    plt.plot(hist.history[meas])\n",
    "    plt.plot(hist.history['val_'+meas])\n",
    "    plt.title('model '+meas)\n",
    "    plt.ylabel(meas)\n",
    "    plt.xlabel('epoch')\n",
    "    plt.legend(['train', 'validation'], loc=loc)"
   ]
  },
  {
   "cell_type": "code",
   "execution_count": 51,
   "metadata": {},
   "outputs": [
    {
     "data": {
      "application/javascript": [
       "/* Put everything inside the global mpl namespace */\n",
       "window.mpl = {};\n",
       "\n",
       "\n",
       "mpl.get_websocket_type = function() {\n",
       "    if (typeof(WebSocket) !== 'undefined') {\n",
       "        return WebSocket;\n",
       "    } else if (typeof(MozWebSocket) !== 'undefined') {\n",
       "        return MozWebSocket;\n",
       "    } else {\n",
       "        alert('Your browser does not have WebSocket support.' +\n",
       "              'Please try Chrome, Safari or Firefox ≥ 6. ' +\n",
       "              'Firefox 4 and 5 are also supported but you ' +\n",
       "              'have to enable WebSockets in about:config.');\n",
       "    };\n",
       "}\n",
       "\n",
       "mpl.figure = function(figure_id, websocket, ondownload, parent_element) {\n",
       "    this.id = figure_id;\n",
       "\n",
       "    this.ws = websocket;\n",
       "\n",
       "    this.supports_binary = (this.ws.binaryType != undefined);\n",
       "\n",
       "    if (!this.supports_binary) {\n",
       "        var warnings = document.getElementById(\"mpl-warnings\");\n",
       "        if (warnings) {\n",
       "            warnings.style.display = 'block';\n",
       "            warnings.textContent = (\n",
       "                \"This browser does not support binary websocket messages. \" +\n",
       "                    \"Performance may be slow.\");\n",
       "        }\n",
       "    }\n",
       "\n",
       "    this.imageObj = new Image();\n",
       "\n",
       "    this.context = undefined;\n",
       "    this.message = undefined;\n",
       "    this.canvas = undefined;\n",
       "    this.rubberband_canvas = undefined;\n",
       "    this.rubberband_context = undefined;\n",
       "    this.format_dropdown = undefined;\n",
       "\n",
       "    this.image_mode = 'full';\n",
       "\n",
       "    this.root = $('<div/>');\n",
       "    this._root_extra_style(this.root)\n",
       "    this.root.attr('style', 'display: inline-block');\n",
       "\n",
       "    $(parent_element).append(this.root);\n",
       "\n",
       "    this._init_header(this);\n",
       "    this._init_canvas(this);\n",
       "    this._init_toolbar(this);\n",
       "\n",
       "    var fig = this;\n",
       "\n",
       "    this.waiting = false;\n",
       "\n",
       "    this.ws.onopen =  function () {\n",
       "            fig.send_message(\"supports_binary\", {value: fig.supports_binary});\n",
       "            fig.send_message(\"send_image_mode\", {});\n",
       "            if (mpl.ratio != 1) {\n",
       "                fig.send_message(\"set_dpi_ratio\", {'dpi_ratio': mpl.ratio});\n",
       "            }\n",
       "            fig.send_message(\"refresh\", {});\n",
       "        }\n",
       "\n",
       "    this.imageObj.onload = function() {\n",
       "            if (fig.image_mode == 'full') {\n",
       "                // Full images could contain transparency (where diff images\n",
       "                // almost always do), so we need to clear the canvas so that\n",
       "                // there is no ghosting.\n",
       "                fig.context.clearRect(0, 0, fig.canvas.width, fig.canvas.height);\n",
       "            }\n",
       "            fig.context.drawImage(fig.imageObj, 0, 0);\n",
       "        };\n",
       "\n",
       "    this.imageObj.onunload = function() {\n",
       "        fig.ws.close();\n",
       "    }\n",
       "\n",
       "    this.ws.onmessage = this._make_on_message_function(this);\n",
       "\n",
       "    this.ondownload = ondownload;\n",
       "}\n",
       "\n",
       "mpl.figure.prototype._init_header = function() {\n",
       "    var titlebar = $(\n",
       "        '<div class=\"ui-dialog-titlebar ui-widget-header ui-corner-all ' +\n",
       "        'ui-helper-clearfix\"/>');\n",
       "    var titletext = $(\n",
       "        '<div class=\"ui-dialog-title\" style=\"width: 100%; ' +\n",
       "        'text-align: center; padding: 3px;\"/>');\n",
       "    titlebar.append(titletext)\n",
       "    this.root.append(titlebar);\n",
       "    this.header = titletext[0];\n",
       "}\n",
       "\n",
       "\n",
       "\n",
       "mpl.figure.prototype._canvas_extra_style = function(canvas_div) {\n",
       "\n",
       "}\n",
       "\n",
       "\n",
       "mpl.figure.prototype._root_extra_style = function(canvas_div) {\n",
       "\n",
       "}\n",
       "\n",
       "mpl.figure.prototype._init_canvas = function() {\n",
       "    var fig = this;\n",
       "\n",
       "    var canvas_div = $('<div/>');\n",
       "\n",
       "    canvas_div.attr('style', 'position: relative; clear: both; outline: 0');\n",
       "\n",
       "    function canvas_keyboard_event(event) {\n",
       "        return fig.key_event(event, event['data']);\n",
       "    }\n",
       "\n",
       "    canvas_div.keydown('key_press', canvas_keyboard_event);\n",
       "    canvas_div.keyup('key_release', canvas_keyboard_event);\n",
       "    this.canvas_div = canvas_div\n",
       "    this._canvas_extra_style(canvas_div)\n",
       "    this.root.append(canvas_div);\n",
       "\n",
       "    var canvas = $('<canvas/>');\n",
       "    canvas.addClass('mpl-canvas');\n",
       "    canvas.attr('style', \"left: 0; top: 0; z-index: 0; outline: 0\")\n",
       "\n",
       "    this.canvas = canvas[0];\n",
       "    this.context = canvas[0].getContext(\"2d\");\n",
       "\n",
       "    var backingStore = this.context.backingStorePixelRatio ||\n",
       "\tthis.context.webkitBackingStorePixelRatio ||\n",
       "\tthis.context.mozBackingStorePixelRatio ||\n",
       "\tthis.context.msBackingStorePixelRatio ||\n",
       "\tthis.context.oBackingStorePixelRatio ||\n",
       "\tthis.context.backingStorePixelRatio || 1;\n",
       "\n",
       "    mpl.ratio = (window.devicePixelRatio || 1) / backingStore;\n",
       "\n",
       "    var rubberband = $('<canvas/>');\n",
       "    rubberband.attr('style', \"position: absolute; left: 0; top: 0; z-index: 1;\")\n",
       "\n",
       "    var pass_mouse_events = true;\n",
       "\n",
       "    canvas_div.resizable({\n",
       "        start: function(event, ui) {\n",
       "            pass_mouse_events = false;\n",
       "        },\n",
       "        resize: function(event, ui) {\n",
       "            fig.request_resize(ui.size.width, ui.size.height);\n",
       "        },\n",
       "        stop: function(event, ui) {\n",
       "            pass_mouse_events = true;\n",
       "            fig.request_resize(ui.size.width, ui.size.height);\n",
       "        },\n",
       "    });\n",
       "\n",
       "    function mouse_event_fn(event) {\n",
       "        if (pass_mouse_events)\n",
       "            return fig.mouse_event(event, event['data']);\n",
       "    }\n",
       "\n",
       "    rubberband.mousedown('button_press', mouse_event_fn);\n",
       "    rubberband.mouseup('button_release', mouse_event_fn);\n",
       "    // Throttle sequential mouse events to 1 every 20ms.\n",
       "    rubberband.mousemove('motion_notify', mouse_event_fn);\n",
       "\n",
       "    rubberband.mouseenter('figure_enter', mouse_event_fn);\n",
       "    rubberband.mouseleave('figure_leave', mouse_event_fn);\n",
       "\n",
       "    canvas_div.on(\"wheel\", function (event) {\n",
       "        event = event.originalEvent;\n",
       "        event['data'] = 'scroll'\n",
       "        if (event.deltaY < 0) {\n",
       "            event.step = 1;\n",
       "        } else {\n",
       "            event.step = -1;\n",
       "        }\n",
       "        mouse_event_fn(event);\n",
       "    });\n",
       "\n",
       "    canvas_div.append(canvas);\n",
       "    canvas_div.append(rubberband);\n",
       "\n",
       "    this.rubberband = rubberband;\n",
       "    this.rubberband_canvas = rubberband[0];\n",
       "    this.rubberband_context = rubberband[0].getContext(\"2d\");\n",
       "    this.rubberband_context.strokeStyle = \"#000000\";\n",
       "\n",
       "    this._resize_canvas = function(width, height) {\n",
       "        // Keep the size of the canvas, canvas container, and rubber band\n",
       "        // canvas in synch.\n",
       "        canvas_div.css('width', width)\n",
       "        canvas_div.css('height', height)\n",
       "\n",
       "        canvas.attr('width', width * mpl.ratio);\n",
       "        canvas.attr('height', height * mpl.ratio);\n",
       "        canvas.attr('style', 'width: ' + width + 'px; height: ' + height + 'px;');\n",
       "\n",
       "        rubberband.attr('width', width);\n",
       "        rubberband.attr('height', height);\n",
       "    }\n",
       "\n",
       "    // Set the figure to an initial 600x600px, this will subsequently be updated\n",
       "    // upon first draw.\n",
       "    this._resize_canvas(600, 600);\n",
       "\n",
       "    // Disable right mouse context menu.\n",
       "    $(this.rubberband_canvas).bind(\"contextmenu\",function(e){\n",
       "        return false;\n",
       "    });\n",
       "\n",
       "    function set_focus () {\n",
       "        canvas.focus();\n",
       "        canvas_div.focus();\n",
       "    }\n",
       "\n",
       "    window.setTimeout(set_focus, 100);\n",
       "}\n",
       "\n",
       "mpl.figure.prototype._init_toolbar = function() {\n",
       "    var fig = this;\n",
       "\n",
       "    var nav_element = $('<div/>')\n",
       "    nav_element.attr('style', 'width: 100%');\n",
       "    this.root.append(nav_element);\n",
       "\n",
       "    // Define a callback function for later on.\n",
       "    function toolbar_event(event) {\n",
       "        return fig.toolbar_button_onclick(event['data']);\n",
       "    }\n",
       "    function toolbar_mouse_event(event) {\n",
       "        return fig.toolbar_button_onmouseover(event['data']);\n",
       "    }\n",
       "\n",
       "    for(var toolbar_ind in mpl.toolbar_items) {\n",
       "        var name = mpl.toolbar_items[toolbar_ind][0];\n",
       "        var tooltip = mpl.toolbar_items[toolbar_ind][1];\n",
       "        var image = mpl.toolbar_items[toolbar_ind][2];\n",
       "        var method_name = mpl.toolbar_items[toolbar_ind][3];\n",
       "\n",
       "        if (!name) {\n",
       "            // put a spacer in here.\n",
       "            continue;\n",
       "        }\n",
       "        var button = $('<button/>');\n",
       "        button.addClass('ui-button ui-widget ui-state-default ui-corner-all ' +\n",
       "                        'ui-button-icon-only');\n",
       "        button.attr('role', 'button');\n",
       "        button.attr('aria-disabled', 'false');\n",
       "        button.click(method_name, toolbar_event);\n",
       "        button.mouseover(tooltip, toolbar_mouse_event);\n",
       "\n",
       "        var icon_img = $('<span/>');\n",
       "        icon_img.addClass('ui-button-icon-primary ui-icon');\n",
       "        icon_img.addClass(image);\n",
       "        icon_img.addClass('ui-corner-all');\n",
       "\n",
       "        var tooltip_span = $('<span/>');\n",
       "        tooltip_span.addClass('ui-button-text');\n",
       "        tooltip_span.html(tooltip);\n",
       "\n",
       "        button.append(icon_img);\n",
       "        button.append(tooltip_span);\n",
       "\n",
       "        nav_element.append(button);\n",
       "    }\n",
       "\n",
       "    var fmt_picker_span = $('<span/>');\n",
       "\n",
       "    var fmt_picker = $('<select/>');\n",
       "    fmt_picker.addClass('mpl-toolbar-option ui-widget ui-widget-content');\n",
       "    fmt_picker_span.append(fmt_picker);\n",
       "    nav_element.append(fmt_picker_span);\n",
       "    this.format_dropdown = fmt_picker[0];\n",
       "\n",
       "    for (var ind in mpl.extensions) {\n",
       "        var fmt = mpl.extensions[ind];\n",
       "        var option = $(\n",
       "            '<option/>', {selected: fmt === mpl.default_extension}).html(fmt);\n",
       "        fmt_picker.append(option)\n",
       "    }\n",
       "\n",
       "    // Add hover states to the ui-buttons\n",
       "    $( \".ui-button\" ).hover(\n",
       "        function() { $(this).addClass(\"ui-state-hover\");},\n",
       "        function() { $(this).removeClass(\"ui-state-hover\");}\n",
       "    );\n",
       "\n",
       "    var status_bar = $('<span class=\"mpl-message\"/>');\n",
       "    nav_element.append(status_bar);\n",
       "    this.message = status_bar[0];\n",
       "}\n",
       "\n",
       "mpl.figure.prototype.request_resize = function(x_pixels, y_pixels) {\n",
       "    // Request matplotlib to resize the figure. Matplotlib will then trigger a resize in the client,\n",
       "    // which will in turn request a refresh of the image.\n",
       "    this.send_message('resize', {'width': x_pixels, 'height': y_pixels});\n",
       "}\n",
       "\n",
       "mpl.figure.prototype.send_message = function(type, properties) {\n",
       "    properties['type'] = type;\n",
       "    properties['figure_id'] = this.id;\n",
       "    this.ws.send(JSON.stringify(properties));\n",
       "}\n",
       "\n",
       "mpl.figure.prototype.send_draw_message = function() {\n",
       "    if (!this.waiting) {\n",
       "        this.waiting = true;\n",
       "        this.ws.send(JSON.stringify({type: \"draw\", figure_id: this.id}));\n",
       "    }\n",
       "}\n",
       "\n",
       "\n",
       "mpl.figure.prototype.handle_save = function(fig, msg) {\n",
       "    var format_dropdown = fig.format_dropdown;\n",
       "    var format = format_dropdown.options[format_dropdown.selectedIndex].value;\n",
       "    fig.ondownload(fig, format);\n",
       "}\n",
       "\n",
       "\n",
       "mpl.figure.prototype.handle_resize = function(fig, msg) {\n",
       "    var size = msg['size'];\n",
       "    if (size[0] != fig.canvas.width || size[1] != fig.canvas.height) {\n",
       "        fig._resize_canvas(size[0], size[1]);\n",
       "        fig.send_message(\"refresh\", {});\n",
       "    };\n",
       "}\n",
       "\n",
       "mpl.figure.prototype.handle_rubberband = function(fig, msg) {\n",
       "    var x0 = msg['x0'] / mpl.ratio;\n",
       "    var y0 = (fig.canvas.height - msg['y0']) / mpl.ratio;\n",
       "    var x1 = msg['x1'] / mpl.ratio;\n",
       "    var y1 = (fig.canvas.height - msg['y1']) / mpl.ratio;\n",
       "    x0 = Math.floor(x0) + 0.5;\n",
       "    y0 = Math.floor(y0) + 0.5;\n",
       "    x1 = Math.floor(x1) + 0.5;\n",
       "    y1 = Math.floor(y1) + 0.5;\n",
       "    var min_x = Math.min(x0, x1);\n",
       "    var min_y = Math.min(y0, y1);\n",
       "    var width = Math.abs(x1 - x0);\n",
       "    var height = Math.abs(y1 - y0);\n",
       "\n",
       "    fig.rubberband_context.clearRect(\n",
       "        0, 0, fig.canvas.width, fig.canvas.height);\n",
       "\n",
       "    fig.rubberband_context.strokeRect(min_x, min_y, width, height);\n",
       "}\n",
       "\n",
       "mpl.figure.prototype.handle_figure_label = function(fig, msg) {\n",
       "    // Updates the figure title.\n",
       "    fig.header.textContent = msg['label'];\n",
       "}\n",
       "\n",
       "mpl.figure.prototype.handle_cursor = function(fig, msg) {\n",
       "    var cursor = msg['cursor'];\n",
       "    switch(cursor)\n",
       "    {\n",
       "    case 0:\n",
       "        cursor = 'pointer';\n",
       "        break;\n",
       "    case 1:\n",
       "        cursor = 'default';\n",
       "        break;\n",
       "    case 2:\n",
       "        cursor = 'crosshair';\n",
       "        break;\n",
       "    case 3:\n",
       "        cursor = 'move';\n",
       "        break;\n",
       "    }\n",
       "    fig.rubberband_canvas.style.cursor = cursor;\n",
       "}\n",
       "\n",
       "mpl.figure.prototype.handle_message = function(fig, msg) {\n",
       "    fig.message.textContent = msg['message'];\n",
       "}\n",
       "\n",
       "mpl.figure.prototype.handle_draw = function(fig, msg) {\n",
       "    // Request the server to send over a new figure.\n",
       "    fig.send_draw_message();\n",
       "}\n",
       "\n",
       "mpl.figure.prototype.handle_image_mode = function(fig, msg) {\n",
       "    fig.image_mode = msg['mode'];\n",
       "}\n",
       "\n",
       "mpl.figure.prototype.updated_canvas_event = function() {\n",
       "    // Called whenever the canvas gets updated.\n",
       "    this.send_message(\"ack\", {});\n",
       "}\n",
       "\n",
       "// A function to construct a web socket function for onmessage handling.\n",
       "// Called in the figure constructor.\n",
       "mpl.figure.prototype._make_on_message_function = function(fig) {\n",
       "    return function socket_on_message(evt) {\n",
       "        if (evt.data instanceof Blob) {\n",
       "            /* FIXME: We get \"Resource interpreted as Image but\n",
       "             * transferred with MIME type text/plain:\" errors on\n",
       "             * Chrome.  But how to set the MIME type?  It doesn't seem\n",
       "             * to be part of the websocket stream */\n",
       "            evt.data.type = \"image/png\";\n",
       "\n",
       "            /* Free the memory for the previous frames */\n",
       "            if (fig.imageObj.src) {\n",
       "                (window.URL || window.webkitURL).revokeObjectURL(\n",
       "                    fig.imageObj.src);\n",
       "            }\n",
       "\n",
       "            fig.imageObj.src = (window.URL || window.webkitURL).createObjectURL(\n",
       "                evt.data);\n",
       "            fig.updated_canvas_event();\n",
       "            fig.waiting = false;\n",
       "            return;\n",
       "        }\n",
       "        else if (typeof evt.data === 'string' && evt.data.slice(0, 21) == \"data:image/png;base64\") {\n",
       "            fig.imageObj.src = evt.data;\n",
       "            fig.updated_canvas_event();\n",
       "            fig.waiting = false;\n",
       "            return;\n",
       "        }\n",
       "\n",
       "        var msg = JSON.parse(evt.data);\n",
       "        var msg_type = msg['type'];\n",
       "\n",
       "        // Call the  \"handle_{type}\" callback, which takes\n",
       "        // the figure and JSON message as its only arguments.\n",
       "        try {\n",
       "            var callback = fig[\"handle_\" + msg_type];\n",
       "        } catch (e) {\n",
       "            console.log(\"No handler for the '\" + msg_type + \"' message type: \", msg);\n",
       "            return;\n",
       "        }\n",
       "\n",
       "        if (callback) {\n",
       "            try {\n",
       "                // console.log(\"Handling '\" + msg_type + \"' message: \", msg);\n",
       "                callback(fig, msg);\n",
       "            } catch (e) {\n",
       "                console.log(\"Exception inside the 'handler_\" + msg_type + \"' callback:\", e, e.stack, msg);\n",
       "            }\n",
       "        }\n",
       "    };\n",
       "}\n",
       "\n",
       "// from http://stackoverflow.com/questions/1114465/getting-mouse-location-in-canvas\n",
       "mpl.findpos = function(e) {\n",
       "    //this section is from http://www.quirksmode.org/js/events_properties.html\n",
       "    var targ;\n",
       "    if (!e)\n",
       "        e = window.event;\n",
       "    if (e.target)\n",
       "        targ = e.target;\n",
       "    else if (e.srcElement)\n",
       "        targ = e.srcElement;\n",
       "    if (targ.nodeType == 3) // defeat Safari bug\n",
       "        targ = targ.parentNode;\n",
       "\n",
       "    // jQuery normalizes the pageX and pageY\n",
       "    // pageX,Y are the mouse positions relative to the document\n",
       "    // offset() returns the position of the element relative to the document\n",
       "    var x = e.pageX - $(targ).offset().left;\n",
       "    var y = e.pageY - $(targ).offset().top;\n",
       "\n",
       "    return {\"x\": x, \"y\": y};\n",
       "};\n",
       "\n",
       "/*\n",
       " * return a copy of an object with only non-object keys\n",
       " * we need this to avoid circular references\n",
       " * http://stackoverflow.com/a/24161582/3208463\n",
       " */\n",
       "function simpleKeys (original) {\n",
       "  return Object.keys(original).reduce(function (obj, key) {\n",
       "    if (typeof original[key] !== 'object')\n",
       "        obj[key] = original[key]\n",
       "    return obj;\n",
       "  }, {});\n",
       "}\n",
       "\n",
       "mpl.figure.prototype.mouse_event = function(event, name) {\n",
       "    var canvas_pos = mpl.findpos(event)\n",
       "\n",
       "    if (name === 'button_press')\n",
       "    {\n",
       "        this.canvas.focus();\n",
       "        this.canvas_div.focus();\n",
       "    }\n",
       "\n",
       "    var x = canvas_pos.x * mpl.ratio;\n",
       "    var y = canvas_pos.y * mpl.ratio;\n",
       "\n",
       "    this.send_message(name, {x: x, y: y, button: event.button,\n",
       "                             step: event.step,\n",
       "                             guiEvent: simpleKeys(event)});\n",
       "\n",
       "    /* This prevents the web browser from automatically changing to\n",
       "     * the text insertion cursor when the button is pressed.  We want\n",
       "     * to control all of the cursor setting manually through the\n",
       "     * 'cursor' event from matplotlib */\n",
       "    event.preventDefault();\n",
       "    return false;\n",
       "}\n",
       "\n",
       "mpl.figure.prototype._key_event_extra = function(event, name) {\n",
       "    // Handle any extra behaviour associated with a key event\n",
       "}\n",
       "\n",
       "mpl.figure.prototype.key_event = function(event, name) {\n",
       "\n",
       "    // Prevent repeat events\n",
       "    if (name == 'key_press')\n",
       "    {\n",
       "        if (event.which === this._key)\n",
       "            return;\n",
       "        else\n",
       "            this._key = event.which;\n",
       "    }\n",
       "    if (name == 'key_release')\n",
       "        this._key = null;\n",
       "\n",
       "    var value = '';\n",
       "    if (event.ctrlKey && event.which != 17)\n",
       "        value += \"ctrl+\";\n",
       "    if (event.altKey && event.which != 18)\n",
       "        value += \"alt+\";\n",
       "    if (event.shiftKey && event.which != 16)\n",
       "        value += \"shift+\";\n",
       "\n",
       "    value += 'k';\n",
       "    value += event.which.toString();\n",
       "\n",
       "    this._key_event_extra(event, name);\n",
       "\n",
       "    this.send_message(name, {key: value,\n",
       "                             guiEvent: simpleKeys(event)});\n",
       "    return false;\n",
       "}\n",
       "\n",
       "mpl.figure.prototype.toolbar_button_onclick = function(name) {\n",
       "    if (name == 'download') {\n",
       "        this.handle_save(this, null);\n",
       "    } else {\n",
       "        this.send_message(\"toolbar_button\", {name: name});\n",
       "    }\n",
       "};\n",
       "\n",
       "mpl.figure.prototype.toolbar_button_onmouseover = function(tooltip) {\n",
       "    this.message.textContent = tooltip;\n",
       "};\n",
       "mpl.toolbar_items = [[\"Home\", \"Reset original view\", \"fa fa-home icon-home\", \"home\"], [\"Back\", \"Back to  previous view\", \"fa fa-arrow-left icon-arrow-left\", \"back\"], [\"Forward\", \"Forward to next view\", \"fa fa-arrow-right icon-arrow-right\", \"forward\"], [\"\", \"\", \"\", \"\"], [\"Pan\", \"Pan axes with left mouse, zoom with right\", \"fa fa-arrows icon-move\", \"pan\"], [\"Zoom\", \"Zoom to rectangle\", \"fa fa-square-o icon-check-empty\", \"zoom\"], [\"\", \"\", \"\", \"\"], [\"Download\", \"Download plot\", \"fa fa-floppy-o icon-save\", \"download\"]];\n",
       "\n",
       "mpl.extensions = [\"eps\", \"jpeg\", \"pdf\", \"png\", \"ps\", \"raw\", \"svg\", \"tif\"];\n",
       "\n",
       "mpl.default_extension = \"png\";var comm_websocket_adapter = function(comm) {\n",
       "    // Create a \"websocket\"-like object which calls the given IPython comm\n",
       "    // object with the appropriate methods. Currently this is a non binary\n",
       "    // socket, so there is still some room for performance tuning.\n",
       "    var ws = {};\n",
       "\n",
       "    ws.close = function() {\n",
       "        comm.close()\n",
       "    };\n",
       "    ws.send = function(m) {\n",
       "        //console.log('sending', m);\n",
       "        comm.send(m);\n",
       "    };\n",
       "    // Register the callback with on_msg.\n",
       "    comm.on_msg(function(msg) {\n",
       "        //console.log('receiving', msg['content']['data'], msg);\n",
       "        // Pass the mpl event to the overriden (by mpl) onmessage function.\n",
       "        ws.onmessage(msg['content']['data'])\n",
       "    });\n",
       "    return ws;\n",
       "}\n",
       "\n",
       "mpl.mpl_figure_comm = function(comm, msg) {\n",
       "    // This is the function which gets called when the mpl process\n",
       "    // starts-up an IPython Comm through the \"matplotlib\" channel.\n",
       "\n",
       "    var id = msg.content.data.id;\n",
       "    // Get hold of the div created by the display call when the Comm\n",
       "    // socket was opened in Python.\n",
       "    var element = $(\"#\" + id);\n",
       "    var ws_proxy = comm_websocket_adapter(comm)\n",
       "\n",
       "    function ondownload(figure, format) {\n",
       "        window.open(figure.imageObj.src);\n",
       "    }\n",
       "\n",
       "    var fig = new mpl.figure(id, ws_proxy,\n",
       "                           ondownload,\n",
       "                           element.get(0));\n",
       "\n",
       "    // Call onopen now - mpl needs it, as it is assuming we've passed it a real\n",
       "    // web socket which is closed, not our websocket->open comm proxy.\n",
       "    ws_proxy.onopen();\n",
       "\n",
       "    fig.parent_element = element.get(0);\n",
       "    fig.cell_info = mpl.find_output_cell(\"<div id='\" + id + \"'></div>\");\n",
       "    if (!fig.cell_info) {\n",
       "        console.error(\"Failed to find cell for figure\", id, fig);\n",
       "        return;\n",
       "    }\n",
       "\n",
       "    var output_index = fig.cell_info[2]\n",
       "    var cell = fig.cell_info[0];\n",
       "\n",
       "};\n",
       "\n",
       "mpl.figure.prototype.handle_close = function(fig, msg) {\n",
       "    var width = fig.canvas.width/mpl.ratio\n",
       "    fig.root.unbind('remove')\n",
       "\n",
       "    // Update the output cell to use the data from the current canvas.\n",
       "    fig.push_to_output();\n",
       "    var dataURL = fig.canvas.toDataURL();\n",
       "    // Re-enable the keyboard manager in IPython - without this line, in FF,\n",
       "    // the notebook keyboard shortcuts fail.\n",
       "    IPython.keyboard_manager.enable()\n",
       "    $(fig.parent_element).html('<img src=\"' + dataURL + '\" width=\"' + width + '\">');\n",
       "    fig.close_ws(fig, msg);\n",
       "}\n",
       "\n",
       "mpl.figure.prototype.close_ws = function(fig, msg){\n",
       "    fig.send_message('closing', msg);\n",
       "    // fig.ws.close()\n",
       "}\n",
       "\n",
       "mpl.figure.prototype.push_to_output = function(remove_interactive) {\n",
       "    // Turn the data on the canvas into data in the output cell.\n",
       "    var width = this.canvas.width/mpl.ratio\n",
       "    var dataURL = this.canvas.toDataURL();\n",
       "    this.cell_info[1]['text/html'] = '<img src=\"' + dataURL + '\" width=\"' + width + '\">';\n",
       "}\n",
       "\n",
       "mpl.figure.prototype.updated_canvas_event = function() {\n",
       "    // Tell IPython that the notebook contents must change.\n",
       "    IPython.notebook.set_dirty(true);\n",
       "    this.send_message(\"ack\", {});\n",
       "    var fig = this;\n",
       "    // Wait a second, then push the new image to the DOM so\n",
       "    // that it is saved nicely (might be nice to debounce this).\n",
       "    setTimeout(function () { fig.push_to_output() }, 1000);\n",
       "}\n",
       "\n",
       "mpl.figure.prototype._init_toolbar = function() {\n",
       "    var fig = this;\n",
       "\n",
       "    var nav_element = $('<div/>')\n",
       "    nav_element.attr('style', 'width: 100%');\n",
       "    this.root.append(nav_element);\n",
       "\n",
       "    // Define a callback function for later on.\n",
       "    function toolbar_event(event) {\n",
       "        return fig.toolbar_button_onclick(event['data']);\n",
       "    }\n",
       "    function toolbar_mouse_event(event) {\n",
       "        return fig.toolbar_button_onmouseover(event['data']);\n",
       "    }\n",
       "\n",
       "    for(var toolbar_ind in mpl.toolbar_items){\n",
       "        var name = mpl.toolbar_items[toolbar_ind][0];\n",
       "        var tooltip = mpl.toolbar_items[toolbar_ind][1];\n",
       "        var image = mpl.toolbar_items[toolbar_ind][2];\n",
       "        var method_name = mpl.toolbar_items[toolbar_ind][3];\n",
       "\n",
       "        if (!name) { continue; };\n",
       "\n",
       "        var button = $('<button class=\"btn btn-default\" href=\"#\" title=\"' + name + '\"><i class=\"fa ' + image + ' fa-lg\"></i></button>');\n",
       "        button.click(method_name, toolbar_event);\n",
       "        button.mouseover(tooltip, toolbar_mouse_event);\n",
       "        nav_element.append(button);\n",
       "    }\n",
       "\n",
       "    // Add the status bar.\n",
       "    var status_bar = $('<span class=\"mpl-message\" style=\"text-align:right; float: right;\"/>');\n",
       "    nav_element.append(status_bar);\n",
       "    this.message = status_bar[0];\n",
       "\n",
       "    // Add the close button to the window.\n",
       "    var buttongrp = $('<div class=\"btn-group inline pull-right\"></div>');\n",
       "    var button = $('<button class=\"btn btn-mini btn-primary\" href=\"#\" title=\"Stop Interaction\"><i class=\"fa fa-power-off icon-remove icon-large\"></i></button>');\n",
       "    button.click(function (evt) { fig.handle_close(fig, {}); } );\n",
       "    button.mouseover('Stop Interaction', toolbar_mouse_event);\n",
       "    buttongrp.append(button);\n",
       "    var titlebar = this.root.find($('.ui-dialog-titlebar'));\n",
       "    titlebar.prepend(buttongrp);\n",
       "}\n",
       "\n",
       "mpl.figure.prototype._root_extra_style = function(el){\n",
       "    var fig = this\n",
       "    el.on(\"remove\", function(){\n",
       "\tfig.close_ws(fig, {});\n",
       "    });\n",
       "}\n",
       "\n",
       "mpl.figure.prototype._canvas_extra_style = function(el){\n",
       "    // this is important to make the div 'focusable\n",
       "    el.attr('tabindex', 0)\n",
       "    // reach out to IPython and tell the keyboard manager to turn it's self\n",
       "    // off when our div gets focus\n",
       "\n",
       "    // location in version 3\n",
       "    if (IPython.notebook.keyboard_manager) {\n",
       "        IPython.notebook.keyboard_manager.register_events(el);\n",
       "    }\n",
       "    else {\n",
       "        // location in version 2\n",
       "        IPython.keyboard_manager.register_events(el);\n",
       "    }\n",
       "\n",
       "}\n",
       "\n",
       "mpl.figure.prototype._key_event_extra = function(event, name) {\n",
       "    var manager = IPython.notebook.keyboard_manager;\n",
       "    if (!manager)\n",
       "        manager = IPython.keyboard_manager;\n",
       "\n",
       "    // Check for shift+enter\n",
       "    if (event.shiftKey && event.which == 13) {\n",
       "        this.canvas_div.blur();\n",
       "        event.shiftKey = false;\n",
       "        // Send a \"J\" for go to next cell\n",
       "        event.which = 74;\n",
       "        event.keyCode = 74;\n",
       "        manager.command_mode();\n",
       "        manager.handle_keydown(event);\n",
       "    }\n",
       "}\n",
       "\n",
       "mpl.figure.prototype.handle_save = function(fig, msg) {\n",
       "    fig.ondownload(fig, null);\n",
       "}\n",
       "\n",
       "\n",
       "mpl.find_output_cell = function(html_output) {\n",
       "    // Return the cell and output element which can be found *uniquely* in the notebook.\n",
       "    // Note - this is a bit hacky, but it is done because the \"notebook_saving.Notebook\"\n",
       "    // IPython event is triggered only after the cells have been serialised, which for\n",
       "    // our purposes (turning an active figure into a static one), is too late.\n",
       "    var cells = IPython.notebook.get_cells();\n",
       "    var ncells = cells.length;\n",
       "    for (var i=0; i<ncells; i++) {\n",
       "        var cell = cells[i];\n",
       "        if (cell.cell_type === 'code'){\n",
       "            for (var j=0; j<cell.output_area.outputs.length; j++) {\n",
       "                var data = cell.output_area.outputs[j];\n",
       "                if (data.data) {\n",
       "                    // IPython >= 3 moved mimebundle to data attribute of output\n",
       "                    data = data.data;\n",
       "                }\n",
       "                if (data['text/html'] == html_output) {\n",
       "                    return [cell, data, j];\n",
       "                }\n",
       "            }\n",
       "        }\n",
       "    }\n",
       "}\n",
       "\n",
       "// Register the function which deals with the matplotlib target/channel.\n",
       "// The kernel may be null if the page has been refreshed.\n",
       "if (IPython.notebook.kernel != null) {\n",
       "    IPython.notebook.kernel.comm_manager.register_target('matplotlib', mpl.mpl_figure_comm);\n",
       "}\n"
      ],
      "text/plain": [
       "<IPython.core.display.Javascript object>"
      ]
     },
     "metadata": {},
     "output_type": "display_data"
    },
    {
     "data": {
      "text/html": [
       "<img src=\"data:image/png;base64,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\" width=\"639.9999861283738\">"
      ],
      "text/plain": [
       "<IPython.core.display.HTML object>"
      ]
     },
     "metadata": {},
     "output_type": "display_data"
    }
   ],
   "source": [
    "plot_train(history)"
   ]
  },
  {
   "cell_type": "code",
   "execution_count": 53,
   "metadata": {},
   "outputs": [
    {
     "name": "stdout",
     "output_type": "stream",
     "text": [
      "1536/1648 [==========================>...] - ETA: 0sModel Accuracy = 97.94 %\n",
      "Model Loss = 00.05\n"
     ]
    }
   ],
   "source": [
    "evaluation = model.evaluate(x_test, y_test, batch_size=512)\n",
    "print('Model Accuracy = {:.2f} %'.format(evaluation[1]*100))\n",
    "print('Model Loss = {:05.2f}'.format(evaluation[0]))"
   ]
  },
  {
   "cell_type": "code",
   "execution_count": null,
   "metadata": {
    "collapsed": true
   },
   "outputs": [],
   "source": []
  }
 ],
 "metadata": {
  "kernelspec": {
   "display_name": "Python 3",
   "language": "python",
   "name": "python3"
  },
  "language_info": {
   "codemirror_mode": {
    "name": "ipython",
    "version": 3
   },
   "file_extension": ".py",
   "mimetype": "text/x-python",
   "name": "python",
   "nbconvert_exporter": "python",
   "pygments_lexer": "ipython3",
   "version": "3.6.3"
  }
 },
 "nbformat": 4,
 "nbformat_minor": 2
}
