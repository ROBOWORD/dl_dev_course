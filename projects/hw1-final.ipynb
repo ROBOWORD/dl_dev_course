{
 "cells": [
  {
   "cell_type": "code",
   "execution_count": 1,
   "metadata": {},
   "outputs": [
    {
     "name": "stderr",
     "output_type": "stream",
     "text": [
      "Using TensorFlow backend.\n"
     ]
    }
   ],
   "source": [
    "%matplotlib inline\n",
    "import matplotlib.pyplot as plt\n",
    "\n",
    "import keras\n",
    "from keras.models import Model, Sequential\n",
    "from keras.layers import *\n",
    "from keras.optimizers import Adam\n",
    "import keras.backend as K\n",
    "\n",
    "import tensorflow as tf\n",
    "import numpy as np"
   ]
  },
  {
   "cell_type": "code",
   "execution_count": 2,
   "metadata": {},
   "outputs": [
    {
     "name": "stdout",
     "output_type": "stream",
     "text": [
      "2.0.8\n",
      "1.4.0-rc0\n"
     ]
    }
   ],
   "source": [
    "print(keras.__version__)\n",
    "print(tf.__version__)"
   ]
  },
  {
   "cell_type": "code",
   "execution_count": 3,
   "metadata": {},
   "outputs": [
    {
     "data": {
      "text/plain": [
       "array([  0,   1,   2,   3,   4,   5,   6,   7,   8,   9,  10,  11,  12,\n",
       "        13,  14,  15,  16,  17,  18,  19,  20,  21,  22,  23,  24,  25,\n",
       "        26,  27,  28,  29,  30,  31,  32,  33,  34,  35,  36,  37,  38,\n",
       "        39,  40,  41,  42,  43,  44,  45,  46,  47,  48,  49,  50,  51,\n",
       "        52,  53,  54,  55,  56,  57,  58,  59,  60,  61,  62,  63,  64,\n",
       "        65,  66,  67,  68,  69,  70,  71,  72,  73,  74,  75,  76,  77,\n",
       "        78,  79,  80,  81,  82,  83,  84,  85,  86,  87,  88,  89,  90,\n",
       "        91,  92,  93,  94,  95,  96,  97,  98,  99, 100])"
      ]
     },
     "execution_count": 3,
     "metadata": {},
     "output_type": "execute_result"
    }
   ],
   "source": [
    "base = np.arange(0,101)\n",
    "base"
   ]
  },
  {
   "cell_type": "code",
   "execution_count": 4,
   "metadata": {},
   "outputs": [
    {
     "data": {
      "text/plain": [
       "(array([28, 45, 18, ..., 34, 63, 77]),\n",
       " array([42, 82, 91, ..., 74, 38, 12]),\n",
       " array([ 70, 127, 109, ..., 108, 101,  89]),\n",
       " 1000000)"
      ]
     },
     "execution_count": 4,
     "metadata": {},
     "output_type": "execute_result"
    }
   ],
   "source": [
    "# first try without removal training data\n",
    "numa = np.random.choice(base,1000000)\n",
    "numb = np.random.choice(base,1000000)\n",
    "numc = numa+numb\n",
    "numa, numb, numc, len(numc)"
   ]
  },
  {
   "cell_type": "code",
   "execution_count": 5,
   "metadata": {},
   "outputs": [
    {
     "data": {
      "text/plain": [
       "(array([27, 72, 72, ..., 36, 18, 84]),\n",
       " array([62, 95,  5, ..., 63, 43, 95]),\n",
       " array([ 89, 167,  77, ...,  99,  61, 179]),\n",
       " 100000)"
      ]
     },
     "execution_count": 5,
     "metadata": {},
     "output_type": "execute_result"
    }
   ],
   "source": [
    "# validation data\n",
    "testa = np.random.choice(base,100000)\n",
    "testb = np.random.choice(base,100000)\n",
    "testc = testa + testb\n",
    "testa,testb,testc,len(testc)"
   ]
  },
  {
   "cell_type": "code",
   "execution_count": 6,
   "metadata": {},
   "outputs": [
    {
     "data": {
      "text/plain": [
       "((1000000, 2), (100000, 2))"
      ]
     },
     "execution_count": 6,
     "metadata": {},
     "output_type": "execute_result"
    }
   ],
   "source": [
    "x_train = np.array(list(zip(numa,numb)))\n",
    "x_test = np.array(list(zip(testa,testb)))\n",
    "x_train.shape, x_test.shape"
   ]
  },
  {
   "cell_type": "code",
   "execution_count": 7,
   "metadata": {},
   "outputs": [
    {
     "data": {
      "text/plain": [
       "array([[28, 42],\n",
       "       [45, 82],\n",
       "       [18, 91],\n",
       "       ..., \n",
       "       [34, 74],\n",
       "       [63, 38],\n",
       "       [77, 12]])"
      ]
     },
     "execution_count": 7,
     "metadata": {},
     "output_type": "execute_result"
    }
   ],
   "source": [
    "x_train"
   ]
  },
  {
   "cell_type": "code",
   "execution_count": 8,
   "metadata": {},
   "outputs": [
    {
     "name": "stdout",
     "output_type": "stream",
     "text": [
      "(1000000, 2) train samples\n",
      "(100000, 2) test samples\n"
     ]
    },
    {
     "data": {
      "text/plain": [
       "(array([ 0.,  0.,  0.,  0.,  0.,  0.,  0.,  0.,  0.,  0.,  0.,  0.,  0.,\n",
       "         0.,  0.,  0.,  0.,  0.,  0.,  0.,  0.,  0.,  0.,  0.,  0.,  0.,\n",
       "         0.,  0.,  0.,  0.,  0.,  0.,  0.,  0.,  0.,  0.,  0.,  0.,  0.,\n",
       "         0.,  0.,  0.,  0.,  0.,  0.,  0.,  0.,  0.,  0.,  0.,  0.,  0.,\n",
       "         0.,  0.,  0.,  0.,  0.,  0.,  0.,  0.,  0.,  0.,  0.,  0.,  0.,\n",
       "         0.,  0.,  0.,  0.,  0.,  1.,  0.,  0.,  0.,  0.,  0.,  0.,  0.,\n",
       "         0.,  0.,  0.,  0.,  0.,  0.,  0.,  0.,  0.,  0.,  0.,  0.,  0.,\n",
       "         0.,  0.,  0.,  0.,  0.,  0.,  0.,  0.,  0.,  0.,  0.,  0.,  0.,\n",
       "         0.,  0.,  0.,  0.,  0.,  0.,  0.,  0.,  0.,  0.,  0.,  0.,  0.,\n",
       "         0.,  0.,  0.,  0.,  0.,  0.,  0.,  0.,  0.,  0.,  0.,  0.,  0.,\n",
       "         0.,  0.,  0.,  0.,  0.,  0.,  0.,  0.,  0.,  0.,  0.,  0.,  0.,\n",
       "         0.,  0.,  0.,  0.,  0.,  0.,  0.,  0.,  0.,  0.,  0.,  0.,  0.,\n",
       "         0.,  0.,  0.,  0.,  0.,  0.,  0.,  0.,  0.,  0.,  0.,  0.,  0.,\n",
       "         0.,  0.,  0.,  0.,  0.,  0.,  0.,  0.,  0.,  0.,  0.,  0.,  0.,\n",
       "         0.,  0.,  0.,  0.,  0.,  0.,  0.,  0.,  0.,  0.,  0.,  0.,  0.,\n",
       "         0.,  0.,  0.,  0.,  0.,  0.]), (1000000, 201), (100000, 201))"
      ]
     },
     "execution_count": 8,
     "metadata": {},
     "output_type": "execute_result"
    }
   ],
   "source": [
    "#x_train = x_train.reshape(60000, 784)\n",
    "#x_test = x_test.reshape(10000, 784)\n",
    "#x_train = x_train.astype('float32')\n",
    "#x_test = x_test.astype('float32')\n",
    "x_train = x_train/100\n",
    "x_test = x_test/100\n",
    "print(x_train.shape, 'train samples')\n",
    "print(x_test.shape, 'test samples')\n",
    "\n",
    "#numcc = numc/100\n",
    "#testcc = testc/100\n",
    "\n",
    "n_classes = 201\n",
    "# convert class vectors to binary One Hot Encoded\n",
    "y_train = keras.utils.to_categorical(numc, n_classes)\n",
    "y_test = keras.utils.to_categorical(testc, n_classes)\n",
    "y_train[0],y_train.shape,y_test.shape"
   ]
  },
  {
   "cell_type": "code",
   "execution_count": 9,
   "metadata": {},
   "outputs": [
    {
     "data": {
      "text/plain": [
       "70"
      ]
     },
     "execution_count": 9,
     "metadata": {},
     "output_type": "execute_result"
    }
   ],
   "source": [
    "y_train[0].argmax()"
   ]
  },
  {
   "cell_type": "code",
   "execution_count": 10,
   "metadata": {},
   "outputs": [
    {
     "data": {
      "text/plain": [
       "array([[ 0.28,  0.42],\n",
       "       [ 0.45,  0.82],\n",
       "       [ 0.18,  0.91],\n",
       "       ..., \n",
       "       [ 0.34,  0.74],\n",
       "       [ 0.63,  0.38],\n",
       "       [ 0.77,  0.12]])"
      ]
     },
     "execution_count": 10,
     "metadata": {},
     "output_type": "execute_result"
    }
   ],
   "source": [
    "x_train"
   ]
  },
  {
   "cell_type": "code",
   "execution_count": 11,
   "metadata": {},
   "outputs": [
    {
     "data": {
      "text/plain": [
       "2048"
      ]
     },
     "execution_count": 11,
     "metadata": {},
     "output_type": "execute_result"
    }
   ],
   "source": [
    "1024*2"
   ]
  },
  {
   "cell_type": "code",
   "execution_count": 12,
   "metadata": {
    "collapsed": true
   },
   "outputs": [],
   "source": [
    "# Training Parameters for basic MNIST\n",
    "learning_rate = 0.01\n",
    "training_epochs = 100\n",
    "batch_size = 2048\n",
    "\n",
    "# Network Parameters\n",
    "n_input = 2 # MNIST data input (img shape: 28*28 flattened to be 784)\n",
    "n_hidden_1 = 200   # 1st layer number of neurons\n",
    "n_hidden_2 = 400  #2nd layer number of neurons\n",
    "n_hidden_3 = 201  # 3rd layer number of neurons\n",
    "n_classes = 201   # MNIST classes for prediction(digits 0-9 )"
   ]
  },
  {
   "cell_type": "code",
   "execution_count": 13,
   "metadata": {
    "collapsed": true
   },
   "outputs": [],
   "source": [
    "Inp = Input(shape=(2,))\n",
    "x = Dense(n_hidden_1, activation='relu', name = \"Dense_1\")(Inp)\n",
    "x = Dense(n_hidden_2, activation='relu', name = \"Dense_2\")(x)\n",
    "x = Dropout(0.1)(x)\n",
    "x = Dense(n_hidden_3, activation='relu', name = \"Dense_3\")(x)\n",
    "x = Dropout(0.2)(x)\n",
    "output = Dense(n_classes, activation='softmax', name = \"Outputlayer\")(x)"
   ]
  },
  {
   "cell_type": "code",
   "execution_count": 14,
   "metadata": {
    "collapsed": true
   },
   "outputs": [],
   "source": [
    "model = Model(Inp, output)"
   ]
  },
  {
   "cell_type": "code",
   "execution_count": 15,
   "metadata": {},
   "outputs": [
    {
     "name": "stdout",
     "output_type": "stream",
     "text": [
      "_________________________________________________________________\n",
      "Layer (type)                 Output Shape              Param #   \n",
      "=================================================================\n",
      "input_1 (InputLayer)         (None, 2)                 0         \n",
      "_________________________________________________________________\n",
      "Dense_1 (Dense)              (None, 200)               600       \n",
      "_________________________________________________________________\n",
      "Dense_2 (Dense)              (None, 400)               80400     \n",
      "_________________________________________________________________\n",
      "dropout_1 (Dropout)          (None, 400)               0         \n",
      "_________________________________________________________________\n",
      "Dense_3 (Dense)              (None, 201)               80601     \n",
      "_________________________________________________________________\n",
      "dropout_2 (Dropout)          (None, 201)               0         \n",
      "_________________________________________________________________\n",
      "Outputlayer (Dense)          (None, 201)               40602     \n",
      "=================================================================\n",
      "Total params: 202,203\n",
      "Trainable params: 202,203\n",
      "Non-trainable params: 0\n",
      "_________________________________________________________________\n"
     ]
    }
   ],
   "source": [
    "model.summary()"
   ]
  },
  {
   "cell_type": "code",
   "execution_count": 16,
   "metadata": {
    "collapsed": true
   },
   "outputs": [],
   "source": [
    "model.compile(loss='categorical_crossentropy',\n",
    "              optimizer='adam',\n",
    "              metrics=['accuracy'])"
   ]
  },
  {
   "cell_type": "code",
   "execution_count": null,
   "metadata": {
    "collapsed": true
   },
   "outputs": [],
   "source": [
    "K.set_value(model.optimizer.lr, learning_rate)"
   ]
  },
  {
   "cell_type": "code",
   "execution_count": null,
   "metadata": {},
   "outputs": [
    {
     "name": "stdout",
     "output_type": "stream",
     "text": [
      "Train on 1000000 samples, validate on 100000 samples\n",
      "Epoch 1/100\n",
      "1000000/1000000 [==============================] - 22s - loss: 2.5929 - acc: 0.1606 - val_loss: 1.6646 - val_acc: 0.3803\n",
      "Epoch 2/100\n",
      "  18432/1000000 [..............................] - ETA: 21s - loss: 2.0975 - acc: 0.2215"
     ]
    }
   ],
   "source": [
    "history = model.fit(x_train, y_train,\n",
    "                    batch_size=batch_size,\n",
    "                    epochs=training_epochs,\n",
    "                    verbose=1, # This is for what we want it to display out as it trains \n",
    "                    validation_data=(x_test, y_test))"
   ]
  },
  {
   "cell_type": "code",
   "execution_count": 19,
   "metadata": {
    "collapsed": true
   },
   "outputs": [],
   "source": [
    "def plot_train(hist):\n",
    "    h = hist.history\n",
    "    if 'acc' in h:\n",
    "        meas='acc'\n",
    "        loc='lower right'\n",
    "    else:\n",
    "        meas='loss'\n",
    "        loc='upper right'\n",
    "    plt.plot(hist.history[meas])\n",
    "    plt.plot(hist.history['val_'+meas])\n",
    "    plt.title('model '+meas)\n",
    "    plt.ylabel(meas)\n",
    "    plt.xlabel('epoch')\n",
    "    plt.legend(['train', 'validation'], loc=loc)"
   ]
  },
  {
   "cell_type": "code",
   "execution_count": 20,
   "metadata": {},
   "outputs": [
    {
     "data": {
      "image/png": "[encoded data removed]",
      "text/plain": [
       "<matplotlib.figure.Figure at 0x7f337c6193c8>"
      ]
     },
     "metadata": {},
     "output_type": "display_data"
    }
   ],
   "source": [
    "plot_train(history)"
   ]
  },
  {
   "cell_type": "markdown",
   "metadata": {
    "collapsed": true
   },
   "source": [
    "# with removals, 10 numbers"
   ]
  },
  {
   "cell_type": "code",
   "execution_count": 21,
   "metadata": {},
   "outputs": [
    {
     "data": {
      "text/plain": [
       "(array([ 0,  1,  2,  3,  4,  5,  6,  7,  8,  9, 10, 11, 12, 13, 14, 15, 16,\n",
       "        17, 18, 19, 20, 21, 22, 23, 24, 25, 26, 27, 28, 29, 30, 31, 32, 33,\n",
       "        34, 35, 36, 37, 38, 39, 40, 41, 42, 43, 44, 45, 46, 47, 48, 49, 50,\n",
       "        51, 52, 53, 54, 55, 56, 57, 58, 59, 60, 61, 62, 63, 64, 65, 66, 67,\n",
       "        68, 69, 70, 71, 72, 73, 74, 75, 76, 77, 78, 79, 80, 81, 82, 83, 84,\n",
       "        85, 86, 87, 88, 89]), (90,))"
      ]
     },
     "execution_count": 21,
     "metadata": {},
     "output_type": "execute_result"
    }
   ],
   "source": [
    "#numremov = np.array([50,51,52,53,54])\n",
    "base5 = base[(base<90)]\n",
    "base5, base5.shape"
   ]
  },
  {
   "cell_type": "code",
   "execution_count": 22,
   "metadata": {
    "collapsed": true
   },
   "outputs": [],
   "source": [
    "# remove 5 numbers\n",
    "numa = np.random.choice(base5,2000000)\n",
    "numb = np.random.choice(base5,2000000)\n",
    "numc = numa+numb\n",
    "\n",
    "# validation data\n",
    "testa = np.random.choice(base,20000)\n",
    "testb = np.random.choice(base,20000)\n",
    "testc = testa + testb\n"
   ]
  },
  {
   "cell_type": "code",
   "execution_count": 23,
   "metadata": {},
   "outputs": [
    {
     "data": {
      "text/plain": [
       "(True, True, True, True, True)"
      ]
     },
     "execution_count": 23,
     "metadata": {},
     "output_type": "execute_result"
    }
   ],
   "source": [
    "90 in testa,99 in testa,95 in testa,53 in testa,54 in testa"
   ]
  },
  {
   "cell_type": "code",
   "execution_count": 24,
   "metadata": {},
   "outputs": [
    {
     "name": "stdout",
     "output_type": "stream",
     "text": [
      "(2000000, 2) train samples\n",
      "(20000, 2) test samples\n"
     ]
    },
    {
     "data": {
      "text/plain": [
       "(array([ 0.,  0.,  0.,  0.,  0.,  0.,  0.,  0.,  0.,  0.,  0.,  0.,  0.,\n",
       "         0.,  0.,  0.,  0.,  0.,  0.,  0.,  0.,  0.,  0.,  0.,  0.,  0.,\n",
       "         0.,  0.,  0.,  0.,  0.,  0.,  0.,  0.,  0.,  0.,  0.,  0.,  0.,\n",
       "         0.,  0.,  0.,  0.,  0.,  0.,  0.,  0.,  0.,  0.,  0.,  0.,  0.,\n",
       "         0.,  0.,  0.,  0.,  0.,  0.,  0.,  0.,  0.,  0.,  0.,  0.,  0.,\n",
       "         0.,  0.,  0.,  0.,  0.,  0.,  0.,  0.,  0.,  0.,  0.,  0.,  0.,\n",
       "         0.,  0.,  0.,  0.,  0.,  0.,  0.,  0.,  0.,  0.,  0.,  0.,  0.,\n",
       "         0.,  0.,  0.,  0.,  0.,  0.,  0.,  0.,  0.,  0.,  0.,  0.,  0.,\n",
       "         0.,  0.,  0.,  0.,  0.,  0.,  0.,  0.,  0.,  0.,  0.,  0.,  0.,\n",
       "         0.,  0.,  0.,  0.,  0.,  0.,  0.,  0.,  0.,  0.,  0.,  0.,  0.,\n",
       "         0.,  0.,  0.,  0.,  0.,  0.,  0.,  0.,  0.,  0.,  0.,  0.,  0.,\n",
       "         1.,  0.,  0.,  0.,  0.,  0.,  0.,  0.,  0.,  0.,  0.,  0.,  0.,\n",
       "         0.,  0.,  0.,  0.,  0.,  0.,  0.,  0.,  0.,  0.,  0.,  0.,  0.,\n",
       "         0.,  0.,  0.,  0.,  0.,  0.,  0.,  0.,  0.,  0.,  0.,  0.,  0.,\n",
       "         0.,  0.,  0.,  0.,  0.,  0.,  0.,  0.,  0.,  0.,  0.,  0.,  0.,\n",
       "         0.,  0.,  0.,  0.,  0.,  0.]), (2000000, 201), (20000, 201))"
      ]
     },
     "execution_count": 24,
     "metadata": {},
     "output_type": "execute_result"
    }
   ],
   "source": [
    "x_train = np.array(list(zip(numa,numb)))\n",
    "x_test = np.array(list(zip(testa,testb)))\n",
    "x_train.shape, x_test.shape\n",
    "\n",
    "x_train = x_train/100\n",
    "x_test = x_test/100\n",
    "print(x_train.shape, 'train samples')\n",
    "print(x_test.shape, 'test samples')\n",
    "\n",
    "numcc = numc/100\n",
    "testcc = testc/100\n",
    "\n",
    "n_classes = 201\n",
    "# convert class vectors to binary One Hot Encoded\n",
    "y_train = keras.utils.to_categorical(numc, n_classes)\n",
    "y_test = keras.utils.to_categorical(testc, n_classes)\n",
    "y_train[0],y_train.shape,y_test.shape"
   ]
  },
  {
   "cell_type": "markdown",
   "metadata": {},
   "source": [
    "# Setting up Hyperparameters"
   ]
  },
  {
   "cell_type": "code",
   "execution_count": 25,
   "metadata": {
    "collapsed": true
   },
   "outputs": [],
   "source": [
    "# Training Parameters for basic MNIST\n",
    "learning_rate = 0.01\n",
    "training_epochs = 10\n",
    "batch_size = 4096\n",
    "\n",
    "# Network Parameters\n",
    "n_input = 2 # MNIST data input (img shape: 28*28 flattened to be 784)\n",
    "n_hidden_1 = 100   # 1st layer number of neurons\n",
    "n_hidden_2 = 400  #2nd layer number of neurons\n",
    "n_hidden_3 = 201  # 3rd layer number of neurons\n",
    "n_classes = 201   # MNIST classes for prediction(digits 0-9 )"
   ]
  },
  {
   "cell_type": "code",
   "execution_count": 26,
   "metadata": {
    "collapsed": true
   },
   "outputs": [],
   "source": [
    "Inp = Input(shape=(2,))\n",
    "x = Dense(n_hidden_1, activation='relu', name = \"Dense_1\")(Inp)\n",
    "x = Dense(n_hidden_2, activation='relu', name = \"Dense_2\")(x)\n",
    "x = Dense(n_hidden_3, activation='relu', name = \"Dense_3\")(x)\n",
    "output = Dense(n_classes, activation='softmax', name = \"Outputlayer\")(x)"
   ]
  },
  {
   "cell_type": "code",
   "execution_count": 27,
   "metadata": {},
   "outputs": [
    {
     "name": "stdout",
     "output_type": "stream",
     "text": [
      "_________________________________________________________________\n",
      "Layer (type)                 Output Shape              Param #   \n",
      "=================================================================\n",
      "input_2 (InputLayer)         (None, 2)                 0         \n",
      "_________________________________________________________________\n",
      "Dense_1 (Dense)              (None, 100)               300       \n",
      "_________________________________________________________________\n",
      "Dense_2 (Dense)              (None, 400)               40400     \n",
      "_________________________________________________________________\n",
      "Dense_3 (Dense)              (None, 201)               80601     \n",
      "_________________________________________________________________\n",
      "Outputlayer (Dense)          (None, 201)               40602     \n",
      "=================================================================\n",
      "Total params: 161,903\n",
      "Trainable params: 161,903\n",
      "Non-trainable params: 0\n",
      "_________________________________________________________________\n"
     ]
    }
   ],
   "source": [
    "model = Model(Inp, output)\n",
    "model.summary()"
   ]
  },
  {
   "cell_type": "code",
   "execution_count": 28,
   "metadata": {
    "collapsed": true
   },
   "outputs": [],
   "source": [
    "model.compile(loss='categorical_crossentropy',\n",
    "              optimizer='adam',\n",
    "              metrics=['accuracy'])"
   ]
  },
  {
   "cell_type": "code",
   "execution_count": 29,
   "metadata": {},
   "outputs": [
    {
     "name": "stdout",
     "output_type": "stream",
     "text": [
      "Train on 2000000 samples, validate on 20000 samples\n",
      "Epoch 1/10\n",
      "2000000/2000000 [==============================] - 22s - loss: 2.8116 - acc: 0.2008 - val_loss: 2.4599 - val_acc: 0.2435\n",
      "Epoch 2/10\n",
      "2000000/2000000 [==============================] - 22s - loss: 1.6354 - acc: 0.4160 - val_loss: 2.0005 - val_acc: 0.3990\n",
      "Epoch 3/10\n",
      "2000000/2000000 [==============================] - 22s - loss: 1.3090 - acc: 0.5362 - val_loss: 1.8073 - val_acc: 0.4908\n",
      "Epoch 4/10\n",
      "2000000/2000000 [==============================] - 22s - loss: 1.1005 - acc: 0.6236 - val_loss: 1.6244 - val_acc: 0.5431\n",
      "Epoch 5/10\n",
      "2000000/2000000 [==============================] - 22s - loss: 0.9388 - acc: 0.6951 - val_loss: 1.4862 - val_acc: 0.6215\n",
      "Epoch 6/10\n",
      "2000000/2000000 [==============================] - 22s - loss: 0.8150 - acc: 0.7463 - val_loss: 1.4017 - val_acc: 0.6448\n",
      "Epoch 7/10\n",
      "2000000/2000000 [==============================] - 22s - loss: 0.7297 - acc: 0.7787 - val_loss: 1.2892 - val_acc: 0.7525\n",
      "Epoch 8/10\n",
      "2000000/2000000 [==============================] - 22s - loss: 0.6431 - acc: 0.8181 - val_loss: 1.2375 - val_acc: 0.7511\n",
      "Epoch 9/10\n",
      "2000000/2000000 [==============================] - 22s - loss: 0.5802 - acc: 0.8403 - val_loss: 1.1345 - val_acc: 0.7828\n",
      "Epoch 10/10\n",
      "2000000/2000000 [==============================] - 22s - loss: 0.5605 - acc: 0.8565 - val_loss: 1.2595 - val_acc: 0.7791\n"
     ]
    }
   ],
   "source": [
    "history = model.fit(x_train, y_train,\n",
    "                    batch_size=batch_size,\n",
    "                    epochs=training_epochs,\n",
    "                    verbose=1, # This is for what we want it to display out as it trains \n",
    "                    validation_data=(x_test, y_test))"
   ]
  },
  {
   "cell_type": "code",
   "execution_count": 30,
   "metadata": {},
   "outputs": [
    {
     "data": {
      "image/png": "[encoded data removed]",
      "text/plain": [
       "<matplotlib.figure.Figure at 0x7f27f57ce4e0>"
      ]
     },
     "metadata": {},
     "output_type": "display_data"
    }
   ],
   "source": [
    "plot_train(history)"
   ]
  },
  {
   "cell_type": "markdown",
   "metadata": {},
   "source": [
    "# Remove 20 numbers"
   ]
  },
  {
   "cell_type": "code",
   "execution_count": 31,
   "metadata": {
    "collapsed": true
   },
   "outputs": [],
   "source": [
    "# remove 20 numbers\n",
    "\n",
    "base5 = base[(base<80)]\n",
    "base5, base5.shape\n",
    "\n",
    "numa = np.random.choice(base5,2000000)\n",
    "numb = np.random.choice(base5,2000000)\n",
    "numc = numa+numb\n",
    "\n",
    "# validation data\n",
    "testa = np.random.choice(base,20000)\n",
    "testb = np.random.choice(base,20000)\n",
    "testc = testa + testb"
   ]
  },
  {
   "cell_type": "code",
   "execution_count": 32,
   "metadata": {},
   "outputs": [
    {
     "name": "stdout",
     "output_type": "stream",
     "text": [
      "(2000000, 2) train samples\n",
      "(20000, 2) test samples\n"
     ]
    }
   ],
   "source": [
    "x_train = np.array(list(zip(numa,numb)))\n",
    "x_test = np.array(list(zip(testa,testb)))\n",
    "x_train.shape, x_test.shape\n",
    "\n",
    "x_train = x_train/100\n",
    "x_test = x_test/100\n",
    "print(x_train.shape, 'train samples')\n",
    "print(x_test.shape, 'test samples')\n",
    "\n",
    "numcc = numc/100\n",
    "testcc = testc/100\n",
    "\n",
    "n_classes = 201\n",
    "# convert class vectors to binary One Hot Encoded\n",
    "y_train = keras.utils.to_categorical(numc, n_classes)\n",
    "y_test = keras.utils.to_categorical(testc, n_classes)\n",
    "#y_train[0],y_train.shape,y_test.shape"
   ]
  },
  {
   "cell_type": "code",
   "execution_count": 33,
   "metadata": {
    "collapsed": true
   },
   "outputs": [],
   "source": [
    "# Training Parameters for basic MNIST\n",
    "learning_rate = 0.01\n",
    "training_epochs = 10\n",
    "batch_size = 4096\n",
    "\n",
    "# Network Parameters\n",
    "n_input = 2 # MNIST data input (img shape: 28*28 flattened to be 784)\n",
    "n_hidden_1 = 100   # 1st layer number of neurons\n",
    "n_hidden_2 = 400  #2nd layer number of neurons\n",
    "n_hidden_3 = 201  # 3rd layer number of neurons\n",
    "n_classes = 201   # MNIST classes for prediction(digits 0-9 )"
   ]
  },
  {
   "cell_type": "code",
   "execution_count": 34,
   "metadata": {
    "collapsed": true
   },
   "outputs": [],
   "source": [
    "Inp = Input(shape=(2,))\n",
    "x = Dense(n_hidden_1, activation='relu', name = \"Dense_1\")(Inp)\n",
    "x = Dense(n_hidden_2, activation='relu', name = \"Dense_2\")(x)\n",
    "x = Dense(n_hidden_3, activation='relu', name = \"Dense_3\")(x)\n",
    "output = Dense(n_classes, activation='softmax', name = \"Outputlayer\")(x)"
   ]
  },
  {
   "cell_type": "code",
   "execution_count": 35,
   "metadata": {},
   "outputs": [
    {
     "name": "stdout",
     "output_type": "stream",
     "text": [
      "_________________________________________________________________\n",
      "Layer (type)                 Output Shape              Param #   \n",
      "=================================================================\n",
      "input_3 (InputLayer)         (None, 2)                 0         \n",
      "_________________________________________________________________\n",
      "Dense_1 (Dense)              (None, 100)               300       \n",
      "_________________________________________________________________\n",
      "Dense_2 (Dense)              (None, 400)               40400     \n",
      "_________________________________________________________________\n",
      "Dense_3 (Dense)              (None, 201)               80601     \n",
      "_________________________________________________________________\n",
      "Outputlayer (Dense)          (None, 201)               40602     \n",
      "=================================================================\n",
      "Total params: 161,903\n",
      "Trainable params: 161,903\n",
      "Non-trainable params: 0\n",
      "_________________________________________________________________\n"
     ]
    }
   ],
   "source": [
    "model = Model(Inp, output)\n",
    "model.summary()"
   ]
  },
  {
   "cell_type": "code",
   "execution_count": 36,
   "metadata": {
    "collapsed": true
   },
   "outputs": [],
   "source": [
    "model.compile(loss='categorical_crossentropy',\n",
    "              optimizer='adam',\n",
    "              metrics=['accuracy'])"
   ]
  },
  {
   "cell_type": "code",
   "execution_count": 37,
   "metadata": {},
   "outputs": [
    {
     "name": "stdout",
     "output_type": "stream",
     "text": [
      "Train on 2000000 samples, validate on 20000 samples\n",
      "Epoch 1/10\n",
      "2000000/2000000 [==============================] - 22s - loss: 2.6286 - acc: 0.2487 - val_loss: 4.7335 - val_acc: 0.3122\n",
      "Epoch 2/10\n",
      "2000000/2000000 [==============================] - 22s - loss: 1.3524 - acc: 0.5414 - val_loss: 4.3996 - val_acc: 0.4098\n",
      "Epoch 3/10\n",
      "2000000/2000000 [==============================] - 22s - loss: 1.0222 - acc: 0.6805 - val_loss: 4.2224 - val_acc: 0.4453\n",
      "Epoch 4/10\n",
      "2000000/2000000 [==============================] - 22s - loss: 0.8101 - acc: 0.7747 - val_loss: 4.1034 - val_acc: 0.5268\n",
      "Epoch 5/10\n",
      "2000000/2000000 [==============================] - 22s - loss: 0.6639 - acc: 0.8319 - val_loss: 4.0086 - val_acc: 0.5640\n",
      "Epoch 6/10\n",
      "2000000/2000000 [==============================] - 22s - loss: 0.5521 - acc: 0.8653 - val_loss: 3.9924 - val_acc: 0.5976\n",
      "Epoch 7/10\n",
      "2000000/2000000 [==============================] - 22s - loss: 0.4611 - acc: 0.8969 - val_loss: 4.0604 - val_acc: 0.5858\n",
      "Epoch 8/10\n",
      "2000000/2000000 [==============================] - 22s - loss: 0.4050 - acc: 0.9111 - val_loss: 3.9667 - val_acc: 0.6234\n",
      "Epoch 9/10\n",
      "2000000/2000000 [==============================] - 22s - loss: 0.3426 - acc: 0.9338 - val_loss: 4.0158 - val_acc: 0.6573\n",
      "Epoch 10/10\n",
      "2000000/2000000 [==============================] - 22s - loss: 0.3011 - acc: 0.9437 - val_loss: 3.9948 - val_acc: 0.6548\n"
     ]
    }
   ],
   "source": [
    "history = model.fit(x_train, y_train,\n",
    "                    batch_size=batch_size,\n",
    "                    epochs=training_epochs,\n",
    "                    verbose=1, # This is for what we want it to display out as it trains \n",
    "                    validation_data=(x_test, y_test))"
   ]
  },
  {
   "cell_type": "code",
   "execution_count": 38,
   "metadata": {},
   "outputs": [
    {
     "data": {
      "image/png": "[encoded data removed]",
      "text/plain": [
       "<matplotlib.figure.Figure at 0x7f2802718d30>"
      ]
     },
     "metadata": {},
     "output_type": "display_data"
    }
   ],
   "source": [
    "plot_train(history)"
   ]
  },
  {
   "cell_type": "markdown",
   "metadata": {},
   "source": [
    "# Remove 30 numbers"
   ]
  },
  {
   "cell_type": "code",
   "execution_count": 39,
   "metadata": {
    "collapsed": true
   },
   "outputs": [],
   "source": [
    "# remove 30 numbers\n",
    "\n",
    "base5 = base[(base<70)]\n",
    "base5, base5.shape\n",
    "\n",
    "numa = np.random.choice(base5,2000000)\n",
    "numb = np.random.choice(base5,2000000)\n",
    "numc = numa+numb\n",
    "\n",
    "# validation data\n",
    "testa = np.random.choice(base,20000)\n",
    "testb = np.random.choice(base,20000)\n",
    "testc = testa + testb"
   ]
  },
  {
   "cell_type": "code",
   "execution_count": 40,
   "metadata": {},
   "outputs": [
    {
     "name": "stdout",
     "output_type": "stream",
     "text": [
      "(2000000, 2) train samples\n",
      "(20000, 2) test samples\n"
     ]
    }
   ],
   "source": [
    "x_train = np.array(list(zip(numa,numb)))\n",
    "x_test = np.array(list(zip(testa,testb)))\n",
    "x_train.shape, x_test.shape\n",
    "\n",
    "x_train = x_train/100\n",
    "x_test = x_test/100\n",
    "print(x_train.shape, 'train samples')\n",
    "print(x_test.shape, 'test samples')\n",
    "\n",
    "numcc = numc/100\n",
    "testcc = testc/100\n",
    "\n",
    "n_classes = 201\n",
    "# convert class vectors to binary One Hot Encoded\n",
    "y_train = keras.utils.to_categorical(numc, n_classes)\n",
    "y_test = keras.utils.to_categorical(testc, n_classes)\n",
    "#y_train[0],y_train.shape,y_test.shape"
   ]
  },
  {
   "cell_type": "code",
   "execution_count": 41,
   "metadata": {
    "collapsed": true
   },
   "outputs": [],
   "source": [
    "# Training Parameters for basic MNIST\n",
    "learning_rate = 0.01\n",
    "training_epochs = 10\n",
    "batch_size = 4096\n",
    "\n",
    "# Network Parameters\n",
    "n_input = 2 # MNIST data input (img shape: 28*28 flattened to be 784)\n",
    "n_hidden_1 = 100   # 1st layer number of neurons\n",
    "n_hidden_2 = 400  #2nd layer number of neurons\n",
    "n_hidden_3 = 201  # 3rd layer number of neurons\n",
    "n_classes = 201   # MNIST classes for prediction(digits 0-9 )"
   ]
  },
  {
   "cell_type": "code",
   "execution_count": 42,
   "metadata": {
    "collapsed": true
   },
   "outputs": [],
   "source": [
    "Inp = Input(shape=(2,))\n",
    "x = Dense(n_hidden_1, activation='relu', name = \"Dense_1\")(Inp)\n",
    "x = Dense(n_hidden_2, activation='relu', name = \"Dense_2\")(x)\n",
    "x = Dense(n_hidden_3, activation='relu', name = \"Dense_3\")(x)\n",
    "output = Dense(n_classes, activation='softmax', name = \"Outputlayer\")(x)"
   ]
  },
  {
   "cell_type": "code",
   "execution_count": 43,
   "metadata": {},
   "outputs": [
    {
     "name": "stdout",
     "output_type": "stream",
     "text": [
      "_________________________________________________________________\n",
      "Layer (type)                 Output Shape              Param #   \n",
      "=================================================================\n",
      "input_4 (InputLayer)         (None, 2)                 0         \n",
      "_________________________________________________________________\n",
      "Dense_1 (Dense)              (None, 100)               300       \n",
      "_________________________________________________________________\n",
      "Dense_2 (Dense)              (None, 400)               40400     \n",
      "_________________________________________________________________\n",
      "Dense_3 (Dense)              (None, 201)               80601     \n",
      "_________________________________________________________________\n",
      "Outputlayer (Dense)          (None, 201)               40602     \n",
      "=================================================================\n",
      "Total params: 161,903\n",
      "Trainable params: 161,903\n",
      "Non-trainable params: 0\n",
      "_________________________________________________________________\n"
     ]
    }
   ],
   "source": [
    "model = Model(Inp, output)\n",
    "model.summary()"
   ]
  },
  {
   "cell_type": "code",
   "execution_count": 44,
   "metadata": {
    "collapsed": true
   },
   "outputs": [],
   "source": [
    "model.compile(loss='categorical_crossentropy',\n",
    "              optimizer='adam',\n",
    "              metrics=['accuracy'])"
   ]
  },
  {
   "cell_type": "code",
   "execution_count": 45,
   "metadata": {},
   "outputs": [
    {
     "name": "stdout",
     "output_type": "stream",
     "text": [
      "Train on 2000000 samples, validate on 20000 samples\n",
      "Epoch 1/10\n",
      "2000000/2000000 [==============================] - 22s - loss: 2.7297 - acc: 0.2244 - val_loss: 3.1965 - val_acc: 0.3602\n",
      "Epoch 2/10\n",
      "2000000/2000000 [==============================] - 22s - loss: 1.4963 - acc: 0.4791 - val_loss: 2.8630 - val_acc: 0.3857\n",
      "Epoch 3/10\n",
      "2000000/2000000 [==============================] - 22s - loss: 1.1792 - acc: 0.6039 - val_loss: 2.7197 - val_acc: 0.4662\n",
      "Epoch 4/10\n",
      "2000000/2000000 [==============================] - 22s - loss: 0.9751 - acc: 0.6820 - val_loss: 2.5742 - val_acc: 0.5181\n",
      "Epoch 5/10\n",
      "2000000/2000000 [==============================] - 22s - loss: 0.8268 - acc: 0.7407 - val_loss: 2.4889 - val_acc: 0.5877\n",
      "Epoch 6/10\n",
      "2000000/2000000 [==============================] - 22s - loss: 0.7133 - acc: 0.7866 - val_loss: 2.4076 - val_acc: 0.6561\n",
      "Epoch 7/10\n",
      "2000000/2000000 [==============================] - 22s - loss: 0.6262 - acc: 0.8254 - val_loss: 2.3100 - val_acc: 0.7073\n",
      "Epoch 8/10\n",
      "2000000/2000000 [==============================] - 22s - loss: 0.5595 - acc: 0.8484 - val_loss: 2.2656 - val_acc: 0.7028\n",
      "Epoch 9/10\n",
      "2000000/2000000 [==============================] - 22s - loss: 0.4987 - acc: 0.8722 - val_loss: 2.2454 - val_acc: 0.7163\n",
      "Epoch 10/10\n",
      "2000000/2000000 [==============================] - 22s - loss: 0.8190 - acc: 0.8584 - val_loss: 2.4362 - val_acc: 0.7300\n"
     ]
    }
   ],
   "source": [
    "history = model.fit(x_train, y_train,\n",
    "                    batch_size=batch_size,\n",
    "                    epochs=training_epochs,\n",
    "                    verbose=1, # This is for what we want it to display out as it trains \n",
    "                    validation_data=(x_test, y_test))"
   ]
  },
  {
   "cell_type": "code",
   "execution_count": 46,
   "metadata": {},
   "outputs": [
    {
     "data": {
      "image/png": "[encoded data removed]",
      "text/plain": [
       "<matplotlib.figure.Figure at 0x7f26f8eb2e10>"
      ]
     },
     "metadata": {},
     "output_type": "display_data"
    }
   ],
   "source": [
    "plot_train(history)"
   ]
  },
  {
   "cell_type": "code",
   "execution_count": null,
   "metadata": {
    "collapsed": true
   },
   "outputs": [],
   "source": []
  }
 ],
 "metadata": {
  "kernelspec": {
   "display_name": "Python 3",
   "language": "python",
   "name": "python3"
  },
  "language_info": {
   "codemirror_mode": {
    "name": "ipython",
    "version": 3
   },
   "file_extension": ".py",
   "mimetype": "text/x-python",
   "name": "python",
   "nbconvert_exporter": "python",
   "pygments_lexer": "ipython3",
   "version": "3.6.3"
  }
 },
 "nbformat": 4,
 "nbformat_minor": 2
}
